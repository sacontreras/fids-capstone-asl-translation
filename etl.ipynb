{
 "metadata": {
  "language_info": {
   "codemirror_mode": {
    "name": "ipython",
    "version": 3
   },
   "file_extension": ".py",
   "mimetype": "text/x-python",
   "name": "python",
   "nbconvert_exporter": "python",
   "pygments_lexer": "ipython3",
   "version": "3.8.4-final"
  },
  "orig_nbformat": 2,
  "kernelspec": {
   "name": "python3",
   "display_name": "Anaconda: learn-env",
   "language": "python"
  }
 },
 "nbformat": 4,
 "nbformat_minor": 2,
 "cells": [
  {
   "cell_type": "code",
   "execution_count": 1,
   "metadata": {},
   "outputs": [
    {
     "output_type": "stream",
     "name": "stdout",
     "text": [
      "client: <google.cloud.storage.client.Client object at 0x7fb0556f7760>\n"
     ]
    }
   ],
   "source": [
    "from api import data_extractor\n",
    "from api import beam__common\n",
    "from api import fidscs_globals\n",
    "\n",
    "from apache_beam.io.filesystems import FileSystems\n",
    "from apache_beam.io.localfilesystem import LocalFileSystem\n",
    "\n",
    "import google.cloud.storage as gcs\n",
    "beam_gcp_project = 'sc-fids-capstone'\n",
    "gcs_bucket = 'sc-fids-capstone-bucket-sc-fids-capstone'\n",
    "gcp_auth_key_path = os.environ['GOOGLE_APPLICATION_CREDENTIALS']\n",
    "fidscs_globals.GCS_CLIENT = gcs.Client.from_service_account_json(gcp_auth_key_path)\n",
    "print(f\"client: {fidscs_globals.GCS_CLIENT}\")"
   ]
  },
  {
   "cell_type": "code",
   "execution_count": 2,
   "metadata": {},
   "outputs": [
    {
     "output_type": "stream",
     "name": "stdout",
     "text": [
      "bucket: <Bucket: sc-fids-capstone-bucket-sc-fids-capstone>\n",
      "\n",
      "blobs in gcs bucket (sc-fids-capstone-bucket-sc-fids-capstone):\n",
      "[]\n",
      "\n",
      "test_folder: <Blob: sc-fids-capstone-bucket-sc-fids-capstone, test_folder/, None>, exists: False\n",
      "not_exist_folder: <Blob: sc-fids-capstone-bucket-sc-fids-capstone, not_exist/, None>, exists: False\n",
      "video_index-20120129.csv file: <Blob: sc-fids-capstone-bucket-sc-fids-capstone, test_folder/video_index-20120129.csv, None>, exists: False\n",
      "\n",
      "blobs in gcs bucket (sc-fids-capstone-bucket-sc-fids-capstone) test_folder:\n",
      "[]\n",
      "\n",
      "blobs in gcs bucket (sc-fids-capstone-bucket-sc-fids-capstone) test_folder_sub_dir_blobs:\n",
      "[]\n"
     ]
    }
   ],
   "source": [
    "fidscs_globals.GCS_BUCKET = gcs.Bucket(fidscs_globals.GCS_CLIENT, name=gcs_bucket, user_project=beam_gcp_project)\n",
    "print(f\"bucket: {fidscs_globals.GCS_BUCKET}\")\n",
    "\n",
    "all_blobs = list(fidscs_globals.GCS_CLIENT.list_blobs(gcs_bucket))\n",
    "print(f\"\\nblobs in gcs bucket ({gcs_bucket}):\\n{all_blobs}\")\n",
    "\n",
    "blob_test_folder = fidscs_globals.GCS_BUCKET.blob('test_folder/')\n",
    "print(f\"\\ntest_folder: {blob_test_folder}, exists: {blob_test_folder.exists(fidscs_globals.GCS_CLIENT)}\")\n",
    "\n",
    "blob_not_exist_folder = fidscs_globals.GCS_BUCKET.blob('not_exist/')\n",
    "print(f\"not_exist_folder: {blob_not_exist_folder}, exists: {blob_not_exist_folder.exists(fidscs_globals.GCS_CLIENT)}\")\n",
    "\n",
    "blob_video_index_file = fidscs_globals.GCS_BUCKET.blob('test_folder/video_index-20120129.csv')\n",
    "print(f\"video_index-20120129.csv file: {blob_video_index_file}, exists: {blob_video_index_file.exists(fidscs_globals.GCS_CLIENT)}\")\n",
    "\n",
    "test_folder_blobs = list(fidscs_globals.GCS_CLIENT.list_blobs(gcs_bucket, prefix='test_folder/'))\n",
    "print(f\"\\nblobs in gcs bucket ({gcs_bucket}) test_folder:\\n{test_folder_blobs}\")\n",
    "\n",
    "test_folder_sub_dir_blobs = list(fidscs_globals.GCS_CLIENT.list_blobs(gcs_bucket, prefix='test_folder/sub_dir'))\n",
    "print(f\"\\nblobs in gcs bucket ({gcs_bucket}) test_folder_sub_dir_blobs:\\n{test_folder_sub_dir_blobs}\")"
   ]
  },
  {
   "cell_type": "code",
   "execution_count": 3,
   "metadata": {},
   "outputs": [
    {
     "output_type": "stream",
     "name": "stdout",
     "text": [
      "beam__common.make_dirs (debug): making directory gs://sc-fids-capstone-bucket-sc-fids-capstone/data (gcs-corrected: data/) for GCSFileSystem\n",
      "\n",
      "gs://sc-fids-capstone-bucket-sc-fids-capstone/data: <Blob: sc-fids-capstone-bucket-sc-fids-capstone, data/, None>, exists: False, creating...\n",
      "\n",
      "gs://sc-fids-capstone-bucket-sc-fids-capstone/data: <Blob: sc-fids-capstone-bucket-sc-fids-capstone, data/, 1612398055575743>, exists: True\n"
     ]
    }
   ],
   "source": [
    "fidscs_globals.WORK_DIR = 'gs://'+gcs_bucket\n",
    "beam__common.make_dirs('gs://'+gcs_bucket+'/data')"
   ]
  },
  {
   "cell_type": "code",
   "execution_count": 4,
   "metadata": {},
   "outputs": [
    {
     "output_type": "stream",
     "name": "stdout",
     "text": [
      "empty\n",
      "empty\n"
     ]
    }
   ],
   "source": [
    "l = beam__common.list_dir('gs://'+gcs_bucket+'/data', exclude_subdir=True)\n",
    "print(f\"{l if len(l)>0 else 'empty'}\")\n",
    "\n",
    "l = beam__common.list_dir('gs://'+gcs_bucket+'/test_folder/', exclude_subdir=True)\n",
    "print(f\"{l if len(l)>0 else 'empty'}\")"
   ]
  },
  {
   "cell_type": "code",
   "execution_count": null,
   "metadata": {},
   "outputs": [],
   "source": []
  }
 ]
}