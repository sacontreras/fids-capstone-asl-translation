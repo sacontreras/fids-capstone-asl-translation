{
 "metadata": {
  "language_info": {
   "codemirror_mode": {
    "name": "ipython",
    "version": 3
   },
   "file_extension": ".py",
   "mimetype": "text/x-python",
   "name": "python",
   "nbconvert_exporter": "python",
   "pygments_lexer": "ipython3",
   "version": "3.8.4-final"
  },
  "orig_nbformat": 2,
  "kernelspec": {
   "name": "python3",
   "display_name": "Anaconda: learn-env",
   "language": "python"
  }
 },
 "nbformat": 4,
 "nbformat_minor": 2,
 "cells": [
  {
   "cell_type": "code",
   "execution_count": 1,
   "metadata": {},
   "outputs": [
    {
     "output_type": "stream",
     "name": "stdout",
     "text": [
      "fidscs_globals.WORK_DIR: gs://sc-fids-capstone-bucket-sc-fids-capstone\nfidscs_globals.GCS_CLIENT: <google.cloud.storage.client.Client object at 0x7f992ff781c0>\nfidscs_globals.GCS_IO: <apache_beam.io.gcp.gcsio.GcsIO object at 0x7f9926eeefa0>\n"
     ]
    }
   ],
   "source": [
    "from api import data_extractor, data_extractor__common\n",
    "from api import beam__common\n",
    "from api import fidscs_globals\n",
    "\n",
    "from apache_beam.io.filesystems import FileSystems\n",
    "from apache_beam.io.localfilesystem import LocalFileSystem\n",
    "\n",
    "import google.cloud.storage as gcs\n",
    "from apache_beam.io.gcp import gcsio\n",
    "\n",
    "beam_gcp_project = 'sc-fids-capstone'\n",
    "gcs_bucket = 'sc-fids-capstone-bucket-sc-fids-capstone'\n",
    "fidscs_globals.WORK_DIR = 'gs://'+gcs_bucket\n",
    "print(f\"fidscs_globals.WORK_DIR: {fidscs_globals.WORK_DIR}\")\n",
    "\n",
    "gcp_auth_key_path = os.environ['GOOGLE_APPLICATION_CREDENTIALS']\n",
    "fidscs_globals.GCS_CLIENT = gcs.Client.from_service_account_json(gcp_auth_key_path)\n",
    "print(f\"fidscs_globals.GCS_CLIENT: {fidscs_globals.GCS_CLIENT}\")\n",
    "\n",
    "fidscs_globals.GCS_IO = gcsio.GcsIO()   # gcsio.GcsIO(storage_client=fidscs_globals.GCS_CLIENT)\n",
    "print(f\"fidscs_globals.GCS_IO: {fidscs_globals.GCS_IO}\")"
   ]
  },
  {
   "cell_type": "code",
   "execution_count": 2,
   "metadata": {},
   "outputs": [
    {
     "output_type": "stream",
     "name": "stdout",
     "text": [
      "fidscs_globals.GCS_BUCKET: <Bucket: sc-fids-capstone-bucket-sc-fids-capstone>\n",
      "\n",
      "blobs in gcs bucket (sc-fids-capstone-bucket-sc-fids-capstone):\n",
      "[<Blob: sc-fids-capstone-bucket-sc-fids-capstone, data/, 1612417860117900>, <Blob: sc-fids-capstone-bucket-sc-fids-capstone, data/stitched_video_frames/, 1612401872177603>, <Blob: sc-fids-capstone-bucket-sc-fids-capstone, data/tmp/, 1612401871328771>, <Blob: sc-fids-capstone-bucket-sc-fids-capstone, data/videos/, 1612401871830298>, <Blob: sc-fids-capstone-bucket-sc-fids-capstone, dataflow/staging/sc-fids-capstone-etl.1612406192.684133/apache_beam-2.26.0-cp38-cp38-manylinux1_x86_64.whl, 1612406202565266>, <Blob: sc-fids-capstone-bucket-sc-fids-capstone, dataflow/staging/sc-fids-capstone-etl.1612406192.684133/dataflow_python_sdk.tar, 1612406197752629>, <Blob: sc-fids-capstone-bucket-sc-fids-capstone, dataflow/staging/sc-fids-capstone-etl.1612406192.684133/pickled_main_session, 1612406202714786>, <Blob: sc-fids-capstone-bucket-sc-fids-capstone, dataflow/staging/sc-fids-capstone-etl.1612406192.684133/pipeline.pb, 1612406195414745>, <Blob: sc-fids-capstone-bucket-sc-fids-capstone, dataflow/staging/sc-fids-capstone-etl.1612406192.684133/workflow.tar.gz, 1612406195577269>, <Blob: sc-fids-capstone-bucket-sc-fids-capstone, dataflow/staging/sc-fids-capstone-etl.1612408113.889395/apache_beam-2.26.0-cp38-cp38-manylinux1_x86_64.whl, 1612408122535038>, <Blob: sc-fids-capstone-bucket-sc-fids-capstone, dataflow/staging/sc-fids-capstone-etl.1612408113.889395/dataflow_python_sdk.tar, 1612408118083475>, <Blob: sc-fids-capstone-bucket-sc-fids-capstone, dataflow/staging/sc-fids-capstone-etl.1612408113.889395/pickled_main_session, 1612408122699179>, <Blob: sc-fids-capstone-bucket-sc-fids-capstone, dataflow/staging/sc-fids-capstone-etl.1612408113.889395/pipeline.pb, 1612408116620965>, <Blob: sc-fids-capstone-bucket-sc-fids-capstone, dataflow/staging/sc-fids-capstone-etl.1612408113.889395/workflow.tar.gz, 1612408116772907>, <Blob: sc-fids-capstone-bucket-sc-fids-capstone, dataflow/staging/sc-fids-capstone-etl.1612408529.710595/apache_beam-2.26.0-cp38-cp38-manylinux1_x86_64.whl, 1612408538040076>, <Blob: sc-fids-capstone-bucket-sc-fids-capstone, dataflow/staging/sc-fids-capstone-etl.1612408529.710595/dataflow_python_sdk.tar, 1612408533917620>, <Blob: sc-fids-capstone-bucket-sc-fids-capstone, dataflow/staging/sc-fids-capstone-etl.1612408529.710595/pickled_main_session, 1612408538302278>, <Blob: sc-fids-capstone-bucket-sc-fids-capstone, dataflow/staging/sc-fids-capstone-etl.1612408529.710595/pipeline.pb, 1612408532428264>, <Blob: sc-fids-capstone-bucket-sc-fids-capstone, dataflow/staging/sc-fids-capstone-etl.1612408529.710595/workflow.tar.gz, 1612408532617995>, <Blob: sc-fids-capstone-bucket-sc-fids-capstone, dataflow/staging/sc-fids-capstone-etl.1612408652.157262/apache_beam-2.26.0-cp38-cp38-manylinux1_x86_64.whl, 1612408661546498>, <Blob: sc-fids-capstone-bucket-sc-fids-capstone, dataflow/staging/sc-fids-capstone-etl.1612408652.157262/dataflow_python_sdk.tar, 1612408656388350>, <Blob: sc-fids-capstone-bucket-sc-fids-capstone, dataflow/staging/sc-fids-capstone-etl.1612408652.157262/pickled_main_session, 1612408662017403>, <Blob: sc-fids-capstone-bucket-sc-fids-capstone, dataflow/staging/sc-fids-capstone-etl.1612408652.157262/pipeline.pb, 1612408654874717>, <Blob: sc-fids-capstone-bucket-sc-fids-capstone, dataflow/staging/sc-fids-capstone-etl.1612408652.157262/sc-fids-capstone-etl.1612408681.354366/apache_beam-2.26.0-cp38-cp38-manylinux1_x86_64.whl, 1612408690744667>, <Blob: sc-fids-capstone-bucket-sc-fids-capstone, dataflow/staging/sc-fids-capstone-etl.1612408652.157262/sc-fids-capstone-etl.1612408681.354366/dataflow_python_sdk.tar, 1612408685600987>, <Blob: sc-fids-capstone-bucket-sc-fids-capstone, dataflow/staging/sc-fids-capstone-etl.1612408652.157262/sc-fids-capstone-etl.1612408681.354366/pickled_main_session, 1612408690879386>, <Blob: sc-fids-capstone-bucket-sc-fids-capstone, dataflow/staging/sc-fids-capstone-etl.1612408652.157262/sc-fids-capstone-etl.1612408681.354366/pipeline.pb, 1612408684075900>, <Blob: sc-fids-capstone-bucket-sc-fids-capstone, dataflow/staging/sc-fids-capstone-etl.1612408652.157262/sc-fids-capstone-etl.1612408681.354366/workflow.tar.gz, 1612408684246765>, <Blob: sc-fids-capstone-bucket-sc-fids-capstone, dataflow/staging/sc-fids-capstone-etl.1612408652.157262/workflow.tar.gz, 1612408655027877>]\n",
      "\n",
      "test_folder: <Blob: sc-fids-capstone-bucket-sc-fids-capstone, test_folder/, None>, exists: False\n",
      "not_exist_folder: <Blob: sc-fids-capstone-bucket-sc-fids-capstone, not_exist/, None>, exists: False\n",
      "video_index-20120129.csv file: <Blob: sc-fids-capstone-bucket-sc-fids-capstone, test_folder/video_index-20120129.csv, None>, exists: False\n",
      "\n",
      "blobs in gcs bucket (sc-fids-capstone-bucket-sc-fids-capstone) test_folder:\n",
      "[]\n",
      "\n",
      "blobs in gcs bucket (sc-fids-capstone-bucket-sc-fids-capstone) test_folder_sub_dir_blobs:\n",
      "[]\n"
     ]
    }
   ],
   "source": [
    "fidscs_globals.GCS_BUCKET = gcs.Bucket(fidscs_globals.GCS_CLIENT, name=gcs_bucket, user_project=beam_gcp_project)\n",
    "print(f\"fidscs_globals.GCS_BUCKET: {fidscs_globals.GCS_BUCKET}\")\n",
    "\n",
    "all_blobs = list(fidscs_globals.GCS_CLIENT.list_blobs(gcs_bucket))\n",
    "print(f\"\\nblobs in gcs bucket ({gcs_bucket}):\\n{all_blobs}\")\n",
    "\n",
    "blob_test_folder = fidscs_globals.GCS_BUCKET.blob('test_folder/')\n",
    "print(f\"\\ntest_folder: {blob_test_folder}, exists: {blob_test_folder.exists(fidscs_globals.GCS_CLIENT)}\")\n",
    "\n",
    "blob_not_exist_folder = fidscs_globals.GCS_BUCKET.blob('not_exist/')\n",
    "print(f\"not_exist_folder: {blob_not_exist_folder}, exists: {blob_not_exist_folder.exists(fidscs_globals.GCS_CLIENT)}\")\n",
    "\n",
    "blob_video_index_file = fidscs_globals.GCS_BUCKET.blob('test_folder/video_index-20120129.csv')\n",
    "print(f\"video_index-20120129.csv file: {blob_video_index_file}, exists: {blob_video_index_file.exists(fidscs_globals.GCS_CLIENT)}\")\n",
    "\n",
    "test_folder_blobs = list(fidscs_globals.GCS_CLIENT.list_blobs(gcs_bucket, prefix='test_folder/'))\n",
    "print(f\"\\nblobs in gcs bucket ({gcs_bucket}) test_folder:\\n{test_folder_blobs}\")\n",
    "\n",
    "test_folder_sub_dir_blobs = list(fidscs_globals.GCS_CLIENT.list_blobs(gcs_bucket, prefix='test_folder/sub_dir'))\n",
    "print(f\"\\nblobs in gcs bucket ({gcs_bucket}) test_folder_sub_dir_blobs:\\n{test_folder_sub_dir_blobs}\")"
   ]
  },
  {
   "cell_type": "code",
   "execution_count": 3,
   "metadata": {},
   "outputs": [],
   "source": [
    "beam__common.make_dirs('gs://'+gcs_bucket+'/data')"
   ]
  },
  {
   "cell_type": "code",
   "execution_count": 4,
   "metadata": {},
   "outputs": [
    {
     "output_type": "stream",
     "name": "stdout",
     "text": [
      "['stitched_video_frames/', 'tmp/', 'videos/']\nempty\n"
     ]
    }
   ],
   "source": [
    "l = beam__common.list_dir('gs://'+gcs_bucket+'/data', exclude_subdir=False)\n",
    "print(f\"{l if len(l)>0 else 'empty'}\")\n",
    "\n",
    "l = beam__common.list_dir('gs://'+gcs_bucket+'/test_folder/', exclude_subdir=True)\n",
    "print(f\"{l if len(l)>0 else 'empty'}\")"
   ]
  },
  {
   "cell_type": "code",
   "execution_count": 5,
   "metadata": {},
   "outputs": [
    {
     "output_type": "execute_result",
     "data": {
      "text/plain": [
       "True"
      ]
     },
     "metadata": {},
     "execution_count": 5
    }
   ],
   "source": [
    "beam__common.delete_file('gs://'+gcs_bucket+'/test_folder', recursive=True)"
   ]
  },
  {
   "cell_type": "code",
   "execution_count": 6,
   "metadata": {},
   "outputs": [
    {
     "output_type": "stream",
     "name": "stderr",
     "text": [
      "  1%|          | 8192/835568 [00:00<00:13, 61308.72it/s]Downloading http://secrets.rutgers.edu/dai/xml/ncslgr-xml.zip (filesize: 835568 bytes) to gs://sc-fids-capstone-bucket-sc-fids-capstone/data/ncslgr-corpus-index.csv...\n",
      "\n",
      "100%|██████████| 835568/835568 [00:02<00:00, 326391.84it/s]Successfully downloaded 835568/835568 bytes from URL file http://secrets.rutgers.edu/dai/xml/ncslgr-xml.zip to local file gs://sc-fids-capstone-bucket-sc-fids-capstone/data/ncslgr-corpus-index.csv!\n",
      "\n"
     ]
    }
   ],
   "source": [
    "data_extractor__common.download('http://secrets.rutgers.edu/dai/xml/ncslgr-xml.zip', 'gs://'+gcs_bucket+'/data/ncslgr-corpus-index.csv')"
   ]
  }
 ]
}