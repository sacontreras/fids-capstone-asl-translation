{
 "metadata": {
  "language_info": {
   "codemirror_mode": {
    "name": "ipython",
    "version": 3
   },
   "file_extension": ".py",
   "mimetype": "text/x-python",
   "name": "python",
   "nbconvert_exporter": "python",
   "pygments_lexer": "ipython3",
   "version": "3.8.4-final"
  },
  "orig_nbformat": 2,
  "kernelspec": {
   "name": "python3",
   "display_name": "Anaconda: learn-env",
   "language": "python"
  }
 },
 "nbformat": 4,
 "nbformat_minor": 2,
 "cells": [
  {
   "cell_type": "code",
   "execution_count": 1,
   "metadata": {},
   "outputs": [
    {
     "output_type": "stream",
     "name": "stdout",
     "text": [
      "fidscs_globals.WORK_DIR: gs://sc-fids-capstone-bucket-sc-fids-capstone\nfidscs_globals.DATA_ROOT_DIR: gs://sc-fids-capstone-bucket-sc-fids-capstone/data\nfidscs_globals.TMP_DIR: gs://sc-fids-capstone-bucket-sc-fids-capstone/data/tmp\nfidscs_globals.GCS_CLIENT: <google.cloud.storage.client.Client object at 0x7f803d0f0e50>\nfidscs_globals.GCS_IO: <apache_beam.io.gcp.gcsio.GcsIO object at 0x7f803d0f0fd0>\n"
     ]
    }
   ],
   "source": [
    "%load_ext autoreload\n",
    "\n",
    "%autoreload 2\n",
    "\n",
    "from api import data_extractor, data_extractor__common, beam__common, fileio, fidscs_globals\n",
    "\n",
    "from apache_beam.io.filesystems import FileSystems\n",
    "from apache_beam.io.localfilesystem import LocalFileSystem\n",
    "\n",
    "import google.cloud.storage as gcs\n",
    "from apache_beam.io.gcp import gcsio\n",
    "\n",
    "import zipfile\n",
    "import cv2\n",
    "import io\n",
    "\n",
    "beam_gcp_project = 'sc-fids-capstone'\n",
    "gcs_bucket = 'sc-fids-capstone-bucket-sc-fids-capstone'\n",
    "fidscs_globals.WORK_DIR = 'gs://'+gcs_bucket\n",
    "print(f\"fidscs_globals.WORK_DIR: {fidscs_globals.WORK_DIR}\")\n",
    "\n",
    "fidscs_globals.DATA_ROOT_DIR = fidscs_globals.WORK_DIR+'/data'\n",
    "print(f\"fidscs_globals.DATA_ROOT_DIR: {fidscs_globals.DATA_ROOT_DIR}\")\n",
    "\n",
    "fidscs_globals.TMP_DIR = fidscs_globals.DATA_ROOT_DIR+'/tmp'\n",
    "print(f\"fidscs_globals.TMP_DIR: {fidscs_globals.TMP_DIR}\")\n",
    "\n",
    "gcp_auth_key_path = os.environ['GOOGLE_APPLICATION_CREDENTIALS']\n",
    "fidscs_globals.GCS_CLIENT = gcs.Client.from_service_account_json(gcp_auth_key_path)\n",
    "print(f\"fidscs_globals.GCS_CLIENT: {fidscs_globals.GCS_CLIENT}\")\n",
    "\n",
    "fidscs_globals.GCS_IO = gcsio.GcsIO()   # gcsio.GcsIO(storage_client=fidscs_globals.GCS_CLIENT)\n",
    "print(f\"fidscs_globals.GCS_IO: {fidscs_globals.GCS_IO}\")"
   ]
  },
  {
   "cell_type": "code",
   "execution_count": 2,
   "metadata": {},
   "outputs": [
    {
     "output_type": "stream",
     "name": "stdout",
     "text": [
      "fidscs_globals.GCS_BUCKET: <Bucket: sc-fids-capstone-bucket-sc-fids-capstone>\n",
      "\n",
      "blobs in gcs bucket (sc-fids-capstone-bucket-sc-fids-capstone):\n",
      "[<Blob: sc-fids-capstone-bucket-sc-fids-capstone, data/, 1612504101117991>, <Blob: sc-fids-capstone-bucket-sc-fids-capstone, data/stitched_video_frames/, 1612463029130356>, <Blob: sc-fids-capstone-bucket-sc-fids-capstone, data/tmp/, 1612504101237567>, <Blob: sc-fids-capstone-bucket-sc-fids-capstone, data/tmp/video_index-20120129/, 1612465940293460>, <Blob: sc-fids-capstone-bucket-sc-fids-capstone, data/tmp/video_index-20120129/files_by_video_name.csv, 1612504107881996>, <Blob: sc-fids-capstone-bucket-sc-fids-capstone, data/videos/, 1612463028877583>, <Blob: sc-fids-capstone-bucket-sc-fids-capstone, data/videos/539_219_small_0.mov, 1612463124996612>, <Blob: sc-fids-capstone-bucket-sc-fids-capstone, data/videos/539_219_small_1.mov, 1612463131509443>, <Blob: sc-fids-capstone-bucket-sc-fids-capstone, data/videos/539_219_small_2.mov, 1612463140920613>, <Blob: sc-fids-capstone-bucket-sc-fids-capstone, data/videos/548_small_0.mov, 1612463131433432>, <Blob: sc-fids-capstone-bucket-sc-fids-capstone, data/videos/548_small_1.mov, 1612463129875613>, <Blob: sc-fids-capstone-bucket-sc-fids-capstone, data/videos/549_small_0.mov, 1612463128212735>, <Blob: sc-fids-capstone-bucket-sc-fids-capstone, data/videos/549_small_1.mov, 1612463132420196>, <Blob: sc-fids-capstone-bucket-sc-fids-capstone, data/videos/633_208_small_0.mov, 1612463133607672>]\n"
     ]
    }
   ],
   "source": [
    "fidscs_globals.GCS_BUCKET = gcs.Bucket(fidscs_globals.GCS_CLIENT, name=gcs_bucket, user_project=beam_gcp_project)\n",
    "print(f\"fidscs_globals.GCS_BUCKET: {fidscs_globals.GCS_BUCKET}\")\n",
    "\n",
    "all_blobs = list(fidscs_globals.GCS_CLIENT.list_blobs(gcs_bucket))\n",
    "print(f\"\\nblobs in gcs bucket ({gcs_bucket}):\\n{all_blobs}\")"
   ]
  },
  {
   "cell_type": "code",
   "execution_count": 3,
   "metadata": {},
   "outputs": [],
   "source": [
    "fileio.make_dirs(fidscs_globals.DATA_ROOT_DIR)\n",
    "fileio.make_dirs(fidscs_globals.TMP_DIR)\n",
    "\n",
    "TEST_FOLDER_PATH = 'gs://'+gcs_bucket+'/data/test_folder'\n",
    "fileio.make_dirs(TEST_FOLDER_PATH)"
   ]
  },
  {
   "cell_type": "code",
   "execution_count": 4,
   "metadata": {},
   "outputs": [
    {
     "output_type": "stream",
     "name": "stdout",
     "text": [
      "['stitched_video_frames/', 'test_folder/', 'tmp/', 'tmp/video_index-20120129/', 'tmp/video_index-20120129/files_by_video_name.csv', 'videos/', 'videos/539_219_small_0.mov', 'videos/539_219_small_1.mov', 'videos/539_219_small_2.mov', 'videos/548_small_0.mov', 'videos/548_small_1.mov', 'videos/549_small_0.mov', 'videos/549_small_1.mov', 'videos/633_208_small_0.mov']\n"
     ]
    }
   ],
   "source": [
    "l = fileio.list_dir(fidscs_globals.DATA_ROOT_DIR, exclude_subdir=False)\n",
    "print(f\"{l if len(l)>0 else 'empty'}\")"
   ]
  },
  {
   "cell_type": "code",
   "execution_count": 5,
   "metadata": {},
   "outputs": [
    {
     "output_type": "stream",
     "name": "stderr",
     "text": [
      "  2%|▏         | 16384/835568 [00:00<00:07, 111590.20it/s]Downloading http://secrets.rutgers.edu/dai/xml/ncslgr-xml.zip (filesize: 835568 bytes) to gs://sc-fids-capstone-bucket-sc-fids-capstone/data/test_folder/ncslgr-corpus-index.csv...\n",
      "\n",
      "100%|██████████| 835568/835568 [00:03<00:00, 214296.78it/s]Successfully downloaded 835568/835568 bytes from URL file http://secrets.rutgers.edu/dai/xml/ncslgr-xml.zip to local file gs://sc-fids-capstone-bucket-sc-fids-capstone/data/test_folder/ncslgr-corpus-index.csv!\n",
      "\n"
     ]
    }
   ],
   "source": [
    "data_extractor__common.download('http://secrets.rutgers.edu/dai/xml/ncslgr-xml.zip', 'gs://'+gcs_bucket+'/data/test_folder/ncslgr-corpus-index.csv')"
   ]
  },
  {
   "cell_type": "code",
   "execution_count": 6,
   "metadata": {},
   "outputs": [
    {
     "output_type": "stream",
     "name": "stdout",
     "text": [
      "unzipping http://www.bu.edu/asllrp/ncslgr-for-download/video_index-20120129.zip in-memory...\n",
      "File Name                                             Modified             Size\n",
      "video_index-20120129/                          2012-01-29 16:57:24            0\n",
      "video_index-20120129/files_by_video_name.csv   2012-01-29 16:52:50       621910\n",
      "video_index-20120129/files_by_video_name.xls   2012-01-29 16:54:24       878080\n",
      "video_index-20120129/files_by_xml_file.csv     2012-01-29 16:50:56      2604016\n",
      "video_index-20120129/files_by_xml_file.xls     2012-01-29 16:56:16      1391616\n",
      "we need to pull video_index-20120129/files_by_video_name.csv out of in-memory extracted archive\n",
      "\tDONE\n"
     ]
    }
   ],
   "source": [
    "remote_archive_path = 'http://www.bu.edu/asllrp/ncslgr-for-download/'+fidscs_globals.VIDEO_INDEXES_ARCHIVE\n",
    "\n",
    "memfile = data_extractor__common.download_to_memfile(remote_archive_path, block_sz=8192, display=False)\n",
    "zip_ref = zipfile.ZipFile(memfile, 'r')\n",
    "print(f\"unzipping {remote_archive_path} in-memory...\")\n",
    "zip_ref.printdir()\n",
    "vid_indexes_dir = fidscs_globals.TMP_DIR+'/'+fidscs_globals.VIDEO_INDEX_BASE\n",
    "sel_vid_index_path = vid_indexes_dir+'/files_by_video_name.csv'     #d_vid_indexes_info['sel_vid_index_path']\n",
    "sel_vid_index_path_suffix = fidscs_globals.VIDEO_INDEX_BASE+'/files_by_video_name.csv'\n",
    "sel_vid_index_fname = sel_vid_index_path_suffix.split('/')[-1]\n",
    "print(f\"we need to pull {sel_vid_index_path_suffix} out of in-memory extracted archive\")\n",
    "bytes_unzipped = zip_ref.read(sel_vid_index_path_suffix)\n",
    "zip_ref.close()\n",
    "if not fileio.path_exists(vid_indexes_dir, is_dir=True):\n",
    "    fileio.make_dirs(vid_indexes_dir)\n",
    "with fileio.open_file_write(vid_indexes_dir+'/'+sel_vid_index_fname) as f:\n",
    "    f.write(bytes_unzipped)\n",
    "    f.close()\n",
    "print(f\"\\tDONE\")"
   ]
  },
  {
   "cell_type": "code",
   "execution_count": 7,
   "metadata": {},
   "outputs": [
    {
     "output_type": "stream",
     "name": "stdout",
     "text": [
      "\n",
      "test_folder: <Blob: sc-fids-capstone-bucket-sc-fids-capstone, test_folder/, None>, exists: False\n",
      "not_exist_folder: <Blob: sc-fids-capstone-bucket-sc-fids-capstone, not_exist/, None>, exists: False\n",
      "video_index-20120129.csv file: <Blob: sc-fids-capstone-bucket-sc-fids-capstone, test_folder/ncslgr-corpus-index.csv, None>, exists: False\n",
      "\n",
      "blobs in gcs bucket (sc-fids-capstone-bucket-sc-fids-capstone) test_folder:\n",
      "[]\n",
      "\n",
      "blobs in gcs bucket (sc-fids-capstone-bucket-sc-fids-capstone) test_folder_sub_dir_blobs:\n",
      "[]\n",
      "\n",
      "data_folder: <Blob: sc-fids-capstone-bucket-sc-fids-capstone, data/, None>, exists: True\n",
      "\n",
      "blobs in gcs bucket (sc-fids-capstone-bucket-sc-fids-capstone) data/:\n",
      "[<Blob: sc-fids-capstone-bucket-sc-fids-capstone, data/, 1612504241615677>, <Blob: sc-fids-capstone-bucket-sc-fids-capstone, data/stitched_video_frames/, 1612463029130356>, <Blob: sc-fids-capstone-bucket-sc-fids-capstone, data/test_folder/, 1612504241838199>, <Blob: sc-fids-capstone-bucket-sc-fids-capstone, data/test_folder/ncslgr-corpus-index.csv, 1612504246143946>, <Blob: sc-fids-capstone-bucket-sc-fids-capstone, data/tmp/, 1612504241724789>, <Blob: sc-fids-capstone-bucket-sc-fids-capstone, data/tmp/video_index-20120129/, 1612465940293460>, <Blob: sc-fids-capstone-bucket-sc-fids-capstone, data/tmp/video_index-20120129/files_by_video_name.csv, 1612504248132192>, <Blob: sc-fids-capstone-bucket-sc-fids-capstone, data/videos/, 1612463028877583>, <Blob: sc-fids-capstone-bucket-sc-fids-capstone, data/videos/539_219_small_0.mov, 1612463124996612>, <Blob: sc-fids-capstone-bucket-sc-fids-capstone, data/videos/539_219_small_1.mov, 1612463131509443>, <Blob: sc-fids-capstone-bucket-sc-fids-capstone, data/videos/539_219_small_2.mov, 1612463140920613>, <Blob: sc-fids-capstone-bucket-sc-fids-capstone, data/videos/548_small_0.mov, 1612463131433432>, <Blob: sc-fids-capstone-bucket-sc-fids-capstone, data/videos/548_small_1.mov, 1612463129875613>, <Blob: sc-fids-capstone-bucket-sc-fids-capstone, data/videos/549_small_0.mov, 1612463128212735>, <Blob: sc-fids-capstone-bucket-sc-fids-capstone, data/videos/549_small_1.mov, 1612463132420196>, <Blob: sc-fids-capstone-bucket-sc-fids-capstone, data/videos/633_208_small_0.mov, 1612463133607672>]\n"
     ]
    }
   ],
   "source": [
    "blob_test_folder = fidscs_globals.GCS_BUCKET.blob('test_folder/')\n",
    "print(f\"\\ntest_folder: {blob_test_folder}, exists: {blob_test_folder.exists(fidscs_globals.GCS_CLIENT)}\")\n",
    "\n",
    "blob_not_exist_folder = fidscs_globals.GCS_BUCKET.blob('not_exist/')\n",
    "print(f\"not_exist_folder: {blob_not_exist_folder}, exists: {blob_not_exist_folder.exists(fidscs_globals.GCS_CLIENT)}\")\n",
    "\n",
    "blob_video_index_file = fidscs_globals.GCS_BUCKET.blob('test_folder/ncslgr-corpus-index.csv')\n",
    "print(f\"video_index-20120129.csv file: {blob_video_index_file}, exists: {blob_video_index_file.exists(fidscs_globals.GCS_CLIENT)}\")\n",
    "\n",
    "test_folder_blobs = list(fidscs_globals.GCS_CLIENT.list_blobs(gcs_bucket, prefix='test_folder/'))\n",
    "print(f\"\\nblobs in gcs bucket ({gcs_bucket}) test_folder:\\n{test_folder_blobs}\")\n",
    "\n",
    "test_folder_sub_dir_blobs = list(fidscs_globals.GCS_CLIENT.list_blobs(gcs_bucket, prefix='test_folder/sub_dir'))\n",
    "print(f\"\\nblobs in gcs bucket ({gcs_bucket}) test_folder_sub_dir_blobs:\\n{test_folder_sub_dir_blobs}\")\n",
    "\n",
    "blob_data_folder = fidscs_globals.GCS_BUCKET.blob('data/')\n",
    "print(f\"\\ndata_folder: {blob_data_folder}, exists: {blob_data_folder.exists(fidscs_globals.GCS_CLIENT)}\")\n",
    "\n",
    "data_folder_blobs = list(fidscs_globals.GCS_CLIENT.list_blobs(gcs_bucket, prefix='data/'))\n",
    "print(f\"\\nblobs in gcs bucket ({gcs_bucket}) data/:\\n{data_folder_blobs}\")"
   ]
  },
  {
   "cell_type": "code",
   "execution_count": 8,
   "metadata": {},
   "outputs": [
    {
     "output_type": "stream",
     "name": "stdout",
     "text": [
      "['ncslgr-corpus-index.csv']\n"
     ]
    }
   ],
   "source": [
    "l = fileio.list_dir(TEST_FOLDER_PATH, exclude_subdir=True)\n",
    "print(f\"{l if len(l)>0 else 'empty'}\")"
   ]
  },
  {
   "cell_type": "code",
   "execution_count": 9,
   "metadata": {},
   "outputs": [],
   "source": [
    "fileio.delete_file(TEST_FOLDER_PATH, recursive=True)"
   ]
  },
  {
   "cell_type": "code",
   "execution_count": 10,
   "metadata": {},
   "outputs": [
    {
     "output_type": "execute_result",
     "data": {
      "text/plain": [
       "(False, 'gs://sc-fids-capstone-bucket-sc-fids-capstone/data/test_folder/')"
      ]
     },
     "metadata": {},
     "execution_count": 10
    }
   ],
   "source": [
    "fileio.path_exists(TEST_FOLDER_PATH)"
   ]
  },
  {
   "cell_type": "code",
   "execution_count": 11,
   "metadata": {},
   "outputs": [
    {
     "output_type": "stream",
     "name": "stdout",
     "text": [
      "['stitched_video_frames/', 'tmp/', 'tmp/video_index-20120129/', 'tmp/video_index-20120129/files_by_video_name.csv', 'videos/', 'videos/539_219_small_0.mov', 'videos/539_219_small_1.mov', 'videos/539_219_small_2.mov', 'videos/548_small_0.mov', 'videos/548_small_1.mov', 'videos/549_small_0.mov', 'videos/549_small_1.mov', 'videos/633_208_small_0.mov']\n"
     ]
    }
   ],
   "source": [
    "l = fileio.list_dir(fidscs_globals.DATA_ROOT_DIR, exclude_subdir=False)\n",
    "print(f\"{l if len(l)>0 else 'empty'}\")"
   ]
  },
  {
   "cell_type": "code",
   "execution_count": 12,
   "metadata": {},
   "outputs": [
    {
     "output_type": "stream",
     "name": "stdout",
     "text": [
      "\t\t\t\t\tsuccessfully extracted all 61 from 61 from ~/tmp/sc-fids-capstone-bucket-sc-fids-capstone/data/videos/539_219_small_0.mov to \n",
      "\t\t\t\t\tsuccessfully extracted all 61 from 61 from ~/tmp/sc-fids-capstone-bucket-sc-fids-capstone/data/videos/539_219_small_1.mov to \n",
      "\t\t\t\t\tsuccessfully extracted all 61 from 61 from ~/tmp/sc-fids-capstone-bucket-sc-fids-capstone/data/videos/539_219_small_2.mov to \n",
      "\t\t\t\t\tsuccessfully extracted all 734 from 734 from ~/tmp/sc-fids-capstone-bucket-sc-fids-capstone/data/videos/548_small_0.mov to \n",
      "\t\t\t\t\tsuccessfully extracted all 734 from 734 from ~/tmp/sc-fids-capstone-bucket-sc-fids-capstone/data/videos/548_small_1.mov to \n",
      "\t\t\t\t\tsuccessfully extracted all 221 from 221 from ~/tmp/sc-fids-capstone-bucket-sc-fids-capstone/data/videos/549_small_0.mov to \n",
      "\t\t\t\t\tsuccessfully extracted all 221 from 221 from ~/tmp/sc-fids-capstone-bucket-sc-fids-capstone/data/videos/549_small_1.mov to \n",
      "\t\t\t\t\tsuccessfully extracted all 84 from 84 from ~/tmp/sc-fids-capstone-bucket-sc-fids-capstone/data/videos/633_208_small_0.mov to \n",
      "\n",
      "\n",
      "\tdeleting ~/tmp/sc-fids-capstone-bucket-sc-fids-capstone/data/videos...\n",
      "\t\t~/tmp/sc-fids-capstone-bucket-sc-fids-capstone/data/videos exists: (False, '~/tmp/sc-fids-capstone-bucket-sc-fids-capstone/data/videos')\n"
     ]
    }
   ],
   "source": [
    "fidscs_globals.VIDEO_DIR = fidscs_globals.DATA_ROOT_DIR+'/videos'\n",
    "exists, canon_videos_dir_path = fileio.path_exists(fidscs_globals.VIDEO_DIR, is_dir=True)\n",
    "# print(f\"{fidscs_globals.VIDEO_DIR} (canon path: {canon_videos_dir_path}) exists: {exists}\")\n",
    "fidscs_globals.STICHED_VIDEO_FRAMES_DIR = fidscs_globals.DATA_ROOT_DIR+'/'+fidscs_globals.STICHED_VIDEO_FRAMES_DIR_BASE\n",
    "\n",
    "# this section assumes the following:\n",
    "    # 1. fidscs_globals.VIDEO_DIR already exists\n",
    "    # 2. videos have already been downloaded to it\n",
    "\n",
    "existing_video_fnames = fileio.list_dir(fidscs_globals.VIDEO_DIR, exclude_subdir=True)\n",
    "local_vid_segment_paths = [fileio.path_join(fidscs_globals.VIDEO_DIR, existing_video_fname) for existing_video_fname in existing_video_fnames]\n",
    "# print(f\"\\nvideos (in {fidscs_globals.VIDEO_DIR}):\\n{local_vid_segment_paths}\")\n",
    "\n",
    "truly_local_vid_dir = None\n",
    "if fidscs_globals.GCS_CLIENT:\n",
    "    truly_local_vid_dir = '~/tmp'+'/'.join(fidscs_globals.VIDEO_DIR.split('/')[1:])\n",
    "    # print(f\"\\nGCS storage detected! Using truly_local_vid_dir: {truly_local_vid_dir}\")\n",
    "    # print(f\"\\t\\t{truly_local_vid_dir} exists: {fileio.path_exists(truly_local_vid_dir, is_dir=True)}\")\n",
    "\n",
    "    if not fileio.path_exists(truly_local_vid_dir, is_dir=True)[0]:\n",
    "        # print(f\"\\tcreating {truly_local_vid_dir}...\")\n",
    "        truly_local_vid_dir_path_segs = truly_local_vid_dir.split('/')\n",
    "        # print(f\"\\t\\ttruly_local_vid_dir_path_segs: {truly_local_vid_dir_path_segs}\")\n",
    "        s_cum_path = '~'\n",
    "        for i, truly_local_vid_dir_path_seg in enumerate(truly_local_vid_dir_path_segs[1:]):\n",
    "            s_cum_path += '/'+truly_local_vid_dir_path_seg\n",
    "            fileio.make_dirs(s_cum_path)\n",
    "        # print(f\"\\t\\t{s_cum_path} exists: {fileio.path_exists(s_cum_path, is_dir=True)}\")\n",
    "\n",
    "for local_vid_segment_path in local_vid_segment_paths:\n",
    "    video_fname = local_vid_segment_path.split('/')[-1]\n",
    "\n",
    "    truly_local_id_segment_path = None\n",
    "    truly_local_target_video_frames_dir = None\n",
    "\n",
    "    if fidscs_globals.GCS_CLIENT:\n",
    "        # then we need to save the video locally - this is especially import (required) for GCP DataFlow workers\n",
    "        # print(f\"\\n\\n\\tattempting to open video {local_vid_segment_path} for reading...\")\n",
    "        with fileio.open_file_read(local_vid_segment_path) as f:\n",
    "            # print(f\"\\t\\tSUCCESS\")\n",
    "            buffer = f.read()\n",
    "            truly_local_id_segment_path = truly_local_vid_dir+'/'+video_fname\n",
    "            # print(f\"\\t\\tattempting to write {truly_local_id_segment_path} (truly) locally...\")\n",
    "            with fileio.open_file_write(truly_local_id_segment_path) as f_local:\n",
    "                f_local.write(buffer)\n",
    "                f_local.close()\n",
    "                # print(f\"\\t\\t\\tSUCCESS\")\n",
    "            f.close()\n",
    "            local_vid_segment_path = truly_local_id_segment_path\n",
    "            truly_local_target_video_frames_dir = truly_local_vid_dir+'/'+fidscs_globals.STICHED_VIDEO_FRAMES_DIR_BASE+'/'+video_fname.split('.')[0]\n",
    "            # print(f\"\\t\\t\\tattempting to create directory {truly_local_target_video_frames_dir} (truly_local_target_video_frames_dir) for frames extracted from video {local_vid_segment_path}...\")\n",
    "            if not fileio.path_exists(truly_local_target_video_frames_dir, is_dir=True)[0]:\n",
    "                # print(f\"\\t\\t\\t\\tcreating {truly_local_target_video_frames_dir}...\")\n",
    "                fileio.make_dirs(truly_local_target_video_frames_dir)\n",
    "            truly_local_target_video_frames_dir_exists = fileio.path_exists(truly_local_target_video_frames_dir, is_dir=True)\n",
    "            # print(f\"\\t\\t\\t\\t\\t{truly_local_target_video_frames_dir} exists: {truly_local_target_video_frames_dir_exists}\")\n",
    "            if not truly_local_target_video_frames_dir_exists:\n",
    "                raise Exception(f\"required directory truly_local_target_video_frames_dir {truly_local_target_video_frames_dir_exists} does not exist\")\n",
    "\n",
    "    # print(f\"\\t\\t\\tattempting to capture (cv2.VideoCapture) video {local_vid_segment_path})...\")\n",
    "    vid_cap = cv2.VideoCapture(local_vid_segment_path)\n",
    "    vid_cap.set(cv2.CAP_PROP_FPS, fidscs_globals.FPS)\n",
    "    # print(f\"\\t\\t\\t\\tSUCCESS\")\n",
    "\n",
    "    frame_count = int(vid_cap.get(cv2.CAP_PROP_FRAME_COUNT))\n",
    "    # print(f\"\\t\\t\\t\\tvideo {local_vid_segment_path} has {frame_count} frames\")\n",
    "\n",
    "    target_video_frames_dir = fidscs_globals.STICHED_VIDEO_FRAMES_DIR+'/'+video_fname.split('.')[0]\n",
    "    # print(f\"\\t\\t\\t\\tattempting to create directory {target_video_frames_dir} (target_video_frames_dir) for frames extracted from video {local_vid_segment_path}...\")\n",
    "    fileio.make_dirs(target_video_frames_dir)\n",
    "    target_video_frames_dir_exists = fileio.path_exists(target_video_frames_dir, is_dir=True)\n",
    "    # print(f\"\\t\\t\\t\\t\\t{target_video_frames_dir} exists: {target_video_frames_dir_exists}\")\n",
    "    if not target_video_frames_dir_exists:\n",
    "        raise Exception(f\"required directory target_video_frames_dir {target_video_frames_dir} does not exist\")\n",
    "\n",
    "    n_stitched_frames = 0\n",
    "\n",
    "    success, frame = vid_cap.read()\n",
    "    n_frames_extracted = 0\n",
    "    while success:\n",
    "        local_frame_path = fileio.path_join(target_video_frames_dir, f\"{n_stitched_frames}.jpg\") # this is the final frame path\n",
    "\n",
    "        if truly_local_target_video_frames_dir is not None:\n",
    "            # write truly local frame file\n",
    "            truly_local_frame_path = truly_local_target_video_frames_dir+'/'+f\"{n_stitched_frames}.jpg\"\n",
    "            # print(f\"\\t\\t\\t\\t\\t\\tattempting to write {truly_local_frame_path} frame from video {local_vid_segment_path}...\")\n",
    "            cv2.imwrite(truly_local_frame_path, frame)\n",
    "            # print(f\"\\t\\t\\t\\t\\t\\t\\tSUCCESS\")\n",
    "            # print(f\"\\t\\t\\t\\t\\t\\t\\tattempting to open {truly_local_frame_path} for read...\")\n",
    "            with fileio.open_file_read(truly_local_frame_path) as f_truly_local_frame:\n",
    "                buffer = f_truly_local_frame.read()\n",
    "                # print(f\"\\t\\t\\t\\t\\t\\t\\t\\tSUCCESS\")\n",
    "                # print(f\"\\t\\t\\t\\t\\t\\t\\t\\t\\tattempting to open {local_frame_path} for final write...\")\n",
    "                with fileio.open_file_write(local_frame_path) as f_frame_final:\n",
    "                    f_frame_final.write(buffer)\n",
    "                    f_frame_final.close()\n",
    "                    # print(f\"\\t\\t\\t\\t\\t\\t\\t\\t\\t\\tSUCCESS\")\n",
    "                f_truly_local_frame.close()\n",
    "\n",
    "        else:\n",
    "            # print(f\"\\t\\t\\t\\t\\t\\t\\t\\t\\tattempting to open {local_frame_path} for final write...\")\n",
    "            cv2.imwrite(local_frame_path, frame)\n",
    "            # print(f\"\\t\\t\\t\\t\\t\\t\\t\\t\\t\\tSUCCESS\")\n",
    "            cv2.imwrite(fileio.path_join(target_video_frames_dir, f\"{n_stitched_frames}.jpg\"), frame)\n",
    "\n",
    "        n_frames_extracted += 1\n",
    "        n_stitched_frames += 1\n",
    "        success, frame = vid_cap.read()\n",
    "\n",
    "    if n_frames_extracted != frame_count:\n",
    "        print(f\"\\t\\t\\t\\t\\t{local_vid_segment_path} has {frame_count} but we only extracted/wrote {n_frames_extracted} frames!\")\n",
    "    else:\n",
    "        print(f\"\\t\\t\\t\\t\\tsuccessfully extracted all {frame_count} from {frame_count} from {local_vid_segment_path} to \")\n",
    "\n",
    "if truly_local_vid_dir is not None and fileio.path_exists(truly_local_vid_dir, is_dir=True)[0]:\n",
    "    print(f\"\\n\\n\\tdeleting {truly_local_vid_dir}...\")\n",
    "    fileio.delete_file(truly_local_vid_dir, recursive=True)\n",
    "    print(f\"\\t\\t{truly_local_vid_dir} exists: {fileio.path_exists(truly_local_vid_dir, is_dir=True)}\")"
   ]
  }
 ]
}