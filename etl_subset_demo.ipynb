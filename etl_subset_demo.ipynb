{
 "metadata": {
  "language_info": {
   "codemirror_mode": {
    "name": "ipython",
    "version": 3
   },
   "file_extension": ".py",
   "mimetype": "text/x-python",
   "name": "python",
   "nbconvert_exporter": "python",
   "pygments_lexer": "ipython3",
   "version": "3.8.4-final"
  },
  "orig_nbformat": 2,
  "kernelspec": {
   "name": "python3",
   "display_name": "Anaconda: learn-env",
   "language": "python"
  }
 },
 "nbformat": 4,
 "nbformat_minor": 2,
 "cells": [
  {
   "source": [
    "## Preliminaries\n",
    "\n",
    "This notebook assumes that all setup steps from [GCP-readme.md](./GCP-readme.md) have been followed.\n",
    "\n",
    "This notebook does not demonstrate the full ETL pipeline used in production (executed on GCP Dataflow).\n",
    "\n",
    "We only investigate the first couple of major steps of the *production* pipeline (which is executed in Dataflow on the Google Cloud Platform) in order to demonstrate the general idea of the process.  Note that the *production* pipeline is really a sequence of (sub) pipelines that are daisychained together in a particular order, since latter pipelines depend on former pipelines.\n",
    "\n",
    "In this notebook, we demonstrate the first two pipelines, which accomplish the following:\n",
    "\n",
    "### 1. Boostrap the video index\n",
    "\n",
    "Substeps are:\n",
    "\n",
    "    1. Download the video index (archive)\n",
    "    2. Extract it.\n",
    "    3. Write it to the destination directory as a CSV\n",
    "\n",
    "The video index drives the entire full-blown *production* pipeline.\n",
    "\n",
    "It tells us the filenames of the target videos.\n",
    "\n",
    "<p><br>\n",
    "\n",
    "### 2. Download each video segment comprising final target videos. (The video index contains the URLs).\n",
    "\n",
    "Target videos are comprised of video segments since some of the final target videos can be rather large.\n",
    "\n",
    "Altgether, **the *production* pipeline (executed on GCP Dataflow) retrieves more than 2600 videos** produced by the research conducted by Boston and Rutgers Universities, jointly under the [National Center for Sign Language and Gesture Resources project](http://www.bu.edu/asllrp/ncslgr.html).\n",
    "\n",
    "This notebook will demonstrate retrieving 50 of those.\n",
    "\n",
    "The implementation of the download shall leverage Apache Beam's parallelism in order to avoid the amount of time it would take to accomplish doing it sequentially.  Note that when executed locally, the Apache Beam SDK uses Docker containers for worker node clusters.  A cluster in this case consists of 8 workers nodes since my local machine has 8 cores.\n",
    "\n",
    "In *production*, on GCP Dataflow, this can be scheduled to your heart's content (but this, of course, costs more money to do so).\n",
    "\n",
    "<p><br>\n",
    "\n",
    "### 3. Use the `OpenCV` library to extract all frames (from each segment) for each target video.\n",
    "\n",
    "This step leverages Apache Beam's parallelism as well.\n",
    "\n",
    "But we MUST take care to ensure that a single worker extracts the frames of each segment associated with the target video.\n",
    "\n",
    "This is because frames are ordered/sequenced.  \n",
    "\n",
    "Allowing two different workers to extract frames of different segments associated with the same final target video would likely result in frames being extracted out of order (due to parallelism).\n",
    "\n",
    "Therefore, we partition the extraction task by final target video in order to ensure a single worker handles all segments associated with a single target video.\n",
    "\n",
    "But we do want parallelism to occurr at the final target video level.\n",
    "\n",
    "In the end, **in production, the pipeline extracts more than 561,000 frames (images) from the source target videos**!\n",
    "\n",
    "Since these images are \n",
    "\n",
    "Of course in this demonstration we will be extracting much less - only 50 out of the more than 2600 videos available will be downloaded and processed (frames extracted).  Still, extracting from 50 videos will amount to thousands of frames."
   ],
   "cell_type": "markdown",
   "metadata": {}
  },
  {
   "cell_type": "code",
   "execution_count": 1,
   "metadata": {},
   "outputs": [],
   "source": [
    "%load_ext autoreload\n",
    "\n",
    "%autoreload 2\n",
    "\n",
    "from __future__ import absolute_import\n",
    "\n",
    "import apache_beam as beam\n",
    "import apache_beam.runners.interactive.interactive_beam as ib\n",
    "\n",
    "from api import beam__common, fileio, fidscs_globals\n",
    "from api.fidscs_globals import disp_source\n",
    "from api import data_extractor__beam\n",
    "\n",
    "from apache_beam.options.pipeline_options import PipelineOptions"
   ]
  },
  {
   "source": [
    "## Constants to be used in this notebook"
   ],
   "cell_type": "markdown",
   "metadata": {}
  },
  {
   "cell_type": "code",
   "execution_count": 2,
   "metadata": {},
   "outputs": [],
   "source": [
    "WORK_DIR = '/tmp'\n",
    "MAX_TARGET_VIDEOS = 50  # set to -1 for all in production but not in this interactive notebook! That will result in extracting more than 561,000 images from more than 2600 videos! (onto your local machine)\n",
    "PIPELINE_BASE_JOB_NAME = 'sc-fids-capstone-etl-demo'"
   ]
  },
  {
   "source": [
    "## Use Apache Beam PipelineOptions for any global settings\n",
    "\n",
    "We MUST do this since the point of Apache Beam is to enable parallelism (in processing).\n",
    "\n",
    "How this is accomplished is beyond the scope of this notebook.\n",
    "\n",
    "But suffice it to say that any notion of a global variable cannot be implemented in the manner one is normally implemented - e.g. with Python global variables.\n",
    "\n",
    "However, a PipelineOptions object IS passed to each and every worker node by Apache Beam.\n",
    "\n",
    "Therefore, we accomplish global settings to be shared by all workers - e.g. the working directory and the final destination filepaths to be output by the pipeline - by passing would-be global settings to PipelineOptions, which are required to bootstrap each worker node by Apache Beam."
   ],
   "cell_type": "markdown",
   "metadata": {}
  },
  {
   "source": [
    "### Custom Apache Beam Pipeline options\n",
    "\n",
    "The `beam__common.FIDSCapstonePipelineOptions` class was written to do just that and allows us to create and use our own custom options in Apache Beam pipelines.\n",
    "\n",
    "Without it, attempting to set custom options on the Pipeline will fail since Apache Beam's PipelineOptions class will reject any options it doesn't recognize."
   ],
   "cell_type": "markdown",
   "metadata": {}
  },
  {
   "cell_type": "code",
   "execution_count": 3,
   "metadata": {},
   "outputs": [
    {
     "output_type": "display_data",
     "data": {
      "text/plain": "<IPython.core.display.Markdown object>",
      "text/markdown": "<!DOCTYPE html PUBLIC \"-//W3C//DTD HTML 4.01//EN\"\n   \"http://www.w3.org/TR/html4/strict.dtd\">\n<!--\ngenerated by Pygments <https://pygments.org/>\nCopyright 2006-2019 by the Pygments team.\nLicensed under the BSD license, see LICENSE for details.\n-->\n<html>\n<head>\n  <title></title>\n  <meta http-equiv=\"content-type\" content=\"text/html; charset=None\">\n  <style type=\"text/css\">\n/*\ngenerated by Pygments <https://pygments.org/>\nCopyright 2006-2019 by the Pygments team.\nLicensed under the BSD license, see LICENSE for details.\n*/\ntd.linenos { background-color: #f0f0f0; padding-right: 10px; }\nspan.lineno { background-color: #f0f0f0; padding: 0 5px 0 5px; }\npre { line-height: 125%; }\nbody .hll { background-color: #ffffcc }\nbody  { background: #f8f8f8; }\nbody .c { color: #408080; font-style: italic } /* Comment */\nbody .err { border: 1px solid #FF0000 } /* Error */\nbody .k { color: #008000; font-weight: bold } /* Keyword */\nbody .o { color: #666666 } /* Operator */\nbody .ch { color: #408080; font-style: italic } /* Comment.Hashbang */\nbody .cm { color: #408080; font-style: italic } /* Comment.Multiline */\nbody .cp { color: #BC7A00 } /* Comment.Preproc */\nbody .cpf { color: #408080; font-style: italic } /* Comment.PreprocFile */\nbody .c1 { color: #408080; font-style: italic } /* Comment.Single */\nbody .cs { color: #408080; font-style: italic } /* Comment.Special */\nbody .gd { color: #A00000 } /* Generic.Deleted */\nbody .ge { font-style: italic } /* Generic.Emph */\nbody .gr { color: #FF0000 } /* Generic.Error */\nbody .gh { color: #000080; font-weight: bold } /* Generic.Heading */\nbody .gi { color: #00A000 } /* Generic.Inserted */\nbody .go { color: #888888 } /* Generic.Output */\nbody .gp { color: #000080; font-weight: bold } /* Generic.Prompt */\nbody .gs { font-weight: bold } /* Generic.Strong */\nbody .gu { color: #800080; font-weight: bold } /* Generic.Subheading */\nbody .gt { color: #0044DD } /* Generic.Traceback */\nbody .kc { color: #008000; font-weight: bold } /* Keyword.Constant */\nbody .kd { color: #008000; font-weight: bold } /* Keyword.Declaration */\nbody .kn { color: #008000; font-weight: bold } /* Keyword.Namespace */\nbody .kp { color: #008000 } /* Keyword.Pseudo */\nbody .kr { color: #008000; font-weight: bold } /* Keyword.Reserved */\nbody .kt { color: #B00040 } /* Keyword.Type */\nbody .m { color: #666666 } /* Literal.Number */\nbody .s { color: #BA2121 } /* Literal.String */\nbody .na { color: #7D9029 } /* Name.Attribute */\nbody .nb { color: #008000 } /* Name.Builtin */\nbody .nc { color: #0000FF; font-weight: bold } /* Name.Class */\nbody .no { color: #880000 } /* Name.Constant */\nbody .nd { color: #AA22FF } /* Name.Decorator */\nbody .ni { color: #999999; font-weight: bold } /* Name.Entity */\nbody .ne { color: #D2413A; font-weight: bold } /* Name.Exception */\nbody .nf { color: #0000FF } /* Name.Function */\nbody .nl { color: #A0A000 } /* Name.Label */\nbody .nn { color: #0000FF; font-weight: bold } /* Name.Namespace */\nbody .nt { color: #008000; font-weight: bold } /* Name.Tag */\nbody .nv { color: #19177C } /* Name.Variable */\nbody .ow { color: #AA22FF; font-weight: bold } /* Operator.Word */\nbody .w { color: #bbbbbb } /* Text.Whitespace */\nbody .mb { color: #666666 } /* Literal.Number.Bin */\nbody .mf { color: #666666 } /* Literal.Number.Float */\nbody .mh { color: #666666 } /* Literal.Number.Hex */\nbody .mi { color: #666666 } /* Literal.Number.Integer */\nbody .mo { color: #666666 } /* Literal.Number.Oct */\nbody .sa { color: #BA2121 } /* Literal.String.Affix */\nbody .sb { color: #BA2121 } /* Literal.String.Backtick */\nbody .sc { color: #BA2121 } /* Literal.String.Char */\nbody .dl { color: #BA2121 } /* Literal.String.Delimiter */\nbody .sd { color: #BA2121; font-style: italic } /* Literal.String.Doc */\nbody .s2 { color: #BA2121 } /* Literal.String.Double */\nbody .se { color: #BB6622; font-weight: bold } /* Literal.String.Escape */\nbody .sh { color: #BA2121 } /* Literal.String.Heredoc */\nbody .si { color: #BB6688; font-weight: bold } /* Literal.String.Interpol */\nbody .sx { color: #008000 } /* Literal.String.Other */\nbody .sr { color: #BB6688 } /* Literal.String.Regex */\nbody .s1 { color: #BA2121 } /* Literal.String.Single */\nbody .ss { color: #19177C } /* Literal.String.Symbol */\nbody .bp { color: #008000 } /* Name.Builtin.Pseudo */\nbody .fm { color: #0000FF } /* Name.Function.Magic */\nbody .vc { color: #19177C } /* Name.Variable.Class */\nbody .vg { color: #19177C } /* Name.Variable.Global */\nbody .vi { color: #19177C } /* Name.Variable.Instance */\nbody .vm { color: #19177C } /* Name.Variable.Magic */\nbody .il { color: #666666 } /* Literal.Number.Integer.Long */\n\n  </style>\n</head>\n<body>\n<h2></h2>\n\n<div class=\"highlight\" style=\"background: #f8f8f8\"><pre style=\"line-height: 125%\"><span></span><span style=\"color: #008000; font-weight: bold\">class</span> <span style=\"color: #0000FF; font-weight: bold\">FIDSCapstonePipelineOptions</span>(PipelineOptions):<br>  <span style=\"color: #AA22FF\">@classmethod</span><br>  <span style=\"color: #008000; font-weight: bold\">def</span> <span style=\"color: #0000FF\">_add_argparse_args</span>(<span style=\"color: #008000\">cls</span>, parser):<br>    parser<span style=\"color: #666666\">.</span>add_argument(<br>      <span style=\"color: #BA2121\">f&#39;--</span><span style=\"color: #BB6688; font-weight: bold\">{</span>opt_name_to_command_line_opt(fidscs_globals<span style=\"color: #666666\">.</span>OPT_NAME_MAX_TARGET_VIDEOS)<span style=\"color: #BB6688; font-weight: bold\">}</span><span style=\"color: #BA2121\">&#39;</span>,<br>      default<span style=\"color: #666666\">=</span><span style=\"color: #008000; font-weight: bold\">None</span><br>    )<br>    parser<span style=\"color: #666666\">.</span>add_argument(<br>      <span style=\"color: #BA2121\">f&#39;--</span><span style=\"color: #BB6688; font-weight: bold\">{</span>opt_name_to_command_line_opt(fidscs_globals<span style=\"color: #666666\">.</span>OPT_NAME_WORK_DIR)<span style=\"color: #BB6688; font-weight: bold\">}</span><span style=\"color: #BA2121\">&#39;</span>,<br>      default<span style=\"color: #666666\">=</span><span style=\"color: #008000; font-weight: bold\">None</span>,<br>    )<br>    parser<span style=\"color: #666666\">.</span>add_argument(<br>      <span style=\"color: #BA2121\">f&#39;--</span><span style=\"color: #BB6688; font-weight: bold\">{</span>opt_name_to_command_line_opt(fidscs_globals<span style=\"color: #666666\">.</span>OPT_NAME_DATA_DIR)<span style=\"color: #BB6688; font-weight: bold\">}</span><span style=\"color: #BA2121\">&#39;</span>,<br>      default<span style=\"color: #666666\">=</span><span style=\"color: #008000; font-weight: bold\">None</span>,<br>    )<br>    parser<span style=\"color: #666666\">.</span>add_argument(<br>      <span style=\"color: #BA2121\">f&#39;--</span><span style=\"color: #BB6688; font-weight: bold\">{</span>opt_name_to_command_line_opt(fidscs_globals<span style=\"color: #666666\">.</span>OPT_NAME_TMP_DIR)<span style=\"color: #BB6688; font-weight: bold\">}</span><span style=\"color: #BA2121\">&#39;</span>,<br>      default<span style=\"color: #666666\">=</span><span style=\"color: #008000; font-weight: bold\">None</span>,<br>    )<br>    parser<span style=\"color: #666666\">.</span>add_argument(<br>      <span style=\"color: #BA2121\">f&#39;--</span><span style=\"color: #BB6688; font-weight: bold\">{</span>opt_name_to_command_line_opt(fidscs_globals<span style=\"color: #666666\">.</span>OPT_NAME_VIDEO_DIR)<span style=\"color: #BB6688; font-weight: bold\">}</span><span style=\"color: #BA2121\">&#39;</span>,<br>      default<span style=\"color: #666666\">=</span><span style=\"color: #008000; font-weight: bold\">None</span>,<br>    )<br>    parser<span style=\"color: #666666\">.</span>add_argument(<br>      <span style=\"color: #BA2121\">f&#39;--</span><span style=\"color: #BB6688; font-weight: bold\">{</span>opt_name_to_command_line_opt(fidscs_globals<span style=\"color: #666666\">.</span>OPT_NAME_STITCHED_VIDEO_FRAMES_DIR)<span style=\"color: #BB6688; font-weight: bold\">}</span><span style=\"color: #BA2121\">&#39;</span>,<br>      default<span style=\"color: #666666\">=</span><span style=\"color: #008000; font-weight: bold\">None</span>,<br>    )<br>    parser<span style=\"color: #666666\">.</span>add_argument(<br>      <span style=\"color: #BA2121\">f&#39;--</span><span style=\"color: #BB6688; font-weight: bold\">{</span>opt_name_to_command_line_opt(fidscs_globals<span style=\"color: #666666\">.</span>OPT_NAME_CORPUS_DIR)<span style=\"color: #BB6688; font-weight: bold\">}</span><span style=\"color: #BA2121\">&#39;</span>,<br>      default<span style=\"color: #666666\">=</span><span style=\"color: #008000; font-weight: bold\">None</span>,<br>    )<br>    parser<span style=\"color: #666666\">.</span>add_argument(<br>      <span style=\"color: #BA2121\">f&#39;--</span><span style=\"color: #BB6688; font-weight: bold\">{</span>opt_name_to_command_line_opt(fidscs_globals<span style=\"color: #666666\">.</span>OPT_NAME_CORPUS_DS_PATH)<span style=\"color: #BB6688; font-weight: bold\">}</span><span style=\"color: #BA2121\">&#39;</span>,<br>      default<span style=\"color: #666666\">=</span><span style=\"color: #008000; font-weight: bold\">None</span>,<br>    )<br>    parser<span style=\"color: #666666\">.</span>add_argument(<br>      <span style=\"color: #BA2121\">f&#39;--</span><span style=\"color: #BB6688; font-weight: bold\">{</span>opt_name_to_command_line_opt(fidscs_globals<span style=\"color: #666666\">.</span>OPT_NAME_DOCUMENT_ASL_CONSULTANT_DS_PATH)<span style=\"color: #BB6688; font-weight: bold\">}</span><span style=\"color: #BA2121\">&#39;</span>,<br>      default<span style=\"color: #666666\">=</span><span style=\"color: #008000; font-weight: bold\">None</span>,<br>    )<br>    parser<span style=\"color: #666666\">.</span>add_argument(<br>      <span style=\"color: #BA2121\">f&#39;--</span><span style=\"color: #BB6688; font-weight: bold\">{</span>opt_name_to_command_line_opt(fidscs_globals<span style=\"color: #666666\">.</span>OPT_NAME_ASL_CONSULTANT_DS_PATH)<span style=\"color: #BB6688; font-weight: bold\">}</span><span style=\"color: #BA2121\">&#39;</span>,<br>      default<span style=\"color: #666666\">=</span><span style=\"color: #008000; font-weight: bold\">None</span>,<br>    )<br>    parser<span style=\"color: #666666\">.</span>add_argument(<br>      <span style=\"color: #BA2121\">f&#39;--</span><span style=\"color: #BB6688; font-weight: bold\">{</span>opt_name_to_command_line_opt(fidscs_globals<span style=\"color: #666666\">.</span>OPT_NAME_VIDEO_INDEXES_DIR)<span style=\"color: #BB6688; font-weight: bold\">}</span><span style=\"color: #BA2121\">&#39;</span>,<br>      default<span style=\"color: #666666\">=</span><span style=\"color: #008000; font-weight: bold\">None</span>,<br>    )<br>    parser<span style=\"color: #666666\">.</span>add_argument(<br>      <span style=\"color: #BA2121\">f&#39;--</span><span style=\"color: #BB6688; font-weight: bold\">{</span>opt_name_to_command_line_opt(fidscs_globals<span style=\"color: #666666\">.</span>OPT_NAME_SELECTED_VIDEO_INDEX_PATH)<span style=\"color: #BB6688; font-weight: bold\">}</span><span style=\"color: #BA2121\">&#39;</span>,<br>      default<span style=\"color: #666666\">=</span><span style=\"color: #008000; font-weight: bold\">None</span>,<br>    )<br>    parser<span style=\"color: #666666\">.</span>add_argument(<br>      <span style=\"color: #BA2121\">f&#39;--</span><span style=\"color: #BB6688; font-weight: bold\">{</span>opt_name_to_command_line_opt(fidscs_globals<span style=\"color: #666666\">.</span>OPT_NAME_VIDEO_DS_PATH)<span style=\"color: #BB6688; font-weight: bold\">}</span><span style=\"color: #BA2121\">&#39;</span>,<br>      default<span style=\"color: #666666\">=</span><span style=\"color: #008000; font-weight: bold\">None</span>,<br>    )<br>    parser<span style=\"color: #666666\">.</span>add_argument(<br>      <span style=\"color: #BA2121\">f&#39;--</span><span style=\"color: #BB6688; font-weight: bold\">{</span>opt_name_to_command_line_opt(fidscs_globals<span style=\"color: #666666\">.</span>OPT_NAME_VIDEO_SEGMENT_DS_PATH)<span style=\"color: #BB6688; font-weight: bold\">}</span><span style=\"color: #BA2121\">&#39;</span>,<br>      default<span style=\"color: #666666\">=</span><span style=\"color: #008000; font-weight: bold\">None</span>,<br>    )<br>    parser<span style=\"color: #666666\">.</span>add_argument(<br>      <span style=\"color: #BA2121\">f&#39;--</span><span style=\"color: #BB6688; font-weight: bold\">{</span>opt_name_to_command_line_opt(fidscs_globals<span style=\"color: #666666\">.</span>OPT_NAME_VIDEO_FRAME_DS_PATH)<span style=\"color: #BB6688; font-weight: bold\">}</span><span style=\"color: #BA2121\">&#39;</span>,<br>      default<span style=\"color: #666666\">=</span><span style=\"color: #008000; font-weight: bold\">None</span>,<br>    )<br>    parser<span style=\"color: #666666\">.</span>add_argument(<br>      <span style=\"color: #BA2121\">f&#39;--</span><span style=\"color: #BB6688; font-weight: bold\">{</span>opt_name_to_command_line_opt(fidscs_globals<span style=\"color: #666666\">.</span>OPT_NAME_UTTERANCE_DS_PATH)<span style=\"color: #BB6688; font-weight: bold\">}</span><span style=\"color: #BA2121\">&#39;</span>,<br>      default<span style=\"color: #666666\">=</span><span style=\"color: #008000; font-weight: bold\">None</span>,<br>    )<br>    parser<span style=\"color: #666666\">.</span>add_argument(<br>      <span style=\"color: #BA2121\">f&#39;--</span><span style=\"color: #BB6688; font-weight: bold\">{</span>opt_name_to_command_line_opt(fidscs_globals<span style=\"color: #666666\">.</span>OPT_NAME_UTTERANCE_VIDEO_DS_PATH)<span style=\"color: #BB6688; font-weight: bold\">}</span><span style=\"color: #BA2121\">&#39;</span>,<br>      default<span style=\"color: #666666\">=</span><span style=\"color: #008000; font-weight: bold\">None</span>,<br>    )<br>    parser<span style=\"color: #666666\">.</span>add_argument(<br>      <span style=\"color: #BA2121\">f&#39;--</span><span style=\"color: #BB6688; font-weight: bold\">{</span>opt_name_to_command_line_opt(fidscs_globals<span style=\"color: #666666\">.</span>OPT_NAME_UTTERANCE_TOKEN_DS_PATH)<span style=\"color: #BB6688; font-weight: bold\">}</span><span style=\"color: #BA2121\">&#39;</span>,<br>      default<span style=\"color: #666666\">=</span><span style=\"color: #008000; font-weight: bold\">None</span>,<br>    )<br>    parser<span style=\"color: #666666\">.</span>add_argument(<br>      <span style=\"color: #BA2121\">f&#39;--</span><span style=\"color: #BB6688; font-weight: bold\">{</span>opt_name_to_command_line_opt(fidscs_globals<span style=\"color: #666666\">.</span>OPT_NAME_UTTERANCE_TOKEN_FRAME_DS_PATH)<span style=\"color: #BB6688; font-weight: bold\">}</span><span style=\"color: #BA2121\">&#39;</span>,<br>      default<span style=\"color: #666666\">=</span><span style=\"color: #008000; font-weight: bold\">None</span>,<br>    )<br>    parser<span style=\"color: #666666\">.</span>add_argument(<br>      <span style=\"color: #BA2121\">f&#39;--</span><span style=\"color: #BB6688; font-weight: bold\">{</span>opt_name_to_command_line_opt(fidscs_globals<span style=\"color: #666666\">.</span>OPT_NAME_VOCABULARY_DS_PATH)<span style=\"color: #BB6688; font-weight: bold\">}</span><span style=\"color: #BA2121\">&#39;</span>,<br>      default<span style=\"color: #666666\">=</span><span style=\"color: #008000; font-weight: bold\">None</span>,<br>    )<br></pre></div>\n</body>\n</html>\n"
     },
     "metadata": {}
    }
   ],
   "source": [
    "disp_source(beam__common.FIDSCapstonePipelineOptions)"
   ]
  },
  {
   "source": [
    "### PipelineOptions Initialization\n",
    "\n",
    "For this notebook, we execute locally (vs. GCP Dataflow) - that is, we use the Apache Beam's `DirectRunner`.  Actually, we use a variant of - the `InteractiveRunner` - geared specifically for running in notebooks.  But it is still run locally.  Some `PipelineOptions` options differ (or are not needed), relative to the `DataflowRunner`.\n",
    "\n",
    "To see the full implementation on how this differs from using the `Dataflow` runner, start by inspecting [run_cloud__etl.py](./run_cloud__etl.py) and follow the code.\n",
    "\n",
    "Initializing the `dict` upon which `PipelineOptions` are based has been wrapped up within the `beam__common.make_fids_options_dict` function."
   ],
   "cell_type": "markdown",
   "metadata": {}
  },
  {
   "cell_type": "code",
   "execution_count": 4,
   "metadata": {},
   "outputs": [
    {
     "output_type": "display_data",
     "data": {
      "text/plain": "<IPython.core.display.Markdown object>",
      "text/markdown": "<!DOCTYPE html PUBLIC \"-//W3C//DTD HTML 4.01//EN\"\n   \"http://www.w3.org/TR/html4/strict.dtd\">\n<!--\ngenerated by Pygments <https://pygments.org/>\nCopyright 2006-2019 by the Pygments team.\nLicensed under the BSD license, see LICENSE for details.\n-->\n<html>\n<head>\n  <title></title>\n  <meta http-equiv=\"content-type\" content=\"text/html; charset=None\">\n  <style type=\"text/css\">\n/*\ngenerated by Pygments <https://pygments.org/>\nCopyright 2006-2019 by the Pygments team.\nLicensed under the BSD license, see LICENSE for details.\n*/\ntd.linenos { background-color: #f0f0f0; padding-right: 10px; }\nspan.lineno { background-color: #f0f0f0; padding: 0 5px 0 5px; }\npre { line-height: 125%; }\nbody .hll { background-color: #ffffcc }\nbody  { background: #f8f8f8; }\nbody .c { color: #408080; font-style: italic } /* Comment */\nbody .err { border: 1px solid #FF0000 } /* Error */\nbody .k { color: #008000; font-weight: bold } /* Keyword */\nbody .o { color: #666666 } /* Operator */\nbody .ch { color: #408080; font-style: italic } /* Comment.Hashbang */\nbody .cm { color: #408080; font-style: italic } /* Comment.Multiline */\nbody .cp { color: #BC7A00 } /* Comment.Preproc */\nbody .cpf { color: #408080; font-style: italic } /* Comment.PreprocFile */\nbody .c1 { color: #408080; font-style: italic } /* Comment.Single */\nbody .cs { color: #408080; font-style: italic } /* Comment.Special */\nbody .gd { color: #A00000 } /* Generic.Deleted */\nbody .ge { font-style: italic } /* Generic.Emph */\nbody .gr { color: #FF0000 } /* Generic.Error */\nbody .gh { color: #000080; font-weight: bold } /* Generic.Heading */\nbody .gi { color: #00A000 } /* Generic.Inserted */\nbody .go { color: #888888 } /* Generic.Output */\nbody .gp { color: #000080; font-weight: bold } /* Generic.Prompt */\nbody .gs { font-weight: bold } /* Generic.Strong */\nbody .gu { color: #800080; font-weight: bold } /* Generic.Subheading */\nbody .gt { color: #0044DD } /* Generic.Traceback */\nbody .kc { color: #008000; font-weight: bold } /* Keyword.Constant */\nbody .kd { color: #008000; font-weight: bold } /* Keyword.Declaration */\nbody .kn { color: #008000; font-weight: bold } /* Keyword.Namespace */\nbody .kp { color: #008000 } /* Keyword.Pseudo */\nbody .kr { color: #008000; font-weight: bold } /* Keyword.Reserved */\nbody .kt { color: #B00040 } /* Keyword.Type */\nbody .m { color: #666666 } /* Literal.Number */\nbody .s { color: #BA2121 } /* Literal.String */\nbody .na { color: #7D9029 } /* Name.Attribute */\nbody .nb { color: #008000 } /* Name.Builtin */\nbody .nc { color: #0000FF; font-weight: bold } /* Name.Class */\nbody .no { color: #880000 } /* Name.Constant */\nbody .nd { color: #AA22FF } /* Name.Decorator */\nbody .ni { color: #999999; font-weight: bold } /* Name.Entity */\nbody .ne { color: #D2413A; font-weight: bold } /* Name.Exception */\nbody .nf { color: #0000FF } /* Name.Function */\nbody .nl { color: #A0A000 } /* Name.Label */\nbody .nn { color: #0000FF; font-weight: bold } /* Name.Namespace */\nbody .nt { color: #008000; font-weight: bold } /* Name.Tag */\nbody .nv { color: #19177C } /* Name.Variable */\nbody .ow { color: #AA22FF; font-weight: bold } /* Operator.Word */\nbody .w { color: #bbbbbb } /* Text.Whitespace */\nbody .mb { color: #666666 } /* Literal.Number.Bin */\nbody .mf { color: #666666 } /* Literal.Number.Float */\nbody .mh { color: #666666 } /* Literal.Number.Hex */\nbody .mi { color: #666666 } /* Literal.Number.Integer */\nbody .mo { color: #666666 } /* Literal.Number.Oct */\nbody .sa { color: #BA2121 } /* Literal.String.Affix */\nbody .sb { color: #BA2121 } /* Literal.String.Backtick */\nbody .sc { color: #BA2121 } /* Literal.String.Char */\nbody .dl { color: #BA2121 } /* Literal.String.Delimiter */\nbody .sd { color: #BA2121; font-style: italic } /* Literal.String.Doc */\nbody .s2 { color: #BA2121 } /* Literal.String.Double */\nbody .se { color: #BB6622; font-weight: bold } /* Literal.String.Escape */\nbody .sh { color: #BA2121 } /* Literal.String.Heredoc */\nbody .si { color: #BB6688; font-weight: bold } /* Literal.String.Interpol */\nbody .sx { color: #008000 } /* Literal.String.Other */\nbody .sr { color: #BB6688 } /* Literal.String.Regex */\nbody .s1 { color: #BA2121 } /* Literal.String.Single */\nbody .ss { color: #19177C } /* Literal.String.Symbol */\nbody .bp { color: #008000 } /* Name.Builtin.Pseudo */\nbody .fm { color: #0000FF } /* Name.Function.Magic */\nbody .vc { color: #19177C } /* Name.Variable.Class */\nbody .vg { color: #19177C } /* Name.Variable.Global */\nbody .vi { color: #19177C } /* Name.Variable.Instance */\nbody .vm { color: #19177C } /* Name.Variable.Magic */\nbody .il { color: #666666 } /* Literal.Number.Integer.Long */\n\n  </style>\n</head>\n<body>\n<h2></h2>\n\n<div class=\"highlight\" style=\"background: #f8f8f8\"><pre style=\"line-height: 125%\"><span></span><span style=\"color: #008000; font-weight: bold\">def</span> <span style=\"color: #0000FF\">make_fids_options_dict</span>(work_dir, max_target_videos<span style=\"color: #666666\">=-1</span>, beam_gcp_project<span style=\"color: #666666\">=</span>fidscs_globals<span style=\"color: #666666\">.</span>GCP_PROJECT):<br>  data_dir <span style=\"color: #666666\">=</span> fileio<span style=\"color: #666666\">.</span>path_join(work_dir, fidscs_globals<span style=\"color: #666666\">.</span>DATA_DIR_NAME)<br>  tmp_dir <span style=\"color: #666666\">=</span> fileio<span style=\"color: #666666\">.</span>path_join(data_dir, fidscs_globals<span style=\"color: #666666\">.</span>TMP_DIR_NAME)<br>  videos_dir <span style=\"color: #666666\">=</span> fileio<span style=\"color: #666666\">.</span>path_join(data_dir, fidscs_globals<span style=\"color: #666666\">.</span>VIDEO_DIR_NAME)<br>  stitched_video_frames_dir <span style=\"color: #666666\">=</span> fileio<span style=\"color: #666666\">.</span>path_join(data_dir, fidscs_globals<span style=\"color: #666666\">.</span>STICHED_VIDEO_FRAMES_DIR_NAME)<br>  corpus_dir <span style=\"color: #666666\">=</span> fileio<span style=\"color: #666666\">.</span>path_join(tmp_dir, fidscs_globals<span style=\"color: #666666\">.</span>CORPUS_BASE)<br>  corpus_ds_path <span style=\"color: #666666\">=</span> fileio<span style=\"color: #666666\">.</span>path_join(data_dir, fidscs_globals<span style=\"color: #666666\">.</span>CORPUS_DS_FNAME)<br>  document_asl_cconsultant_ds_path <span style=\"color: #666666\">=</span> fileio<span style=\"color: #666666\">.</span>path_join(data_dir, fidscs_globals<span style=\"color: #666666\">.</span>DOCUMENT_ASL_CONSULTANT_DS_FNAME)<br>  asl_consultant_ds_path <span style=\"color: #666666\">=</span> fileio<span style=\"color: #666666\">.</span>path_join(data_dir, fidscs_globals<span style=\"color: #666666\">.</span>ASL_CONSULTANT_DS_FNAME)<br>  video_indexes_dir <span style=\"color: #666666\">=</span> fileio<span style=\"color: #666666\">.</span>path_join(tmp_dir, fidscs_globals<span style=\"color: #666666\">.</span>VIDEO_INDEX_BASE)<br>  selected_video_index_path <span style=\"color: #666666\">=</span> fileio<span style=\"color: #666666\">.</span>path_join(video_indexes_dir, fidscs_globals<span style=\"color: #666666\">.</span>SELECTED_VIDEO_INDEX)<br>  video_ds_path <span style=\"color: #666666\">=</span> fileio<span style=\"color: #666666\">.</span>path_join(data_dir, fidscs_globals<span style=\"color: #666666\">.</span>VIDEO_DS_FNAME)<br>  video_segment_ds_path <span style=\"color: #666666\">=</span> fileio<span style=\"color: #666666\">.</span>path_join(data_dir, fidscs_globals<span style=\"color: #666666\">.</span>VIDEO_SEGMENT_DS_FNAME)<br>  video_frame_ds_path <span style=\"color: #666666\">=</span> fileio<span style=\"color: #666666\">.</span>path_join(data_dir, fidscs_globals<span style=\"color: #666666\">.</span>VIDEO_FRAME_DS_FNAME)<br>  utterance_ds_path <span style=\"color: #666666\">=</span> fileio<span style=\"color: #666666\">.</span>path_join(data_dir, fidscs_globals<span style=\"color: #666666\">.</span>UTTERANCE_DS_FNAME)<br>  utterance_video_ds_path <span style=\"color: #666666\">=</span> fileio<span style=\"color: #666666\">.</span>path_join(data_dir, fidscs_globals<span style=\"color: #666666\">.</span>UTTERANCE_VIDEO_DS_FNAME)<br>  utterance_token_ds_path <span style=\"color: #666666\">=</span> fileio<span style=\"color: #666666\">.</span>path_join(data_dir, fidscs_globals<span style=\"color: #666666\">.</span>UTTERANCE_TOKEN_DS_FNAME)<br>  utterance_token_frame_ds_path <span style=\"color: #666666\">=</span> fileio<span style=\"color: #666666\">.</span>path_join(data_dir, fidscs_globals<span style=\"color: #666666\">.</span>UTTERANCE_TOKEN_FRAME_DS_FNAME)<br>  vocabulary_ds_path <span style=\"color: #666666\">=</span> fileio<span style=\"color: #666666\">.</span>path_join(data_dir, fidscs_globals<span style=\"color: #666666\">.</span>VOCABULARY_DS_FNAME)<br>  <span style=\"color: #008000; font-weight: bold\">return</span> {<br>    fidscs_globals<span style=\"color: #666666\">.</span>OPT_NAME_PROJECT:                          beam_gcp_project,<br>    fidscs_globals<span style=\"color: #666666\">.</span>OPT_NAME_MAX_TARGET_VIDEOS:                max_target_videos,<br>    fidscs_globals<span style=\"color: #666666\">.</span>OPT_NAME_WORK_DIR:                         work_dir,<br>    fidscs_globals<span style=\"color: #666666\">.</span>OPT_NAME_DATA_DIR:                         data_dir,<br>    fidscs_globals<span style=\"color: #666666\">.</span>OPT_NAME_TMP_DIR:                          tmp_dir,<br>    fidscs_globals<span style=\"color: #666666\">.</span>OPT_NAME_VIDEO_DIR:                        videos_dir,<br>    fidscs_globals<span style=\"color: #666666\">.</span>OPT_NAME_STITCHED_VIDEO_FRAMES_DIR:        stitched_video_frames_dir,<br>    fidscs_globals<span style=\"color: #666666\">.</span>OPT_NAME_CORPUS_DIR:                       corpus_dir,<br>    fidscs_globals<span style=\"color: #666666\">.</span>OPT_NAME_CORPUS_DS_PATH:                   corpus_ds_path,<br>    fidscs_globals<span style=\"color: #666666\">.</span>OPT_NAME_DOCUMENT_ASL_CONSULTANT_DS_PATH:  document_asl_cconsultant_ds_path,<br>    fidscs_globals<span style=\"color: #666666\">.</span>OPT_NAME_ASL_CONSULTANT_DS_PATH:           asl_consultant_ds_path,<br>    fidscs_globals<span style=\"color: #666666\">.</span>OPT_NAME_VIDEO_INDEXES_DIR:                video_indexes_dir,<br>    fidscs_globals<span style=\"color: #666666\">.</span>OPT_NAME_SELECTED_VIDEO_INDEX_PATH:        selected_video_index_path,<br>    fidscs_globals<span style=\"color: #666666\">.</span>OPT_NAME_VIDEO_DS_PATH:                    video_ds_path,<br>    fidscs_globals<span style=\"color: #666666\">.</span>OPT_NAME_VIDEO_SEGMENT_DS_PATH:            video_segment_ds_path,<br>    fidscs_globals<span style=\"color: #666666\">.</span>OPT_NAME_VIDEO_FRAME_DS_PATH:              video_frame_ds_path,<br>    fidscs_globals<span style=\"color: #666666\">.</span>OPT_NAME_UTTERANCE_DS_PATH:                utterance_ds_path,<br>    fidscs_globals<span style=\"color: #666666\">.</span>OPT_NAME_UTTERANCE_VIDEO_DS_PATH:          utterance_video_ds_path,<br>    fidscs_globals<span style=\"color: #666666\">.</span>OPT_NAME_UTTERANCE_TOKEN_DS_PATH:          utterance_token_ds_path,<br>    fidscs_globals<span style=\"color: #666666\">.</span>OPT_NAME_UTTERANCE_TOKEN_FRAME_DS_PATH:    utterance_token_frame_ds_path,<br>    fidscs_globals<span style=\"color: #666666\">.</span>OPT_NAME_VOCABULARY_DS_PATH:               vocabulary_ds_path<br>  }<br></pre></div>\n</body>\n</html>\n"
     },
     "metadata": {}
    }
   ],
   "source": [
    "disp_source(beam__common.make_fids_options_dict)"
   ]
  },
  {
   "source": [
    "#### PipelineOptions geared for the `InteractiveRunner`\n",
    "\n",
    "Note that `InteractiveRunner` is a variant of the `DirectRunner` that allows us to run an Apache Beam pipeline with a Jupyter Notebook.\n",
    "\n",
    "Documentation for `InteractiveRunner` can be found [here](https://cloud.google.com/dataflow/docs/guides/interactive-pipeline-development).\n",
    "\n",
    "First, it must be reiterated that we must use this runner in order to collect (reduce) data kept in Apache Beam `Pcollection`s for conversion to Pandas `DataFrame`s for display within this notebook.  Apache Beam `Pcollection`s can generally and *roughly* be thought of as Resilient Distributed Datasets.  The documentation for Apache Beam `Pcollection`s can be found in the **Apache Beam Programming Guide** located [here](https://beam.apache.org/documentation/programming-guide/).  \n",
    "\n",
    "But **`Pcollection`s are the basis for all processing within an Apache Beam pipeline**.\n",
    "\n",
    "Also note that the `InteractiveRunner` is not really meant to be used for enterprise (read: \"Big Data\") pipelines.\n",
    "\n",
    "The runner used for production in this project is the `DataFlow` Google Cloud Platform runner.\n",
    "\n",
    "The reader is reminded that the point of this notebook, however, is to present a demonstration of only a subset of the full Apache Beam pipeline (used in this project)."
   ],
   "cell_type": "markdown",
   "metadata": {}
  },
  {
   "cell_type": "code",
   "execution_count": 5,
   "metadata": {},
   "outputs": [],
   "source": [
    "options = {\n",
    "    # 'runner': 'DirectRunner',\n",
    "    'runner': 'InteractiveRunner',\n",
    "    'environment_type': 'DOCKER',\n",
    "    'direct_num_workers': 0, # 0 is use all available cores\n",
    "    'direct_running_mode': 'multi_threading', # ['in_memory', 'multi_threading', 'multi_processing']\n",
    "    'streaming': False # set to True if data source is unbounded (e.g. GCP PubSub),\n",
    "}\n",
    "\n",
    "options.update(beam__common.make_fids_options_dict(WORK_DIR, max_target_videos=MAX_TARGET_VIDEOS))"
   ]
  },
  {
   "source": [
    "#### Finally, instantiate the `PipelineOptions` (using the above `options` `dict`)"
   ],
   "cell_type": "markdown",
   "metadata": {}
  },
  {
   "cell_type": "code",
   "execution_count": 6,
   "metadata": {},
   "outputs": [
    {
     "output_type": "stream",
     "name": "stdout",
     "text": [
      "PipelineOptions:\n{'runner': 'InteractiveRunner', 'streaming': False, 'beam_services': {}, 'type_check_strictness': 'DEFAULT_TO_ANY', 'type_check_additional': '', 'pipeline_type_check': True, 'runtime_type_check': False, 'performance_runtime_type_check': False, 'direct_runner_use_stacked_bundle': True, 'direct_runner_bundle_repeat': 0, 'direct_num_workers': 0, 'direct_running_mode': 'multi_threading', 'dataflow_endpoint': 'https://dataflow.googleapis.com', 'project': 'sc-fids-capstone', 'job_name': 'sc-fids-capstone-etl-demo--boostrap-vid-index', 'staging_location': None, 'temp_location': None, 'region': None, 'service_account_email': None, 'no_auth': False, 'template_location': None, 'labels': None, 'update': False, 'transform_name_mapping': None, 'enable_streaming_engine': False, 'dataflow_kms_key': None, 'flexrs_goal': None, 'hdfs_host': None, 'hdfs_port': None, 'hdfs_user': None, 'hdfs_full_urls': False, 'num_workers': None, 'max_num_workers': None, 'autoscaling_algorithm': None, 'machine_type': None, 'disk_size_gb': None, 'disk_type': None, 'worker_region': None, 'worker_zone': None, 'zone': None, 'network': None, 'subnetwork': None, 'worker_harness_container_image': None, 'sdk_harness_container_image_overrides': None, 'use_public_ips': None, 'min_cpu_platform': None, 'dataflow_worker_jar': None, 'dataflow_job_file': None, 'experiments': None, 'number_of_worker_harness_threads': None, 'profile_cpu': False, 'profile_memory': False, 'profile_location': None, 'profile_sample_rate': 1.0, 'requirements_file': None, 'requirements_cache': None, 'setup_file': None, 'beam_plugins': None, 'save_main_session': False, 'sdk_location': 'default', 'extra_packages': None, 'prebuild_sdk_container_engine': None, 'prebuild_sdk_container_base_image': None, 'docker_registry_push_url': None, 'job_endpoint': None, 'artifact_endpoint': None, 'job_server_timeout': 60, 'environment_type': 'DOCKER', 'environment_config': None, 'environment_options': None, 'sdk_worker_parallelism': 1, 'environment_cache_millis': 0, 'output_executable_path': None, 'artifacts_dir': None, 'job_port': 0, 'artifact_port': 0, 'expansion_port': 0, 'flink_master': '[auto]', 'flink_version': '1.10', 'flink_job_server_jar': None, 'flink_submit_uber_jar': False, 'spark_master_url': 'local[4]', 'spark_job_server_jar': None, 'spark_submit_uber_jar': False, 'spark_rest_url': None, 'on_success_matcher': None, 'dry_run': False, 'wait_until_finish_duration': None, 'pubsubRootUrl': None, 's3_access_key_id': None, 's3_secret_access_key': None, 's3_session_token': None, 's3_endpoint_url': None, 's3_region_name': None, 's3_api_version': None, 's3_verify': None, 's3_disable_ssl': False, 'fidscs_capstone_max_target_videos': 50, 'fidscs_capstone_work_dir': '/tmp', 'fidscs_capstone_data_dir': '/tmp/data', 'fidscs_capstone_tmp_dir': '/tmp/data/tmp', 'fidscs_capstone_videos_dir': '/tmp/data/videos', 'fidscs_capstone_stitched_video_frames_dir': '/tmp/data/stitched_video_frames', 'fidscs_capstone_corpus_dir': '/tmp/data/tmp/ncslgr-xml', 'fidscs_capstone_corpus_ds_path': '/tmp/data/ncslgr-corpus-index.csv', 'fidscs_capstone_document_asl_cconsultant_ds_path': '/tmp/data/document-consultant-index.csv', 'fidscs_capstone_asl_consultant_ds_path': '/tmp/data/consultant-index.csv', 'fidscs_capstone_video_indexes_dir': '/tmp/data/tmp/video_index-20120129', 'fidscs_capstone_selected_video_index_path': '/tmp/data/tmp/video_index-20120129/files_by_video_name.csv', 'fidscs_capstone_video_ds_path': '/tmp/data/document-consultant-targetvideo-index.csv', 'fidscs_capstone_video_segment_ds_path': '/tmp/data/document-consultant-targetvideo-segment-index.csv', 'fidscs_capstone_video_frame_ds_path': '/tmp/data/document-consultant-targetvideo-frame-index.csv', 'fidscs_capstone_utterance_ds_path': '/tmp/data/document-consultant-utterance-index.csv', 'fidscs_capstone_utterance_video_ds_path': '/tmp/data/document-consultant-utterance-targetvideo-index.csv', 'fidscs_capstone_utterance_token_ds_path': '/tmp/data/document-consultant-utterance-token-index.csv', 'fidscs_capstone_utterance_token_frame_ds_path': '/tmp/data/document-consultant-targetvideo-utterance-token-frame-index.csv', 'fidscs_capstone_vocabulary_ds_path': '/tmp/data/vocabulary-index.csv'}\n\n"
     ]
    }
   ],
   "source": [
    "job_suffix = 'boostrap-vid-index'\n",
    "job_name = f\"{PIPELINE_BASE_JOB_NAME}--{job_suffix}\"\n",
    "options.update({\n",
    "    'job_name': job_name\n",
    "})\n",
    "\n",
    "pipeline_options = PipelineOptions(flags=[], **options) # easier to pass in options from command-line this way\n",
    "print(f\"PipelineOptions:\\n{pipeline_options.get_all_options()}\\n\")"
   ]
  },
  {
   "source": [
    "#### But before running the pipeline, create necessary filestructure within `WORK_DIR`"
   ],
   "cell_type": "markdown",
   "metadata": {}
  },
  {
   "cell_type": "code",
   "execution_count": 7,
   "metadata": {},
   "outputs": [],
   "source": [
    "if not fileio.dir_path_exists(options[fidscs_globals.OPT_NAME_DATA_DIR], options)[0]:\n",
    "    fileio.make_dirs(options[fidscs_globals.OPT_NAME_DATA_DIR], options)\n",
    "\n",
    "if not fileio.dir_path_exists(options[fidscs_globals.OPT_NAME_TMP_DIR], options)[0]:\n",
    "    fileio.make_dirs(options[fidscs_globals.OPT_NAME_TMP_DIR], options)\n",
    "\n",
    "if not beam__common.dataset_csv_files_exist(options):\n",
    "    if not fileio.dir_path_exists(options[fidscs_globals.OPT_NAME_VIDEO_DIR], options)[0]:\n",
    "        fileio.make_dirs(options[fidscs_globals.OPT_NAME_VIDEO_DIR], options)\n",
    "\n",
    "if not fileio.dir_path_exists(options[fidscs_globals.OPT_NAME_STITCHED_VIDEO_FRAMES_DIR], options)[0]:\n",
    "    fileio.make_dirs(options[fidscs_globals.OPT_NAME_STITCHED_VIDEO_FRAMES_DIR], options)"
   ]
  },
  {
   "source": [
    "We are now ready to execute the pipeline.  But before doing so, let's discuss how it works.\n",
    "\n",
    "<p><br>\n",
    "\n",
    "There are two top-level functions used by the \"boostrap-vid-index\" pipeline, in this order:\n",
    "\n",
    "1. `data_extractor__beam.pl__1__bootstrap_target_video_index`\n",
    "2. `data_extractor__beam.pl__2__write_target_vid_index_csv`\n",
    "\n",
    "<p><br>\n",
    "\n",
    "Let's examine the source code for `data_extractor__beam.pl__1__bootstrap_target_video_index`...\n",
    "\n",
    "The follow python source code illustrates the programming paradigm used in all Apache Beam (stands for **B**atch and Str**eam** processing) pipelines."
   ],
   "cell_type": "markdown",
   "metadata": {}
  },
  {
   "cell_type": "code",
   "execution_count": 8,
   "metadata": {},
   "outputs": [
    {
     "output_type": "display_data",
     "data": {
      "text/plain": "<IPython.core.display.Markdown object>",
      "text/markdown": "<!DOCTYPE html PUBLIC \"-//W3C//DTD HTML 4.01//EN\"\n   \"http://www.w3.org/TR/html4/strict.dtd\">\n<!--\ngenerated by Pygments <https://pygments.org/>\nCopyright 2006-2019 by the Pygments team.\nLicensed under the BSD license, see LICENSE for details.\n-->\n<html>\n<head>\n  <title></title>\n  <meta http-equiv=\"content-type\" content=\"text/html; charset=None\">\n  <style type=\"text/css\">\n/*\ngenerated by Pygments <https://pygments.org/>\nCopyright 2006-2019 by the Pygments team.\nLicensed under the BSD license, see LICENSE for details.\n*/\ntd.linenos { background-color: #f0f0f0; padding-right: 10px; }\nspan.lineno { background-color: #f0f0f0; padding: 0 5px 0 5px; }\npre { line-height: 125%; }\nbody .hll { background-color: #ffffcc }\nbody  { background: #f8f8f8; }\nbody .c { color: #408080; font-style: italic } /* Comment */\nbody .err { border: 1px solid #FF0000 } /* Error */\nbody .k { color: #008000; font-weight: bold } /* Keyword */\nbody .o { color: #666666 } /* Operator */\nbody .ch { color: #408080; font-style: italic } /* Comment.Hashbang */\nbody .cm { color: #408080; font-style: italic } /* Comment.Multiline */\nbody .cp { color: #BC7A00 } /* Comment.Preproc */\nbody .cpf { color: #408080; font-style: italic } /* Comment.PreprocFile */\nbody .c1 { color: #408080; font-style: italic } /* Comment.Single */\nbody .cs { color: #408080; font-style: italic } /* Comment.Special */\nbody .gd { color: #A00000 } /* Generic.Deleted */\nbody .ge { font-style: italic } /* Generic.Emph */\nbody .gr { color: #FF0000 } /* Generic.Error */\nbody .gh { color: #000080; font-weight: bold } /* Generic.Heading */\nbody .gi { color: #00A000 } /* Generic.Inserted */\nbody .go { color: #888888 } /* Generic.Output */\nbody .gp { color: #000080; font-weight: bold } /* Generic.Prompt */\nbody .gs { font-weight: bold } /* Generic.Strong */\nbody .gu { color: #800080; font-weight: bold } /* Generic.Subheading */\nbody .gt { color: #0044DD } /* Generic.Traceback */\nbody .kc { color: #008000; font-weight: bold } /* Keyword.Constant */\nbody .kd { color: #008000; font-weight: bold } /* Keyword.Declaration */\nbody .kn { color: #008000; font-weight: bold } /* Keyword.Namespace */\nbody .kp { color: #008000 } /* Keyword.Pseudo */\nbody .kr { color: #008000; font-weight: bold } /* Keyword.Reserved */\nbody .kt { color: #B00040 } /* Keyword.Type */\nbody .m { color: #666666 } /* Literal.Number */\nbody .s { color: #BA2121 } /* Literal.String */\nbody .na { color: #7D9029 } /* Name.Attribute */\nbody .nb { color: #008000 } /* Name.Builtin */\nbody .nc { color: #0000FF; font-weight: bold } /* Name.Class */\nbody .no { color: #880000 } /* Name.Constant */\nbody .nd { color: #AA22FF } /* Name.Decorator */\nbody .ni { color: #999999; font-weight: bold } /* Name.Entity */\nbody .ne { color: #D2413A; font-weight: bold } /* Name.Exception */\nbody .nf { color: #0000FF } /* Name.Function */\nbody .nl { color: #A0A000 } /* Name.Label */\nbody .nn { color: #0000FF; font-weight: bold } /* Name.Namespace */\nbody .nt { color: #008000; font-weight: bold } /* Name.Tag */\nbody .nv { color: #19177C } /* Name.Variable */\nbody .ow { color: #AA22FF; font-weight: bold } /* Operator.Word */\nbody .w { color: #bbbbbb } /* Text.Whitespace */\nbody .mb { color: #666666 } /* Literal.Number.Bin */\nbody .mf { color: #666666 } /* Literal.Number.Float */\nbody .mh { color: #666666 } /* Literal.Number.Hex */\nbody .mi { color: #666666 } /* Literal.Number.Integer */\nbody .mo { color: #666666 } /* Literal.Number.Oct */\nbody .sa { color: #BA2121 } /* Literal.String.Affix */\nbody .sb { color: #BA2121 } /* Literal.String.Backtick */\nbody .sc { color: #BA2121 } /* Literal.String.Char */\nbody .dl { color: #BA2121 } /* Literal.String.Delimiter */\nbody .sd { color: #BA2121; font-style: italic } /* Literal.String.Doc */\nbody .s2 { color: #BA2121 } /* Literal.String.Double */\nbody .se { color: #BB6622; font-weight: bold } /* Literal.String.Escape */\nbody .sh { color: #BA2121 } /* Literal.String.Heredoc */\nbody .si { color: #BB6688; font-weight: bold } /* Literal.String.Interpol */\nbody .sx { color: #008000 } /* Literal.String.Other */\nbody .sr { color: #BB6688 } /* Literal.String.Regex */\nbody .s1 { color: #BA2121 } /* Literal.String.Single */\nbody .ss { color: #19177C } /* Literal.String.Symbol */\nbody .bp { color: #008000 } /* Name.Builtin.Pseudo */\nbody .fm { color: #0000FF } /* Name.Function.Magic */\nbody .vc { color: #19177C } /* Name.Variable.Class */\nbody .vg { color: #19177C } /* Name.Variable.Global */\nbody .vi { color: #19177C } /* Name.Variable.Instance */\nbody .vm { color: #19177C } /* Name.Variable.Magic */\nbody .il { color: #666666 } /* Literal.Number.Integer.Long */\n\n  </style>\n</head>\n<body>\n<h2></h2>\n\n<div class=\"highlight\" style=\"background: #f8f8f8\"><pre style=\"line-height: 125%\"><span></span><span style=\"color: #008000; font-weight: bold\">def</span> <span style=\"color: #0000FF\">pl__1__bootstrap_target_video_index</span>(pl):<br>  <span style=\"color: #008000; font-weight: bold\">if</span> <span style=\"color: #AA22FF; font-weight: bold\">not</span> fileio<span style=\"color: #666666\">.</span>file_path_exists(pl<span style=\"color: #666666\">.</span>_options<span style=\"color: #666666\">.</span>_all_options[fidscs_globals<span style=\"color: #666666\">.</span>OPT_NAME_SELECTED_VIDEO_INDEX_PATH], pl<span style=\"color: #666666\">.</span>_options<span style=\"color: #666666\">.</span>_all_options)[<span style=\"color: #666666\">0</span>]:<br>    sel_vid_index_path <span style=\"color: #666666\">=</span> (<br>      pl<br>      <span style=\"color: #666666\">|</span> <span style=\"color: #BA2121\">&quot;Beam PL: create initial pcoll containing information for boostrap_target_video_index&quot;</span> <span style=\"color: #666666\">&gt;&gt;</span> beam<span style=\"color: #666666\">.</span>Create(<br>          [ <span style=\"color: #408080; font-style: italic\"># one row containing dict of:</span><br>              <span style=\"color: #408080; font-style: italic\"># 1. url of video indexes archive</span><br>              <span style=\"color: #408080; font-style: italic\"># 2. local destination (path) for the downloaded archive</span><br>              <span style=\"color: #408080; font-style: italic\"># 3. local destination (path) which will receive the extracted archive csv files (there are more than one)</span><br>              <span style=\"color: #408080; font-style: italic\"># 4. final path to the selected videx index csv</span><br>              <span style=\"color: #408080; font-style: italic\">#   (note that the dict is not laid out in the above order)</span><br>            {<br>              <span style=\"color: #BA2121\">&#39;vid_indexes_dir&#39;</span>: pl<span style=\"color: #666666\">.</span>_options<span style=\"color: #666666\">.</span>_all_options[fidscs_globals<span style=\"color: #666666\">.</span>OPT_NAME_VIDEO_INDEXES_DIR], <br>              <span style=\"color: #BA2121\">&#39;sel_vid_index_path&#39;</span>: pl<span style=\"color: #666666\">.</span>_options<span style=\"color: #666666\">.</span>_all_options[fidscs_globals<span style=\"color: #666666\">.</span>OPT_NAME_SELECTED_VIDEO_INDEX_PATH], <br>              <span style=\"color: #BA2121\">&#39;video_indexes_archive&#39;</span>: fidscs_globals<span style=\"color: #666666\">.</span>VIDEO_INDEXES_ARCHIVE, <br>              <span style=\"color: #BA2121\">&#39;tmp_dir&#39;</span>: pl<span style=\"color: #666666\">.</span>_options<span style=\"color: #666666\">.</span>_all_options[fidscs_globals<span style=\"color: #666666\">.</span>OPT_NAME_TMP_DIR],<br>              <span style=\"color: #BA2121\">&#39;video_ds_path&#39;</span>: pl<span style=\"color: #666666\">.</span>_options<span style=\"color: #666666\">.</span>_all_options[fidscs_globals<span style=\"color: #666666\">.</span>OPT_NAME_VIDEO_DS_PATH]<br>            }<br>          ]<br>        )<br>      <span style=\"color: #408080; font-style: italic\"># | &quot;Beam PL: bootstrap target video index&quot; &gt;&gt; beam.Map(boostrap_target_video_index) # boostrap_target_video_index outputs SELECTED_VIDEO_INDEX_PATH but beam.Map() wraps this in a pcoll and is fed to...</span><br>      <span style=\"color: #666666\">|</span> <span style=\"color: #BA2121\">&quot;Beam PL: bootstrap target video index&quot;</span> <span style=\"color: #666666\">&gt;&gt;</span> beam<span style=\"color: #666666\">.</span>ParDo(TargetVideoIndexBootstrapper(pl<span style=\"color: #666666\">.</span>_options<span style=\"color: #666666\">.</span>_all_options)) <span style=\"color: #408080; font-style: italic\"># boostrap_target_video_index outputs SELECTED_VIDEO_INDEX_PATH but beam.Map() wraps this in a pcoll and is fed to...</span><br>    )<br>  <span style=\"color: #008000; font-weight: bold\">else</span>:<br>    sel_vid_index_path <span style=\"color: #666666\">=</span> (<br>      pl<br>      <span style=\"color: #666666\">|</span> <span style=\"color: #BA2121\">&quot;Beam PL: create initial pcoll containing path to existing sel_vid_index&quot;</span> <span style=\"color: #666666\">&gt;&gt;</span> beam<span style=\"color: #666666\">.</span>Create([pl<span style=\"color: #666666\">.</span>_options<span style=\"color: #666666\">.</span>_all_options[fidscs_globals<span style=\"color: #666666\">.</span>OPT_NAME_SELECTED_VIDEO_INDEX_PATH]])<br>      <span style=\"color: #666666\">|</span> <span style=\"color: #BA2121\">&quot;Beam PL: print path to existing sel_vid_index&quot;</span> <span style=\"color: #666666\">&gt;&gt;</span> beam<span style=\"color: #666666\">.</span>ParDo(beam__common<span style=\"color: #666666\">.</span>PipelinePcollPrinter(msg<span style=\"color: #666666\">=</span><span style=\"color: #BA2121\">&quot;FOUND EXISTING SEL VID INDEX&quot;</span>))<br>    )<br>  full_target_vid_index_schemad_pcoll <span style=\"color: #666666\">=</span> (<br>    sel_vid_index_path<br>    <span style=\"color: #666666\">|</span> <span style=\"color: #BA2121\">&quot;Beam PL: read video index into pcoll&quot;</span> <span style=\"color: #666666\">&gt;&gt;</span> beam<span style=\"color: #666666\">.</span>FlatMap(beam__common<span style=\"color: #666666\">.</span>load_vid_index_csv)<br>    <span style=\"color: #666666\">|</span> <span style=\"color: #BA2121\">&quot;Beam PL: apply schema to video index pcoll&quot;</span> <span style=\"color: #666666\">&gt;&gt;</span> beam<span style=\"color: #666666\">.</span>Map(<br>        <span style=\"color: #008000; font-weight: bold\">lambda</span> x: beam<span style=\"color: #666666\">.</span>Row(<br>          target_video_filename<span style=\"color: #666666\">=</span><span style=\"color: #008000\">str</span>(urllib<span style=\"color: #666666\">.</span>parse<span style=\"color: #666666\">.</span>quote(x[fidscs_globals<span style=\"color: #666666\">.</span>SCHEMA_COL_NAMES__VIDEO_INDEX[<span style=\"color: #666666\">0</span>]])),<br>          video_seq_id<span style=\"color: #666666\">=</span><span style=\"color: #008000\">int</span>(x[fidscs_globals<span style=\"color: #666666\">.</span>SCHEMA_COL_NAMES__VIDEO_INDEX[<span style=\"color: #666666\">1</span>]]),                            <br>          perspective_cam_id<span style=\"color: #666666\">=</span><span style=\"color: #008000\">int</span>(x[fidscs_globals<span style=\"color: #666666\">.</span>SCHEMA_COL_NAMES__VIDEO_INDEX[<span style=\"color: #666666\">2</span>]]),<br>          compressed_mov_url<span style=\"color: #666666\">=</span><span style=\"color: #008000\">str</span>(x[fidscs_globals<span style=\"color: #666666\">.</span>SCHEMA_COL_NAMES__VIDEO_INDEX[<span style=\"color: #666666\">3</span>]]),<br>          uncompressed_avi_url<span style=\"color: #666666\">=</span><span style=\"color: #008000\">str</span>(x[fidscs_globals<span style=\"color: #666666\">.</span>SCHEMA_COL_NAMES__VIDEO_INDEX[<span style=\"color: #666666\">4</span>]]),                     <br>          uncompressed_avi_mirror_1_url<span style=\"color: #666666\">=</span><span style=\"color: #008000\">str</span>(x[fidscs_globals<span style=\"color: #666666\">.</span>SCHEMA_COL_NAMES__VIDEO_INDEX[<span style=\"color: #666666\">5</span>]]),   <br>          uncompressed_avi_mirror_2_url<span style=\"color: #666666\">=</span><span style=\"color: #008000\">str</span>(x[fidscs_globals<span style=\"color: #666666\">.</span>SCHEMA_COL_NAMES__VIDEO_INDEX[<span style=\"color: #666666\">6</span>]])<br>        )<br>      )<br>  )<br>  <span style=\"color: #008000; font-weight: bold\">return</span> full_target_vid_index_schemad_pcoll<br></pre></div>\n</body>\n</html>\n"
     },
     "metadata": {}
    }
   ],
   "source": [
    "disp_source(data_extractor__beam.pl__1__bootstrap_target_video_index)"
   ]
  },
  {
   "source": [
    "The gist of `data_extractor__beam.pl__1__bootstrap_target_video_index` is that it will ensure that the video index exists locally before any other dependent pipeline can execute.\n",
    "\n",
    "If it doesn't, it will download download/extract the contents of the video index archive from [http://www.bu.edu/asllrp/ncslgr-for-download/video_index-20120129.zip](http://www.bu.edu/asllrp/ncslgr-for-download/zip).\n",
    "\n",
    "The first noteable point to make is that it uses the custom class `data_extractor__beam.TargetVideoIndexBootstrapper`, which inherits `beam__common.PipelinePcollElementProcessor`, which in turn inherits from from Apache Beam's `DoFn` class.  Inheriting from Apache Beam's `DoFn` allows the inherited class to be used in Apache Beam pipelines via `beam.ParDo` (which stands for \"**Par**allel **Do**\").  Full documentation can be found [here](https://beam.apache.org/documentation/transforms/python/elementwise/pardo/).\n",
    "\n",
    "There is nothing particularly noteworthy about the internal implementation of `data_extractor__beam.TargetVideoIndexBootstrapper`.  It simply downloads the video index archive (to a memfile) and extracts its contents (in-memory).  Please see its implementation for details if you are interested.\n",
    "\n",
    "Source code for `data_extractor__beam.pl__2__write_target_vid_index_csv` is listed below.  It simply writes the bytes extracted from the archive to desintation path `<WORK_DIR>/data/video_index-20120129.csv` (using an Apache Beam `schema` so that column names can easily be referenced/manipulated later)."
   ],
   "cell_type": "markdown",
   "metadata": {}
  },
  {
   "cell_type": "code",
   "execution_count": 9,
   "metadata": {},
   "outputs": [
    {
     "output_type": "display_data",
     "data": {
      "text/plain": "<IPython.core.display.Markdown object>",
      "text/markdown": "<!DOCTYPE html PUBLIC \"-//W3C//DTD HTML 4.01//EN\"\n   \"http://www.w3.org/TR/html4/strict.dtd\">\n<!--\ngenerated by Pygments <https://pygments.org/>\nCopyright 2006-2019 by the Pygments team.\nLicensed under the BSD license, see LICENSE for details.\n-->\n<html>\n<head>\n  <title></title>\n  <meta http-equiv=\"content-type\" content=\"text/html; charset=None\">\n  <style type=\"text/css\">\n/*\ngenerated by Pygments <https://pygments.org/>\nCopyright 2006-2019 by the Pygments team.\nLicensed under the BSD license, see LICENSE for details.\n*/\ntd.linenos { background-color: #f0f0f0; padding-right: 10px; }\nspan.lineno { background-color: #f0f0f0; padding: 0 5px 0 5px; }\npre { line-height: 125%; }\nbody .hll { background-color: #ffffcc }\nbody  { background: #f8f8f8; }\nbody .c { color: #408080; font-style: italic } /* Comment */\nbody .err { border: 1px solid #FF0000 } /* Error */\nbody .k { color: #008000; font-weight: bold } /* Keyword */\nbody .o { color: #666666 } /* Operator */\nbody .ch { color: #408080; font-style: italic } /* Comment.Hashbang */\nbody .cm { color: #408080; font-style: italic } /* Comment.Multiline */\nbody .cp { color: #BC7A00 } /* Comment.Preproc */\nbody .cpf { color: #408080; font-style: italic } /* Comment.PreprocFile */\nbody .c1 { color: #408080; font-style: italic } /* Comment.Single */\nbody .cs { color: #408080; font-style: italic } /* Comment.Special */\nbody .gd { color: #A00000 } /* Generic.Deleted */\nbody .ge { font-style: italic } /* Generic.Emph */\nbody .gr { color: #FF0000 } /* Generic.Error */\nbody .gh { color: #000080; font-weight: bold } /* Generic.Heading */\nbody .gi { color: #00A000 } /* Generic.Inserted */\nbody .go { color: #888888 } /* Generic.Output */\nbody .gp { color: #000080; font-weight: bold } /* Generic.Prompt */\nbody .gs { font-weight: bold } /* Generic.Strong */\nbody .gu { color: #800080; font-weight: bold } /* Generic.Subheading */\nbody .gt { color: #0044DD } /* Generic.Traceback */\nbody .kc { color: #008000; font-weight: bold } /* Keyword.Constant */\nbody .kd { color: #008000; font-weight: bold } /* Keyword.Declaration */\nbody .kn { color: #008000; font-weight: bold } /* Keyword.Namespace */\nbody .kp { color: #008000 } /* Keyword.Pseudo */\nbody .kr { color: #008000; font-weight: bold } /* Keyword.Reserved */\nbody .kt { color: #B00040 } /* Keyword.Type */\nbody .m { color: #666666 } /* Literal.Number */\nbody .s { color: #BA2121 } /* Literal.String */\nbody .na { color: #7D9029 } /* Name.Attribute */\nbody .nb { color: #008000 } /* Name.Builtin */\nbody .nc { color: #0000FF; font-weight: bold } /* Name.Class */\nbody .no { color: #880000 } /* Name.Constant */\nbody .nd { color: #AA22FF } /* Name.Decorator */\nbody .ni { color: #999999; font-weight: bold } /* Name.Entity */\nbody .ne { color: #D2413A; font-weight: bold } /* Name.Exception */\nbody .nf { color: #0000FF } /* Name.Function */\nbody .nl { color: #A0A000 } /* Name.Label */\nbody .nn { color: #0000FF; font-weight: bold } /* Name.Namespace */\nbody .nt { color: #008000; font-weight: bold } /* Name.Tag */\nbody .nv { color: #19177C } /* Name.Variable */\nbody .ow { color: #AA22FF; font-weight: bold } /* Operator.Word */\nbody .w { color: #bbbbbb } /* Text.Whitespace */\nbody .mb { color: #666666 } /* Literal.Number.Bin */\nbody .mf { color: #666666 } /* Literal.Number.Float */\nbody .mh { color: #666666 } /* Literal.Number.Hex */\nbody .mi { color: #666666 } /* Literal.Number.Integer */\nbody .mo { color: #666666 } /* Literal.Number.Oct */\nbody .sa { color: #BA2121 } /* Literal.String.Affix */\nbody .sb { color: #BA2121 } /* Literal.String.Backtick */\nbody .sc { color: #BA2121 } /* Literal.String.Char */\nbody .dl { color: #BA2121 } /* Literal.String.Delimiter */\nbody .sd { color: #BA2121; font-style: italic } /* Literal.String.Doc */\nbody .s2 { color: #BA2121 } /* Literal.String.Double */\nbody .se { color: #BB6622; font-weight: bold } /* Literal.String.Escape */\nbody .sh { color: #BA2121 } /* Literal.String.Heredoc */\nbody .si { color: #BB6688; font-weight: bold } /* Literal.String.Interpol */\nbody .sx { color: #008000 } /* Literal.String.Other */\nbody .sr { color: #BB6688 } /* Literal.String.Regex */\nbody .s1 { color: #BA2121 } /* Literal.String.Single */\nbody .ss { color: #19177C } /* Literal.String.Symbol */\nbody .bp { color: #008000 } /* Name.Builtin.Pseudo */\nbody .fm { color: #0000FF } /* Name.Function.Magic */\nbody .vc { color: #19177C } /* Name.Variable.Class */\nbody .vg { color: #19177C } /* Name.Variable.Global */\nbody .vi { color: #19177C } /* Name.Variable.Instance */\nbody .vm { color: #19177C } /* Name.Variable.Magic */\nbody .il { color: #666666 } /* Literal.Number.Integer.Long */\n\n  </style>\n</head>\n<body>\n<h2></h2>\n\n<div class=\"highlight\" style=\"background: #f8f8f8\"><pre style=\"line-height: 125%\"><span></span><span style=\"color: #008000; font-weight: bold\">def</span> <span style=\"color: #0000FF\">pl__2__write_target_vid_index_csv</span>(full_target_vid_index_schemad_pcoll, d_pl_options):<br>  vid_index_path <span style=\"color: #666666\">=</span> fileio<span style=\"color: #666666\">.</span>path_join(d_pl_options[fidscs_globals<span style=\"color: #666666\">.</span>OPT_NAME_DATA_DIR], fidscs_globals<span style=\"color: #666666\">.</span>VIDEO_INDEX_BASE<span style=\"color: #666666\">+</span><span style=\"color: #BA2121\">&#39;.csv&#39;</span>)<br>  <span style=\"color: #008000; font-weight: bold\">if</span> <span style=\"color: #AA22FF; font-weight: bold\">not</span> fileio<span style=\"color: #666666\">.</span>file_path_exists(vid_index_path, d_pl_options)[<span style=\"color: #666666\">0</span>]:<br>    sorted_full_target_vid_index_schemad_pcoll <span style=\"color: #666666\">=</span> beam__common<span style=\"color: #666666\">.</span>pl__X__sort_pcoll(full_target_vid_index_schemad_pcoll, pcoll_label<span style=\"color: #666666\">=</span><span style=\"color: #BA2121\">&quot;full_target_vid_index&quot;</span>)<br>    sorted_corpus_index_csv_rows_pcoll <span style=\"color: #666666\">=</span> (<br>      sorted_full_target_vid_index_schemad_pcoll<br>      <span style=\"color: #666666\">|</span> <span style=\"color: #BA2121\">&quot;Beam PL: re-apply schema to sorted_full_target_vid_index&quot;</span> <span style=\"color: #666666\">&gt;&gt;</span> beam<span style=\"color: #666666\">.</span>Map(<span style=\"color: #008000; font-weight: bold\">lambda</span> sorted_full_target_vid_index_schemad_pcoll_row: beam<span style=\"color: #666666\">.</span>Row(<br>            target_video_filename<span style=\"color: #666666\">=</span>sorted_full_target_vid_index_schemad_pcoll_row<span style=\"color: #666666\">.</span>target_video_filename,<br>            video_seq_id<span style=\"color: #666666\">=</span>sorted_full_target_vid_index_schemad_pcoll_row<span style=\"color: #666666\">.</span>video_seq_id,                            <br>            perspective_cam_id<span style=\"color: #666666\">=</span>sorted_full_target_vid_index_schemad_pcoll_row<span style=\"color: #666666\">.</span>perspective_cam_id,                  <br>            compressed_mov_url<span style=\"color: #666666\">=</span>sorted_full_target_vid_index_schemad_pcoll_row<span style=\"color: #666666\">.</span>compressed_mov_url,            <br>            uncompressed_avi_url<span style=\"color: #666666\">=</span>sorted_full_target_vid_index_schemad_pcoll_row<span style=\"color: #666666\">.</span>uncompressed_avi_url,                     <br>            uncompressed_avi_mirror_1_url<span style=\"color: #666666\">=</span>sorted_full_target_vid_index_schemad_pcoll_row<span style=\"color: #666666\">.</span>uncompressed_avi_mirror_1_url,   <br>            uncompressed_avi_mirror_2_url<span style=\"color: #666666\">=</span>sorted_full_target_vid_index_schemad_pcoll_row<span style=\"color: #666666\">.</span>uncompressed_avi_mirror_2_url<br>          )<br>        )<br>      <span style=\"color: #666666\">|</span> beam<span style=\"color: #666666\">.</span>Map(<span style=\"color: #008000; font-weight: bold\">lambda</span> sorted_full_target_vid_index_schemad_pcoll_row: beam__common<span style=\"color: #666666\">.</span>beam_row_to_csv_string(sorted_full_target_vid_index_schemad_pcoll_row))<br>    )<br>    <span style=\"color: #008000; font-weight: bold\">return</span> beam__common<span style=\"color: #666666\">.</span>pl__X__write_pcoll_to_csv(<br>      sorted_corpus_index_csv_rows_pcoll, <br>      <span style=\"color: #BA2121\">&quot;TARGET-VIDEO-INDEX&quot;</span>, <br>      fidscs_globals<span style=\"color: #666666\">.</span>VIDEO_INDEXES_ARCHIVE, <br>      fidscs_globals<span style=\"color: #666666\">.</span>SCHEMA_COL_NAMES__VIDEO_INDEX,<br>      d_pl_options<br>    )<br>  <span style=\"color: #008000; font-weight: bold\">else</span>:<br>    <span style=\"color: #008000\">print</span>(<span style=\"color: #BA2121\">f&quot;FOUND EXISTING VID INDEX: </span><span style=\"color: #BB6688; font-weight: bold\">{</span>vid_index_path<span style=\"color: #BB6688; font-weight: bold\">}</span><span style=\"color: #BA2121\">&quot;</span>)<br>    <span style=\"color: #008000; font-weight: bold\">return</span> [vid_index_path]<br></pre></div>\n</body>\n</html>\n"
     },
     "metadata": {}
    }
   ],
   "source": [
    "disp_source(data_extractor__beam.pl__2__write_target_vid_index_csv)"
   ]
  },
  {
   "source": [
    "#### We are now ready to execute the first step of the \"boostrap-vid-index\" pipeline!"
   ],
   "cell_type": "markdown",
   "metadata": {}
  },
  {
   "cell_type": "code",
   "execution_count": 10,
   "metadata": {},
   "outputs": [
    {
     "output_type": "display_data",
     "data": {
      "application/javascript": "\n        if (typeof window.interactive_beam_jquery == 'undefined') {\n          var jqueryScript = document.createElement('script');\n          jqueryScript.src = 'https://code.jquery.com/jquery-3.4.1.slim.min.js';\n          jqueryScript.type = 'text/javascript';\n          jqueryScript.onload = function() {\n            var datatableScript = document.createElement('script');\n            datatableScript.src = 'https://cdn.datatables.net/1.10.20/js/jquery.dataTables.min.js';\n            datatableScript.type = 'text/javascript';\n            datatableScript.onload = function() {\n              window.interactive_beam_jquery = jQuery.noConflict(true);\n              window.interactive_beam_jquery(document).ready(function($){\n                \n              });\n            }\n            document.head.appendChild(datatableScript);\n          };\n          document.head.appendChild(jqueryScript);\n        } else {\n          window.interactive_beam_jquery(document).ready(function($){\n            \n          });\n        }"
     },
     "metadata": {}
    }
   ],
   "source": [
    "n_partitions = 8 # hardcoded for now but we need to retrieve this from beam to be the number of workers\n",
    "\n",
    "pl = beam.Pipeline(options=pipeline_options)\n",
    "\n",
    "full_target_vid_index_schemad_pcoll = data_extractor__beam.pl__1__bootstrap_target_video_index(pl)"
   ]
  },
  {
   "source": [
    "That seems fast!  That's because the pipeline wasn't acctually executed yet.  What Apache Beam did in this case was create the corresponding pipelines *execution graph* (which is actually a *Directed Acyclic Graph*).\n",
    "\n",
    "With the `InteractiveRunner`, the pipeline only gets executed when it is required.\n",
    "\n",
    "This happens in notebooks by calling `ib.collect` or `ib.show`, which essentially executes and then reduces the distributed `Pcollection`.\n",
    "\n",
    "In this case, we use `ib.collect` which also stuffs the results into a Pandas `DataFrame` for viewing purposes within notebooks.\n",
    "\n",
    "Note that this is NOT done in production (in the cloud, in GCP Dataflow) since Pandas `DataFrame`s aren't needed and are simply impractical for \"Big Data\" solutions.  Pandas `DataFrame`s really don't serve this purpose.  Can you imagine attempting to hold all the corresponding tensor bytes for 561,000+ images in memory??\n",
    "\n",
    "Anyway, moving on... before calling `ib.collect`, we must first tell Apache Beam to \"record\" all `Pcollection`s (up to a certain point) by calling `ib.watch(locals())`.  Note that only `Pcollection`s prior to calling `ib.watch(locals())` are eligible for \"collection\" (conversion to Pandas `DataFrame`s)."
   ],
   "cell_type": "markdown",
   "metadata": {}
  },
  {
   "cell_type": "code",
   "execution_count": 11,
   "metadata": {},
   "outputs": [],
   "source": [
    "# we require this in order to make use of ib.show() (which provides visualization of the pcolls specified) or ib.collect() (which creates a pandas dataframe from a pcoll)\n",
    "    # but all pcolls we wish to visualize must be created prior to executing the following line\n",
    "ib.watch(locals())"
   ]
  },
  {
   "source": [
    "We can now collect the `full_target_vid_index_schemad_pcoll` `Pcollection` into a Pandas `DataFrame` for display in this notebook."
   ],
   "cell_type": "markdown",
   "metadata": {}
  },
  {
   "cell_type": "code",
   "execution_count": 12,
   "metadata": {},
   "outputs": [
    {
     "output_type": "display_data",
     "data": {
      "text/plain": "<IPython.core.display.HTML object>",
      "text/html": "\n            <link rel=\"stylesheet\" href=\"https://stackpath.bootstrapcdn.com/bootstrap/4.4.1/css/bootstrap.min.css\" integrity=\"sha384-Vkoo8x4CGsO3+Hhxv8T/Q5PaXtkKtu6ug5TOeNV6gBiFeWPGFN9MuhOf23Q9Ifjh\" crossorigin=\"anonymous\">\n            <div id=\"progress_indicator_528b75b0b4a4398fde7c2e42e0e2d2cb\" class=\"spinner-border text-info\" role=\"status\">\n            </div>"
     },
     "metadata": {}
    },
    {
     "output_type": "stream",
     "name": "stdout",
     "text": [
      "VIDEO-INDEX BOOTSTRAP INFO: {'vid_indexes_dir': '/tmp/data/tmp/video_index-20120129', 'sel_vid_index_path': '/tmp/data/tmp/video_index-20120129/files_by_video_name.csv', 'video_indexes_archive': 'video_index-20120129.zip', 'tmp_dir': '/tmp/data/tmp', 'video_ds_path': '/tmp/data/document-consultant-targetvideo-index.csv'}\n",
      "unzipping http://www.bu.edu/asllrp/ncslgr-for-download/video_index-20120129.zip in-memory...\n",
      "\tDONE\n"
     ]
    },
    {
     "output_type": "display_data",
     "data": {
      "application/javascript": "\n        if (typeof window.interactive_beam_jquery == 'undefined') {\n          var jqueryScript = document.createElement('script');\n          jqueryScript.src = 'https://code.jquery.com/jquery-3.4.1.slim.min.js';\n          jqueryScript.type = 'text/javascript';\n          jqueryScript.onload = function() {\n            var datatableScript = document.createElement('script');\n            datatableScript.src = 'https://cdn.datatables.net/1.10.20/js/jquery.dataTables.min.js';\n            datatableScript.type = 'text/javascript';\n            datatableScript.onload = function() {\n              window.interactive_beam_jquery = jQuery.noConflict(true);\n              window.interactive_beam_jquery(document).ready(function($){\n                \n            $(\"#progress_indicator_528b75b0b4a4398fde7c2e42e0e2d2cb\").remove();\n              });\n            }\n            document.head.appendChild(datatableScript);\n          };\n          document.head.appendChild(jqueryScript);\n        } else {\n          window.interactive_beam_jquery(document).ready(function($){\n            \n            $(\"#progress_indicator_528b75b0b4a4398fde7c2e42e0e2d2cb\").remove();\n          });\n        }"
     },
     "metadata": {}
    }
   ],
   "source": [
    "df_full_target_vid_index = ib.collect(full_target_vid_index_schemad_pcoll)"
   ]
  },
  {
   "cell_type": "code",
   "execution_count": 13,
   "metadata": {},
   "outputs": [
    {
     "output_type": "execute_result",
     "data": {
      "text/plain": [
       "                                                      0  1  \\\n",
       "0     http://csr.bu.edu/asl/sequences/compressed/mas...  0   \n",
       "1     http://csr.bu.edu/asl/sequences/compressed/sla...  1   \n",
       "2     http://csr.bu.edu/asl/sequences/compressed/sla...  2   \n",
       "3     http://csr.bu.edu/asl/private/compressed/maste...  0   \n",
       "4     http://csr.bu.edu/asl/private/compressed/slave...  1   \n",
       "...                                                 ... ..   \n",
       "2607  http://csr.bu.edu/asl/private/downloads/2001_8...  0   \n",
       "2608  http://csr.bu.edu/asl/private/downloads/2001_8...  2   \n",
       "2609  http://csr.bu.edu/asl/private/downloads/2003_0...  0   \n",
       "2610  http://csr.bu.edu/asl/private/downloads/2003_0...  2   \n",
       "2611  http://csr.bu.edu/asl/private/downloads/2003_0...  3   \n",
       "\n",
       "                                2  \\\n",
       "0             539_219_small_0.mov   \n",
       "1             539_219_small_1.mov   \n",
       "2             539_219_small_2.mov   \n",
       "3            548_master_small.mov   \n",
       "4            548_slave1_small.mov   \n",
       "...                           ...   \n",
       "2607    siblings_1066_small_0.mov   \n",
       "2608    siblings_1066_small_2.mov   \n",
       "2609  whitewater_1049_small_0.mov   \n",
       "2610  whitewater_1049_small_2.mov   \n",
       "2611  whitewater_1049_small_3.mov   \n",
       "\n",
       "                                                      3  \\\n",
       "0                                                         \n",
       "1                                                         \n",
       "2     http://csr.bu.edu/asl0/uploading/2000_02_29/se...   \n",
       "3     http://csr.bu.edu/asl0/working/tapes2/2000_06_...   \n",
       "4                                                         \n",
       "...                                                 ...   \n",
       "2607  http://csr.bu.edu/asl0/working/tapes2/2001_07_...   \n",
       "2608                                                      \n",
       "2609  http://csr.bu.edu/asl0/working/tapes2/2001_07_...   \n",
       "2610  http://csr.bu.edu/asl0/working/tapes2/2001_07_...   \n",
       "2611                                                      \n",
       "\n",
       "                                                      4  \\\n",
       "0                                                         \n",
       "1                                                         \n",
       "2     http://csr.bu.edu/asl0/working/tapes1/2000_01_...   \n",
       "3                                                         \n",
       "4                                                         \n",
       "...                                                 ...   \n",
       "2607                                                      \n",
       "2608                                                      \n",
       "2609                                                      \n",
       "2610                                                      \n",
       "2611                                                      \n",
       "\n",
       "                                                      5     6  \n",
       "0                                                         219  \n",
       "1     http://csr.bu.edu/asl0/uploading/2000_02_29/se...   219  \n",
       "2     http://csr.bu.edu/asl0/uploading/2000_02_25/sl...   219  \n",
       "3     http://csr.bu.edu/asl0/uploading/2000_06_07/ma...   548  \n",
       "4     http://csr.bu.edu/asl0/working/tapes2/2000_06_...   548  \n",
       "...                                                 ...   ...  \n",
       "2607  http://csr.bu.edu/asl0/working/tapes2/2001_07_...  1066  \n",
       "2608  http://csr.bu.edu/asl0/uploading/2001_07_24/sl...  1066  \n",
       "2609  http://csr.bu.edu/asl0/working/tapes2/2001_07_...  1049  \n",
       "2610  http://csr.bu.edu/asl0/working/tapes2/2001_07_...  1049  \n",
       "2611                                                     1049  \n",
       "\n",
       "[2612 rows x 7 columns]"
      ],
      "text/html": "<div>\n<style scoped>\n    .dataframe tbody tr th:only-of-type {\n        vertical-align: middle;\n    }\n\n    .dataframe tbody tr th {\n        vertical-align: top;\n    }\n\n    .dataframe thead th {\n        text-align: right;\n    }\n</style>\n<table border=\"1\" class=\"dataframe\">\n  <thead>\n    <tr style=\"text-align: right;\">\n      <th></th>\n      <th>0</th>\n      <th>1</th>\n      <th>2</th>\n      <th>3</th>\n      <th>4</th>\n      <th>5</th>\n      <th>6</th>\n    </tr>\n  </thead>\n  <tbody>\n    <tr>\n      <th>0</th>\n      <td>http://csr.bu.edu/asl/sequences/compressed/mas...</td>\n      <td>0</td>\n      <td>539_219_small_0.mov</td>\n      <td></td>\n      <td></td>\n      <td></td>\n      <td>219</td>\n    </tr>\n    <tr>\n      <th>1</th>\n      <td>http://csr.bu.edu/asl/sequences/compressed/sla...</td>\n      <td>1</td>\n      <td>539_219_small_1.mov</td>\n      <td></td>\n      <td></td>\n      <td>http://csr.bu.edu/asl0/uploading/2000_02_29/se...</td>\n      <td>219</td>\n    </tr>\n    <tr>\n      <th>2</th>\n      <td>http://csr.bu.edu/asl/sequences/compressed/sla...</td>\n      <td>2</td>\n      <td>539_219_small_2.mov</td>\n      <td>http://csr.bu.edu/asl0/uploading/2000_02_29/se...</td>\n      <td>http://csr.bu.edu/asl0/working/tapes1/2000_01_...</td>\n      <td>http://csr.bu.edu/asl0/uploading/2000_02_25/sl...</td>\n      <td>219</td>\n    </tr>\n    <tr>\n      <th>3</th>\n      <td>http://csr.bu.edu/asl/private/compressed/maste...</td>\n      <td>0</td>\n      <td>548_master_small.mov</td>\n      <td>http://csr.bu.edu/asl0/working/tapes2/2000_06_...</td>\n      <td></td>\n      <td>http://csr.bu.edu/asl0/uploading/2000_06_07/ma...</td>\n      <td>548</td>\n    </tr>\n    <tr>\n      <th>4</th>\n      <td>http://csr.bu.edu/asl/private/compressed/slave...</td>\n      <td>1</td>\n      <td>548_slave1_small.mov</td>\n      <td></td>\n      <td></td>\n      <td>http://csr.bu.edu/asl0/working/tapes2/2000_06_...</td>\n      <td>548</td>\n    </tr>\n    <tr>\n      <th>...</th>\n      <td>...</td>\n      <td>...</td>\n      <td>...</td>\n      <td>...</td>\n      <td>...</td>\n      <td>...</td>\n      <td>...</td>\n    </tr>\n    <tr>\n      <th>2607</th>\n      <td>http://csr.bu.edu/asl/private/downloads/2001_8...</td>\n      <td>0</td>\n      <td>siblings_1066_small_0.mov</td>\n      <td>http://csr.bu.edu/asl0/working/tapes2/2001_07_...</td>\n      <td></td>\n      <td>http://csr.bu.edu/asl0/working/tapes2/2001_07_...</td>\n      <td>1066</td>\n    </tr>\n    <tr>\n      <th>2608</th>\n      <td>http://csr.bu.edu/asl/private/downloads/2001_8...</td>\n      <td>2</td>\n      <td>siblings_1066_small_2.mov</td>\n      <td></td>\n      <td></td>\n      <td>http://csr.bu.edu/asl0/uploading/2001_07_24/sl...</td>\n      <td>1066</td>\n    </tr>\n    <tr>\n      <th>2609</th>\n      <td>http://csr.bu.edu/asl/private/downloads/2003_0...</td>\n      <td>0</td>\n      <td>whitewater_1049_small_0.mov</td>\n      <td>http://csr.bu.edu/asl0/working/tapes2/2001_07_...</td>\n      <td></td>\n      <td>http://csr.bu.edu/asl0/working/tapes2/2001_07_...</td>\n      <td>1049</td>\n    </tr>\n    <tr>\n      <th>2610</th>\n      <td>http://csr.bu.edu/asl/private/downloads/2003_0...</td>\n      <td>2</td>\n      <td>whitewater_1049_small_2.mov</td>\n      <td>http://csr.bu.edu/asl0/working/tapes2/2001_07_...</td>\n      <td></td>\n      <td>http://csr.bu.edu/asl0/working/tapes2/2001_07_...</td>\n      <td>1049</td>\n    </tr>\n    <tr>\n      <th>2611</th>\n      <td>http://csr.bu.edu/asl/private/downloads/2003_0...</td>\n      <td>3</td>\n      <td>whitewater_1049_small_3.mov</td>\n      <td></td>\n      <td></td>\n      <td></td>\n      <td>1049</td>\n    </tr>\n  </tbody>\n</table>\n<p>2612 rows × 7 columns</p>\n</div>"
     },
     "metadata": {},
     "execution_count": 13
    }
   ],
   "source": [
    "df_full_target_vid_index"
   ]
  },
  {
   "source": [
    "Note that this isn't entirely useful yet since we don't have any corresponding column names (in the above Pandas `DataFrame`).  We have applied a `schema` to the `Pcollection` but that doesn't get applied to the Pandas `DataFrame` since applying a `schema` to a `Pcollection` is carried out by mappinng each row to a literal Apache Beam `Row` object, thereby effectively converting each element to an *unhashed* `dict`.  Thus, we cannot guarantee the ordering of the columns will be fixed.  We must therefore use the `schema` to refer to columns by name.\n",
    "\n",
    "But, we do see that there are 2,612 corresponding target videos to download.  Note that since target videos are actually comprised of segments, there may actually be more videos than that that we download in the end (if we were to download them all... which is exactly what is done in production, on GCP Dataflow).\n",
    "\n",
    "This is done inline while writing the `Pcollection` (collected into the above Pandas `DataFrame` just for viewing) to the destination `<WORK_DIR>/data/video_index-20120129.csv` file path (by `data_extractor__beam.pl__2__write_target_vid_index_csv`).\n",
    "\n",
    "But, as a nuance of collecting a `Pcollection` into a `DataFrame`, we can't simply call `data_extractor__beam.pl__2__write_target_vid_index_csv` now if we want to view the resulting `Pcollection` as a `DataFrame`.  Recall that only `Pcollection`s prior to calling `ib.watch(locals())` are eligible for \"collection\" (conversion to Pandas `DataFrame`s), which we already did.  This means we must re-execute the first step (`data_extractor__beam.pl__1__bootstrap_target_video_index`), followed by `data_extractor__beam.pl__2__write_target_vid_index_csv`, call `ib.watch(locals())`, and then finally call `ib.collect` on each of the corresponding `Pcollection`s in order to view them.\n",
    "\n",
    "But won't that mean that `data_extractor__beam.pl__1__bootstrap_target_video_index` will re-download the video index?  ANSWER: no because it was written specifically to guard againstt that case.  Take a look at its source and you'll see.  If the video index exists locally, it will simply load it from the \"tmp\" directory and the resulting `Pcollection` is used as input for `data_extractor__beam.pl__2__write_target_vid_index_csv` (which will apply a `schema` and then write it to the final destination path `<WORK_DIR>/data/video_index-20120129.csv`).\n",
    "\n",
    "Let's do that now...\n",
    "\n",
    "<p><br>\n",
    "\n",
    "#### The full \"boostrap-vid-index\" pipeline"
   ],
   "cell_type": "markdown",
   "metadata": {}
  },
  {
   "cell_type": "code",
   "execution_count": 14,
   "metadata": {},
   "outputs": [],
   "source": [
    "# create a new instance of the pipeline\n",
    "pl = beam.Pipeline(options=pipeline_options)\n",
    "\n",
    "full_target_vid_index_schemad_pcoll = data_extractor__beam.pl__1__bootstrap_target_video_index(pl)\n",
    "_ = data_extractor__beam.pl__2__write_target_vid_index_csv(full_target_vid_index_schemad_pcoll, pl._options._all_options)"
   ]
  },
  {
   "source": [
    "We know that observing the `full_target_vid_index_schemad_pcoll` `Pcollection` won't be particularly useful and the `Pcollection` that `data_extractor__beam.pl__2__write_target_vid_index_csv` outputs simply has the destination path after it successfully writes `full_target_vid_index_schemad_pcoll` to `<WORK_DIR>/data/video_index-20120129.csv`, which isn't particularly interesting.  But we need to be sure this pipeline completes before executing the more interesting \"download-videos-extract-frames\" pipeline.\n",
    "\n",
    "So instead of calling `ib.collect` to force the above pipeline to run, we'll simply call `pl.run` instead (since we are not particularly interested in viewing any `Pcollection`-to-`DataFrame` conversions from it)."
   ],
   "cell_type": "markdown",
   "metadata": {}
  },
  {
   "cell_type": "code",
   "execution_count": 15,
   "metadata": {},
   "outputs": [
    {
     "output_type": "stream",
     "name": "stdout",
     "text": [
      "\n",
      "\n",
      "****************************** Starting pipeline job: sc-fids-capstone-etl-demo--boostrap-vid-index ******************************\n",
      "FOUND EXISTING SEL VID INDEX: /tmp/data/tmp/video_index-20120129/files_by_video_name.csv\n",
      "TARGET-VIDEO-INDEX CSV WRITTEN TO STORAGE: /tmp/data/video_index-20120129.csv\n",
      "****************************** Finished pipeline job: sc-fids-capstone-etl-demo--boostrap-vid-index ******************************\n"
     ]
    }
   ],
   "source": [
    "print(f\"\\n\\n****************************** Starting pipeline job: {job_name} ******************************\")\n",
    "pl.run();\n",
    "print(f\"****************************** Finished pipeline job: {job_name} ******************************\")"
   ]
  },
  {
   "source": [
    "<p><br>\n",
    "\n",
    "#### The \"download-videos-extract-frames\" pipeline\n",
    "\n",
    "<p><br>\n",
    "\n",
    "The \"download-videos-extract-frames\" pipeline is comprised of four steps:\n",
    "\n",
    "1. `beam__common.pl__1__read_target_vid_index_csv`\n",
    "2. `data_extractor__beam.pl__2__filter_target_vid_index`\n",
    "3. `data_extractor__beam.pl__3__parallel_download_videos`\n",
    "4. `data_extractor__beam.pl__4__parallel_extract_target_video_frames`"
   ],
   "cell_type": "markdown",
   "metadata": {}
  },
  {
   "source": [
    "The function names used for each step suggest what they do.  So I will only show source code for `data_extractor__beam.pl__3__parallel_download_videos` and `data_extractor__beam.pl__4__parallel_extract_target_video_frames`, and provide short explanations for steps 1 and 2.\n",
    "\n",
    "Step 1 obviously reads `<WORK_DIR>/data/video_index-20120129.csv` from storage into a `Pcollection` to be used as input for `data_extractor__beam.pl__2__filter_target_vid_index`, which simply selects the first `MAX_TARGET_VIDEOS` from the full list of records from the `full_target_vid_index_schemad_pcoll` `Pcollection` that `beam__common.pl__1__read_target_vid_index_csv` returns.  Note that `data_extractor__beam.pl__2__write_target_vid_index_csv`, in addition to applying a `schema`, also applies a row *id* and writes to `<WORK_DIR>/data/video_index-20120129.csv` in the order of that index.  `beam__common.pl__1__read_target_vid_index_csv` returns the corresponding `Pcollection` ordered by this index.\n",
    "\n",
    "Let's now inspect source code for steps 3 and 4..."
   ],
   "cell_type": "markdown",
   "metadata": {}
  },
  {
   "cell_type": "code",
   "execution_count": 16,
   "metadata": {},
   "outputs": [
    {
     "output_type": "display_data",
     "data": {
      "text/plain": "<IPython.core.display.Markdown object>",
      "text/markdown": "<!DOCTYPE html PUBLIC \"-//W3C//DTD HTML 4.01//EN\"\n   \"http://www.w3.org/TR/html4/strict.dtd\">\n<!--\ngenerated by Pygments <https://pygments.org/>\nCopyright 2006-2019 by the Pygments team.\nLicensed under the BSD license, see LICENSE for details.\n-->\n<html>\n<head>\n  <title></title>\n  <meta http-equiv=\"content-type\" content=\"text/html; charset=None\">\n  <style type=\"text/css\">\n/*\ngenerated by Pygments <https://pygments.org/>\nCopyright 2006-2019 by the Pygments team.\nLicensed under the BSD license, see LICENSE for details.\n*/\ntd.linenos { background-color: #f0f0f0; padding-right: 10px; }\nspan.lineno { background-color: #f0f0f0; padding: 0 5px 0 5px; }\npre { line-height: 125%; }\nbody .hll { background-color: #ffffcc }\nbody  { background: #f8f8f8; }\nbody .c { color: #408080; font-style: italic } /* Comment */\nbody .err { border: 1px solid #FF0000 } /* Error */\nbody .k { color: #008000; font-weight: bold } /* Keyword */\nbody .o { color: #666666 } /* Operator */\nbody .ch { color: #408080; font-style: italic } /* Comment.Hashbang */\nbody .cm { color: #408080; font-style: italic } /* Comment.Multiline */\nbody .cp { color: #BC7A00 } /* Comment.Preproc */\nbody .cpf { color: #408080; font-style: italic } /* Comment.PreprocFile */\nbody .c1 { color: #408080; font-style: italic } /* Comment.Single */\nbody .cs { color: #408080; font-style: italic } /* Comment.Special */\nbody .gd { color: #A00000 } /* Generic.Deleted */\nbody .ge { font-style: italic } /* Generic.Emph */\nbody .gr { color: #FF0000 } /* Generic.Error */\nbody .gh { color: #000080; font-weight: bold } /* Generic.Heading */\nbody .gi { color: #00A000 } /* Generic.Inserted */\nbody .go { color: #888888 } /* Generic.Output */\nbody .gp { color: #000080; font-weight: bold } /* Generic.Prompt */\nbody .gs { font-weight: bold } /* Generic.Strong */\nbody .gu { color: #800080; font-weight: bold } /* Generic.Subheading */\nbody .gt { color: #0044DD } /* Generic.Traceback */\nbody .kc { color: #008000; font-weight: bold } /* Keyword.Constant */\nbody .kd { color: #008000; font-weight: bold } /* Keyword.Declaration */\nbody .kn { color: #008000; font-weight: bold } /* Keyword.Namespace */\nbody .kp { color: #008000 } /* Keyword.Pseudo */\nbody .kr { color: #008000; font-weight: bold } /* Keyword.Reserved */\nbody .kt { color: #B00040 } /* Keyword.Type */\nbody .m { color: #666666 } /* Literal.Number */\nbody .s { color: #BA2121 } /* Literal.String */\nbody .na { color: #7D9029 } /* Name.Attribute */\nbody .nb { color: #008000 } /* Name.Builtin */\nbody .nc { color: #0000FF; font-weight: bold } /* Name.Class */\nbody .no { color: #880000 } /* Name.Constant */\nbody .nd { color: #AA22FF } /* Name.Decorator */\nbody .ni { color: #999999; font-weight: bold } /* Name.Entity */\nbody .ne { color: #D2413A; font-weight: bold } /* Name.Exception */\nbody .nf { color: #0000FF } /* Name.Function */\nbody .nl { color: #A0A000 } /* Name.Label */\nbody .nn { color: #0000FF; font-weight: bold } /* Name.Namespace */\nbody .nt { color: #008000; font-weight: bold } /* Name.Tag */\nbody .nv { color: #19177C } /* Name.Variable */\nbody .ow { color: #AA22FF; font-weight: bold } /* Operator.Word */\nbody .w { color: #bbbbbb } /* Text.Whitespace */\nbody .mb { color: #666666 } /* Literal.Number.Bin */\nbody .mf { color: #666666 } /* Literal.Number.Float */\nbody .mh { color: #666666 } /* Literal.Number.Hex */\nbody .mi { color: #666666 } /* Literal.Number.Integer */\nbody .mo { color: #666666 } /* Literal.Number.Oct */\nbody .sa { color: #BA2121 } /* Literal.String.Affix */\nbody .sb { color: #BA2121 } /* Literal.String.Backtick */\nbody .sc { color: #BA2121 } /* Literal.String.Char */\nbody .dl { color: #BA2121 } /* Literal.String.Delimiter */\nbody .sd { color: #BA2121; font-style: italic } /* Literal.String.Doc */\nbody .s2 { color: #BA2121 } /* Literal.String.Double */\nbody .se { color: #BB6622; font-weight: bold } /* Literal.String.Escape */\nbody .sh { color: #BA2121 } /* Literal.String.Heredoc */\nbody .si { color: #BB6688; font-weight: bold } /* Literal.String.Interpol */\nbody .sx { color: #008000 } /* Literal.String.Other */\nbody .sr { color: #BB6688 } /* Literal.String.Regex */\nbody .s1 { color: #BA2121 } /* Literal.String.Single */\nbody .ss { color: #19177C } /* Literal.String.Symbol */\nbody .bp { color: #008000 } /* Name.Builtin.Pseudo */\nbody .fm { color: #0000FF } /* Name.Function.Magic */\nbody .vc { color: #19177C } /* Name.Variable.Class */\nbody .vg { color: #19177C } /* Name.Variable.Global */\nbody .vi { color: #19177C } /* Name.Variable.Instance */\nbody .vm { color: #19177C } /* Name.Variable.Magic */\nbody .il { color: #666666 } /* Literal.Number.Integer.Long */\n\n  </style>\n</head>\n<body>\n<h2></h2>\n\n<div class=\"highlight\" style=\"background: #f8f8f8\"><pre style=\"line-height: 125%\"><span></span><span style=\"color: #008000; font-weight: bold\">def</span> <span style=\"color: #0000FF\">pl__3__parallel_download_videos</span>(vid_index_schemad_pcoll, d_pl_options, n_partitions<span style=\"color: #666666\">=8</span>):<br>  vid_index_schemad_pcoll_download_partitions <span style=\"color: #666666\">=</span> (<br>    vid_index_schemad_pcoll<br>    <span style=\"color: #666666\">|</span> <span style=\"color: #BA2121\">&quot;Beam PL: partition schemad video index for download parallelization&quot;</span> <span style=\"color: #666666\">&gt;&gt;</span> beam<span style=\"color: #666666\">.</span>Partition(<br>        <span style=\"color: #008000; font-weight: bold\">lambda</span> vid_index_row, num_partitions: random<span style=\"color: #666666\">.</span>randint(<span style=\"color: #666666\">0</span>,num_partitions<span style=\"color: #666666\">-1</span>), <br>        n_partitions<br>      )<br>  )<br>  partition_download_results <span style=\"color: #666666\">=</span> [<span style=\"color: #008000; font-weight: bold\">None</span> <span style=\"color: #008000; font-weight: bold\">for</span> i <span style=\"color: #AA22FF; font-weight: bold\">in</span> <span style=\"color: #008000\">range</span>(n_partitions)]<br>  <span style=\"color: #008000; font-weight: bold\">for</span> i, vid_index_schemad_pcoll_partition <span style=\"color: #AA22FF; font-weight: bold\">in</span> <span style=\"color: #008000\">enumerate</span>(vid_index_schemad_pcoll_download_partitions):<br>    p_label <span style=\"color: #666666\">=</span> <span style=\"color: #BA2121\">f&quot;p</span><span style=\"color: #BB6688; font-weight: bold\">{</span>i<span style=\"color: #666666\">+1</span><span style=\"color: #BB6688; font-weight: bold\">}</span><span style=\"color: #BA2121\">&quot;</span><br>    p_label_indented <span style=\"color: #666666\">=</span> <span style=\"color: #BA2121\">f&quot;</span><span style=\"color: #BB6622; font-weight: bold\">\\t</span><span style=\"color: #BB6688; font-weight: bold\">{</span>p_label<span style=\"color: #BB6688; font-weight: bold\">}</span><span style=\"color: #BA2121\">&quot;</span><br>    p_dl_results <span style=\"color: #666666\">=</span> (<br>      vid_index_schemad_pcoll_partition<br>      <span style=\"color: #666666\">|</span> <span style=\"color: #BA2121\">f&quot;Beam PL: </span><span style=\"color: #BB6688; font-weight: bold\">{</span>p_label<span style=\"color: #BB6688; font-weight: bold\">}</span><span style=\"color: #BA2121\"> gather download info for video segments&quot;</span> <span style=\"color: #666666\">&gt;&gt;</span> beam<span style=\"color: #666666\">.</span>ParDo(VideoSegmentInfoGatherer(d_pl_options))<br>      <span style=\"color: #666666\">|</span> <span style=\"color: #BA2121\">f&quot;Beam PL: </span><span style=\"color: #BB6688; font-weight: bold\">{</span>p_label<span style=\"color: #BB6688; font-weight: bold\">}</span><span style=\"color: #BA2121\"> download video segments&quot;</span> <span style=\"color: #666666\">&gt;&gt;</span> beam<span style=\"color: #666666\">.</span>ParDo(VideoSegmentDownloader(d_pl_options, <span style=\"color: #BA2121\">f&quot;</span><span style=\"color: #BB6688; font-weight: bold\">{</span>p_label_indented<span style=\"color: #BB6688; font-weight: bold\">}</span><span style=\"color: #BA2121\">&quot;</span>))<br>    )<br>    partition_download_results[i] <span style=\"color: #666666\">=</span> p_dl_results<br>  merged_download_results <span style=\"color: #666666\">=</span> (<br>    (p_dl_r <span style=\"color: #008000; font-weight: bold\">for</span> p_dl_r <span style=\"color: #AA22FF; font-weight: bold\">in</span> partition_download_results) <br>    <span style=\"color: #666666\">|</span> <span style=\"color: #BA2121\">f&quot;Beam PL: merge download results&quot;</span> <span style=\"color: #666666\">&gt;&gt;</span> beam<span style=\"color: #666666\">.</span>Flatten() <br>  )<br>  <span style=\"color: #008000; font-weight: bold\">return</span> merged_download_results<br></pre></div>\n</body>\n</html>\n"
     },
     "metadata": {}
    }
   ],
   "source": [
    "disp_source(data_extractor__beam.pl__3__parallel_download_videos)"
   ]
  },
  {
   "source": [
    "Now things get really interesting with `data_extractor__beam.pl__3__parallel_download_videos`...\n",
    "\n",
    "What we do here is explicitly tell Apache Beam to create 8 independent *partitions*, each of which will download videos independently of one another, corresponding to worker nodes.\n",
    "\n",
    "Note that either threads or worker nodes.  How that plays out is beyond the scope of this notebook.  Suffice it to say that this results in much faster processing than simply executing sequentially.\n",
    "\n",
    "When they are all done, the results are merged (via `beam.Flatten`) into a single `Pcollection` to be supplied as input to `data_extractor__beam.pl__4__parallel_extract_target_video_frames`."
   ],
   "cell_type": "markdown",
   "metadata": {}
  },
  {
   "cell_type": "code",
   "execution_count": 17,
   "metadata": {},
   "outputs": [
    {
     "output_type": "display_data",
     "data": {
      "text/plain": "<IPython.core.display.Markdown object>",
      "text/markdown": "<!DOCTYPE html PUBLIC \"-//W3C//DTD HTML 4.01//EN\"\n   \"http://www.w3.org/TR/html4/strict.dtd\">\n<!--\ngenerated by Pygments <https://pygments.org/>\nCopyright 2006-2019 by the Pygments team.\nLicensed under the BSD license, see LICENSE for details.\n-->\n<html>\n<head>\n  <title></title>\n  <meta http-equiv=\"content-type\" content=\"text/html; charset=None\">\n  <style type=\"text/css\">\n/*\ngenerated by Pygments <https://pygments.org/>\nCopyright 2006-2019 by the Pygments team.\nLicensed under the BSD license, see LICENSE for details.\n*/\ntd.linenos { background-color: #f0f0f0; padding-right: 10px; }\nspan.lineno { background-color: #f0f0f0; padding: 0 5px 0 5px; }\npre { line-height: 125%; }\nbody .hll { background-color: #ffffcc }\nbody  { background: #f8f8f8; }\nbody .c { color: #408080; font-style: italic } /* Comment */\nbody .err { border: 1px solid #FF0000 } /* Error */\nbody .k { color: #008000; font-weight: bold } /* Keyword */\nbody .o { color: #666666 } /* Operator */\nbody .ch { color: #408080; font-style: italic } /* Comment.Hashbang */\nbody .cm { color: #408080; font-style: italic } /* Comment.Multiline */\nbody .cp { color: #BC7A00 } /* Comment.Preproc */\nbody .cpf { color: #408080; font-style: italic } /* Comment.PreprocFile */\nbody .c1 { color: #408080; font-style: italic } /* Comment.Single */\nbody .cs { color: #408080; font-style: italic } /* Comment.Special */\nbody .gd { color: #A00000 } /* Generic.Deleted */\nbody .ge { font-style: italic } /* Generic.Emph */\nbody .gr { color: #FF0000 } /* Generic.Error */\nbody .gh { color: #000080; font-weight: bold } /* Generic.Heading */\nbody .gi { color: #00A000 } /* Generic.Inserted */\nbody .go { color: #888888 } /* Generic.Output */\nbody .gp { color: #000080; font-weight: bold } /* Generic.Prompt */\nbody .gs { font-weight: bold } /* Generic.Strong */\nbody .gu { color: #800080; font-weight: bold } /* Generic.Subheading */\nbody .gt { color: #0044DD } /* Generic.Traceback */\nbody .kc { color: #008000; font-weight: bold } /* Keyword.Constant */\nbody .kd { color: #008000; font-weight: bold } /* Keyword.Declaration */\nbody .kn { color: #008000; font-weight: bold } /* Keyword.Namespace */\nbody .kp { color: #008000 } /* Keyword.Pseudo */\nbody .kr { color: #008000; font-weight: bold } /* Keyword.Reserved */\nbody .kt { color: #B00040 } /* Keyword.Type */\nbody .m { color: #666666 } /* Literal.Number */\nbody .s { color: #BA2121 } /* Literal.String */\nbody .na { color: #7D9029 } /* Name.Attribute */\nbody .nb { color: #008000 } /* Name.Builtin */\nbody .nc { color: #0000FF; font-weight: bold } /* Name.Class */\nbody .no { color: #880000 } /* Name.Constant */\nbody .nd { color: #AA22FF } /* Name.Decorator */\nbody .ni { color: #999999; font-weight: bold } /* Name.Entity */\nbody .ne { color: #D2413A; font-weight: bold } /* Name.Exception */\nbody .nf { color: #0000FF } /* Name.Function */\nbody .nl { color: #A0A000 } /* Name.Label */\nbody .nn { color: #0000FF; font-weight: bold } /* Name.Namespace */\nbody .nt { color: #008000; font-weight: bold } /* Name.Tag */\nbody .nv { color: #19177C } /* Name.Variable */\nbody .ow { color: #AA22FF; font-weight: bold } /* Operator.Word */\nbody .w { color: #bbbbbb } /* Text.Whitespace */\nbody .mb { color: #666666 } /* Literal.Number.Bin */\nbody .mf { color: #666666 } /* Literal.Number.Float */\nbody .mh { color: #666666 } /* Literal.Number.Hex */\nbody .mi { color: #666666 } /* Literal.Number.Integer */\nbody .mo { color: #666666 } /* Literal.Number.Oct */\nbody .sa { color: #BA2121 } /* Literal.String.Affix */\nbody .sb { color: #BA2121 } /* Literal.String.Backtick */\nbody .sc { color: #BA2121 } /* Literal.String.Char */\nbody .dl { color: #BA2121 } /* Literal.String.Delimiter */\nbody .sd { color: #BA2121; font-style: italic } /* Literal.String.Doc */\nbody .s2 { color: #BA2121 } /* Literal.String.Double */\nbody .se { color: #BB6622; font-weight: bold } /* Literal.String.Escape */\nbody .sh { color: #BA2121 } /* Literal.String.Heredoc */\nbody .si { color: #BB6688; font-weight: bold } /* Literal.String.Interpol */\nbody .sx { color: #008000 } /* Literal.String.Other */\nbody .sr { color: #BB6688 } /* Literal.String.Regex */\nbody .s1 { color: #BA2121 } /* Literal.String.Single */\nbody .ss { color: #19177C } /* Literal.String.Symbol */\nbody .bp { color: #008000 } /* Name.Builtin.Pseudo */\nbody .fm { color: #0000FF } /* Name.Function.Magic */\nbody .vc { color: #19177C } /* Name.Variable.Class */\nbody .vg { color: #19177C } /* Name.Variable.Global */\nbody .vi { color: #19177C } /* Name.Variable.Instance */\nbody .vm { color: #19177C } /* Name.Variable.Magic */\nbody .il { color: #666666 } /* Literal.Number.Integer.Long */\n\n  </style>\n</head>\n<body>\n<h2></h2>\n\n<div class=\"highlight\" style=\"background: #f8f8f8\"><pre style=\"line-height: 125%\"><span></span><span style=\"color: #008000; font-weight: bold\">def</span> <span style=\"color: #0000FF\">pl__4__parallel_extract_target_video_frames</span>(merged_download_results, d_pl_options, n_partitions<span style=\"color: #666666\">=8</span>):<br>  <span style=\"color: #BA2121; font-style: italic\">&quot;&quot;&quot;</span><br><span style=\"color: #BA2121; font-style: italic\">  # ******************** EXTRACT SEGMENT-FRAMES IN PARALLEL: BEGIN ********************</span><br><span style=\"color: #BA2121; font-style: italic\">  #   NOTE! THIS IS A CRUCIAL PIECE SO PAY ATTENTION TO THE FOLLOWING!!</span><br><span style=\"color: #BA2121; font-style: italic\">  #   ********** --&gt; IMPORTANT VIDEO-FRAME EXTRACTION PROCESSING INFORMATION&lt;-- (BEGIN) **********</span><br><span style=\"color: #BA2121; font-style: italic\">  #     We partitioned vid_index_schemad_pcoll so that video-SEGMENT downloads can occur independently.</span><br><span style=\"color: #BA2121; font-style: italic\">  #     Downloading segments can occur independently since there is no correlation between each segment</span><br><span style=\"color: #BA2121; font-style: italic\">  #       AS FAR AS DOWNLOADING IS CONCERNED.</span><br><span style=\"color: #BA2121; font-style: italic\">  #</span><br><span style=\"color: #BA2121; font-style: italic\">  #     However, AS FAR AS EXTRACTION IS CONCERNED, each segment is related by the target video composed</span><br><span style=\"color: #BA2121; font-style: italic\">  #       of each segment.  The segment-videos themselves are ordered as they compose the final target</span><br><span style=\"color: #BA2121; font-style: italic\">  #       video corresponding of ordered segment videos. For example, if a target video is composed of</span><br><span style=\"color: #BA2121; font-style: italic\">  #       three segment videos, those segments occur in a certain order, as specified by the video index.</span><br><span style=\"color: #BA2121; font-style: italic\">  #       Expanding upon this example, suppose target video &quot;some_story_given_by_john_doe_0.mov&quot;, was recorded</span><br><span style=\"color: #BA2121; font-style: italic\">  #       and saved in three corresponding video segments (to save space, I guess?) </span><br><span style=\"color: #BA2121; font-style: italic\">  #       &quot;some_story_given_by_john_doe_0_1.mov&quot;, &quot;some_story_given_by_john_doe_0_2.mov&quot;, and</span><br><span style=\"color: #BA2121; font-style: italic\">  #       &quot;some_story_given_by_john_doe_0_3.mov&quot;. Note that the trailing &quot;0&quot; in the TARGET VIDEO filename</span><br><span style=\"color: #BA2121; font-style: italic\">  #       indicates the camera perspective... all stories are potentially filmed from multiple synchronized</span><br><span style=\"color: #BA2121; font-style: italic\">  #       camera perspectives/angles - there were obvioiusly multiple synchronized video recorders used in</span><br><span style=\"color: #BA2121; font-style: italic\">  #       in that case.  However, for this example, we are focusing on the target video for camera perspective 0.</span><br><span style=\"color: #BA2121; font-style: italic\">  #       Anyway, as said, there are three segments which compose the target video.  THESE SEGMENT VIDEOS</span><br><span style=\"color: #BA2121; font-style: italic\">  #       ARE ORDERED (in time).  THEREFORE, THE FRAMES COMPOSING EACH SEGMENT VIDEO ARE CONSEQUENTLY ORDERED</span><br><span style=\"color: #BA2121; font-style: italic\">  #       (in time).  THE BOTTOM LINE IS THAT WE NOW NEED TO GROUP SEGMENT VIDEOS, KEYED BY CORRESPONDING</span><br><span style=\"color: #BA2121; font-style: italic\">  #       TARGET VIDEO.  FURTHERMORE, THE COLLECTION OF SEGMENT VIDEOS FOR EACH TARGET VIDEO MUST BE ORDERED.</span><br><span style=\"color: #BA2121; font-style: italic\">  #       THAT IS, WE MUST EXTRACT SEGMENT FRAMES AND SAVE THEM TO THE FILE SYSTEM WITH A FILE NAMING SCHEME</span><br><span style=\"color: #BA2121; font-style: italic\">  #       THAT REFLECTS FRAME ORDER OF THE UNION OF ALL SEGMENT FRAMES.  IF WE EXTRACT THE FRAMES OF EACH</span><br><span style=\"color: #BA2121; font-style: italic\">  #       ORDERED SEGMENT, THEN A SIMPLE NUMERIC INDEX AS SEGMENT-FRAME FILENAME WILL DO THE TRICK.</span><br><span style=\"color: #BA2121; font-style: italic\">  #   ********** --&gt; IMPORTANT VIDEO-FRAME EXTRACTION PROCESSING INFORMATION&lt;-- (END) **********</span><br><span style=\"color: #BA2121; font-style: italic\">  &quot;&quot;&quot;</span><br>  <span style=\"color: #408080; font-style: italic\"># GROUP segment videos by target video</span><br>  <span style=\"color: #408080; font-style: italic\">#   note that this depends on the DAG - i.e. will not occur until partition_download_results are ready which, of course, does not occur until all videos have been downloaded</span><br>  target_vid_seg_frame_extraction_partitions <span style=\"color: #666666\">=</span> (<br>    merged_download_results<br>    <span style=\"color: #666666\">|</span> <span style=\"color: #BA2121\">f&quot;Beam PL: group extraction info for video segments by target video&quot;</span> <span style=\"color: #666666\">&gt;&gt;</span> beam<span style=\"color: #666666\">.</span>GroupBy(<span style=\"color: #008000; font-weight: bold\">lambda</span> d: d[<span style=\"color: #BA2121\">&#39;target_video_fname&#39;</span>])<br>    <span style=\"color: #666666\">|</span> <span style=\"color: #BA2121\">f&quot;Beam PL: partition target video segment info for extraction parallelization&quot;</span> <span style=\"color: #666666\">&gt;&gt;</span> beam<span style=\"color: #666666\">.</span>Partition(<br>        <span style=\"color: #008000; font-weight: bold\">lambda</span> vid_index_row, num_partitions: random<span style=\"color: #666666\">.</span>randint(<span style=\"color: #666666\">0</span>,num_partitions<span style=\"color: #666666\">-1</span>), <br>        n_partitions<br>      )<br>  )<br>  partition_extraction_results <span style=\"color: #666666\">=</span> [<span style=\"color: #008000; font-weight: bold\">None</span> <span style=\"color: #008000; font-weight: bold\">for</span> i <span style=\"color: #AA22FF; font-weight: bold\">in</span> <span style=\"color: #008000\">range</span>(n_partitions)]<br>  <span style=\"color: #008000; font-weight: bold\">for</span> i, p <span style=\"color: #AA22FF; font-weight: bold\">in</span> <span style=\"color: #008000\">enumerate</span>(target_vid_seg_frame_extraction_partitions):<br>    p_label <span style=\"color: #666666\">=</span> <span style=\"color: #BA2121\">f&quot;p</span><span style=\"color: #BB6688; font-weight: bold\">{</span>i<span style=\"color: #666666\">+1</span><span style=\"color: #BB6688; font-weight: bold\">}</span><span style=\"color: #BA2121\">&quot;</span><br>    p_label_indented <span style=\"color: #666666\">=</span> <span style=\"color: #BA2121\">f&quot;</span><span style=\"color: #BB6622; font-weight: bold\">\\t</span><span style=\"color: #BB6688; font-weight: bold\">{</span>p_label<span style=\"color: #BB6688; font-weight: bold\">}</span><span style=\"color: #BA2121\">&quot;</span><br>    p_extraction_results <span style=\"color: #666666\">=</span> (<br>      p<br>      <span style=\"color: #666666\">|</span> <span style=\"color: #BA2121\">f&quot;Beam PL: </span><span style=\"color: #BB6688; font-weight: bold\">{</span>p_label<span style=\"color: #BB6688; font-weight: bold\">}</span><span style=\"color: #BA2121\"> extract frames of each segment per target video&quot;</span> <span style=\"color: #666666\">&gt;&gt;</span> beam<span style=\"color: #666666\">.</span>ParDo(SegmentFrameExtractor(d_pl_options, <span style=\"color: #BA2121\">f&quot;</span><span style=\"color: #BB6688; font-weight: bold\">{</span>p_label_indented<span style=\"color: #BB6688; font-weight: bold\">}</span><span style=\"color: #BA2121\">&quot;</span>, debug<span style=\"color: #666666\">=</span><span style=\"color: #008000; font-weight: bold\">False</span>))<br>    )<br>    partition_extraction_results[i] <span style=\"color: #666666\">=</span> p_extraction_results<br>    (<br>      p_extraction_results<br>      <span style=\"color: #666666\">|</span> <span style=\"color: #BA2121\">f&quot;Beam PL: </span><span style=\"color: #BB6688; font-weight: bold\">{</span>p_label<span style=\"color: #BB6688; font-weight: bold\">}</span><span style=\"color: #BA2121\"> count target videos processed&quot;</span> <span style=\"color: #666666\">&gt;&gt;</span> beam<span style=\"color: #666666\">.</span>combiners<span style=\"color: #666666\">.</span>Count<span style=\"color: #666666\">.</span>Globally() <br>      <span style=\"color: #666666\">|</span> <span style=\"color: #BA2121\">f&quot;Beam PL: </span><span style=\"color: #BB6688; font-weight: bold\">{</span>p_label<span style=\"color: #BB6688; font-weight: bold\">}</span><span style=\"color: #BA2121\"> print target videos processed count&quot;</span> <span style=\"color: #666666\">&gt;&gt;</span> beam<span style=\"color: #666666\">.</span>ParDo(beam__common<span style=\"color: #666666\">.</span>PipelinePcollPrinter(label<span style=\"color: #666666\">=</span>p_label_indented, msg<span style=\"color: #666666\">=</span><span style=\"color: #BA2121\">&quot;target videos processed&quot;</span>))<br>    )<br>  merged_extraction_results <span style=\"color: #666666\">=</span> (<br>    (p_extraction_results <span style=\"color: #008000; font-weight: bold\">for</span> p_extraction_results <span style=\"color: #AA22FF; font-weight: bold\">in</span> partition_extraction_results) <br>    <span style=\"color: #666666\">|</span> <span style=\"color: #BA2121\">f&quot;Beam PL: merge extraction results&quot;</span> <span style=\"color: #666666\">&gt;&gt;</span> beam<span style=\"color: #666666\">.</span>Flatten()<br>  )<br>  _ <span style=\"color: #666666\">=</span> (<br>    merged_extraction_results<br>    <span style=\"color: #666666\">|</span> <span style=\"color: #BA2121\">&quot;Beam PL: apply schema to merged extraction results pcoll&quot;</span> <span style=\"color: #666666\">&gt;&gt;</span> beam<span style=\"color: #666666\">.</span>Map(<span style=\"color: #008000; font-weight: bold\">lambda</span> x: beam<span style=\"color: #666666\">.</span>Row(<br>          video_fname<span style=\"color: #666666\">=</span><span style=\"color: #008000\">str</span>(x[<span style=\"color: #666666\">0</span>]),<br>          n_stitched_frames<span style=\"color: #666666\">=</span><span style=\"color: #008000\">int</span>(x[<span style=\"color: #666666\">1</span>])<br>        ))<br>    <span style=\"color: #408080; font-style: italic\"># | &quot;Beam PL: count total frames extracted&quot; &gt;&gt; beam.transforms.sql.SqlTransform(f&quot;SELECT SUM(n_stitched_frames) AS total_frames_extracted FROM PCOLLECTION&quot;) # this is VERY, VERY SLOW</span><br>    <span style=\"color: #666666\">|</span> <span style=\"color: #BA2121\">&quot;Beam PL: select n_stitched_frames&quot;</span> <span style=\"color: #666666\">&gt;&gt;</span> beam<span style=\"color: #666666\">.</span>Map(<span style=\"color: #008000; font-weight: bold\">lambda</span> extraction_results_row: extraction_results_row<span style=\"color: #666666\">.</span>n_stitched_frames)<br>    <span style=\"color: #666666\">|</span> <span style=\"color: #BA2121\">&quot;Beam PL: count total frames extracted&quot;</span> <span style=\"color: #666666\">&gt;&gt;</span> beam<span style=\"color: #666666\">.</span>CombineGlobally(<span style=\"color: #008000\">sum</span>)<br>    <span style=\"color: #666666\">|</span> <span style=\"color: #BA2121\">f&quot;Beam PL: print total frames extracted&quot;</span> <span style=\"color: #666666\">&gt;&gt;</span> beam<span style=\"color: #666666\">.</span>ParDo(beam__common<span style=\"color: #666666\">.</span>PipelinePcollPrinter(msg<span style=\"color: #666666\">=</span><span style=\"color: #BA2121\">&quot;TOTAL FRAMES EXTRACTED&quot;</span>))<br>  )<br>  <span style=\"color: #008000; font-weight: bold\">return</span> merged_extraction_results<br></pre></div>\n</body>\n</html>\n"
     },
     "metadata": {}
    }
   ],
   "source": [
    "disp_source(data_extractor__beam.pl__4__parallel_extract_target_video_frames)"
   ]
  },
  {
   "source": [
    "From the first part of this notebook...\n",
    "\n",
    "This step leverages Apache Beam's parallelism as well.\n",
    "\n",
    "But we MUST take care to ensure that a single worker extracts the frames of each segment associated with the target video.\n",
    "\n",
    "This is because frames are ordered/sequenced.  \n",
    "\n",
    "Allowing two different workers to extract frames of different segments associated with the same final target video would likely result in frames being extracted out of order (due to parallelism).\n",
    "\n",
    "Therefore, we partition the extraction task by final target video in order to ensure a single worker handles all segments associated with a single target video.\n",
    "\n",
    "But we do want parallelism to occurr at the final target video level.\n",
    "\n",
    "Before creating the pipeline execution graph, it is worth taking a deeper look into the internals of how we use the `OpenCV` library to process the videos (extract frames).\n",
    "\n",
    "The `data_extractor__beam.SegmentFrameExtractor` wraps the `data_extractor__beam.beam_extract_frames`, which houses the logic for this processing.  There are also a couple of helper functions that `` uses: `data_extractor__beam.capture_segment_video` and `data_extractor__beam.write_frame_to_file`.  These will be listed after `data_extractor__beam.beam_extract_frames`."
   ],
   "cell_type": "markdown",
   "metadata": {}
  },
  {
   "cell_type": "code",
   "execution_count": 18,
   "metadata": {},
   "outputs": [
    {
     "output_type": "display_data",
     "data": {
      "text/plain": "<IPython.core.display.Markdown object>",
      "text/markdown": "<!DOCTYPE html PUBLIC \"-//W3C//DTD HTML 4.01//EN\"\n   \"http://www.w3.org/TR/html4/strict.dtd\">\n<!--\ngenerated by Pygments <https://pygments.org/>\nCopyright 2006-2019 by the Pygments team.\nLicensed under the BSD license, see LICENSE for details.\n-->\n<html>\n<head>\n  <title></title>\n  <meta http-equiv=\"content-type\" content=\"text/html; charset=None\">\n  <style type=\"text/css\">\n/*\ngenerated by Pygments <https://pygments.org/>\nCopyright 2006-2019 by the Pygments team.\nLicensed under the BSD license, see LICENSE for details.\n*/\ntd.linenos { background-color: #f0f0f0; padding-right: 10px; }\nspan.lineno { background-color: #f0f0f0; padding: 0 5px 0 5px; }\npre { line-height: 125%; }\nbody .hll { background-color: #ffffcc }\nbody  { background: #f8f8f8; }\nbody .c { color: #408080; font-style: italic } /* Comment */\nbody .err { border: 1px solid #FF0000 } /* Error */\nbody .k { color: #008000; font-weight: bold } /* Keyword */\nbody .o { color: #666666 } /* Operator */\nbody .ch { color: #408080; font-style: italic } /* Comment.Hashbang */\nbody .cm { color: #408080; font-style: italic } /* Comment.Multiline */\nbody .cp { color: #BC7A00 } /* Comment.Preproc */\nbody .cpf { color: #408080; font-style: italic } /* Comment.PreprocFile */\nbody .c1 { color: #408080; font-style: italic } /* Comment.Single */\nbody .cs { color: #408080; font-style: italic } /* Comment.Special */\nbody .gd { color: #A00000 } /* Generic.Deleted */\nbody .ge { font-style: italic } /* Generic.Emph */\nbody .gr { color: #FF0000 } /* Generic.Error */\nbody .gh { color: #000080; font-weight: bold } /* Generic.Heading */\nbody .gi { color: #00A000 } /* Generic.Inserted */\nbody .go { color: #888888 } /* Generic.Output */\nbody .gp { color: #000080; font-weight: bold } /* Generic.Prompt */\nbody .gs { font-weight: bold } /* Generic.Strong */\nbody .gu { color: #800080; font-weight: bold } /* Generic.Subheading */\nbody .gt { color: #0044DD } /* Generic.Traceback */\nbody .kc { color: #008000; font-weight: bold } /* Keyword.Constant */\nbody .kd { color: #008000; font-weight: bold } /* Keyword.Declaration */\nbody .kn { color: #008000; font-weight: bold } /* Keyword.Namespace */\nbody .kp { color: #008000 } /* Keyword.Pseudo */\nbody .kr { color: #008000; font-weight: bold } /* Keyword.Reserved */\nbody .kt { color: #B00040 } /* Keyword.Type */\nbody .m { color: #666666 } /* Literal.Number */\nbody .s { color: #BA2121 } /* Literal.String */\nbody .na { color: #7D9029 } /* Name.Attribute */\nbody .nb { color: #008000 } /* Name.Builtin */\nbody .nc { color: #0000FF; font-weight: bold } /* Name.Class */\nbody .no { color: #880000 } /* Name.Constant */\nbody .nd { color: #AA22FF } /* Name.Decorator */\nbody .ni { color: #999999; font-weight: bold } /* Name.Entity */\nbody .ne { color: #D2413A; font-weight: bold } /* Name.Exception */\nbody .nf { color: #0000FF } /* Name.Function */\nbody .nl { color: #A0A000 } /* Name.Label */\nbody .nn { color: #0000FF; font-weight: bold } /* Name.Namespace */\nbody .nt { color: #008000; font-weight: bold } /* Name.Tag */\nbody .nv { color: #19177C } /* Name.Variable */\nbody .ow { color: #AA22FF; font-weight: bold } /* Operator.Word */\nbody .w { color: #bbbbbb } /* Text.Whitespace */\nbody .mb { color: #666666 } /* Literal.Number.Bin */\nbody .mf { color: #666666 } /* Literal.Number.Float */\nbody .mh { color: #666666 } /* Literal.Number.Hex */\nbody .mi { color: #666666 } /* Literal.Number.Integer */\nbody .mo { color: #666666 } /* Literal.Number.Oct */\nbody .sa { color: #BA2121 } /* Literal.String.Affix */\nbody .sb { color: #BA2121 } /* Literal.String.Backtick */\nbody .sc { color: #BA2121 } /* Literal.String.Char */\nbody .dl { color: #BA2121 } /* Literal.String.Delimiter */\nbody .sd { color: #BA2121; font-style: italic } /* Literal.String.Doc */\nbody .s2 { color: #BA2121 } /* Literal.String.Double */\nbody .se { color: #BB6622; font-weight: bold } /* Literal.String.Escape */\nbody .sh { color: #BA2121 } /* Literal.String.Heredoc */\nbody .si { color: #BB6688; font-weight: bold } /* Literal.String.Interpol */\nbody .sx { color: #008000 } /* Literal.String.Other */\nbody .sr { color: #BB6688 } /* Literal.String.Regex */\nbody .s1 { color: #BA2121 } /* Literal.String.Single */\nbody .ss { color: #19177C } /* Literal.String.Symbol */\nbody .bp { color: #008000 } /* Name.Builtin.Pseudo */\nbody .fm { color: #0000FF } /* Name.Function.Magic */\nbody .vc { color: #19177C } /* Name.Variable.Class */\nbody .vg { color: #19177C } /* Name.Variable.Global */\nbody .vi { color: #19177C } /* Name.Variable.Instance */\nbody .vm { color: #19177C } /* Name.Variable.Magic */\nbody .il { color: #666666 } /* Literal.Number.Integer.Long */\n\n  </style>\n</head>\n<body>\n<h2></h2>\n\n<div class=\"highlight\" style=\"background: #f8f8f8\"><pre style=\"line-height: 125%\"><span></span><span style=\"color: #008000; font-weight: bold\">def</span> <span style=\"color: #0000FF\">beam_extract_frames</span>(tpl_target_video_extraction_info, d_pl_options, label<span style=\"color: #666666\">=</span><span style=\"color: #BA2121\">&quot;&quot;</span>, debug<span style=\"color: #666666\">=</span><span style=\"color: #008000; font-weight: bold\">False</span>):<br>  <span style=\"color: #BA2121; font-style: italic\">&quot;&quot;&quot;</span><br><span style=\"color: #BA2121; font-style: italic\">  expects tpl_target_video_extraction_info: (video_fname, list({&#39;target_video_fname&#39;: target_video_fname, &#39;target_video_frames_dir&#39;: target_video_frames_dir, &#39;segment_url&#39;: str(url), &#39;segment_fname&#39;: str(url).split(&#39;/&#39;)[-1]}))</span><br><span style=\"color: #BA2121; font-style: italic\">  &quot;&quot;&quot;</span><br><br>  <span style=\"color: #408080; font-style: italic\"># # log_results = []</span><br>  target_video_fname <span style=\"color: #666666\">=</span> tpl_target_video_extraction_info[<span style=\"color: #666666\">0</span>]<br>  segment_dicts <span style=\"color: #666666\">=</span> <span style=\"color: #008000\">sorted</span>(tpl_target_video_extraction_info[<span style=\"color: #666666\">1</span>], key<span style=\"color: #666666\">=</span><span style=\"color: #008000; font-weight: bold\">lambda</span> segment_dict: segment_dict[<span style=\"color: #BA2121\">&#39;segment_fname&#39;</span>])<br>  target_video_frames_dir <span style=\"color: #666666\">=</span> segment_dicts[<span style=\"color: #666666\">0</span>][<span style=\"color: #BA2121\">&#39;target_video_frames_dir&#39;</span>]<br><br>  target_stitched_vid_name <span style=\"color: #666666\">=</span> target_video_frames_dir<span style=\"color: #666666\">.</span>split(os<span style=\"color: #666666\">.</span>path<span style=\"color: #666666\">.</span>sep)[<span style=\"color: #666666\">-1</span>]<br>  <span style=\"color: #008000; font-weight: bold\">if</span> <span style=\"color: #AA22FF; font-weight: bold\">not</span> fileio<span style=\"color: #666666\">.</span>dir_path_exists(target_video_frames_dir, d_pl_options)[<span style=\"color: #666666\">0</span>]:<br>    fileio<span style=\"color: #666666\">.</span>make_dirs(target_video_frames_dir, d_pl_options)<br><br>  video_dir <span style=\"color: #666666\">=</span> d_pl_options[fidscs_globals<span style=\"color: #666666\">.</span>OPT_NAME_VIDEO_DIR]<br>  local_vid_segment_paths <span style=\"color: #666666\">=</span> [fileio<span style=\"color: #666666\">.</span>path_join(video_dir, segment_dict[<span style=\"color: #BA2121\">&#39;segment_fname&#39;</span>]) <span style=\"color: #008000; font-weight: bold\">for</span> segment_dict <span style=\"color: #AA22FF; font-weight: bold\">in</span> segment_dicts]<br>  <span style=\"color: #008000; font-weight: bold\">for</span> segment_dict <span style=\"color: #AA22FF; font-weight: bold\">in</span> segment_dicts:<br>    segment_dict[<span style=\"color: #BA2121\">&#39;n_frames_extracted&#39;</span>] <span style=\"color: #666666\">=</span> <span style=\"color: #666666\">0</span><br><br>  <span style=\"color: #408080; font-style: italic\"># create local dir for extraction (since OpenCV works only with local file system currently) if we have GCS filesystem</span><br>  truly_local_vid_dir <span style=\"color: #666666\">=</span> <span style=\"color: #008000; font-weight: bold\">None</span><br>  truly_local_vid_dir_suffix <span style=\"color: #666666\">=</span> <span style=\"color: #008000; font-weight: bold\">None</span><br>  fs <span style=\"color: #666666\">=</span> FileSystems<span style=\"color: #666666\">.</span>get_filesystem(video_dir)<br>  <span style=\"color: #008000; font-weight: bold\">if</span> <span style=\"color: #008000\">type</span>(fs) <span style=\"color: #666666\">==</span> GCSFileSystem:<br>    truly_local_vid_dir_suffix <span style=\"color: #666666\">=</span> <span style=\"color: #BA2121\">&#39;/&#39;</span><span style=\"color: #666666\">.</span>join(video_dir<span style=\"color: #666666\">.</span>split(<span style=\"color: #BA2121\">&#39;/&#39;</span>)[<span style=\"color: #666666\">1</span>:])<br>    truly_local_vid_dir <span style=\"color: #666666\">=</span> <span style=\"color: #BA2121\">&#39;/tmp&#39;</span><span style=\"color: #666666\">+</span>truly_local_vid_dir_suffix<br>    <span style=\"color: #408080; font-style: italic\"># print(f&quot;\\t\\tGCS storage detected! Extracting frames to truly_local_vid_dir {truly_local_vid_dir} (and will then upload to GCS after that)...&quot;)</span><br>    <span style=\"color: #008000; font-weight: bold\">if</span> debug: <span style=\"color: #008000\">print</span>(<span style=\"color: #BA2121\">f&quot;</span><span style=\"color: #BB6622; font-weight: bold\">\\t\\t</span><span style=\"color: #BB6688; font-weight: bold\">{</span>truly_local_vid_dir<span style=\"color: #BB6688; font-weight: bold\">}</span><span style=\"color: #BA2121\"> exists: </span><span style=\"color: #BB6688; font-weight: bold\">{</span>fileio<span style=\"color: #666666\">.</span>dir_path_exists(truly_local_vid_dir, d_pl_options)<span style=\"color: #BB6688; font-weight: bold\">}</span><span style=\"color: #BA2121\">&quot;</span>)<br>    <span style=\"color: #008000; font-weight: bold\">if</span> <span style=\"color: #AA22FF; font-weight: bold\">not</span> fileio<span style=\"color: #666666\">.</span>dir_path_exists(truly_local_vid_dir, d_pl_options)[<span style=\"color: #666666\">0</span>]:<br>      <span style=\"color: #008000; font-weight: bold\">if</span> debug: <span style=\"color: #008000\">print</span>(<span style=\"color: #BA2121\">f&quot;</span><span style=\"color: #BB6622; font-weight: bold\">\\t</span><span style=\"color: #BA2121\">creating </span><span style=\"color: #BB6688; font-weight: bold\">{</span>truly_local_vid_dir<span style=\"color: #BB6688; font-weight: bold\">}</span><span style=\"color: #BA2121\">...&quot;</span>)<br>      truly_local_vid_dir_path_segs <span style=\"color: #666666\">=</span> truly_local_vid_dir<span style=\"color: #666666\">.</span>split(<span style=\"color: #BA2121\">&#39;/&#39;</span>)<br>      <span style=\"color: #008000; font-weight: bold\">if</span> debug: <span style=\"color: #008000\">print</span>(<span style=\"color: #BA2121\">f&quot;</span><span style=\"color: #BB6622; font-weight: bold\">\\t\\t</span><span style=\"color: #BA2121\">truly_local_vid_dir_path_segs: </span><span style=\"color: #BB6688; font-weight: bold\">{</span>truly_local_vid_dir_path_segs<span style=\"color: #BB6688; font-weight: bold\">}</span><span style=\"color: #BA2121\">&quot;</span>)<br>      s_cum_path <span style=\"color: #666666\">=</span> <span style=\"color: #BA2121\">&#39;&#39;</span><br>      <span style=\"color: #008000; font-weight: bold\">for</span> i, truly_local_vid_dir_path_seg <span style=\"color: #AA22FF; font-weight: bold\">in</span> <span style=\"color: #008000\">enumerate</span>(truly_local_vid_dir_path_segs[<span style=\"color: #666666\">1</span>:]):<br>        s_cum_path <span style=\"color: #666666\">+=</span> <span style=\"color: #BA2121\">&#39;/&#39;</span><span style=\"color: #666666\">+</span>truly_local_vid_dir_path_seg<br>        fileio<span style=\"color: #666666\">.</span>make_dirs(s_cum_path, d_pl_options)<br>      <span style=\"color: #008000; font-weight: bold\">if</span> debug: <span style=\"color: #008000\">print</span>(<span style=\"color: #BA2121\">f&quot;</span><span style=\"color: #BB6622; font-weight: bold\">\\t\\t</span><span style=\"color: #BB6688; font-weight: bold\">{</span>s_cum_path<span style=\"color: #BB6688; font-weight: bold\">}</span><span style=\"color: #BA2121\"> exists: </span><span style=\"color: #BB6688; font-weight: bold\">{</span>fileio<span style=\"color: #666666\">.</span>dir_path_exists(s_cum_path, d_pl_options)<span style=\"color: #BB6688; font-weight: bold\">}</span><span style=\"color: #BA2121\">&quot;</span>)<br><br>  vc_results <span style=\"color: #666666\">=</span> [capture_segment_video(local_vid_segment_path, truly_local_vid_dir, d_pl_options, debug<span style=\"color: #666666\">=</span>debug) <span style=\"color: #008000; font-weight: bold\">for</span> local_vid_segment_path <span style=\"color: #AA22FF; font-weight: bold\">in</span> local_vid_segment_paths]<br>  vid_caps <span style=\"color: #666666\">=</span> [vc_result[<span style=\"color: #666666\">0</span>] <span style=\"color: #008000; font-weight: bold\">for</span> vc_result <span style=\"color: #AA22FF; font-weight: bold\">in</span> vc_results]<br>  truly_local_target_video_frames_dirs <span style=\"color: #666666\">=</span> [vc_result[<span style=\"color: #666666\">1</span>] <span style=\"color: #008000; font-weight: bold\">for</span> vc_result <span style=\"color: #AA22FF; font-weight: bold\">in</span> vc_results]<br><br>  <span style=\"color: #008000; font-weight: bold\">for</span> seg_vid_cap <span style=\"color: #AA22FF; font-weight: bold\">in</span> vid_caps:<br>    seg_vid_cap<span style=\"color: #666666\">.</span>set(cv2<span style=\"color: #666666\">.</span>CAP_PROP_FPS, fidscs_globals<span style=\"color: #666666\">.</span>FPS)<br>  frame_counts <span style=\"color: #666666\">=</span> <span style=\"color: #008000\">list</span>(<span style=\"color: #008000\">map</span>(<span style=\"color: #008000; font-weight: bold\">lambda</span> vc: <span style=\"color: #008000\">int</span>(vc<span style=\"color: #666666\">.</span>get(cv2<span style=\"color: #666666\">.</span>CAP_PROP_FRAME_COUNT)), vid_caps))<br>  n_frames_expected <span style=\"color: #666666\">=</span> <span style=\"color: #008000\">sum</span>(frame_counts)<br><br>  failed_target_videos <span style=\"color: #666666\">=</span> []<br><br>  n_stitched_frames <span style=\"color: #666666\">=</span> <span style=\"color: #666666\">0</span><br>  <span style=\"color: #008000; font-weight: bold\">if</span> n_frames_expected <span style=\"color: #666666\">&gt;</span> <span style=\"color: #666666\">0</span>:<br>    <span style=\"color: #408080; font-style: italic\"># get count of existing stitched frames in target_stitched_vid_frames_dir</span><br>    n_stitched_frames <span style=\"color: #666666\">=</span> <span style=\"color: #008000\">len</span>(fileio<span style=\"color: #666666\">.</span>list_dir(target_video_frames_dir, d_pl_options))<br><br>    b_restitch <span style=\"color: #666666\">=</span> n_stitched_frames <span style=\"color: #666666\">&lt;</span> n_frames_expected<br>    n_stitched_frames <span style=\"color: #666666\">=</span> <span style=\"color: #666666\">0</span> <span style=\"color: #008000; font-weight: bold\">if</span> b_restitch <span style=\"color: #008000; font-weight: bold\">else</span> n_stitched_frames<br><br>    <span style=\"color: #008000; font-weight: bold\">for</span> i, seg_vid_cap <span style=\"color: #AA22FF; font-weight: bold\">in</span> <span style=\"color: #008000\">enumerate</span>(vid_caps):<br>      segment_dict <span style=\"color: #666666\">=</span> segment_dicts[i]<br>      _n_frames_expected <span style=\"color: #666666\">=</span> frame_counts[i]<br><br>      <span style=\"color: #008000; font-weight: bold\">if</span> b_restitch:<br>        success, frame <span style=\"color: #666666\">=</span> seg_vid_cap<span style=\"color: #666666\">.</span>read()<br>        n_frames <span style=\"color: #666666\">=</span> <span style=\"color: #666666\">0</span><br>        <span style=\"color: #008000; font-weight: bold\">while</span> success:<br>          write_frame_to_file(<br>            frame, <br>            n_stitched_frames, <br>            target_video_frames_dir, <br>            truly_local_target_video_frames_dir<span style=\"color: #666666\">=</span>truly_local_target_video_frames_dirs[i], <br>            debug<span style=\"color: #666666\">=</span>debug<br>          )<br><br>          n_frames <span style=\"color: #666666\">+=</span> <span style=\"color: #666666\">1</span><br>          n_stitched_frames <span style=\"color: #666666\">+=</span> <span style=\"color: #666666\">1</span><br>          success, frame <span style=\"color: #666666\">=</span> seg_vid_cap<span style=\"color: #666666\">.</span>read()<br><br>        seg_path <span style=\"color: #666666\">=</span> local_vid_segment_paths[i]<br>        seg_fname <span style=\"color: #666666\">=</span> seg_path<span style=\"color: #666666\">.</span>split(os<span style=\"color: #666666\">.</span>path<span style=\"color: #666666\">.</span>sep)[<span style=\"color: #666666\">-1</span>]<br>        <span style=\"color: #008000; font-weight: bold\">if</span> n_frames <span style=\"color: #666666\">!=</span> _n_frames_expected:<br>          <span style=\"color: #008000\">print</span>(<span style=\"color: #BA2121\">f&quot;</span><span style=\"color: #BB6688; font-weight: bold\">{</span>label<span style=\"color: #666666\">+</span><span style=\"color: #BA2121\">&#39;: &#39;</span> <span style=\"color: #008000; font-weight: bold\">if</span> <span style=\"color: #008000\">len</span>(label)<span style=\"color: #666666\">&gt;0</span> <span style=\"color: #008000; font-weight: bold\">else</span> <span style=\"color: #BA2121\">&#39;&#39;</span><span style=\"color: #BB6688; font-weight: bold\">}{</span>fidscs_globals<span style=\"color: #666666\">.</span>VALIDATION_FATAL_ERROR_TEXT<span style=\"color: #BB6688; font-weight: bold\">}</span><span style=\"color: #BA2121\"> Cannot stitch together target video </span><span style=\"color: #BB6688; font-weight: bold\">{</span>target_video_fname<span style=\"color: #BB6688; font-weight: bold\">}</span><span style=\"color: #BA2121\"> since </span><span style=\"color: #BB6688; font-weight: bold\">{</span>_n_frames_expected<span style=\"color: #BB6688; font-weight: bold\">}</span><span style=\"color: #BA2121\"> frames were expected from segment </span><span style=\"color: #BB6688; font-weight: bold\">{</span>seg_fname<span style=\"color: #BB6688; font-weight: bold\">}</span><span style=\"color: #BA2121\"> (</span><span style=\"color: #BB6688; font-weight: bold\">{</span>seg_path<span style=\"color: #BB6688; font-weight: bold\">}</span><span style=\"color: #BA2121\">) but only </span><span style=\"color: #BB6688; font-weight: bold\">{</span>n_frames<span style=\"color: #BB6688; font-weight: bold\">}</span><span style=\"color: #BA2121\"> were successfully extracted&quot;</span>)<br>          failed_target_videos<span style=\"color: #666666\">.</span>append(target_video_fname)<br>          fail <span style=\"color: #666666\">=</span> <span style=\"color: #008000; font-weight: bold\">True</span><br>          <span style=\"color: #008000; font-weight: bold\">break</span><br>        <span style=\"color: #008000; font-weight: bold\">else</span>:<br>          <span style=\"color: #008000\">print</span>(<span style=\"color: #BA2121\">f&quot;</span><span style=\"color: #BB6688; font-weight: bold\">{</span>label<span style=\"color: #666666\">+</span><span style=\"color: #BA2121\">&#39;: &#39;</span> <span style=\"color: #008000; font-weight: bold\">if</span> <span style=\"color: #008000\">len</span>(label)<span style=\"color: #666666\">&gt;0</span> <span style=\"color: #008000; font-weight: bold\">else</span> <span style=\"color: #BA2121\">&#39;&#39;</span><span style=\"color: #BB6688; font-weight: bold\">}</span><span style=\"color: #BA2121\">Added </span><span style=\"color: #BB6688; font-weight: bold\">{</span>n_stitched_frames<span style=\"color: #BB6688; font-weight: bold\">}</span><span style=\"color: #BA2121\"> frames from segment </span><span style=\"color: #BB6688; font-weight: bold\">{</span>seg_fname<span style=\"color: #BB6688; font-weight: bold\">}</span><span style=\"color: #BA2121\"> for target video </span><span style=\"color: #BB6688; font-weight: bold\">{</span>target_video_fname<span style=\"color: #BB6688; font-weight: bold\">}</span><span style=\"color: #BA2121\"> (stitched-frames dir </span><span style=\"color: #BB6688; font-weight: bold\">{</span>target_video_frames_dir<span style=\"color: #BB6688; font-weight: bold\">}</span><span style=\"color: #BA2121\">)&quot;</span>)<br><br>      <span style=\"color: #008000; font-weight: bold\">else</span>:<br>        n_frames <span style=\"color: #666666\">=</span> _n_frames_expected<br>        <span style=\"color: #008000\">print</span>(<span style=\"color: #BA2121\">f&quot;</span><span style=\"color: #BB6688; font-weight: bold\">{</span>label<span style=\"color: #666666\">+</span><span style=\"color: #BA2121\">&#39;: &#39;</span> <span style=\"color: #008000; font-weight: bold\">if</span> <span style=\"color: #008000\">len</span>(label)<span style=\"color: #666666\">&gt;0</span> <span style=\"color: #008000; font-weight: bold\">else</span> <span style=\"color: #BA2121\">&#39;&#39;</span><span style=\"color: #BB6688; font-weight: bold\">}</span><span style=\"color: #BA2121\">Found existing stiched-frames for </span><span style=\"color: #BB6688; font-weight: bold\">{</span>target_stitched_vid_name<span style=\"color: #BB6688; font-weight: bold\">}</span><span style=\"color: #BA2121\"> (</span><span style=\"color: #BB6688; font-weight: bold\">{</span>n_stitched_frames<span style=\"color: #BB6688; font-weight: bold\">}</span><span style=\"color: #BA2121\"> frames in </span><span style=\"color: #BB6688; font-weight: bold\">{</span>target_video_frames_dir<span style=\"color: #BB6688; font-weight: bold\">}</span><span style=\"color: #BA2121\">)&quot;</span>)<br><br>      segment_dict[<span style=\"color: #BA2121\">&#39;n_frames_extracted&#39;</span>] <span style=\"color: #666666\">=</span> n_frames<br><br>  <span style=\"color: #008000; font-weight: bold\">else</span>:<br>    <span style=\"color: #008000; font-weight: bold\">if</span> fidscs_globals<span style=\"color: #666666\">.</span>OUTPUT_INFO_LEVEL <span style=\"color: #666666\">&lt;=</span> fidscs_globals<span style=\"color: #666666\">.</span>OUTPUT_INFO_LEVEL__WARNING:<br>      <span style=\"color: #008000\">print</span>(<span style=\"color: #BA2121\">f&quot;</span><span style=\"color: #BB6622; font-weight: bold\">\\t</span><span style=\"color: #BB6688; font-weight: bold\">{</span>fidscs_globals<span style=\"color: #666666\">.</span>VALIDATION_WARNING_TEXT<span style=\"color: #BB6688; font-weight: bold\">}</span><span style=\"color: #BA2121\"> Cannot stitch together target video </span><span style=\"color: #BB6688; font-weight: bold\">{</span>target_video_fname<span style=\"color: #BB6688; font-weight: bold\">}</span><span style=\"color: #BA2121\"> since cv2.CAP_PROP_FRAME_COUNT reports segments have zero frames&quot;</span>)<br>    failed_target_videos<span style=\"color: #666666\">.</span>append(target_video_fname)<br>    fail <span style=\"color: #666666\">=</span> <span style=\"color: #008000; font-weight: bold\">True</span><br><br>  <span style=\"color: #008000; font-weight: bold\">if</span> truly_local_vid_dir <span style=\"color: #AA22FF; font-weight: bold\">is</span> <span style=\"color: #AA22FF; font-weight: bold\">not</span> <span style=\"color: #008000; font-weight: bold\">None</span>:<br>    <span style=\"color: #008000; font-weight: bold\">for</span> truly_local_target_video_frames_dir <span style=\"color: #AA22FF; font-weight: bold\">in</span> truly_local_target_video_frames_dirs:<br>      fileio<span style=\"color: #666666\">.</span>delete_file(truly_local_target_video_frames_dir, d_pl_options, recursive<span style=\"color: #666666\">=</span><span style=\"color: #008000; font-weight: bold\">True</span>, debug<span style=\"color: #666666\">=</span><span style=\"color: #008000; font-weight: bold\">True</span>)<br><br>  <span style=\"color: #008000; font-weight: bold\">return</span> [(tpl_target_video_extraction_info[<span style=\"color: #666666\">0</span>], n_stitched_frames, segment_dicts)]<br></pre></div>\n</body>\n</html>\n"
     },
     "metadata": {}
    }
   ],
   "source": [
    "disp_source(data_extractor__beam.beam_extract_frames)"
   ]
  },
  {
   "cell_type": "code",
   "execution_count": 19,
   "metadata": {},
   "outputs": [
    {
     "output_type": "display_data",
     "data": {
      "text/plain": "<IPython.core.display.Markdown object>",
      "text/markdown": "<!DOCTYPE html PUBLIC \"-//W3C//DTD HTML 4.01//EN\"\n   \"http://www.w3.org/TR/html4/strict.dtd\">\n<!--\ngenerated by Pygments <https://pygments.org/>\nCopyright 2006-2019 by the Pygments team.\nLicensed under the BSD license, see LICENSE for details.\n-->\n<html>\n<head>\n  <title></title>\n  <meta http-equiv=\"content-type\" content=\"text/html; charset=None\">\n  <style type=\"text/css\">\n/*\ngenerated by Pygments <https://pygments.org/>\nCopyright 2006-2019 by the Pygments team.\nLicensed under the BSD license, see LICENSE for details.\n*/\ntd.linenos { background-color: #f0f0f0; padding-right: 10px; }\nspan.lineno { background-color: #f0f0f0; padding: 0 5px 0 5px; }\npre { line-height: 125%; }\nbody .hll { background-color: #ffffcc }\nbody  { background: #f8f8f8; }\nbody .c { color: #408080; font-style: italic } /* Comment */\nbody .err { border: 1px solid #FF0000 } /* Error */\nbody .k { color: #008000; font-weight: bold } /* Keyword */\nbody .o { color: #666666 } /* Operator */\nbody .ch { color: #408080; font-style: italic } /* Comment.Hashbang */\nbody .cm { color: #408080; font-style: italic } /* Comment.Multiline */\nbody .cp { color: #BC7A00 } /* Comment.Preproc */\nbody .cpf { color: #408080; font-style: italic } /* Comment.PreprocFile */\nbody .c1 { color: #408080; font-style: italic } /* Comment.Single */\nbody .cs { color: #408080; font-style: italic } /* Comment.Special */\nbody .gd { color: #A00000 } /* Generic.Deleted */\nbody .ge { font-style: italic } /* Generic.Emph */\nbody .gr { color: #FF0000 } /* Generic.Error */\nbody .gh { color: #000080; font-weight: bold } /* Generic.Heading */\nbody .gi { color: #00A000 } /* Generic.Inserted */\nbody .go { color: #888888 } /* Generic.Output */\nbody .gp { color: #000080; font-weight: bold } /* Generic.Prompt */\nbody .gs { font-weight: bold } /* Generic.Strong */\nbody .gu { color: #800080; font-weight: bold } /* Generic.Subheading */\nbody .gt { color: #0044DD } /* Generic.Traceback */\nbody .kc { color: #008000; font-weight: bold } /* Keyword.Constant */\nbody .kd { color: #008000; font-weight: bold } /* Keyword.Declaration */\nbody .kn { color: #008000; font-weight: bold } /* Keyword.Namespace */\nbody .kp { color: #008000 } /* Keyword.Pseudo */\nbody .kr { color: #008000; font-weight: bold } /* Keyword.Reserved */\nbody .kt { color: #B00040 } /* Keyword.Type */\nbody .m { color: #666666 } /* Literal.Number */\nbody .s { color: #BA2121 } /* Literal.String */\nbody .na { color: #7D9029 } /* Name.Attribute */\nbody .nb { color: #008000 } /* Name.Builtin */\nbody .nc { color: #0000FF; font-weight: bold } /* Name.Class */\nbody .no { color: #880000 } /* Name.Constant */\nbody .nd { color: #AA22FF } /* Name.Decorator */\nbody .ni { color: #999999; font-weight: bold } /* Name.Entity */\nbody .ne { color: #D2413A; font-weight: bold } /* Name.Exception */\nbody .nf { color: #0000FF } /* Name.Function */\nbody .nl { color: #A0A000 } /* Name.Label */\nbody .nn { color: #0000FF; font-weight: bold } /* Name.Namespace */\nbody .nt { color: #008000; font-weight: bold } /* Name.Tag */\nbody .nv { color: #19177C } /* Name.Variable */\nbody .ow { color: #AA22FF; font-weight: bold } /* Operator.Word */\nbody .w { color: #bbbbbb } /* Text.Whitespace */\nbody .mb { color: #666666 } /* Literal.Number.Bin */\nbody .mf { color: #666666 } /* Literal.Number.Float */\nbody .mh { color: #666666 } /* Literal.Number.Hex */\nbody .mi { color: #666666 } /* Literal.Number.Integer */\nbody .mo { color: #666666 } /* Literal.Number.Oct */\nbody .sa { color: #BA2121 } /* Literal.String.Affix */\nbody .sb { color: #BA2121 } /* Literal.String.Backtick */\nbody .sc { color: #BA2121 } /* Literal.String.Char */\nbody .dl { color: #BA2121 } /* Literal.String.Delimiter */\nbody .sd { color: #BA2121; font-style: italic } /* Literal.String.Doc */\nbody .s2 { color: #BA2121 } /* Literal.String.Double */\nbody .se { color: #BB6622; font-weight: bold } /* Literal.String.Escape */\nbody .sh { color: #BA2121 } /* Literal.String.Heredoc */\nbody .si { color: #BB6688; font-weight: bold } /* Literal.String.Interpol */\nbody .sx { color: #008000 } /* Literal.String.Other */\nbody .sr { color: #BB6688 } /* Literal.String.Regex */\nbody .s1 { color: #BA2121 } /* Literal.String.Single */\nbody .ss { color: #19177C } /* Literal.String.Symbol */\nbody .bp { color: #008000 } /* Name.Builtin.Pseudo */\nbody .fm { color: #0000FF } /* Name.Function.Magic */\nbody .vc { color: #19177C } /* Name.Variable.Class */\nbody .vg { color: #19177C } /* Name.Variable.Global */\nbody .vi { color: #19177C } /* Name.Variable.Instance */\nbody .vm { color: #19177C } /* Name.Variable.Magic */\nbody .il { color: #666666 } /* Literal.Number.Integer.Long */\n\n  </style>\n</head>\n<body>\n<h2></h2>\n\n<div class=\"highlight\" style=\"background: #f8f8f8\"><pre style=\"line-height: 125%\"><span></span><span style=\"color: #008000; font-weight: bold\">def</span> <span style=\"color: #0000FF\">capture_segment_video</span>(vid_segment_path, truly_local_vid_dir, d_pl_options, debug<span style=\"color: #666666\">=</span><span style=\"color: #008000; font-weight: bold\">False</span>):<br>  video_fname <span style=\"color: #666666\">=</span> vid_segment_path<span style=\"color: #666666\">.</span>split(<span style=\"color: #BA2121\">&#39;/&#39;</span>)[<span style=\"color: #666666\">-1</span>]<br><br>  truly_local_target_video_frames_dir <span style=\"color: #666666\">=</span> <span style=\"color: #008000; font-weight: bold\">None</span><br><br>  fs <span style=\"color: #666666\">=</span> FileSystems<span style=\"color: #666666\">.</span>get_filesystem(vid_segment_path)<br>  <span style=\"color: #008000; font-weight: bold\">if</span> <span style=\"color: #008000\">type</span>(fs) <span style=\"color: #666666\">==</span> GCSFileSystem:<br>    <span style=\"color: #008000; font-weight: bold\">if</span> debug: <span style=\"color: #008000\">print</span>(<span style=\"color: #BA2121\">f&quot;</span><span style=\"color: #BB6622; font-weight: bold\">\\n\\n\\t</span><span style=\"color: #BA2121\">attempting to open video </span><span style=\"color: #BB6688; font-weight: bold\">{</span>vid_segment_path<span style=\"color: #BB6688; font-weight: bold\">}</span><span style=\"color: #BA2121\"> for reading...&quot;</span>)<br>    <span style=\"color: #008000; font-weight: bold\">with</span> fileio<span style=\"color: #666666\">.</span>open_file_read(vid_segment_path) <span style=\"color: #008000; font-weight: bold\">as</span> f:<br>      <span style=\"color: #008000; font-weight: bold\">if</span> debug: <span style=\"color: #008000\">print</span>(<span style=\"color: #BA2121\">f&quot;</span><span style=\"color: #BB6622; font-weight: bold\">\\t\\t</span><span style=\"color: #BA2121\">SUCCESS&quot;</span>)<br><br>      <span style=\"color: #408080; font-style: italic\"># now read from local bytes and write to GCS</span><br>      buffer <span style=\"color: #666666\">=</span> f<span style=\"color: #666666\">.</span>read()<br>      truly_local_vid_segment_path <span style=\"color: #666666\">=</span> truly_local_vid_dir<span style=\"color: #666666\">+</span><span style=\"color: #BA2121\">&#39;/&#39;</span><span style=\"color: #666666\">+</span>video_fname<br>      <span style=\"color: #008000; font-weight: bold\">if</span> debug: <span style=\"color: #008000\">print</span>(<span style=\"color: #BA2121\">f&quot;</span><span style=\"color: #BB6622; font-weight: bold\">\\t\\t</span><span style=\"color: #BA2121\">attempting to write </span><span style=\"color: #BB6688; font-weight: bold\">{</span>truly_local_vid_segment_path<span style=\"color: #BB6688; font-weight: bold\">}</span><span style=\"color: #BA2121\"> (truly) locally...&quot;</span>)<br>      <span style=\"color: #008000; font-weight: bold\">with</span> fileio<span style=\"color: #666666\">.</span>open_file_write(truly_local_vid_segment_path) <span style=\"color: #008000; font-weight: bold\">as</span> f_local:<br>        f_local<span style=\"color: #666666\">.</span>write(buffer)<br>        f_local<span style=\"color: #666666\">.</span>close()<br>        <span style=\"color: #008000; font-weight: bold\">if</span> debug: <span style=\"color: #008000\">print</span>(<span style=\"color: #BA2121\">f&quot;</span><span style=\"color: #BB6622; font-weight: bold\">\\t\\t\\t</span><span style=\"color: #BA2121\">SUCCESS&quot;</span>)<br>      f<span style=\"color: #666666\">.</span>close()<br><br>      vid_segment_path <span style=\"color: #666666\">=</span> truly_local_vid_segment_path<br><br>      <span style=\"color: #408080; font-style: italic\"># (truly local) dir for saving frames</span><br>      truly_local_target_video_frames_dir <span style=\"color: #666666\">=</span> truly_local_vid_dir<span style=\"color: #666666\">+</span><span style=\"color: #BA2121\">&#39;/&#39;</span><span style=\"color: #666666\">+</span>fidscs_globals<span style=\"color: #666666\">.</span>STICHED_VIDEO_FRAMES_DIR_NAME<span style=\"color: #666666\">+</span><span style=\"color: #BA2121\">&#39;/&#39;</span><span style=\"color: #666666\">+</span>video_fname<span style=\"color: #666666\">.</span>split(<span style=\"color: #BA2121\">&#39;.&#39;</span>)[<span style=\"color: #666666\">0</span>]<br>      <span style=\"color: #008000; font-weight: bold\">if</span> debug: <span style=\"color: #008000\">print</span>(<span style=\"color: #BA2121\">f&quot;</span><span style=\"color: #BB6622; font-weight: bold\">\\t\\t\\t</span><span style=\"color: #BA2121\">attempting to create directory </span><span style=\"color: #BB6688; font-weight: bold\">{</span>truly_local_target_video_frames_dir<span style=\"color: #BB6688; font-weight: bold\">}</span><span style=\"color: #BA2121\"> (truly_local_target_video_frames_dir) for frames extracted from (truly local) video </span><span style=\"color: #BB6688; font-weight: bold\">{</span>truly_local_vid_segment_path<span style=\"color: #BB6688; font-weight: bold\">}</span><span style=\"color: #BA2121\">...&quot;</span>)<br>      <span style=\"color: #008000; font-weight: bold\">if</span> <span style=\"color: #AA22FF; font-weight: bold\">not</span> fileio<span style=\"color: #666666\">.</span>dir_path_exists(truly_local_target_video_frames_dir, d_pl_options)[<span style=\"color: #666666\">0</span>]:<br>        <span style=\"color: #008000; font-weight: bold\">if</span> debug: <span style=\"color: #008000\">print</span>(<span style=\"color: #BA2121\">f&quot;</span><span style=\"color: #BB6622; font-weight: bold\">\\t\\t\\t\\t</span><span style=\"color: #BA2121\">creating </span><span style=\"color: #BB6688; font-weight: bold\">{</span>truly_local_target_video_frames_dir<span style=\"color: #BB6688; font-weight: bold\">}</span><span style=\"color: #BA2121\">...&quot;</span>)<br>        fileio<span style=\"color: #666666\">.</span>make_dirs(truly_local_target_video_frames_dir, d_pl_options)<br>      truly_local_target_video_frames_dir_exists <span style=\"color: #666666\">=</span> fileio<span style=\"color: #666666\">.</span>dir_path_exists(truly_local_target_video_frames_dir, d_pl_options)[<span style=\"color: #666666\">0</span>]<br>      <span style=\"color: #008000; font-weight: bold\">if</span> debug: <span style=\"color: #008000\">print</span>(<span style=\"color: #BA2121\">f&quot;</span><span style=\"color: #BB6622; font-weight: bold\">\\t\\t\\t\\t\\t</span><span style=\"color: #BB6688; font-weight: bold\">{</span>truly_local_target_video_frames_dir<span style=\"color: #BB6688; font-weight: bold\">}</span><span style=\"color: #BA2121\"> exists: </span><span style=\"color: #BB6688; font-weight: bold\">{</span>truly_local_target_video_frames_dir_exists<span style=\"color: #BB6688; font-weight: bold\">}</span><span style=\"color: #BA2121\">&quot;</span>)<br>      <span style=\"color: #008000; font-weight: bold\">if</span> <span style=\"color: #AA22FF; font-weight: bold\">not</span> truly_local_target_video_frames_dir_exists:<br>        <span style=\"color: #008000; font-weight: bold\">raise</span> <span style=\"color: #D2413A; font-weight: bold\">Exception</span>(<span style=\"color: #BA2121\">f&quot;required directory truly_local_target_video_frames_dir </span><span style=\"color: #BB6688; font-weight: bold\">{</span>truly_local_target_video_frames_dir_exists<span style=\"color: #BB6688; font-weight: bold\">}</span><span style=\"color: #BA2121\"> does not exist&quot;</span>)<br><br>  <span style=\"color: #008000; font-weight: bold\">if</span> debug: <span style=\"color: #008000\">print</span>(<span style=\"color: #BA2121\">f&quot;</span><span style=\"color: #BB6622; font-weight: bold\">\\t\\t\\t</span><span style=\"color: #BA2121\">attempting to capture (cv2.VideoCapture) video </span><span style=\"color: #BB6688; font-weight: bold\">{</span>vid_segment_path<span style=\"color: #BB6688; font-weight: bold\">}</span><span style=\"color: #BA2121\">)...&quot;</span>)<br><br>  <span style=\"color: #408080; font-style: italic\"># finally, capture the video bytes</span><br>  <span style=\"color: #008000; font-weight: bold\">return</span> cv2<span style=\"color: #666666\">.</span>VideoCapture(vid_segment_path), truly_local_target_video_frames_dir<br></pre></div>\n</body>\n</html>\n"
     },
     "metadata": {}
    }
   ],
   "source": [
    "disp_source(data_extractor__beam.capture_segment_video)"
   ]
  },
  {
   "cell_type": "code",
   "execution_count": 20,
   "metadata": {},
   "outputs": [
    {
     "output_type": "display_data",
     "data": {
      "text/plain": "<IPython.core.display.Markdown object>",
      "text/markdown": "<!DOCTYPE html PUBLIC \"-//W3C//DTD HTML 4.01//EN\"\n   \"http://www.w3.org/TR/html4/strict.dtd\">\n<!--\ngenerated by Pygments <https://pygments.org/>\nCopyright 2006-2019 by the Pygments team.\nLicensed under the BSD license, see LICENSE for details.\n-->\n<html>\n<head>\n  <title></title>\n  <meta http-equiv=\"content-type\" content=\"text/html; charset=None\">\n  <style type=\"text/css\">\n/*\ngenerated by Pygments <https://pygments.org/>\nCopyright 2006-2019 by the Pygments team.\nLicensed under the BSD license, see LICENSE for details.\n*/\ntd.linenos { background-color: #f0f0f0; padding-right: 10px; }\nspan.lineno { background-color: #f0f0f0; padding: 0 5px 0 5px; }\npre { line-height: 125%; }\nbody .hll { background-color: #ffffcc }\nbody  { background: #f8f8f8; }\nbody .c { color: #408080; font-style: italic } /* Comment */\nbody .err { border: 1px solid #FF0000 } /* Error */\nbody .k { color: #008000; font-weight: bold } /* Keyword */\nbody .o { color: #666666 } /* Operator */\nbody .ch { color: #408080; font-style: italic } /* Comment.Hashbang */\nbody .cm { color: #408080; font-style: italic } /* Comment.Multiline */\nbody .cp { color: #BC7A00 } /* Comment.Preproc */\nbody .cpf { color: #408080; font-style: italic } /* Comment.PreprocFile */\nbody .c1 { color: #408080; font-style: italic } /* Comment.Single */\nbody .cs { color: #408080; font-style: italic } /* Comment.Special */\nbody .gd { color: #A00000 } /* Generic.Deleted */\nbody .ge { font-style: italic } /* Generic.Emph */\nbody .gr { color: #FF0000 } /* Generic.Error */\nbody .gh { color: #000080; font-weight: bold } /* Generic.Heading */\nbody .gi { color: #00A000 } /* Generic.Inserted */\nbody .go { color: #888888 } /* Generic.Output */\nbody .gp { color: #000080; font-weight: bold } /* Generic.Prompt */\nbody .gs { font-weight: bold } /* Generic.Strong */\nbody .gu { color: #800080; font-weight: bold } /* Generic.Subheading */\nbody .gt { color: #0044DD } /* Generic.Traceback */\nbody .kc { color: #008000; font-weight: bold } /* Keyword.Constant */\nbody .kd { color: #008000; font-weight: bold } /* Keyword.Declaration */\nbody .kn { color: #008000; font-weight: bold } /* Keyword.Namespace */\nbody .kp { color: #008000 } /* Keyword.Pseudo */\nbody .kr { color: #008000; font-weight: bold } /* Keyword.Reserved */\nbody .kt { color: #B00040 } /* Keyword.Type */\nbody .m { color: #666666 } /* Literal.Number */\nbody .s { color: #BA2121 } /* Literal.String */\nbody .na { color: #7D9029 } /* Name.Attribute */\nbody .nb { color: #008000 } /* Name.Builtin */\nbody .nc { color: #0000FF; font-weight: bold } /* Name.Class */\nbody .no { color: #880000 } /* Name.Constant */\nbody .nd { color: #AA22FF } /* Name.Decorator */\nbody .ni { color: #999999; font-weight: bold } /* Name.Entity */\nbody .ne { color: #D2413A; font-weight: bold } /* Name.Exception */\nbody .nf { color: #0000FF } /* Name.Function */\nbody .nl { color: #A0A000 } /* Name.Label */\nbody .nn { color: #0000FF; font-weight: bold } /* Name.Namespace */\nbody .nt { color: #008000; font-weight: bold } /* Name.Tag */\nbody .nv { color: #19177C } /* Name.Variable */\nbody .ow { color: #AA22FF; font-weight: bold } /* Operator.Word */\nbody .w { color: #bbbbbb } /* Text.Whitespace */\nbody .mb { color: #666666 } /* Literal.Number.Bin */\nbody .mf { color: #666666 } /* Literal.Number.Float */\nbody .mh { color: #666666 } /* Literal.Number.Hex */\nbody .mi { color: #666666 } /* Literal.Number.Integer */\nbody .mo { color: #666666 } /* Literal.Number.Oct */\nbody .sa { color: #BA2121 } /* Literal.String.Affix */\nbody .sb { color: #BA2121 } /* Literal.String.Backtick */\nbody .sc { color: #BA2121 } /* Literal.String.Char */\nbody .dl { color: #BA2121 } /* Literal.String.Delimiter */\nbody .sd { color: #BA2121; font-style: italic } /* Literal.String.Doc */\nbody .s2 { color: #BA2121 } /* Literal.String.Double */\nbody .se { color: #BB6622; font-weight: bold } /* Literal.String.Escape */\nbody .sh { color: #BA2121 } /* Literal.String.Heredoc */\nbody .si { color: #BB6688; font-weight: bold } /* Literal.String.Interpol */\nbody .sx { color: #008000 } /* Literal.String.Other */\nbody .sr { color: #BB6688 } /* Literal.String.Regex */\nbody .s1 { color: #BA2121 } /* Literal.String.Single */\nbody .ss { color: #19177C } /* Literal.String.Symbol */\nbody .bp { color: #008000 } /* Name.Builtin.Pseudo */\nbody .fm { color: #0000FF } /* Name.Function.Magic */\nbody .vc { color: #19177C } /* Name.Variable.Class */\nbody .vg { color: #19177C } /* Name.Variable.Global */\nbody .vi { color: #19177C } /* Name.Variable.Instance */\nbody .vm { color: #19177C } /* Name.Variable.Magic */\nbody .il { color: #666666 } /* Literal.Number.Integer.Long */\n\n  </style>\n</head>\n<body>\n<h2></h2>\n\n<div class=\"highlight\" style=\"background: #f8f8f8\"><pre style=\"line-height: 125%\"><span></span><span style=\"color: #008000; font-weight: bold\">def</span> <span style=\"color: #0000FF\">write_frame_to_file</span>(frame, index, target_video_frames_dir, truly_local_target_video_frames_dir<span style=\"color: #666666\">=</span><span style=\"color: #008000; font-weight: bold\">None</span>, debug<span style=\"color: #666666\">=</span><span style=\"color: #008000; font-weight: bold\">False</span>):<br>  local_frame_path <span style=\"color: #666666\">=</span> fileio<span style=\"color: #666666\">.</span>path_join(target_video_frames_dir, <span style=\"color: #BA2121\">f&quot;</span><span style=\"color: #BB6688; font-weight: bold\">{</span>index<span style=\"color: #BB6688; font-weight: bold\">}</span><span style=\"color: #BA2121\">.jpg&quot;</span>) <span style=\"color: #408080; font-style: italic\"># this is the final frame path</span><br><br>  <span style=\"color: #008000; font-weight: bold\">if</span> truly_local_target_video_frames_dir <span style=\"color: #AA22FF; font-weight: bold\">is</span> <span style=\"color: #AA22FF; font-weight: bold\">not</span> <span style=\"color: #008000; font-weight: bold\">None</span>:<br>    <span style=\"color: #408080; font-style: italic\"># write truly local frame file</span><br>    truly_local_frame_path <span style=\"color: #666666\">=</span> truly_local_target_video_frames_dir<span style=\"color: #666666\">+</span><span style=\"color: #BA2121\">&#39;/&#39;</span><span style=\"color: #666666\">+</span><span style=\"color: #BA2121\">f&quot;</span><span style=\"color: #BB6688; font-weight: bold\">{</span>index<span style=\"color: #BB6688; font-weight: bold\">}</span><span style=\"color: #BA2121\">.jpg&quot;</span><br>    <span style=\"color: #008000; font-weight: bold\">if</span> debug: <span style=\"color: #008000\">print</span>(<span style=\"color: #BA2121\">f&quot;</span><span style=\"color: #BB6622; font-weight: bold\">\\t\\t\\t\\t\\t\\t</span><span style=\"color: #BA2121\">attempting to write </span><span style=\"color: #BB6688; font-weight: bold\">{</span>truly_local_frame_path<span style=\"color: #BB6688; font-weight: bold\">}</span><span style=\"color: #BA2121\"> frame...&quot;</span>)<br>    cv2<span style=\"color: #666666\">.</span>imwrite(truly_local_frame_path, frame)<br>    <span style=\"color: #008000; font-weight: bold\">if</span> debug: <span style=\"color: #008000\">print</span>(<span style=\"color: #BA2121\">f&quot;</span><span style=\"color: #BB6622; font-weight: bold\">\\t\\t\\t\\t\\t\\t\\t</span><span style=\"color: #BA2121\">SUCCESS&quot;</span>)<br>    <span style=\"color: #008000; font-weight: bold\">if</span> debug: <span style=\"color: #008000\">print</span>(<span style=\"color: #BA2121\">f&quot;</span><span style=\"color: #BB6622; font-weight: bold\">\\t\\t\\t\\t\\t\\t\\t</span><span style=\"color: #BA2121\">attempting to open </span><span style=\"color: #BB6688; font-weight: bold\">{</span>truly_local_frame_path<span style=\"color: #BB6688; font-weight: bold\">}</span><span style=\"color: #BA2121\"> for read...&quot;</span>)<br>    <span style=\"color: #008000; font-weight: bold\">with</span> fileio<span style=\"color: #666666\">.</span>open_file_read(truly_local_frame_path) <span style=\"color: #008000; font-weight: bold\">as</span> f_truly_local_frame:<br>      buffer <span style=\"color: #666666\">=</span> f_truly_local_frame<span style=\"color: #666666\">.</span>read()<br>      <span style=\"color: #008000; font-weight: bold\">if</span> debug: <span style=\"color: #008000\">print</span>(<span style=\"color: #BA2121\">f&quot;</span><span style=\"color: #BB6622; font-weight: bold\">\\t\\t\\t\\t\\t\\t\\t\\t</span><span style=\"color: #BA2121\">SUCCESS&quot;</span>)<br>      <span style=\"color: #008000; font-weight: bold\">if</span> debug: <span style=\"color: #008000\">print</span>(<span style=\"color: #BA2121\">f&quot;</span><span style=\"color: #BB6622; font-weight: bold\">\\t\\t\\t\\t\\t\\t\\t\\t\\t</span><span style=\"color: #BA2121\">attempting to open </span><span style=\"color: #BB6688; font-weight: bold\">{</span>local_frame_path<span style=\"color: #BB6688; font-weight: bold\">}</span><span style=\"color: #BA2121\"> for final write...&quot;</span>)<br>      <span style=\"color: #008000; font-weight: bold\">with</span> fileio<span style=\"color: #666666\">.</span>open_file_write(local_frame_path) <span style=\"color: #008000; font-weight: bold\">as</span> f_frame_final:<br>        f_frame_final<span style=\"color: #666666\">.</span>write(buffer)<br>        f_frame_final<span style=\"color: #666666\">.</span>close()<br>        <span style=\"color: #008000; font-weight: bold\">if</span> debug: <span style=\"color: #008000\">print</span>(<span style=\"color: #BA2121\">f&quot;</span><span style=\"color: #BB6622; font-weight: bold\">\\t\\t\\t\\t\\t\\t\\t\\t\\t\\t</span><span style=\"color: #BA2121\">SUCCESS&quot;</span>)<br>      buffer <span style=\"color: #666666\">=</span> <span style=\"color: #008000; font-weight: bold\">None</span><br>      f_truly_local_frame<span style=\"color: #666666\">.</span>close()<br><br>  <span style=\"color: #008000; font-weight: bold\">else</span>:<br>    <span style=\"color: #008000; font-weight: bold\">if</span> debug: <span style=\"color: #008000\">print</span>(<span style=\"color: #BA2121\">f&quot;</span><span style=\"color: #BB6622; font-weight: bold\">\\t\\t\\t\\t\\t\\t\\t\\t\\t</span><span style=\"color: #BA2121\">attempting to open </span><span style=\"color: #BB6688; font-weight: bold\">{</span>local_frame_path<span style=\"color: #BB6688; font-weight: bold\">}</span><span style=\"color: #BA2121\"> for final write...&quot;</span>)<br>    cv2<span style=\"color: #666666\">.</span>imwrite(local_frame_path, frame)<br>    <span style=\"color: #008000; font-weight: bold\">if</span> debug: <span style=\"color: #008000\">print</span>(<span style=\"color: #BA2121\">f&quot;</span><span style=\"color: #BB6622; font-weight: bold\">\\t\\t\\t\\t\\t\\t\\t\\t\\t\\t</span><span style=\"color: #BA2121\">SUCCESS&quot;</span>)<br></pre></div>\n</body>\n</html>\n"
     },
     "metadata": {}
    }
   ],
   "source": [
    "disp_source(data_extractor__beam.write_frame_to_file)"
   ]
  },
  {
   "source": [
    "<p><br>\n",
    "\n",
    "We are now ready to execute the \"download-videos-extract-frames\" pipeline.  But first we must...\n",
    "\n",
    "<p><br>\n",
    "\n",
    "#### Create the \"download-videos-extract-frames\" pipeline execution graph"
   ],
   "cell_type": "markdown",
   "metadata": {}
  },
  {
   "cell_type": "code",
   "execution_count": 21,
   "metadata": {},
   "outputs": [
    {
     "output_type": "stream",
     "name": "stdout",
     "text": [
      "PipelineOptions:\n{'runner': 'InteractiveRunner', 'streaming': False, 'beam_services': {}, 'type_check_strictness': 'DEFAULT_TO_ANY', 'type_check_additional': '', 'pipeline_type_check': True, 'runtime_type_check': False, 'performance_runtime_type_check': False, 'direct_runner_use_stacked_bundle': True, 'direct_runner_bundle_repeat': 0, 'direct_num_workers': 0, 'direct_running_mode': 'multi_threading', 'dataflow_endpoint': 'https://dataflow.googleapis.com', 'project': 'sc-fids-capstone', 'job_name': 'sc-fids-capstone-etl-demo--download-videos-extract-frames', 'staging_location': None, 'temp_location': None, 'region': None, 'service_account_email': None, 'no_auth': False, 'template_location': None, 'labels': None, 'update': False, 'transform_name_mapping': None, 'enable_streaming_engine': False, 'dataflow_kms_key': None, 'flexrs_goal': None, 'hdfs_host': None, 'hdfs_port': None, 'hdfs_user': None, 'hdfs_full_urls': False, 'num_workers': None, 'max_num_workers': None, 'autoscaling_algorithm': None, 'machine_type': None, 'disk_size_gb': None, 'disk_type': None, 'worker_region': None, 'worker_zone': None, 'zone': None, 'network': None, 'subnetwork': None, 'worker_harness_container_image': None, 'sdk_harness_container_image_overrides': None, 'use_public_ips': None, 'min_cpu_platform': None, 'dataflow_worker_jar': None, 'dataflow_job_file': None, 'experiments': None, 'number_of_worker_harness_threads': None, 'profile_cpu': False, 'profile_memory': False, 'profile_location': None, 'profile_sample_rate': 1.0, 'requirements_file': None, 'requirements_cache': None, 'setup_file': None, 'beam_plugins': None, 'save_main_session': False, 'sdk_location': 'default', 'extra_packages': None, 'prebuild_sdk_container_engine': None, 'prebuild_sdk_container_base_image': None, 'docker_registry_push_url': None, 'job_endpoint': None, 'artifact_endpoint': None, 'job_server_timeout': 60, 'environment_type': 'DOCKER', 'environment_config': None, 'environment_options': None, 'sdk_worker_parallelism': 1, 'environment_cache_millis': 0, 'output_executable_path': None, 'artifacts_dir': None, 'job_port': 0, 'artifact_port': 0, 'expansion_port': 0, 'flink_master': '[auto]', 'flink_version': '1.10', 'flink_job_server_jar': None, 'flink_submit_uber_jar': False, 'spark_master_url': 'local[4]', 'spark_job_server_jar': None, 'spark_submit_uber_jar': False, 'spark_rest_url': None, 'on_success_matcher': None, 'dry_run': False, 'wait_until_finish_duration': None, 'pubsubRootUrl': None, 's3_access_key_id': None, 's3_secret_access_key': None, 's3_session_token': None, 's3_endpoint_url': None, 's3_region_name': None, 's3_api_version': None, 's3_verify': None, 's3_disable_ssl': False, 'fidscs_capstone_max_target_videos': 50, 'fidscs_capstone_work_dir': '/tmp', 'fidscs_capstone_data_dir': '/tmp/data', 'fidscs_capstone_tmp_dir': '/tmp/data/tmp', 'fidscs_capstone_videos_dir': '/tmp/data/videos', 'fidscs_capstone_stitched_video_frames_dir': '/tmp/data/stitched_video_frames', 'fidscs_capstone_corpus_dir': '/tmp/data/tmp/ncslgr-xml', 'fidscs_capstone_corpus_ds_path': '/tmp/data/ncslgr-corpus-index.csv', 'fidscs_capstone_document_asl_cconsultant_ds_path': '/tmp/data/document-consultant-index.csv', 'fidscs_capstone_asl_consultant_ds_path': '/tmp/data/consultant-index.csv', 'fidscs_capstone_video_indexes_dir': '/tmp/data/tmp/video_index-20120129', 'fidscs_capstone_selected_video_index_path': '/tmp/data/tmp/video_index-20120129/files_by_video_name.csv', 'fidscs_capstone_video_ds_path': '/tmp/data/document-consultant-targetvideo-index.csv', 'fidscs_capstone_video_segment_ds_path': '/tmp/data/document-consultant-targetvideo-segment-index.csv', 'fidscs_capstone_video_frame_ds_path': '/tmp/data/document-consultant-targetvideo-frame-index.csv', 'fidscs_capstone_utterance_ds_path': '/tmp/data/document-consultant-utterance-index.csv', 'fidscs_capstone_utterance_video_ds_path': '/tmp/data/document-consultant-utterance-targetvideo-index.csv', 'fidscs_capstone_utterance_token_ds_path': '/tmp/data/document-consultant-utterance-token-index.csv', 'fidscs_capstone_utterance_token_frame_ds_path': '/tmp/data/document-consultant-targetvideo-utterance-token-frame-index.csv', 'fidscs_capstone_vocabulary_ds_path': '/tmp/data/vocabulary-index.csv'}\n\n"
     ]
    }
   ],
   "source": [
    "job_suffix = 'download-videos-extract-frames'\n",
    "job_name = f\"{PIPELINE_BASE_JOB_NAME}--{job_suffix}\"\n",
    "options.update({\n",
    "    'job_name': job_name\n",
    "})\n",
    "pipeline_options = PipelineOptions(flags=[], **options) # easier to pass in options from command-line this way\n",
    "print(f\"PipelineOptions:\\n{pipeline_options.get_all_options()}\\n\")\n",
    "\n",
    "pl = beam.Pipeline(options=pipeline_options)\n",
    "\n",
    "full_target_vid_index_schemad_pcoll = beam__common.pl__1__read_target_vid_index_csv(pl)\n",
    "filtered_target_vid_index_schemad_pcoll = data_extractor__beam.pl__2__filter_target_vid_index(full_target_vid_index_schemad_pcoll, pl._options._all_options)\n",
    "merged_download_results = data_extractor__beam.pl__3__parallel_download_videos(filtered_target_vid_index_schemad_pcoll, pl._options._all_options, n_partitions)\n",
    "merged_extraction_results = data_extractor__beam.pl__4__parallel_extract_target_video_frames(merged_download_results, pl._options._all_options, n_partitions)"
   ]
  },
  {
   "source": [
    "This time we would like to observe the results (collected into Pandas `DataFrame`s)..."
   ],
   "cell_type": "markdown",
   "metadata": {}
  },
  {
   "cell_type": "code",
   "execution_count": 22,
   "metadata": {},
   "outputs": [],
   "source": [
    "# we require this in order to make use of ib.show() (which provides visualization of the pcolls specified) or ib.collect() (which creates a pandas dataframe from a pcoll)\n",
    "    # but all pcolls we wish to visualize must be created prior to executing the following line\n",
    "ib.watch(locals())"
   ]
  },
  {
   "source": [
    "And calling `ib.collect` forces the pipeline to actually run...\n",
    "\n",
    "<p><br>\n",
    "\n",
    "#### Run the full \"download-videos-extract-frames\" pipeline \n",
    "\n",
    "We do this by collecting `Pcollection`s into Pandas `DataFrame`s for viewing with *Interactive Beam*."
   ],
   "cell_type": "markdown",
   "metadata": {}
  },
  {
   "cell_type": "code",
   "execution_count": 23,
   "metadata": {},
   "outputs": [
    {
     "output_type": "stream",
     "name": "stdout",
     "text": [
      "\n\n****************************** Starting pipeline job: sc-fids-capstone-etl-demo--download-videos-extract-frames ******************************\n"
     ]
    },
    {
     "output_type": "display_data",
     "data": {
      "text/plain": "<IPython.core.display.HTML object>",
      "text/html": "\n            <link rel=\"stylesheet\" href=\"https://stackpath.bootstrapcdn.com/bootstrap/4.4.1/css/bootstrap.min.css\" integrity=\"sha384-Vkoo8x4CGsO3+Hhxv8T/Q5PaXtkKtu6ug5TOeNV6gBiFeWPGFN9MuhOf23Q9Ifjh\" crossorigin=\"anonymous\">\n            <div id=\"progress_indicator_6425b9b309b1aef9800555a22905a5b3\" class=\"spinner-border text-info\" role=\"status\">\n            </div>"
     },
     "metadata": {}
    },
    {
     "output_type": "display_data",
     "data": {
      "application/javascript": "\n        if (typeof window.interactive_beam_jquery == 'undefined') {\n          var jqueryScript = document.createElement('script');\n          jqueryScript.src = 'https://code.jquery.com/jquery-3.4.1.slim.min.js';\n          jqueryScript.type = 'text/javascript';\n          jqueryScript.onload = function() {\n            var datatableScript = document.createElement('script');\n            datatableScript.src = 'https://cdn.datatables.net/1.10.20/js/jquery.dataTables.min.js';\n            datatableScript.type = 'text/javascript';\n            datatableScript.onload = function() {\n              window.interactive_beam_jquery = jQuery.noConflict(true);\n              window.interactive_beam_jquery(document).ready(function($){\n                \n            $(\"#progress_indicator_6425b9b309b1aef9800555a22905a5b3\").remove();\n              });\n            }\n            document.head.appendChild(datatableScript);\n          };\n          document.head.appendChild(jqueryScript);\n        } else {\n          window.interactive_beam_jquery(document).ready(function($){\n            \n            $(\"#progress_indicator_6425b9b309b1aef9800555a22905a5b3\").remove();\n          });\n        }"
     },
     "metadata": {}
    },
    {
     "output_type": "display_data",
     "data": {
      "text/plain": "<IPython.core.display.HTML object>",
      "text/html": "\n            <link rel=\"stylesheet\" href=\"https://stackpath.bootstrapcdn.com/bootstrap/4.4.1/css/bootstrap.min.css\" integrity=\"sha384-Vkoo8x4CGsO3+Hhxv8T/Q5PaXtkKtu6ug5TOeNV6gBiFeWPGFN9MuhOf23Q9Ifjh\" crossorigin=\"anonymous\">\n            <div id=\"progress_indicator_9a489fb2d3e03ca2717567677a4de5c1\" class=\"spinner-border text-info\" role=\"status\">\n            </div>"
     },
     "metadata": {}
    },
    {
     "output_type": "display_data",
     "data": {
      "application/javascript": "\n        if (typeof window.interactive_beam_jquery == 'undefined') {\n          var jqueryScript = document.createElement('script');\n          jqueryScript.src = 'https://code.jquery.com/jquery-3.4.1.slim.min.js';\n          jqueryScript.type = 'text/javascript';\n          jqueryScript.onload = function() {\n            var datatableScript = document.createElement('script');\n            datatableScript.src = 'https://cdn.datatables.net/1.10.20/js/jquery.dataTables.min.js';\n            datatableScript.type = 'text/javascript';\n            datatableScript.onload = function() {\n              window.interactive_beam_jquery = jQuery.noConflict(true);\n              window.interactive_beam_jquery(document).ready(function($){\n                \n            $(\"#progress_indicator_9a489fb2d3e03ca2717567677a4de5c1\").remove();\n              });\n            }\n            document.head.appendChild(datatableScript);\n          };\n          document.head.appendChild(jqueryScript);\n        } else {\n          window.interactive_beam_jquery(document).ready(function($){\n            \n            $(\"#progress_indicator_9a489fb2d3e03ca2717567677a4de5c1\").remove();\n          });\n        }"
     },
     "metadata": {}
    },
    {
     "output_type": "display_data",
     "data": {
      "text/plain": "<IPython.core.display.HTML object>",
      "text/html": "\n            <link rel=\"stylesheet\" href=\"https://stackpath.bootstrapcdn.com/bootstrap/4.4.1/css/bootstrap.min.css\" integrity=\"sha384-Vkoo8x4CGsO3+Hhxv8T/Q5PaXtkKtu6ug5TOeNV6gBiFeWPGFN9MuhOf23Q9Ifjh\" crossorigin=\"anonymous\">\n            <div id=\"progress_indicator_09d55d28d5552d21ccc9c9d83da8f13a\" class=\"spinner-border text-info\" role=\"status\">\n            </div>"
     },
     "metadata": {}
    },
    {
     "output_type": "stream",
     "name": "stdout",
     "text": [
      "\tp3: Downloaded http://csr.bu.edu/asl/private/downloads/2002_8_15/_1508_small_3.mov to /tmp/data/videos/_1508_small_3.mov\n",
      "\tp8: Downloaded http://csr.bu.edu/asl/private/downloads/2002_8_15/_1510_small_0.mov to /tmp/data/videos/_1510_small_0.mov\n",
      "\tp3: Downloaded http://csr.bu.edu/asl/private/downloads/2002_8_15/_1510_small_1.mov to /tmp/data/videos/_1510_small_1.mov\n",
      "\tp7: Downloaded http://csr.bu.edu/asl/private/downloads/2002_8_15/_1510_small_3.mov to /tmp/data/videos/_1510_small_3.mov\n",
      "\tp7: Downloaded http://csr.bu.edu/asl/private/downloads/2002_8_15/_1512_small_0.mov to /tmp/data/videos/_1512_small_0.mov\n",
      "\tp6: Downloaded http://csr.bu.edu/asl/private/downloads/2002_8_15/_1512_small_1.mov to /tmp/data/videos/_1512_small_1.mov\n",
      "\tp1: Downloaded http://csr.bu.edu/asl/private/downloads/2002_8_15/_1512_small_3.mov to /tmp/data/videos/_1512_small_3.mov\n",
      "\tp8: Downloaded http://csr.bu.edu/asl/private/downloads/2002_8_15/_1513_small_0.mov to /tmp/data/videos/_1513_small_0.mov\n",
      "\tp7: Downloaded http://csr.bu.edu/asl/private/downloads/2002_8_15/_1513_small_1.mov to /tmp/data/videos/_1513_small_1.mov\n",
      "\tp1: Downloaded http://csr.bu.edu/asl/private/downloads/2002_8_15/_1513_small_3.mov to /tmp/data/videos/_1513_small_3.mov\n",
      "\tp1: Downloaded http://csr.bu.edu/asl/private/downloads/2002_8_15/_1516_small_0.mov to /tmp/data/videos/_1516_small_0.mov\n",
      "\tp5: Downloaded http://csr.bu.edu/asl/private/downloads/2002_8_15/_1516_small_1.mov to /tmp/data/videos/_1516_small_1.mov\n",
      "\tp5: Downloaded http://csr.bu.edu/asl/private/downloads/2002_8_15/_1516_small_3.mov to /tmp/data/videos/_1516_small_3.mov\n",
      "\tp6: Downloaded http://csr.bu.edu/asl/private/downloads/2002_8_15/_1522_small_0.mov to /tmp/data/videos/_1522_small_0.mov\n",
      "\tp2: Downloaded http://csr.bu.edu/asl/private/downloads/2002_8_15/_1522_small_1.mov to /tmp/data/videos/_1522_small_1.mov\n",
      "\tp8: Downloaded http://csr.bu.edu/asl/private/downloads/2002_8_15/_1522_small_3.mov to /tmp/data/videos/_1522_small_3.mov\n",
      "\tp7: Downloaded http://csr.bu.edu/asl/private/downloads/2002_8_15/_1523_small_0.mov to /tmp/data/videos/_1523_small_0.mov\n",
      "\tp6: Downloaded http://csr.bu.edu/asl/private/downloads/2002_8_15/_1523_small_1.mov to /tmp/data/videos/_1523_small_1.mov\n",
      "\tp2: Downloaded http://csr.bu.edu/asl/private/downloads/2002_8_15/_1523_small_3.mov to /tmp/data/videos/_1523_small_3.mov\n",
      "\tp1: Downloaded http://csr.bu.edu/asl/private/downloads/2002_8_15/_1524_small_0.mov to /tmp/data/videos/_1524_small_0.mov\n",
      "\tp5: Downloaded http://csr.bu.edu/asl/private/downloads/2002_8_15/_1524_small_1.mov to /tmp/data/videos/_1524_small_1.mov\n",
      "\tp5: Downloaded http://csr.bu.edu/asl/private/downloads/2002_8_15/_1524_small_3.mov to /tmp/data/videos/_1524_small_3.mov\n",
      "\tp8: Downloaded http://csr.bu.edu/asl/private/downloads/2002_8_15/_1525_small_0.mov to /tmp/data/videos/_1525_small_0.mov\n",
      "\tp6: Downloaded http://csr.bu.edu/asl/private/downloads/2002_8_15/_1525_small_1.mov to /tmp/data/videos/_1525_small_1.mov\n",
      "\tp8: Downloaded http://csr.bu.edu/asl/private/downloads/2002_8_15/_1525_small_3.mov to /tmp/data/videos/_1525_small_3.mov\n",
      "\tp7: Downloaded http://csr.bu.edu/asl/private/downloads/2002_8_15/_1526_small_0.mov to /tmp/data/videos/_1526_small_0.mov\n",
      "\tp3: Downloaded http://csr.bu.edu/asl/private/downloads/2002_8_15/_1526_small_1.mov to /tmp/data/videos/_1526_small_1.mov\n",
      "\tp4: Downloaded http://csr.bu.edu/asl/private/downloads/2002_8_15/_1526_small_3.mov to /tmp/data/videos/_1526_small_3.mov\n",
      "\tp7: Downloaded http://csr.bu.edu/asl/private/downloads/2002_8_15/_1531_small_0.mov to /tmp/data/videos/_1531_small_0.mov\n",
      "\tp2: Downloaded http://csr.bu.edu/asl/private/downloads/2002_8_15/_1531_small_1.mov to /tmp/data/videos/_1531_small_1.mov\n",
      "\tp7: Downloaded http://csr.bu.edu/asl/private/downloads/2002_8_15/_1531_small_3.mov to /tmp/data/videos/_1531_small_3.mov\n",
      "\tp8: Downloaded http://csr.bu.edu/asl/private/downloads/2002_8_15/_1532_small_0.mov to /tmp/data/videos/_1532_small_0.mov\n",
      "\tp1: Downloaded http://csr.bu.edu/asl/private/downloads/2002_8_15/_1532_small_1.mov to /tmp/data/videos/_1532_small_1.mov\n",
      "\tp7: Downloaded http://csr.bu.edu/asl/private/downloads/2002_8_15/_1532_small_3.mov to /tmp/data/videos/_1532_small_3.mov\n",
      "\tp5: Downloaded http://csr.bu.edu/asl/private/downloads/2002_8_15/_1533_small_0.mov to /tmp/data/videos/_1533_small_0.mov\n",
      "\tp6: Downloaded http://csr.bu.edu/asl/private/downloads/2002_8_15/_1533_small_1.mov to /tmp/data/videos/_1533_small_1.mov\n",
      "\tp4: Downloaded http://csr.bu.edu/asl/private/downloads/2002_8_15/_1533_small_3.mov to /tmp/data/videos/_1533_small_3.mov\n",
      "\tp4: Downloaded http://csr.bu.edu/asl/private/downloads/2002_8_15/_1535_small_0.mov to /tmp/data/videos/_1535_small_0.mov\n",
      "\tp8: Downloaded http://csr.bu.edu/asl/private/downloads/2002_8_15/_1535_small_1.mov to /tmp/data/videos/_1535_small_1.mov\n",
      "\tp2: Downloaded http://csr.bu.edu/asl/private/downloads/2002_8_15/_1535_small_3.mov to /tmp/data/videos/_1535_small_3.mov\n",
      "\tp2: Downloaded http://csr.bu.edu/asl/private/downloads/2002_8_15/_1536_small_0.mov to /tmp/data/videos/_1536_small_0.mov\n",
      "\tp5: Downloaded http://csr.bu.edu/asl/private/downloads/2002_8_15/_1536_small_1.mov to /tmp/data/videos/_1536_small_1.mov\n",
      "\tp3: Downloaded http://csr.bu.edu/asl/private/downloads/2002_8_15/_1536_small_3.mov to /tmp/data/videos/_1536_small_3.mov\n",
      "\tp6: Downloaded http://csr.bu.edu/asl/private/downloads/2002_8_15/_1537_small_0.mov to /tmp/data/videos/_1537_small_0.mov\n",
      "\tp2: Downloaded http://csr.bu.edu/asl/private/downloads/2002_8_15/_1537_small_1.mov to /tmp/data/videos/_1537_small_1.mov\n",
      "\tp7: Downloaded http://csr.bu.edu/asl/private/downloads/2002_8_15/_1537_small_3.mov to /tmp/data/videos/_1537_small_3.mov\n",
      "\tp3: Downloaded http://csr.bu.edu/asl/private/downloads/2002_8_15/_1538_small_0.mov to /tmp/data/videos/_1538_small_0.mov\n",
      "\tp3: Downloaded http://csr.bu.edu/asl/private/downloads/2002_8_15/_1538_small_1.mov to /tmp/data/videos/_1538_small_1.mov\n",
      "\tp3: Downloaded http://csr.bu.edu/asl/private/downloads/2002_8_15/_1538_small_3.mov to /tmp/data/videos/_1538_small_3.mov\n",
      "\tp5: Downloaded http://csr.bu.edu/asl/private/downloads/2002_8_15/_1539_small_0.mov to /tmp/data/videos/_1539_small_0.mov\n"
     ]
    },
    {
     "output_type": "display_data",
     "data": {
      "application/javascript": "\n        if (typeof window.interactive_beam_jquery == 'undefined') {\n          var jqueryScript = document.createElement('script');\n          jqueryScript.src = 'https://code.jquery.com/jquery-3.4.1.slim.min.js';\n          jqueryScript.type = 'text/javascript';\n          jqueryScript.onload = function() {\n            var datatableScript = document.createElement('script');\n            datatableScript.src = 'https://cdn.datatables.net/1.10.20/js/jquery.dataTables.min.js';\n            datatableScript.type = 'text/javascript';\n            datatableScript.onload = function() {\n              window.interactive_beam_jquery = jQuery.noConflict(true);\n              window.interactive_beam_jquery(document).ready(function($){\n                \n            $(\"#progress_indicator_09d55d28d5552d21ccc9c9d83da8f13a\").remove();\n              });\n            }\n            document.head.appendChild(datatableScript);\n          };\n          document.head.appendChild(jqueryScript);\n        } else {\n          window.interactive_beam_jquery(document).ready(function($){\n            \n            $(\"#progress_indicator_09d55d28d5552d21ccc9c9d83da8f13a\").remove();\n          });\n        }"
     },
     "metadata": {}
    },
    {
     "output_type": "display_data",
     "data": {
      "text/plain": "<IPython.core.display.HTML object>",
      "text/html": "\n            <link rel=\"stylesheet\" href=\"https://stackpath.bootstrapcdn.com/bootstrap/4.4.1/css/bootstrap.min.css\" integrity=\"sha384-Vkoo8x4CGsO3+Hhxv8T/Q5PaXtkKtu6ug5TOeNV6gBiFeWPGFN9MuhOf23Q9Ifjh\" crossorigin=\"anonymous\">\n            <div id=\"progress_indicator_43e239b98c0ce52bcd71aeb9f72bc271\" class=\"spinner-border text-info\" role=\"status\">\n            </div>"
     },
     "metadata": {}
    },
    {
     "output_type": "stream",
     "name": "stdout",
     "text": [
      "\tp3: Added 81 frames from segment _1516_small_0.mov for target video _1516_small_0.mov (stitched-frames dir /tmp/data/stitched_video_frames/_1516_small_0)\n",
      "\tp3: Added 81 frames from segment _1526_small_1.mov for target video _1526_small_1.mov (stitched-frames dir /tmp/data/stitched_video_frames/_1526_small_1)\n",
      "\tp4: Added 81 frames from segment _1516_small_3.mov for target video _1516_small_3.mov (stitched-frames dir /tmp/data/stitched_video_frames/_1516_small_3)\n",
      "\tp6: Added 81 frames from segment _1536_small_3.mov for target video _1536_small_3.mov (stitched-frames dir /tmp/data/stitched_video_frames/_1536_small_3)\n",
      "\tp8: Added 85 frames from segment _1512_small_0.mov for target video _1512_small_0.mov (stitched-frames dir /tmp/data/stitched_video_frames/_1512_small_0)\n",
      "\tp4: Added 89 frames from segment _1510_small_1.mov for target video _1510_small_1.mov (stitched-frames dir /tmp/data/stitched_video_frames/_1510_small_1)\n",
      "\tp2: Added 93 frames from segment _1533_small_0.mov for target video _1533_small_0.mov (stitched-frames dir /tmp/data/stitched_video_frames/_1533_small_0)\n",
      "\tp6: Added 129 frames from segment _1523_small_3.mov for target video _1523_small_3.mov (stitched-frames dir /tmp/data/stitched_video_frames/_1523_small_3)\n",
      "\tp8: Added 71 frames from segment _1537_small_1.mov for target video _1537_small_1.mov (stitched-frames dir /tmp/data/stitched_video_frames/_1537_small_1)\n",
      "\tp6: Added 65 frames from segment _1524_small_1.mov for target video _1524_small_1.mov (stitched-frames dir /tmp/data/stitched_video_frames/_1524_small_1)\n",
      "\tp4: Added 81 frames from segment _1526_small_3.mov for target video _1526_small_3.mov (stitched-frames dir /tmp/data/stitched_video_frames/_1526_small_3)\n",
      "\tp7: Added 65 frames from segment _1524_small_0.mov for target video _1524_small_0.mov (stitched-frames dir /tmp/data/stitched_video_frames/_1524_small_0)\n",
      "\tp4: Added 81 frames from segment _1516_small_1.mov for target video _1516_small_1.mov (stitched-frames dir /tmp/data/stitched_video_frames/_1516_small_1)\n",
      "\tp6: Added 89 frames from segment _1510_small_3.mov for target video _1510_small_3.mov (stitched-frames dir /tmp/data/stitched_video_frames/_1510_small_3)\n",
      "\tp3: Added 121 frames from segment _1531_small_0.mov for target video _1531_small_0.mov (stitched-frames dir /tmp/data/stitched_video_frames/_1531_small_0)\n",
      "\tp5: Added 93 frames from segment _1533_small_3.mov for target video _1533_small_3.mov (stitched-frames dir /tmp/data/stitched_video_frames/_1533_small_3)\n",
      "\tp4: Added 63 frames from segment _1532_small_3.mov for target video _1532_small_3.mov (stitched-frames dir /tmp/data/stitched_video_frames/_1532_small_3)\n",
      "\tp5: Added 83 frames from segment _1513_small_3.mov for target video _1513_small_3.mov (stitched-frames dir /tmp/data/stitched_video_frames/_1513_small_3)\n",
      "\tp7: Added 81 frames from segment _1536_small_1.mov for target video _1536_small_1.mov (stitched-frames dir /tmp/data/stitched_video_frames/_1536_small_1)\n",
      "\tp8: Added 93 frames from segment _1533_small_1.mov for target video _1533_small_1.mov (stitched-frames dir /tmp/data/stitched_video_frames/_1533_small_1)\n",
      "\tp3: Added 81 frames from segment _1526_small_0.mov for target video _1526_small_0.mov (stitched-frames dir /tmp/data/stitched_video_frames/_1526_small_0)\n",
      "\tp3: Added 71 frames from segment _1537_small_0.mov for target video _1537_small_0.mov (stitched-frames dir /tmp/data/stitched_video_frames/_1537_small_0)\n",
      "\tp5: Added 71 frames from segment _1537_small_3.mov for target video _1537_small_3.mov (stitched-frames dir /tmp/data/stitched_video_frames/_1537_small_3)\n",
      "\tp5: Added 65 frames from segment _1524_small_3.mov for target video _1524_small_3.mov (stitched-frames dir /tmp/data/stitched_video_frames/_1524_small_3)\n",
      "\tp7: Added 89 frames from segment _1510_small_0.mov for target video _1510_small_0.mov (stitched-frames dir /tmp/data/stitched_video_frames/_1510_small_0)\n",
      "\tp5: Added 129 frames from segment _1523_small_1.mov for target video _1523_small_1.mov (stitched-frames dir /tmp/data/stitched_video_frames/_1523_small_1)\n",
      "\tp4: Added 89 frames from segment _1508_small_3.mov for target video _1508_small_3.mov (stitched-frames dir /tmp/data/stitched_video_frames/_1508_small_3)\n",
      "\tp5: Added 111 frames from segment _1539_small_0.mov for target video _1539_small_0.mov (stitched-frames dir /tmp/data/stitched_video_frames/_1539_small_0)\n",
      "\tp6: Added 63 frames from segment _1532_small_1.mov for target video _1532_small_1.mov (stitched-frames dir /tmp/data/stitched_video_frames/_1532_small_1)\n",
      "\tp5: Added 85 frames from segment _1512_small_1.mov for target video _1512_small_1.mov (stitched-frames dir /tmp/data/stitched_video_frames/_1512_small_1)\n",
      "\tp6: Added 111 frames from segment _1535_small_0.mov for target video _1535_small_0.mov (stitched-frames dir /tmp/data/stitched_video_frames/_1535_small_0)\n",
      "\tp5: Added 85 frames from segment _1512_small_3.mov for target video _1512_small_3.mov (stitched-frames dir /tmp/data/stitched_video_frames/_1512_small_3)\n",
      "\tp4: Added 81 frames from segment _1522_small_1.mov for target video _1522_small_1.mov (stitched-frames dir /tmp/data/stitched_video_frames/_1522_small_1)\n",
      "\tp8: Added 81 frames from segment _1522_small_0.mov for target video _1522_small_0.mov (stitched-frames dir /tmp/data/stitched_video_frames/_1522_small_0)\n",
      "\tp1: Added 121 frames from segment _1531_small_1.mov for target video _1531_small_1.mov (stitched-frames dir /tmp/data/stitched_video_frames/_1531_small_1)\n",
      "\tp4: Added 83 frames from segment _1513_small_1.mov for target video _1513_small_1.mov (stitched-frames dir /tmp/data/stitched_video_frames/_1513_small_1)\n",
      "\tp2: Added 71 frames from segment _1525_small_1.mov for target video _1525_small_1.mov (stitched-frames dir /tmp/data/stitched_video_frames/_1525_small_1)\n",
      "\tp3: Added 89 frames from segment _1538_small_0.mov for target video _1538_small_0.mov (stitched-frames dir /tmp/data/stitched_video_frames/_1538_small_0)\n",
      "\tp7: Added 89 frames from segment _1538_small_3.mov for target video _1538_small_3.mov (stitched-frames dir /tmp/data/stitched_video_frames/_1538_small_3)\n",
      "\tp7: Added 63 frames from segment _1532_small_0.mov for target video _1532_small_0.mov (stitched-frames dir /tmp/data/stitched_video_frames/_1532_small_0)\n",
      "\tp3: Added 71 frames from segment _1525_small_3.mov for target video _1525_small_3.mov (stitched-frames dir /tmp/data/stitched_video_frames/_1525_small_3)\n",
      "\tp6: Added 129 frames from segment _1523_small_0.mov for target video _1523_small_0.mov (stitched-frames dir /tmp/data/stitched_video_frames/_1523_small_0)\n",
      "\tp6: Added 71 frames from segment _1525_small_0.mov for target video _1525_small_0.mov (stitched-frames dir /tmp/data/stitched_video_frames/_1525_small_0)\n",
      "\tp8: Added 81 frames from segment _1536_small_0.mov for target video _1536_small_0.mov (stitched-frames dir /tmp/data/stitched_video_frames/_1536_small_0)\n",
      "\tp6: Added 81 frames from segment _1522_small_3.mov for target video _1522_small_3.mov (stitched-frames dir /tmp/data/stitched_video_frames/_1522_small_3)\n",
      "\tp2: Added 111 frames from segment _1535_small_1.mov for target video _1535_small_1.mov (stitched-frames dir /tmp/data/stitched_video_frames/_1535_small_1)\n",
      "\tp2: Added 83 frames from segment _1513_small_0.mov for target video _1513_small_0.mov (stitched-frames dir /tmp/data/stitched_video_frames/_1513_small_0)\n",
      "\tp4: Added 121 frames from segment _1531_small_3.mov for target video _1531_small_3.mov (stitched-frames dir /tmp/data/stitched_video_frames/_1531_small_3)\n",
      "\tp3: Added 111 frames from segment _1535_small_3.mov for target video _1535_small_3.mov (stitched-frames dir /tmp/data/stitched_video_frames/_1535_small_3)\n",
      "\tp2: Added 89 frames from segment _1538_small_1.mov for target video _1538_small_1.mov (stitched-frames dir /tmp/data/stitched_video_frames/_1538_small_1)\n"
     ]
    },
    {
     "output_type": "display_data",
     "data": {
      "application/javascript": "\n        if (typeof window.interactive_beam_jquery == 'undefined') {\n          var jqueryScript = document.createElement('script');\n          jqueryScript.src = 'https://code.jquery.com/jquery-3.4.1.slim.min.js';\n          jqueryScript.type = 'text/javascript';\n          jqueryScript.onload = function() {\n            var datatableScript = document.createElement('script');\n            datatableScript.src = 'https://cdn.datatables.net/1.10.20/js/jquery.dataTables.min.js';\n            datatableScript.type = 'text/javascript';\n            datatableScript.onload = function() {\n              window.interactive_beam_jquery = jQuery.noConflict(true);\n              window.interactive_beam_jquery(document).ready(function($){\n                \n            $(\"#progress_indicator_43e239b98c0ce52bcd71aeb9f72bc271\").remove();\n              });\n            }\n            document.head.appendChild(datatableScript);\n          };\n          document.head.appendChild(jqueryScript);\n        } else {\n          window.interactive_beam_jquery(document).ready(function($){\n            \n            $(\"#progress_indicator_43e239b98c0ce52bcd71aeb9f72bc271\").remove();\n          });\n        }"
     },
     "metadata": {}
    },
    {
     "output_type": "stream",
     "name": "stdout",
     "text": [
      "****************************** Finished pipeline job: sc-fids-capstone-etl-demo--download-videos-extract-frames ******************************\n"
     ]
    }
   ],
   "source": [
    "print(f\"\\n\\n****************************** Starting pipeline job: {job_name} ******************************\")\n",
    "df_full_target_vid_index_schemad_pcoll = ib.collect(full_target_vid_index_schemad_pcoll)\n",
    "df_filtered_target_vid_index_schemad_pcoll = ib.collect(filtered_target_vid_index_schemad_pcoll)\n",
    "df_merged_download_results = ib.collect(merged_download_results)\n",
    "df_merged_extraction_results = ib.collect(merged_extraction_results)\n",
    "print(f\"****************************** Finished pipeline job: {job_name} ******************************\")"
   ]
  },
  {
   "cell_type": "code",
   "execution_count": 24,
   "metadata": {},
   "outputs": [
    {
     "output_type": "execute_result",
     "data": {
      "text/plain": [
       "   target_video_filename  video_seq_id  perspective_cam_id  \\\n",
       "0      _1508_small_3.mov          1508                   3   \n",
       "1      _1510_small_0.mov          1510                   0   \n",
       "2      _1510_small_1.mov          1510                   1   \n",
       "3      _1510_small_3.mov          1510                   3   \n",
       "4      _1512_small_0.mov          1512                   0   \n",
       "5      _1512_small_1.mov          1512                   1   \n",
       "6      _1512_small_3.mov          1512                   3   \n",
       "7      _1513_small_0.mov          1513                   0   \n",
       "8      _1513_small_1.mov          1513                   1   \n",
       "9      _1513_small_3.mov          1513                   3   \n",
       "10     _1516_small_0.mov          1516                   0   \n",
       "11     _1516_small_1.mov          1516                   1   \n",
       "12     _1516_small_3.mov          1516                   3   \n",
       "13     _1522_small_0.mov          1522                   0   \n",
       "14     _1522_small_1.mov          1522                   1   \n",
       "15     _1522_small_3.mov          1522                   3   \n",
       "16     _1523_small_0.mov          1523                   0   \n",
       "17     _1523_small_1.mov          1523                   1   \n",
       "18     _1523_small_3.mov          1523                   3   \n",
       "19     _1524_small_0.mov          1524                   0   \n",
       "20     _1524_small_1.mov          1524                   1   \n",
       "21     _1524_small_3.mov          1524                   3   \n",
       "22     _1525_small_0.mov          1525                   0   \n",
       "23     _1525_small_1.mov          1525                   1   \n",
       "24     _1525_small_3.mov          1525                   3   \n",
       "25     _1526_small_0.mov          1526                   0   \n",
       "26     _1526_small_1.mov          1526                   1   \n",
       "27     _1526_small_3.mov          1526                   3   \n",
       "28     _1531_small_0.mov          1531                   0   \n",
       "29     _1531_small_1.mov          1531                   1   \n",
       "30     _1531_small_3.mov          1531                   3   \n",
       "31     _1532_small_0.mov          1532                   0   \n",
       "32     _1532_small_1.mov          1532                   1   \n",
       "33     _1532_small_3.mov          1532                   3   \n",
       "34     _1533_small_0.mov          1533                   0   \n",
       "35     _1533_small_1.mov          1533                   1   \n",
       "36     _1533_small_3.mov          1533                   3   \n",
       "37     _1535_small_0.mov          1535                   0   \n",
       "38     _1535_small_1.mov          1535                   1   \n",
       "39     _1535_small_3.mov          1535                   3   \n",
       "40     _1536_small_0.mov          1536                   0   \n",
       "41     _1536_small_1.mov          1536                   1   \n",
       "42     _1536_small_3.mov          1536                   3   \n",
       "43     _1537_small_0.mov          1537                   0   \n",
       "44     _1537_small_1.mov          1537                   1   \n",
       "45     _1537_small_3.mov          1537                   3   \n",
       "46     _1538_small_0.mov          1538                   0   \n",
       "47     _1538_small_1.mov          1538                   1   \n",
       "48     _1538_small_3.mov          1538                   3   \n",
       "49     _1539_small_0.mov          1539                   0   \n",
       "\n",
       "                                   compressed_mov_url  \\\n",
       "0   http://csr.bu.edu/asl/private/downloads/2002_8...   \n",
       "1   http://csr.bu.edu/asl/private/downloads/2002_8...   \n",
       "2   http://csr.bu.edu/asl/private/downloads/2002_8...   \n",
       "3   http://csr.bu.edu/asl/private/downloads/2002_8...   \n",
       "4   http://csr.bu.edu/asl/private/downloads/2002_8...   \n",
       "5   http://csr.bu.edu/asl/private/downloads/2002_8...   \n",
       "6   http://csr.bu.edu/asl/private/downloads/2002_8...   \n",
       "7   http://csr.bu.edu/asl/private/downloads/2002_8...   \n",
       "8   http://csr.bu.edu/asl/private/downloads/2002_8...   \n",
       "9   http://csr.bu.edu/asl/private/downloads/2002_8...   \n",
       "10  http://csr.bu.edu/asl/private/downloads/2002_8...   \n",
       "11  http://csr.bu.edu/asl/private/downloads/2002_8...   \n",
       "12  http://csr.bu.edu/asl/private/downloads/2002_8...   \n",
       "13  http://csr.bu.edu/asl/private/downloads/2002_8...   \n",
       "14  http://csr.bu.edu/asl/private/downloads/2002_8...   \n",
       "15  http://csr.bu.edu/asl/private/downloads/2002_8...   \n",
       "16  http://csr.bu.edu/asl/private/downloads/2002_8...   \n",
       "17  http://csr.bu.edu/asl/private/downloads/2002_8...   \n",
       "18  http://csr.bu.edu/asl/private/downloads/2002_8...   \n",
       "19  http://csr.bu.edu/asl/private/downloads/2002_8...   \n",
       "20  http://csr.bu.edu/asl/private/downloads/2002_8...   \n",
       "21  http://csr.bu.edu/asl/private/downloads/2002_8...   \n",
       "22  http://csr.bu.edu/asl/private/downloads/2002_8...   \n",
       "23  http://csr.bu.edu/asl/private/downloads/2002_8...   \n",
       "24  http://csr.bu.edu/asl/private/downloads/2002_8...   \n",
       "25  http://csr.bu.edu/asl/private/downloads/2002_8...   \n",
       "26  http://csr.bu.edu/asl/private/downloads/2002_8...   \n",
       "27  http://csr.bu.edu/asl/private/downloads/2002_8...   \n",
       "28  http://csr.bu.edu/asl/private/downloads/2002_8...   \n",
       "29  http://csr.bu.edu/asl/private/downloads/2002_8...   \n",
       "30  http://csr.bu.edu/asl/private/downloads/2002_8...   \n",
       "31  http://csr.bu.edu/asl/private/downloads/2002_8...   \n",
       "32  http://csr.bu.edu/asl/private/downloads/2002_8...   \n",
       "33  http://csr.bu.edu/asl/private/downloads/2002_8...   \n",
       "34  http://csr.bu.edu/asl/private/downloads/2002_8...   \n",
       "35  http://csr.bu.edu/asl/private/downloads/2002_8...   \n",
       "36  http://csr.bu.edu/asl/private/downloads/2002_8...   \n",
       "37  http://csr.bu.edu/asl/private/downloads/2002_8...   \n",
       "38  http://csr.bu.edu/asl/private/downloads/2002_8...   \n",
       "39  http://csr.bu.edu/asl/private/downloads/2002_8...   \n",
       "40  http://csr.bu.edu/asl/private/downloads/2002_8...   \n",
       "41  http://csr.bu.edu/asl/private/downloads/2002_8...   \n",
       "42  http://csr.bu.edu/asl/private/downloads/2002_8...   \n",
       "43  http://csr.bu.edu/asl/private/downloads/2002_8...   \n",
       "44  http://csr.bu.edu/asl/private/downloads/2002_8...   \n",
       "45  http://csr.bu.edu/asl/private/downloads/2002_8...   \n",
       "46  http://csr.bu.edu/asl/private/downloads/2002_8...   \n",
       "47  http://csr.bu.edu/asl/private/downloads/2002_8...   \n",
       "48  http://csr.bu.edu/asl/private/downloads/2002_8...   \n",
       "49  http://csr.bu.edu/asl/private/downloads/2002_8...   \n",
       "\n",
       "                                 uncompressed_avi_url  \\\n",
       "0   http://csr.bu.edu/asl0/working/tapes3/2002_08_...   \n",
       "1   http://csr.bu.edu/asl0/working/tapes3/2002_08_...   \n",
       "2   http://csr.bu.edu/asl0/working/tapes3/2002_08_...   \n",
       "3   http://csr.bu.edu/asl0/working/tapes3/2002_08_...   \n",
       "4   http://csr.bu.edu/asl0/working/tapes3/2002_08_...   \n",
       "5   http://csr.bu.edu/asl0/working/tapes3/2002_08_...   \n",
       "6   http://csr.bu.edu/asl0/working/tapes3/2002_08_...   \n",
       "7   http://csr.bu.edu/asl0/working/tapes3/2002_08_...   \n",
       "8   http://csr.bu.edu/asl0/working/tapes3/2002_08_...   \n",
       "9   http://csr.bu.edu/asl0/working/tapes3/2002_08_...   \n",
       "10  http://csr.bu.edu/asl0/working/tapes3/2002_08_...   \n",
       "11  http://csr.bu.edu/asl0/working/tapes3/2002_08_...   \n",
       "12  http://csr.bu.edu/asl0/working/tapes3/2002_08_...   \n",
       "13  http://csr.bu.edu/asl0/working/tapes3/2002_08_...   \n",
       "14  http://csr.bu.edu/asl0/working/tapes3/2002_08_...   \n",
       "15  http://csr.bu.edu/asl0/working/tapes3/2002_08_...   \n",
       "16  http://csr.bu.edu/asl0/working/tapes3/2002_08_...   \n",
       "17  http://csr.bu.edu/asl0/working/tapes3/2002_08_...   \n",
       "18  http://csr.bu.edu/asl0/working/tapes3/2002_08_...   \n",
       "19  http://csr.bu.edu/asl0/working/tapes3/2002_08_...   \n",
       "20  http://csr.bu.edu/asl0/working/tapes3/2002_08_...   \n",
       "21  http://csr.bu.edu/asl0/working/tapes3/2002_08_...   \n",
       "22  http://csr.bu.edu/asl0/working/tapes3/2002_08_...   \n",
       "23  http://csr.bu.edu/asl0/working/tapes3/2002_08_...   \n",
       "24  http://csr.bu.edu/asl0/working/tapes3/2002_08_...   \n",
       "25  http://csr.bu.edu/asl0/working/tapes3/2002_08_...   \n",
       "26  http://csr.bu.edu/asl0/working/tapes3/2002_08_...   \n",
       "27  http://csr.bu.edu/asl0/working/tapes3/2002_08_...   \n",
       "28  http://csr.bu.edu/asl0/working/tapes3/2002_08_...   \n",
       "29  http://csr.bu.edu/asl0/working/tapes3/2002_08_...   \n",
       "30  http://csr.bu.edu/asl0/working/tapes3/2002_08_...   \n",
       "31  http://csr.bu.edu/asl0/working/tapes3/2002_08_...   \n",
       "32  http://csr.bu.edu/asl0/working/tapes3/2002_08_...   \n",
       "33  http://csr.bu.edu/asl0/working/tapes3/2002_08_...   \n",
       "34  http://csr.bu.edu/asl0/working/tapes3/2002_08_...   \n",
       "35  http://csr.bu.edu/asl0/working/tapes3/2002_08_...   \n",
       "36  http://csr.bu.edu/asl0/working/tapes3/2002_08_...   \n",
       "37  http://csr.bu.edu/asl0/working/tapes3/2002_08_...   \n",
       "38  http://csr.bu.edu/asl0/working/tapes3/2002_08_...   \n",
       "39  http://csr.bu.edu/asl0/working/tapes3/2002_08_...   \n",
       "40  http://csr.bu.edu/asl0/working/tapes3/2002_08_...   \n",
       "41  http://csr.bu.edu/asl0/working/tapes3/2002_08_...   \n",
       "42  http://csr.bu.edu/asl0/working/tapes3/2002_08_...   \n",
       "43  http://csr.bu.edu/asl0/working/tapes3/2002_08_...   \n",
       "44  http://csr.bu.edu/asl0/working/tapes3/2002_08_...   \n",
       "45  http://csr.bu.edu/asl0/working/tapes3/2002_08_...   \n",
       "46  http://csr.bu.edu/asl0/working/tapes3/2002_08_...   \n",
       "47  http://csr.bu.edu/asl0/working/tapes3/2002_08_...   \n",
       "48  http://csr.bu.edu/asl0/working/tapes3/2002_08_...   \n",
       "49  http://csr.bu.edu/asl0/working/tapes3/2002_08_...   \n",
       "\n",
       "   uncompressed_avi_mirror_1_url uncompressed_avi_mirror_2_url  \n",
       "0                                                               \n",
       "1                                                               \n",
       "2                                                               \n",
       "3                                                               \n",
       "4                                                               \n",
       "5                                                               \n",
       "6                                                               \n",
       "7                                                               \n",
       "8                                                               \n",
       "9                                                               \n",
       "10                                                              \n",
       "11                                                              \n",
       "12                                                              \n",
       "13                                                              \n",
       "14                                                              \n",
       "15                                                              \n",
       "16                                                              \n",
       "17                                                              \n",
       "18                                                              \n",
       "19                                                              \n",
       "20                                                              \n",
       "21                                                              \n",
       "22                                                              \n",
       "23                                                              \n",
       "24                                                              \n",
       "25                                                              \n",
       "26                                                              \n",
       "27                                                              \n",
       "28                                                              \n",
       "29                                                              \n",
       "30                                                              \n",
       "31                                                              \n",
       "32                                                              \n",
       "33                                                              \n",
       "34                                                              \n",
       "35                                                              \n",
       "36                                                              \n",
       "37                                                              \n",
       "38                                                              \n",
       "39                                                              \n",
       "40                                                              \n",
       "41                                                              \n",
       "42                                                              \n",
       "43                                                              \n",
       "44                                                              \n",
       "45                                                              \n",
       "46                                                              \n",
       "47                                                              \n",
       "48                                                              \n",
       "49                                                              "
      ],
      "text/html": "<div>\n<style scoped>\n    .dataframe tbody tr th:only-of-type {\n        vertical-align: middle;\n    }\n\n    .dataframe tbody tr th {\n        vertical-align: top;\n    }\n\n    .dataframe thead th {\n        text-align: right;\n    }\n</style>\n<table border=\"1\" class=\"dataframe\">\n  <thead>\n    <tr style=\"text-align: right;\">\n      <th></th>\n      <th>target_video_filename</th>\n      <th>video_seq_id</th>\n      <th>perspective_cam_id</th>\n      <th>compressed_mov_url</th>\n      <th>uncompressed_avi_url</th>\n      <th>uncompressed_avi_mirror_1_url</th>\n      <th>uncompressed_avi_mirror_2_url</th>\n    </tr>\n  </thead>\n  <tbody>\n    <tr>\n      <th>0</th>\n      <td>_1508_small_3.mov</td>\n      <td>1508</td>\n      <td>3</td>\n      <td>http://csr.bu.edu/asl/private/downloads/2002_8...</td>\n      <td>http://csr.bu.edu/asl0/working/tapes3/2002_08_...</td>\n      <td></td>\n      <td></td>\n    </tr>\n    <tr>\n      <th>1</th>\n      <td>_1510_small_0.mov</td>\n      <td>1510</td>\n      <td>0</td>\n      <td>http://csr.bu.edu/asl/private/downloads/2002_8...</td>\n      <td>http://csr.bu.edu/asl0/working/tapes3/2002_08_...</td>\n      <td></td>\n      <td></td>\n    </tr>\n    <tr>\n      <th>2</th>\n      <td>_1510_small_1.mov</td>\n      <td>1510</td>\n      <td>1</td>\n      <td>http://csr.bu.edu/asl/private/downloads/2002_8...</td>\n      <td>http://csr.bu.edu/asl0/working/tapes3/2002_08_...</td>\n      <td></td>\n      <td></td>\n    </tr>\n    <tr>\n      <th>3</th>\n      <td>_1510_small_3.mov</td>\n      <td>1510</td>\n      <td>3</td>\n      <td>http://csr.bu.edu/asl/private/downloads/2002_8...</td>\n      <td>http://csr.bu.edu/asl0/working/tapes3/2002_08_...</td>\n      <td></td>\n      <td></td>\n    </tr>\n    <tr>\n      <th>4</th>\n      <td>_1512_small_0.mov</td>\n      <td>1512</td>\n      <td>0</td>\n      <td>http://csr.bu.edu/asl/private/downloads/2002_8...</td>\n      <td>http://csr.bu.edu/asl0/working/tapes3/2002_08_...</td>\n      <td></td>\n      <td></td>\n    </tr>\n    <tr>\n      <th>5</th>\n      <td>_1512_small_1.mov</td>\n      <td>1512</td>\n      <td>1</td>\n      <td>http://csr.bu.edu/asl/private/downloads/2002_8...</td>\n      <td>http://csr.bu.edu/asl0/working/tapes3/2002_08_...</td>\n      <td></td>\n      <td></td>\n    </tr>\n    <tr>\n      <th>6</th>\n      <td>_1512_small_3.mov</td>\n      <td>1512</td>\n      <td>3</td>\n      <td>http://csr.bu.edu/asl/private/downloads/2002_8...</td>\n      <td>http://csr.bu.edu/asl0/working/tapes3/2002_08_...</td>\n      <td></td>\n      <td></td>\n    </tr>\n    <tr>\n      <th>7</th>\n      <td>_1513_small_0.mov</td>\n      <td>1513</td>\n      <td>0</td>\n      <td>http://csr.bu.edu/asl/private/downloads/2002_8...</td>\n      <td>http://csr.bu.edu/asl0/working/tapes3/2002_08_...</td>\n      <td></td>\n      <td></td>\n    </tr>\n    <tr>\n      <th>8</th>\n      <td>_1513_small_1.mov</td>\n      <td>1513</td>\n      <td>1</td>\n      <td>http://csr.bu.edu/asl/private/downloads/2002_8...</td>\n      <td>http://csr.bu.edu/asl0/working/tapes3/2002_08_...</td>\n      <td></td>\n      <td></td>\n    </tr>\n    <tr>\n      <th>9</th>\n      <td>_1513_small_3.mov</td>\n      <td>1513</td>\n      <td>3</td>\n      <td>http://csr.bu.edu/asl/private/downloads/2002_8...</td>\n      <td>http://csr.bu.edu/asl0/working/tapes3/2002_08_...</td>\n      <td></td>\n      <td></td>\n    </tr>\n    <tr>\n      <th>10</th>\n      <td>_1516_small_0.mov</td>\n      <td>1516</td>\n      <td>0</td>\n      <td>http://csr.bu.edu/asl/private/downloads/2002_8...</td>\n      <td>http://csr.bu.edu/asl0/working/tapes3/2002_08_...</td>\n      <td></td>\n      <td></td>\n    </tr>\n    <tr>\n      <th>11</th>\n      <td>_1516_small_1.mov</td>\n      <td>1516</td>\n      <td>1</td>\n      <td>http://csr.bu.edu/asl/private/downloads/2002_8...</td>\n      <td>http://csr.bu.edu/asl0/working/tapes3/2002_08_...</td>\n      <td></td>\n      <td></td>\n    </tr>\n    <tr>\n      <th>12</th>\n      <td>_1516_small_3.mov</td>\n      <td>1516</td>\n      <td>3</td>\n      <td>http://csr.bu.edu/asl/private/downloads/2002_8...</td>\n      <td>http://csr.bu.edu/asl0/working/tapes3/2002_08_...</td>\n      <td></td>\n      <td></td>\n    </tr>\n    <tr>\n      <th>13</th>\n      <td>_1522_small_0.mov</td>\n      <td>1522</td>\n      <td>0</td>\n      <td>http://csr.bu.edu/asl/private/downloads/2002_8...</td>\n      <td>http://csr.bu.edu/asl0/working/tapes3/2002_08_...</td>\n      <td></td>\n      <td></td>\n    </tr>\n    <tr>\n      <th>14</th>\n      <td>_1522_small_1.mov</td>\n      <td>1522</td>\n      <td>1</td>\n      <td>http://csr.bu.edu/asl/private/downloads/2002_8...</td>\n      <td>http://csr.bu.edu/asl0/working/tapes3/2002_08_...</td>\n      <td></td>\n      <td></td>\n    </tr>\n    <tr>\n      <th>15</th>\n      <td>_1522_small_3.mov</td>\n      <td>1522</td>\n      <td>3</td>\n      <td>http://csr.bu.edu/asl/private/downloads/2002_8...</td>\n      <td>http://csr.bu.edu/asl0/working/tapes3/2002_08_...</td>\n      <td></td>\n      <td></td>\n    </tr>\n    <tr>\n      <th>16</th>\n      <td>_1523_small_0.mov</td>\n      <td>1523</td>\n      <td>0</td>\n      <td>http://csr.bu.edu/asl/private/downloads/2002_8...</td>\n      <td>http://csr.bu.edu/asl0/working/tapes3/2002_08_...</td>\n      <td></td>\n      <td></td>\n    </tr>\n    <tr>\n      <th>17</th>\n      <td>_1523_small_1.mov</td>\n      <td>1523</td>\n      <td>1</td>\n      <td>http://csr.bu.edu/asl/private/downloads/2002_8...</td>\n      <td>http://csr.bu.edu/asl0/working/tapes3/2002_08_...</td>\n      <td></td>\n      <td></td>\n    </tr>\n    <tr>\n      <th>18</th>\n      <td>_1523_small_3.mov</td>\n      <td>1523</td>\n      <td>3</td>\n      <td>http://csr.bu.edu/asl/private/downloads/2002_8...</td>\n      <td>http://csr.bu.edu/asl0/working/tapes3/2002_08_...</td>\n      <td></td>\n      <td></td>\n    </tr>\n    <tr>\n      <th>19</th>\n      <td>_1524_small_0.mov</td>\n      <td>1524</td>\n      <td>0</td>\n      <td>http://csr.bu.edu/asl/private/downloads/2002_8...</td>\n      <td>http://csr.bu.edu/asl0/working/tapes3/2002_08_...</td>\n      <td></td>\n      <td></td>\n    </tr>\n    <tr>\n      <th>20</th>\n      <td>_1524_small_1.mov</td>\n      <td>1524</td>\n      <td>1</td>\n      <td>http://csr.bu.edu/asl/private/downloads/2002_8...</td>\n      <td>http://csr.bu.edu/asl0/working/tapes3/2002_08_...</td>\n      <td></td>\n      <td></td>\n    </tr>\n    <tr>\n      <th>21</th>\n      <td>_1524_small_3.mov</td>\n      <td>1524</td>\n      <td>3</td>\n      <td>http://csr.bu.edu/asl/private/downloads/2002_8...</td>\n      <td>http://csr.bu.edu/asl0/working/tapes3/2002_08_...</td>\n      <td></td>\n      <td></td>\n    </tr>\n    <tr>\n      <th>22</th>\n      <td>_1525_small_0.mov</td>\n      <td>1525</td>\n      <td>0</td>\n      <td>http://csr.bu.edu/asl/private/downloads/2002_8...</td>\n      <td>http://csr.bu.edu/asl0/working/tapes3/2002_08_...</td>\n      <td></td>\n      <td></td>\n    </tr>\n    <tr>\n      <th>23</th>\n      <td>_1525_small_1.mov</td>\n      <td>1525</td>\n      <td>1</td>\n      <td>http://csr.bu.edu/asl/private/downloads/2002_8...</td>\n      <td>http://csr.bu.edu/asl0/working/tapes3/2002_08_...</td>\n      <td></td>\n      <td></td>\n    </tr>\n    <tr>\n      <th>24</th>\n      <td>_1525_small_3.mov</td>\n      <td>1525</td>\n      <td>3</td>\n      <td>http://csr.bu.edu/asl/private/downloads/2002_8...</td>\n      <td>http://csr.bu.edu/asl0/working/tapes3/2002_08_...</td>\n      <td></td>\n      <td></td>\n    </tr>\n    <tr>\n      <th>25</th>\n      <td>_1526_small_0.mov</td>\n      <td>1526</td>\n      <td>0</td>\n      <td>http://csr.bu.edu/asl/private/downloads/2002_8...</td>\n      <td>http://csr.bu.edu/asl0/working/tapes3/2002_08_...</td>\n      <td></td>\n      <td></td>\n    </tr>\n    <tr>\n      <th>26</th>\n      <td>_1526_small_1.mov</td>\n      <td>1526</td>\n      <td>1</td>\n      <td>http://csr.bu.edu/asl/private/downloads/2002_8...</td>\n      <td>http://csr.bu.edu/asl0/working/tapes3/2002_08_...</td>\n      <td></td>\n      <td></td>\n    </tr>\n    <tr>\n      <th>27</th>\n      <td>_1526_small_3.mov</td>\n      <td>1526</td>\n      <td>3</td>\n      <td>http://csr.bu.edu/asl/private/downloads/2002_8...</td>\n      <td>http://csr.bu.edu/asl0/working/tapes3/2002_08_...</td>\n      <td></td>\n      <td></td>\n    </tr>\n    <tr>\n      <th>28</th>\n      <td>_1531_small_0.mov</td>\n      <td>1531</td>\n      <td>0</td>\n      <td>http://csr.bu.edu/asl/private/downloads/2002_8...</td>\n      <td>http://csr.bu.edu/asl0/working/tapes3/2002_08_...</td>\n      <td></td>\n      <td></td>\n    </tr>\n    <tr>\n      <th>29</th>\n      <td>_1531_small_1.mov</td>\n      <td>1531</td>\n      <td>1</td>\n      <td>http://csr.bu.edu/asl/private/downloads/2002_8...</td>\n      <td>http://csr.bu.edu/asl0/working/tapes3/2002_08_...</td>\n      <td></td>\n      <td></td>\n    </tr>\n    <tr>\n      <th>30</th>\n      <td>_1531_small_3.mov</td>\n      <td>1531</td>\n      <td>3</td>\n      <td>http://csr.bu.edu/asl/private/downloads/2002_8...</td>\n      <td>http://csr.bu.edu/asl0/working/tapes3/2002_08_...</td>\n      <td></td>\n      <td></td>\n    </tr>\n    <tr>\n      <th>31</th>\n      <td>_1532_small_0.mov</td>\n      <td>1532</td>\n      <td>0</td>\n      <td>http://csr.bu.edu/asl/private/downloads/2002_8...</td>\n      <td>http://csr.bu.edu/asl0/working/tapes3/2002_08_...</td>\n      <td></td>\n      <td></td>\n    </tr>\n    <tr>\n      <th>32</th>\n      <td>_1532_small_1.mov</td>\n      <td>1532</td>\n      <td>1</td>\n      <td>http://csr.bu.edu/asl/private/downloads/2002_8...</td>\n      <td>http://csr.bu.edu/asl0/working/tapes3/2002_08_...</td>\n      <td></td>\n      <td></td>\n    </tr>\n    <tr>\n      <th>33</th>\n      <td>_1532_small_3.mov</td>\n      <td>1532</td>\n      <td>3</td>\n      <td>http://csr.bu.edu/asl/private/downloads/2002_8...</td>\n      <td>http://csr.bu.edu/asl0/working/tapes3/2002_08_...</td>\n      <td></td>\n      <td></td>\n    </tr>\n    <tr>\n      <th>34</th>\n      <td>_1533_small_0.mov</td>\n      <td>1533</td>\n      <td>0</td>\n      <td>http://csr.bu.edu/asl/private/downloads/2002_8...</td>\n      <td>http://csr.bu.edu/asl0/working/tapes3/2002_08_...</td>\n      <td></td>\n      <td></td>\n    </tr>\n    <tr>\n      <th>35</th>\n      <td>_1533_small_1.mov</td>\n      <td>1533</td>\n      <td>1</td>\n      <td>http://csr.bu.edu/asl/private/downloads/2002_8...</td>\n      <td>http://csr.bu.edu/asl0/working/tapes3/2002_08_...</td>\n      <td></td>\n      <td></td>\n    </tr>\n    <tr>\n      <th>36</th>\n      <td>_1533_small_3.mov</td>\n      <td>1533</td>\n      <td>3</td>\n      <td>http://csr.bu.edu/asl/private/downloads/2002_8...</td>\n      <td>http://csr.bu.edu/asl0/working/tapes3/2002_08_...</td>\n      <td></td>\n      <td></td>\n    </tr>\n    <tr>\n      <th>37</th>\n      <td>_1535_small_0.mov</td>\n      <td>1535</td>\n      <td>0</td>\n      <td>http://csr.bu.edu/asl/private/downloads/2002_8...</td>\n      <td>http://csr.bu.edu/asl0/working/tapes3/2002_08_...</td>\n      <td></td>\n      <td></td>\n    </tr>\n    <tr>\n      <th>38</th>\n      <td>_1535_small_1.mov</td>\n      <td>1535</td>\n      <td>1</td>\n      <td>http://csr.bu.edu/asl/private/downloads/2002_8...</td>\n      <td>http://csr.bu.edu/asl0/working/tapes3/2002_08_...</td>\n      <td></td>\n      <td></td>\n    </tr>\n    <tr>\n      <th>39</th>\n      <td>_1535_small_3.mov</td>\n      <td>1535</td>\n      <td>3</td>\n      <td>http://csr.bu.edu/asl/private/downloads/2002_8...</td>\n      <td>http://csr.bu.edu/asl0/working/tapes3/2002_08_...</td>\n      <td></td>\n      <td></td>\n    </tr>\n    <tr>\n      <th>40</th>\n      <td>_1536_small_0.mov</td>\n      <td>1536</td>\n      <td>0</td>\n      <td>http://csr.bu.edu/asl/private/downloads/2002_8...</td>\n      <td>http://csr.bu.edu/asl0/working/tapes3/2002_08_...</td>\n      <td></td>\n      <td></td>\n    </tr>\n    <tr>\n      <th>41</th>\n      <td>_1536_small_1.mov</td>\n      <td>1536</td>\n      <td>1</td>\n      <td>http://csr.bu.edu/asl/private/downloads/2002_8...</td>\n      <td>http://csr.bu.edu/asl0/working/tapes3/2002_08_...</td>\n      <td></td>\n      <td></td>\n    </tr>\n    <tr>\n      <th>42</th>\n      <td>_1536_small_3.mov</td>\n      <td>1536</td>\n      <td>3</td>\n      <td>http://csr.bu.edu/asl/private/downloads/2002_8...</td>\n      <td>http://csr.bu.edu/asl0/working/tapes3/2002_08_...</td>\n      <td></td>\n      <td></td>\n    </tr>\n    <tr>\n      <th>43</th>\n      <td>_1537_small_0.mov</td>\n      <td>1537</td>\n      <td>0</td>\n      <td>http://csr.bu.edu/asl/private/downloads/2002_8...</td>\n      <td>http://csr.bu.edu/asl0/working/tapes3/2002_08_...</td>\n      <td></td>\n      <td></td>\n    </tr>\n    <tr>\n      <th>44</th>\n      <td>_1537_small_1.mov</td>\n      <td>1537</td>\n      <td>1</td>\n      <td>http://csr.bu.edu/asl/private/downloads/2002_8...</td>\n      <td>http://csr.bu.edu/asl0/working/tapes3/2002_08_...</td>\n      <td></td>\n      <td></td>\n    </tr>\n    <tr>\n      <th>45</th>\n      <td>_1537_small_3.mov</td>\n      <td>1537</td>\n      <td>3</td>\n      <td>http://csr.bu.edu/asl/private/downloads/2002_8...</td>\n      <td>http://csr.bu.edu/asl0/working/tapes3/2002_08_...</td>\n      <td></td>\n      <td></td>\n    </tr>\n    <tr>\n      <th>46</th>\n      <td>_1538_small_0.mov</td>\n      <td>1538</td>\n      <td>0</td>\n      <td>http://csr.bu.edu/asl/private/downloads/2002_8...</td>\n      <td>http://csr.bu.edu/asl0/working/tapes3/2002_08_...</td>\n      <td></td>\n      <td></td>\n    </tr>\n    <tr>\n      <th>47</th>\n      <td>_1538_small_1.mov</td>\n      <td>1538</td>\n      <td>1</td>\n      <td>http://csr.bu.edu/asl/private/downloads/2002_8...</td>\n      <td>http://csr.bu.edu/asl0/working/tapes3/2002_08_...</td>\n      <td></td>\n      <td></td>\n    </tr>\n    <tr>\n      <th>48</th>\n      <td>_1538_small_3.mov</td>\n      <td>1538</td>\n      <td>3</td>\n      <td>http://csr.bu.edu/asl/private/downloads/2002_8...</td>\n      <td>http://csr.bu.edu/asl0/working/tapes3/2002_08_...</td>\n      <td></td>\n      <td></td>\n    </tr>\n    <tr>\n      <th>49</th>\n      <td>_1539_small_0.mov</td>\n      <td>1539</td>\n      <td>0</td>\n      <td>http://csr.bu.edu/asl/private/downloads/2002_8...</td>\n      <td>http://csr.bu.edu/asl0/working/tapes3/2002_08_...</td>\n      <td></td>\n      <td></td>\n    </tr>\n  </tbody>\n</table>\n</div>"
     },
     "metadata": {},
     "execution_count": 24
    }
   ],
   "source": [
    "df_filtered_target_vid_index_schemad_pcoll"
   ]
  },
  {
   "cell_type": "code",
   "execution_count": 25,
   "metadata": {},
   "outputs": [
    {
     "output_type": "execute_result",
     "data": {
      "text/plain": [
       "   target_video_fname                        target_video_frames_dir  \\\n",
       "0   _1508_small_3.mov  /tmp/data/stitched_video_frames/_1508_small_3   \n",
       "1   _1513_small_1.mov  /tmp/data/stitched_video_frames/_1513_small_1   \n",
       "2   _1523_small_0.mov  /tmp/data/stitched_video_frames/_1523_small_0   \n",
       "3   _1525_small_3.mov  /tmp/data/stitched_video_frames/_1525_small_3   \n",
       "4   _1532_small_1.mov  /tmp/data/stitched_video_frames/_1532_small_1   \n",
       "5   _1536_small_0.mov  /tmp/data/stitched_video_frames/_1536_small_0   \n",
       "6   _1538_small_3.mov  /tmp/data/stitched_video_frames/_1538_small_3   \n",
       "7   _1512_small_0.mov  /tmp/data/stitched_video_frames/_1512_small_0   \n",
       "8   _1516_small_3.mov  /tmp/data/stitched_video_frames/_1516_small_3   \n",
       "9   _1524_small_1.mov  /tmp/data/stitched_video_frames/_1524_small_1   \n",
       "10  _1531_small_0.mov  /tmp/data/stitched_video_frames/_1531_small_0   \n",
       "11  _1533_small_3.mov  /tmp/data/stitched_video_frames/_1533_small_3   \n",
       "12  _1537_small_1.mov  /tmp/data/stitched_video_frames/_1537_small_1   \n",
       "13  _1510_small_1.mov  /tmp/data/stitched_video_frames/_1510_small_1   \n",
       "14  _1516_small_0.mov  /tmp/data/stitched_video_frames/_1516_small_0   \n",
       "15  _1523_small_3.mov  /tmp/data/stitched_video_frames/_1523_small_3   \n",
       "16  _1526_small_1.mov  /tmp/data/stitched_video_frames/_1526_small_1   \n",
       "17  _1533_small_0.mov  /tmp/data/stitched_video_frames/_1533_small_0   \n",
       "18  _1536_small_3.mov  /tmp/data/stitched_video_frames/_1536_small_3   \n",
       "19  _1510_small_0.mov  /tmp/data/stitched_video_frames/_1510_small_0   \n",
       "20  _1513_small_3.mov  /tmp/data/stitched_video_frames/_1513_small_3   \n",
       "21  _1523_small_1.mov  /tmp/data/stitched_video_frames/_1523_small_1   \n",
       "22  _1526_small_0.mov  /tmp/data/stitched_video_frames/_1526_small_0   \n",
       "23  _1532_small_3.mov  /tmp/data/stitched_video_frames/_1532_small_3   \n",
       "24  _1536_small_1.mov  /tmp/data/stitched_video_frames/_1536_small_1   \n",
       "25  _1539_small_0.mov  /tmp/data/stitched_video_frames/_1539_small_0   \n",
       "26  _1512_small_3.mov  /tmp/data/stitched_video_frames/_1512_small_3   \n",
       "27  _1522_small_1.mov  /tmp/data/stitched_video_frames/_1522_small_1   \n",
       "28  _1525_small_0.mov  /tmp/data/stitched_video_frames/_1525_small_0   \n",
       "29  _1531_small_3.mov  /tmp/data/stitched_video_frames/_1531_small_3   \n",
       "30  _1535_small_1.mov  /tmp/data/stitched_video_frames/_1535_small_1   \n",
       "31  _1538_small_0.mov  /tmp/data/stitched_video_frames/_1538_small_0   \n",
       "32  _1510_small_3.mov  /tmp/data/stitched_video_frames/_1510_small_3   \n",
       "33  _1516_small_1.mov  /tmp/data/stitched_video_frames/_1516_small_1   \n",
       "34  _1524_small_0.mov  /tmp/data/stitched_video_frames/_1524_small_0   \n",
       "35  _1526_small_3.mov  /tmp/data/stitched_video_frames/_1526_small_3   \n",
       "36  _1533_small_1.mov  /tmp/data/stitched_video_frames/_1533_small_1   \n",
       "37  _1537_small_0.mov  /tmp/data/stitched_video_frames/_1537_small_0   \n",
       "38  _1512_small_1.mov  /tmp/data/stitched_video_frames/_1512_small_1   \n",
       "39  _1522_small_0.mov  /tmp/data/stitched_video_frames/_1522_small_0   \n",
       "40  _1524_small_3.mov  /tmp/data/stitched_video_frames/_1524_small_3   \n",
       "41  _1531_small_1.mov  /tmp/data/stitched_video_frames/_1531_small_1   \n",
       "42  _1535_small_0.mov  /tmp/data/stitched_video_frames/_1535_small_0   \n",
       "43  _1537_small_3.mov  /tmp/data/stitched_video_frames/_1537_small_3   \n",
       "44  _1513_small_0.mov  /tmp/data/stitched_video_frames/_1513_small_0   \n",
       "45  _1522_small_3.mov  /tmp/data/stitched_video_frames/_1522_small_3   \n",
       "46  _1525_small_1.mov  /tmp/data/stitched_video_frames/_1525_small_1   \n",
       "47  _1532_small_0.mov  /tmp/data/stitched_video_frames/_1532_small_0   \n",
       "48  _1535_small_3.mov  /tmp/data/stitched_video_frames/_1535_small_3   \n",
       "49  _1538_small_1.mov  /tmp/data/stitched_video_frames/_1538_small_1   \n",
       "\n",
       "                                          segment_url      segment_fname  \n",
       "0   http://csr.bu.edu/asl/private/downloads/2002_8...  _1508_small_3.mov  \n",
       "1   http://csr.bu.edu/asl/private/downloads/2002_8...  _1513_small_1.mov  \n",
       "2   http://csr.bu.edu/asl/private/downloads/2002_8...  _1523_small_0.mov  \n",
       "3   http://csr.bu.edu/asl/private/downloads/2002_8...  _1525_small_3.mov  \n",
       "4   http://csr.bu.edu/asl/private/downloads/2002_8...  _1532_small_1.mov  \n",
       "5   http://csr.bu.edu/asl/private/downloads/2002_8...  _1536_small_0.mov  \n",
       "6   http://csr.bu.edu/asl/private/downloads/2002_8...  _1538_small_3.mov  \n",
       "7   http://csr.bu.edu/asl/private/downloads/2002_8...  _1512_small_0.mov  \n",
       "8   http://csr.bu.edu/asl/private/downloads/2002_8...  _1516_small_3.mov  \n",
       "9   http://csr.bu.edu/asl/private/downloads/2002_8...  _1524_small_1.mov  \n",
       "10  http://csr.bu.edu/asl/private/downloads/2002_8...  _1531_small_0.mov  \n",
       "11  http://csr.bu.edu/asl/private/downloads/2002_8...  _1533_small_3.mov  \n",
       "12  http://csr.bu.edu/asl/private/downloads/2002_8...  _1537_small_1.mov  \n",
       "13  http://csr.bu.edu/asl/private/downloads/2002_8...  _1510_small_1.mov  \n",
       "14  http://csr.bu.edu/asl/private/downloads/2002_8...  _1516_small_0.mov  \n",
       "15  http://csr.bu.edu/asl/private/downloads/2002_8...  _1523_small_3.mov  \n",
       "16  http://csr.bu.edu/asl/private/downloads/2002_8...  _1526_small_1.mov  \n",
       "17  http://csr.bu.edu/asl/private/downloads/2002_8...  _1533_small_0.mov  \n",
       "18  http://csr.bu.edu/asl/private/downloads/2002_8...  _1536_small_3.mov  \n",
       "19  http://csr.bu.edu/asl/private/downloads/2002_8...  _1510_small_0.mov  \n",
       "20  http://csr.bu.edu/asl/private/downloads/2002_8...  _1513_small_3.mov  \n",
       "21  http://csr.bu.edu/asl/private/downloads/2002_8...  _1523_small_1.mov  \n",
       "22  http://csr.bu.edu/asl/private/downloads/2002_8...  _1526_small_0.mov  \n",
       "23  http://csr.bu.edu/asl/private/downloads/2002_8...  _1532_small_3.mov  \n",
       "24  http://csr.bu.edu/asl/private/downloads/2002_8...  _1536_small_1.mov  \n",
       "25  http://csr.bu.edu/asl/private/downloads/2002_8...  _1539_small_0.mov  \n",
       "26  http://csr.bu.edu/asl/private/downloads/2002_8...  _1512_small_3.mov  \n",
       "27  http://csr.bu.edu/asl/private/downloads/2002_8...  _1522_small_1.mov  \n",
       "28  http://csr.bu.edu/asl/private/downloads/2002_8...  _1525_small_0.mov  \n",
       "29  http://csr.bu.edu/asl/private/downloads/2002_8...  _1531_small_3.mov  \n",
       "30  http://csr.bu.edu/asl/private/downloads/2002_8...  _1535_small_1.mov  \n",
       "31  http://csr.bu.edu/asl/private/downloads/2002_8...  _1538_small_0.mov  \n",
       "32  http://csr.bu.edu/asl/private/downloads/2002_8...  _1510_small_3.mov  \n",
       "33  http://csr.bu.edu/asl/private/downloads/2002_8...  _1516_small_1.mov  \n",
       "34  http://csr.bu.edu/asl/private/downloads/2002_8...  _1524_small_0.mov  \n",
       "35  http://csr.bu.edu/asl/private/downloads/2002_8...  _1526_small_3.mov  \n",
       "36  http://csr.bu.edu/asl/private/downloads/2002_8...  _1533_small_1.mov  \n",
       "37  http://csr.bu.edu/asl/private/downloads/2002_8...  _1537_small_0.mov  \n",
       "38  http://csr.bu.edu/asl/private/downloads/2002_8...  _1512_small_1.mov  \n",
       "39  http://csr.bu.edu/asl/private/downloads/2002_8...  _1522_small_0.mov  \n",
       "40  http://csr.bu.edu/asl/private/downloads/2002_8...  _1524_small_3.mov  \n",
       "41  http://csr.bu.edu/asl/private/downloads/2002_8...  _1531_small_1.mov  \n",
       "42  http://csr.bu.edu/asl/private/downloads/2002_8...  _1535_small_0.mov  \n",
       "43  http://csr.bu.edu/asl/private/downloads/2002_8...  _1537_small_3.mov  \n",
       "44  http://csr.bu.edu/asl/private/downloads/2002_8...  _1513_small_0.mov  \n",
       "45  http://csr.bu.edu/asl/private/downloads/2002_8...  _1522_small_3.mov  \n",
       "46  http://csr.bu.edu/asl/private/downloads/2002_8...  _1525_small_1.mov  \n",
       "47  http://csr.bu.edu/asl/private/downloads/2002_8...  _1532_small_0.mov  \n",
       "48  http://csr.bu.edu/asl/private/downloads/2002_8...  _1535_small_3.mov  \n",
       "49  http://csr.bu.edu/asl/private/downloads/2002_8...  _1538_small_1.mov  "
      ],
      "text/html": "<div>\n<style scoped>\n    .dataframe tbody tr th:only-of-type {\n        vertical-align: middle;\n    }\n\n    .dataframe tbody tr th {\n        vertical-align: top;\n    }\n\n    .dataframe thead th {\n        text-align: right;\n    }\n</style>\n<table border=\"1\" class=\"dataframe\">\n  <thead>\n    <tr style=\"text-align: right;\">\n      <th></th>\n      <th>target_video_fname</th>\n      <th>target_video_frames_dir</th>\n      <th>segment_url</th>\n      <th>segment_fname</th>\n    </tr>\n  </thead>\n  <tbody>\n    <tr>\n      <th>0</th>\n      <td>_1508_small_3.mov</td>\n      <td>/tmp/data/stitched_video_frames/_1508_small_3</td>\n      <td>http://csr.bu.edu/asl/private/downloads/2002_8...</td>\n      <td>_1508_small_3.mov</td>\n    </tr>\n    <tr>\n      <th>1</th>\n      <td>_1513_small_1.mov</td>\n      <td>/tmp/data/stitched_video_frames/_1513_small_1</td>\n      <td>http://csr.bu.edu/asl/private/downloads/2002_8...</td>\n      <td>_1513_small_1.mov</td>\n    </tr>\n    <tr>\n      <th>2</th>\n      <td>_1523_small_0.mov</td>\n      <td>/tmp/data/stitched_video_frames/_1523_small_0</td>\n      <td>http://csr.bu.edu/asl/private/downloads/2002_8...</td>\n      <td>_1523_small_0.mov</td>\n    </tr>\n    <tr>\n      <th>3</th>\n      <td>_1525_small_3.mov</td>\n      <td>/tmp/data/stitched_video_frames/_1525_small_3</td>\n      <td>http://csr.bu.edu/asl/private/downloads/2002_8...</td>\n      <td>_1525_small_3.mov</td>\n    </tr>\n    <tr>\n      <th>4</th>\n      <td>_1532_small_1.mov</td>\n      <td>/tmp/data/stitched_video_frames/_1532_small_1</td>\n      <td>http://csr.bu.edu/asl/private/downloads/2002_8...</td>\n      <td>_1532_small_1.mov</td>\n    </tr>\n    <tr>\n      <th>5</th>\n      <td>_1536_small_0.mov</td>\n      <td>/tmp/data/stitched_video_frames/_1536_small_0</td>\n      <td>http://csr.bu.edu/asl/private/downloads/2002_8...</td>\n      <td>_1536_small_0.mov</td>\n    </tr>\n    <tr>\n      <th>6</th>\n      <td>_1538_small_3.mov</td>\n      <td>/tmp/data/stitched_video_frames/_1538_small_3</td>\n      <td>http://csr.bu.edu/asl/private/downloads/2002_8...</td>\n      <td>_1538_small_3.mov</td>\n    </tr>\n    <tr>\n      <th>7</th>\n      <td>_1512_small_0.mov</td>\n      <td>/tmp/data/stitched_video_frames/_1512_small_0</td>\n      <td>http://csr.bu.edu/asl/private/downloads/2002_8...</td>\n      <td>_1512_small_0.mov</td>\n    </tr>\n    <tr>\n      <th>8</th>\n      <td>_1516_small_3.mov</td>\n      <td>/tmp/data/stitched_video_frames/_1516_small_3</td>\n      <td>http://csr.bu.edu/asl/private/downloads/2002_8...</td>\n      <td>_1516_small_3.mov</td>\n    </tr>\n    <tr>\n      <th>9</th>\n      <td>_1524_small_1.mov</td>\n      <td>/tmp/data/stitched_video_frames/_1524_small_1</td>\n      <td>http://csr.bu.edu/asl/private/downloads/2002_8...</td>\n      <td>_1524_small_1.mov</td>\n    </tr>\n    <tr>\n      <th>10</th>\n      <td>_1531_small_0.mov</td>\n      <td>/tmp/data/stitched_video_frames/_1531_small_0</td>\n      <td>http://csr.bu.edu/asl/private/downloads/2002_8...</td>\n      <td>_1531_small_0.mov</td>\n    </tr>\n    <tr>\n      <th>11</th>\n      <td>_1533_small_3.mov</td>\n      <td>/tmp/data/stitched_video_frames/_1533_small_3</td>\n      <td>http://csr.bu.edu/asl/private/downloads/2002_8...</td>\n      <td>_1533_small_3.mov</td>\n    </tr>\n    <tr>\n      <th>12</th>\n      <td>_1537_small_1.mov</td>\n      <td>/tmp/data/stitched_video_frames/_1537_small_1</td>\n      <td>http://csr.bu.edu/asl/private/downloads/2002_8...</td>\n      <td>_1537_small_1.mov</td>\n    </tr>\n    <tr>\n      <th>13</th>\n      <td>_1510_small_1.mov</td>\n      <td>/tmp/data/stitched_video_frames/_1510_small_1</td>\n      <td>http://csr.bu.edu/asl/private/downloads/2002_8...</td>\n      <td>_1510_small_1.mov</td>\n    </tr>\n    <tr>\n      <th>14</th>\n      <td>_1516_small_0.mov</td>\n      <td>/tmp/data/stitched_video_frames/_1516_small_0</td>\n      <td>http://csr.bu.edu/asl/private/downloads/2002_8...</td>\n      <td>_1516_small_0.mov</td>\n    </tr>\n    <tr>\n      <th>15</th>\n      <td>_1523_small_3.mov</td>\n      <td>/tmp/data/stitched_video_frames/_1523_small_3</td>\n      <td>http://csr.bu.edu/asl/private/downloads/2002_8...</td>\n      <td>_1523_small_3.mov</td>\n    </tr>\n    <tr>\n      <th>16</th>\n      <td>_1526_small_1.mov</td>\n      <td>/tmp/data/stitched_video_frames/_1526_small_1</td>\n      <td>http://csr.bu.edu/asl/private/downloads/2002_8...</td>\n      <td>_1526_small_1.mov</td>\n    </tr>\n    <tr>\n      <th>17</th>\n      <td>_1533_small_0.mov</td>\n      <td>/tmp/data/stitched_video_frames/_1533_small_0</td>\n      <td>http://csr.bu.edu/asl/private/downloads/2002_8...</td>\n      <td>_1533_small_0.mov</td>\n    </tr>\n    <tr>\n      <th>18</th>\n      <td>_1536_small_3.mov</td>\n      <td>/tmp/data/stitched_video_frames/_1536_small_3</td>\n      <td>http://csr.bu.edu/asl/private/downloads/2002_8...</td>\n      <td>_1536_small_3.mov</td>\n    </tr>\n    <tr>\n      <th>19</th>\n      <td>_1510_small_0.mov</td>\n      <td>/tmp/data/stitched_video_frames/_1510_small_0</td>\n      <td>http://csr.bu.edu/asl/private/downloads/2002_8...</td>\n      <td>_1510_small_0.mov</td>\n    </tr>\n    <tr>\n      <th>20</th>\n      <td>_1513_small_3.mov</td>\n      <td>/tmp/data/stitched_video_frames/_1513_small_3</td>\n      <td>http://csr.bu.edu/asl/private/downloads/2002_8...</td>\n      <td>_1513_small_3.mov</td>\n    </tr>\n    <tr>\n      <th>21</th>\n      <td>_1523_small_1.mov</td>\n      <td>/tmp/data/stitched_video_frames/_1523_small_1</td>\n      <td>http://csr.bu.edu/asl/private/downloads/2002_8...</td>\n      <td>_1523_small_1.mov</td>\n    </tr>\n    <tr>\n      <th>22</th>\n      <td>_1526_small_0.mov</td>\n      <td>/tmp/data/stitched_video_frames/_1526_small_0</td>\n      <td>http://csr.bu.edu/asl/private/downloads/2002_8...</td>\n      <td>_1526_small_0.mov</td>\n    </tr>\n    <tr>\n      <th>23</th>\n      <td>_1532_small_3.mov</td>\n      <td>/tmp/data/stitched_video_frames/_1532_small_3</td>\n      <td>http://csr.bu.edu/asl/private/downloads/2002_8...</td>\n      <td>_1532_small_3.mov</td>\n    </tr>\n    <tr>\n      <th>24</th>\n      <td>_1536_small_1.mov</td>\n      <td>/tmp/data/stitched_video_frames/_1536_small_1</td>\n      <td>http://csr.bu.edu/asl/private/downloads/2002_8...</td>\n      <td>_1536_small_1.mov</td>\n    </tr>\n    <tr>\n      <th>25</th>\n      <td>_1539_small_0.mov</td>\n      <td>/tmp/data/stitched_video_frames/_1539_small_0</td>\n      <td>http://csr.bu.edu/asl/private/downloads/2002_8...</td>\n      <td>_1539_small_0.mov</td>\n    </tr>\n    <tr>\n      <th>26</th>\n      <td>_1512_small_3.mov</td>\n      <td>/tmp/data/stitched_video_frames/_1512_small_3</td>\n      <td>http://csr.bu.edu/asl/private/downloads/2002_8...</td>\n      <td>_1512_small_3.mov</td>\n    </tr>\n    <tr>\n      <th>27</th>\n      <td>_1522_small_1.mov</td>\n      <td>/tmp/data/stitched_video_frames/_1522_small_1</td>\n      <td>http://csr.bu.edu/asl/private/downloads/2002_8...</td>\n      <td>_1522_small_1.mov</td>\n    </tr>\n    <tr>\n      <th>28</th>\n      <td>_1525_small_0.mov</td>\n      <td>/tmp/data/stitched_video_frames/_1525_small_0</td>\n      <td>http://csr.bu.edu/asl/private/downloads/2002_8...</td>\n      <td>_1525_small_0.mov</td>\n    </tr>\n    <tr>\n      <th>29</th>\n      <td>_1531_small_3.mov</td>\n      <td>/tmp/data/stitched_video_frames/_1531_small_3</td>\n      <td>http://csr.bu.edu/asl/private/downloads/2002_8...</td>\n      <td>_1531_small_3.mov</td>\n    </tr>\n    <tr>\n      <th>30</th>\n      <td>_1535_small_1.mov</td>\n      <td>/tmp/data/stitched_video_frames/_1535_small_1</td>\n      <td>http://csr.bu.edu/asl/private/downloads/2002_8...</td>\n      <td>_1535_small_1.mov</td>\n    </tr>\n    <tr>\n      <th>31</th>\n      <td>_1538_small_0.mov</td>\n      <td>/tmp/data/stitched_video_frames/_1538_small_0</td>\n      <td>http://csr.bu.edu/asl/private/downloads/2002_8...</td>\n      <td>_1538_small_0.mov</td>\n    </tr>\n    <tr>\n      <th>32</th>\n      <td>_1510_small_3.mov</td>\n      <td>/tmp/data/stitched_video_frames/_1510_small_3</td>\n      <td>http://csr.bu.edu/asl/private/downloads/2002_8...</td>\n      <td>_1510_small_3.mov</td>\n    </tr>\n    <tr>\n      <th>33</th>\n      <td>_1516_small_1.mov</td>\n      <td>/tmp/data/stitched_video_frames/_1516_small_1</td>\n      <td>http://csr.bu.edu/asl/private/downloads/2002_8...</td>\n      <td>_1516_small_1.mov</td>\n    </tr>\n    <tr>\n      <th>34</th>\n      <td>_1524_small_0.mov</td>\n      <td>/tmp/data/stitched_video_frames/_1524_small_0</td>\n      <td>http://csr.bu.edu/asl/private/downloads/2002_8...</td>\n      <td>_1524_small_0.mov</td>\n    </tr>\n    <tr>\n      <th>35</th>\n      <td>_1526_small_3.mov</td>\n      <td>/tmp/data/stitched_video_frames/_1526_small_3</td>\n      <td>http://csr.bu.edu/asl/private/downloads/2002_8...</td>\n      <td>_1526_small_3.mov</td>\n    </tr>\n    <tr>\n      <th>36</th>\n      <td>_1533_small_1.mov</td>\n      <td>/tmp/data/stitched_video_frames/_1533_small_1</td>\n      <td>http://csr.bu.edu/asl/private/downloads/2002_8...</td>\n      <td>_1533_small_1.mov</td>\n    </tr>\n    <tr>\n      <th>37</th>\n      <td>_1537_small_0.mov</td>\n      <td>/tmp/data/stitched_video_frames/_1537_small_0</td>\n      <td>http://csr.bu.edu/asl/private/downloads/2002_8...</td>\n      <td>_1537_small_0.mov</td>\n    </tr>\n    <tr>\n      <th>38</th>\n      <td>_1512_small_1.mov</td>\n      <td>/tmp/data/stitched_video_frames/_1512_small_1</td>\n      <td>http://csr.bu.edu/asl/private/downloads/2002_8...</td>\n      <td>_1512_small_1.mov</td>\n    </tr>\n    <tr>\n      <th>39</th>\n      <td>_1522_small_0.mov</td>\n      <td>/tmp/data/stitched_video_frames/_1522_small_0</td>\n      <td>http://csr.bu.edu/asl/private/downloads/2002_8...</td>\n      <td>_1522_small_0.mov</td>\n    </tr>\n    <tr>\n      <th>40</th>\n      <td>_1524_small_3.mov</td>\n      <td>/tmp/data/stitched_video_frames/_1524_small_3</td>\n      <td>http://csr.bu.edu/asl/private/downloads/2002_8...</td>\n      <td>_1524_small_3.mov</td>\n    </tr>\n    <tr>\n      <th>41</th>\n      <td>_1531_small_1.mov</td>\n      <td>/tmp/data/stitched_video_frames/_1531_small_1</td>\n      <td>http://csr.bu.edu/asl/private/downloads/2002_8...</td>\n      <td>_1531_small_1.mov</td>\n    </tr>\n    <tr>\n      <th>42</th>\n      <td>_1535_small_0.mov</td>\n      <td>/tmp/data/stitched_video_frames/_1535_small_0</td>\n      <td>http://csr.bu.edu/asl/private/downloads/2002_8...</td>\n      <td>_1535_small_0.mov</td>\n    </tr>\n    <tr>\n      <th>43</th>\n      <td>_1537_small_3.mov</td>\n      <td>/tmp/data/stitched_video_frames/_1537_small_3</td>\n      <td>http://csr.bu.edu/asl/private/downloads/2002_8...</td>\n      <td>_1537_small_3.mov</td>\n    </tr>\n    <tr>\n      <th>44</th>\n      <td>_1513_small_0.mov</td>\n      <td>/tmp/data/stitched_video_frames/_1513_small_0</td>\n      <td>http://csr.bu.edu/asl/private/downloads/2002_8...</td>\n      <td>_1513_small_0.mov</td>\n    </tr>\n    <tr>\n      <th>45</th>\n      <td>_1522_small_3.mov</td>\n      <td>/tmp/data/stitched_video_frames/_1522_small_3</td>\n      <td>http://csr.bu.edu/asl/private/downloads/2002_8...</td>\n      <td>_1522_small_3.mov</td>\n    </tr>\n    <tr>\n      <th>46</th>\n      <td>_1525_small_1.mov</td>\n      <td>/tmp/data/stitched_video_frames/_1525_small_1</td>\n      <td>http://csr.bu.edu/asl/private/downloads/2002_8...</td>\n      <td>_1525_small_1.mov</td>\n    </tr>\n    <tr>\n      <th>47</th>\n      <td>_1532_small_0.mov</td>\n      <td>/tmp/data/stitched_video_frames/_1532_small_0</td>\n      <td>http://csr.bu.edu/asl/private/downloads/2002_8...</td>\n      <td>_1532_small_0.mov</td>\n    </tr>\n    <tr>\n      <th>48</th>\n      <td>_1535_small_3.mov</td>\n      <td>/tmp/data/stitched_video_frames/_1535_small_3</td>\n      <td>http://csr.bu.edu/asl/private/downloads/2002_8...</td>\n      <td>_1535_small_3.mov</td>\n    </tr>\n    <tr>\n      <th>49</th>\n      <td>_1538_small_1.mov</td>\n      <td>/tmp/data/stitched_video_frames/_1538_small_1</td>\n      <td>http://csr.bu.edu/asl/private/downloads/2002_8...</td>\n      <td>_1538_small_1.mov</td>\n    </tr>\n  </tbody>\n</table>\n</div>"
     },
     "metadata": {},
     "execution_count": 25
    }
   ],
   "source": [
    "df_merged_download_results"
   ]
  },
  {
   "cell_type": "code",
   "execution_count": 26,
   "metadata": {},
   "outputs": [
    {
     "output_type": "execute_result",
     "data": {
      "text/plain": [
       "        segment_fname  frames  \\\n",
       "0   _1523_small_3.mov     129   \n",
       "1   _1531_small_0.mov     121   \n",
       "2   _1537_small_0.mov      71   \n",
       "3   _1523_small_1.mov     129   \n",
       "4   _1525_small_1.mov      71   \n",
       "5   _1525_small_0.mov      71   \n",
       "6   _1538_small_1.mov      89   \n",
       "7   _1536_small_3.mov      81   \n",
       "8   _1537_small_1.mov      71   \n",
       "9   _1513_small_3.mov      83   \n",
       "10  _1524_small_3.mov      65   \n",
       "11  _1513_small_1.mov      83   \n",
       "12  _1536_small_0.mov      81   \n",
       "13  _1516_small_3.mov      81   \n",
       "14  _1533_small_3.mov      93   \n",
       "15  _1510_small_0.mov      89   \n",
       "16  _1512_small_3.mov      85   \n",
       "17  _1523_small_0.mov     129   \n",
       "18  _1531_small_3.mov     121   \n",
       "19  _1526_small_1.mov      81   \n",
       "20  _1524_small_0.mov      65   \n",
       "21  _1532_small_3.mov      63   \n",
       "22  _1508_small_3.mov      89   \n",
       "23  _1522_small_1.mov      81   \n",
       "24  _1531_small_1.mov     121   \n",
       "25  _1535_small_3.mov     111   \n",
       "26  _1510_small_1.mov      89   \n",
       "27  _1524_small_1.mov      65   \n",
       "28  _1533_small_1.mov      93   \n",
       "29  _1512_small_1.mov      85   \n",
       "30  _1538_small_0.mov      89   \n",
       "31  _1538_small_3.mov      89   \n",
       "32  _1516_small_0.mov      81   \n",
       "33  _1516_small_1.mov      81   \n",
       "34  _1536_small_1.mov      81   \n",
       "35  _1535_small_0.mov     111   \n",
       "36  _1525_small_3.mov      71   \n",
       "37  _1535_small_1.mov     111   \n",
       "38  _1512_small_0.mov      85   \n",
       "39  _1526_small_3.mov      81   \n",
       "40  _1537_small_3.mov      71   \n",
       "41  _1532_small_1.mov      63   \n",
       "42  _1522_small_0.mov      81   \n",
       "43  _1513_small_0.mov      83   \n",
       "44  _1533_small_0.mov      93   \n",
       "45  _1510_small_3.mov      89   \n",
       "46  _1526_small_0.mov      81   \n",
       "47  _1539_small_0.mov     111   \n",
       "48  _1532_small_0.mov      63   \n",
       "49  _1522_small_3.mov      81   \n",
       "\n",
       "                                        segment_dicts  \n",
       "0   [{'target_video_fname': '_1523_small_3.mov', '...  \n",
       "1   [{'target_video_fname': '_1531_small_0.mov', '...  \n",
       "2   [{'target_video_fname': '_1537_small_0.mov', '...  \n",
       "3   [{'target_video_fname': '_1523_small_1.mov', '...  \n",
       "4   [{'target_video_fname': '_1525_small_1.mov', '...  \n",
       "5   [{'target_video_fname': '_1525_small_0.mov', '...  \n",
       "6   [{'target_video_fname': '_1538_small_1.mov', '...  \n",
       "7   [{'target_video_fname': '_1536_small_3.mov', '...  \n",
       "8   [{'target_video_fname': '_1537_small_1.mov', '...  \n",
       "9   [{'target_video_fname': '_1513_small_3.mov', '...  \n",
       "10  [{'target_video_fname': '_1524_small_3.mov', '...  \n",
       "11  [{'target_video_fname': '_1513_small_1.mov', '...  \n",
       "12  [{'target_video_fname': '_1536_small_0.mov', '...  \n",
       "13  [{'target_video_fname': '_1516_small_3.mov', '...  \n",
       "14  [{'target_video_fname': '_1533_small_3.mov', '...  \n",
       "15  [{'target_video_fname': '_1510_small_0.mov', '...  \n",
       "16  [{'target_video_fname': '_1512_small_3.mov', '...  \n",
       "17  [{'target_video_fname': '_1523_small_0.mov', '...  \n",
       "18  [{'target_video_fname': '_1531_small_3.mov', '...  \n",
       "19  [{'target_video_fname': '_1526_small_1.mov', '...  \n",
       "20  [{'target_video_fname': '_1524_small_0.mov', '...  \n",
       "21  [{'target_video_fname': '_1532_small_3.mov', '...  \n",
       "22  [{'target_video_fname': '_1508_small_3.mov', '...  \n",
       "23  [{'target_video_fname': '_1522_small_1.mov', '...  \n",
       "24  [{'target_video_fname': '_1531_small_1.mov', '...  \n",
       "25  [{'target_video_fname': '_1535_small_3.mov', '...  \n",
       "26  [{'target_video_fname': '_1510_small_1.mov', '...  \n",
       "27  [{'target_video_fname': '_1524_small_1.mov', '...  \n",
       "28  [{'target_video_fname': '_1533_small_1.mov', '...  \n",
       "29  [{'target_video_fname': '_1512_small_1.mov', '...  \n",
       "30  [{'target_video_fname': '_1538_small_0.mov', '...  \n",
       "31  [{'target_video_fname': '_1538_small_3.mov', '...  \n",
       "32  [{'target_video_fname': '_1516_small_0.mov', '...  \n",
       "33  [{'target_video_fname': '_1516_small_1.mov', '...  \n",
       "34  [{'target_video_fname': '_1536_small_1.mov', '...  \n",
       "35  [{'target_video_fname': '_1535_small_0.mov', '...  \n",
       "36  [{'target_video_fname': '_1525_small_3.mov', '...  \n",
       "37  [{'target_video_fname': '_1535_small_1.mov', '...  \n",
       "38  [{'target_video_fname': '_1512_small_0.mov', '...  \n",
       "39  [{'target_video_fname': '_1526_small_3.mov', '...  \n",
       "40  [{'target_video_fname': '_1537_small_3.mov', '...  \n",
       "41  [{'target_video_fname': '_1532_small_1.mov', '...  \n",
       "42  [{'target_video_fname': '_1522_small_0.mov', '...  \n",
       "43  [{'target_video_fname': '_1513_small_0.mov', '...  \n",
       "44  [{'target_video_fname': '_1533_small_0.mov', '...  \n",
       "45  [{'target_video_fname': '_1510_small_3.mov', '...  \n",
       "46  [{'target_video_fname': '_1526_small_0.mov', '...  \n",
       "47  [{'target_video_fname': '_1539_small_0.mov', '...  \n",
       "48  [{'target_video_fname': '_1532_small_0.mov', '...  \n",
       "49  [{'target_video_fname': '_1522_small_3.mov', '...  "
      ],
      "text/html": "<div>\n<style scoped>\n    .dataframe tbody tr th:only-of-type {\n        vertical-align: middle;\n    }\n\n    .dataframe tbody tr th {\n        vertical-align: top;\n    }\n\n    .dataframe thead th {\n        text-align: right;\n    }\n</style>\n<table border=\"1\" class=\"dataframe\">\n  <thead>\n    <tr style=\"text-align: right;\">\n      <th></th>\n      <th>segment_fname</th>\n      <th>frames</th>\n      <th>segment_dicts</th>\n    </tr>\n  </thead>\n  <tbody>\n    <tr>\n      <th>0</th>\n      <td>_1523_small_3.mov</td>\n      <td>129</td>\n      <td>[{'target_video_fname': '_1523_small_3.mov', '...</td>\n    </tr>\n    <tr>\n      <th>1</th>\n      <td>_1531_small_0.mov</td>\n      <td>121</td>\n      <td>[{'target_video_fname': '_1531_small_0.mov', '...</td>\n    </tr>\n    <tr>\n      <th>2</th>\n      <td>_1537_small_0.mov</td>\n      <td>71</td>\n      <td>[{'target_video_fname': '_1537_small_0.mov', '...</td>\n    </tr>\n    <tr>\n      <th>3</th>\n      <td>_1523_small_1.mov</td>\n      <td>129</td>\n      <td>[{'target_video_fname': '_1523_small_1.mov', '...</td>\n    </tr>\n    <tr>\n      <th>4</th>\n      <td>_1525_small_1.mov</td>\n      <td>71</td>\n      <td>[{'target_video_fname': '_1525_small_1.mov', '...</td>\n    </tr>\n    <tr>\n      <th>5</th>\n      <td>_1525_small_0.mov</td>\n      <td>71</td>\n      <td>[{'target_video_fname': '_1525_small_0.mov', '...</td>\n    </tr>\n    <tr>\n      <th>6</th>\n      <td>_1538_small_1.mov</td>\n      <td>89</td>\n      <td>[{'target_video_fname': '_1538_small_1.mov', '...</td>\n    </tr>\n    <tr>\n      <th>7</th>\n      <td>_1536_small_3.mov</td>\n      <td>81</td>\n      <td>[{'target_video_fname': '_1536_small_3.mov', '...</td>\n    </tr>\n    <tr>\n      <th>8</th>\n      <td>_1537_small_1.mov</td>\n      <td>71</td>\n      <td>[{'target_video_fname': '_1537_small_1.mov', '...</td>\n    </tr>\n    <tr>\n      <th>9</th>\n      <td>_1513_small_3.mov</td>\n      <td>83</td>\n      <td>[{'target_video_fname': '_1513_small_3.mov', '...</td>\n    </tr>\n    <tr>\n      <th>10</th>\n      <td>_1524_small_3.mov</td>\n      <td>65</td>\n      <td>[{'target_video_fname': '_1524_small_3.mov', '...</td>\n    </tr>\n    <tr>\n      <th>11</th>\n      <td>_1513_small_1.mov</td>\n      <td>83</td>\n      <td>[{'target_video_fname': '_1513_small_1.mov', '...</td>\n    </tr>\n    <tr>\n      <th>12</th>\n      <td>_1536_small_0.mov</td>\n      <td>81</td>\n      <td>[{'target_video_fname': '_1536_small_0.mov', '...</td>\n    </tr>\n    <tr>\n      <th>13</th>\n      <td>_1516_small_3.mov</td>\n      <td>81</td>\n      <td>[{'target_video_fname': '_1516_small_3.mov', '...</td>\n    </tr>\n    <tr>\n      <th>14</th>\n      <td>_1533_small_3.mov</td>\n      <td>93</td>\n      <td>[{'target_video_fname': '_1533_small_3.mov', '...</td>\n    </tr>\n    <tr>\n      <th>15</th>\n      <td>_1510_small_0.mov</td>\n      <td>89</td>\n      <td>[{'target_video_fname': '_1510_small_0.mov', '...</td>\n    </tr>\n    <tr>\n      <th>16</th>\n      <td>_1512_small_3.mov</td>\n      <td>85</td>\n      <td>[{'target_video_fname': '_1512_small_3.mov', '...</td>\n    </tr>\n    <tr>\n      <th>17</th>\n      <td>_1523_small_0.mov</td>\n      <td>129</td>\n      <td>[{'target_video_fname': '_1523_small_0.mov', '...</td>\n    </tr>\n    <tr>\n      <th>18</th>\n      <td>_1531_small_3.mov</td>\n      <td>121</td>\n      <td>[{'target_video_fname': '_1531_small_3.mov', '...</td>\n    </tr>\n    <tr>\n      <th>19</th>\n      <td>_1526_small_1.mov</td>\n      <td>81</td>\n      <td>[{'target_video_fname': '_1526_small_1.mov', '...</td>\n    </tr>\n    <tr>\n      <th>20</th>\n      <td>_1524_small_0.mov</td>\n      <td>65</td>\n      <td>[{'target_video_fname': '_1524_small_0.mov', '...</td>\n    </tr>\n    <tr>\n      <th>21</th>\n      <td>_1532_small_3.mov</td>\n      <td>63</td>\n      <td>[{'target_video_fname': '_1532_small_3.mov', '...</td>\n    </tr>\n    <tr>\n      <th>22</th>\n      <td>_1508_small_3.mov</td>\n      <td>89</td>\n      <td>[{'target_video_fname': '_1508_small_3.mov', '...</td>\n    </tr>\n    <tr>\n      <th>23</th>\n      <td>_1522_small_1.mov</td>\n      <td>81</td>\n      <td>[{'target_video_fname': '_1522_small_1.mov', '...</td>\n    </tr>\n    <tr>\n      <th>24</th>\n      <td>_1531_small_1.mov</td>\n      <td>121</td>\n      <td>[{'target_video_fname': '_1531_small_1.mov', '...</td>\n    </tr>\n    <tr>\n      <th>25</th>\n      <td>_1535_small_3.mov</td>\n      <td>111</td>\n      <td>[{'target_video_fname': '_1535_small_3.mov', '...</td>\n    </tr>\n    <tr>\n      <th>26</th>\n      <td>_1510_small_1.mov</td>\n      <td>89</td>\n      <td>[{'target_video_fname': '_1510_small_1.mov', '...</td>\n    </tr>\n    <tr>\n      <th>27</th>\n      <td>_1524_small_1.mov</td>\n      <td>65</td>\n      <td>[{'target_video_fname': '_1524_small_1.mov', '...</td>\n    </tr>\n    <tr>\n      <th>28</th>\n      <td>_1533_small_1.mov</td>\n      <td>93</td>\n      <td>[{'target_video_fname': '_1533_small_1.mov', '...</td>\n    </tr>\n    <tr>\n      <th>29</th>\n      <td>_1512_small_1.mov</td>\n      <td>85</td>\n      <td>[{'target_video_fname': '_1512_small_1.mov', '...</td>\n    </tr>\n    <tr>\n      <th>30</th>\n      <td>_1538_small_0.mov</td>\n      <td>89</td>\n      <td>[{'target_video_fname': '_1538_small_0.mov', '...</td>\n    </tr>\n    <tr>\n      <th>31</th>\n      <td>_1538_small_3.mov</td>\n      <td>89</td>\n      <td>[{'target_video_fname': '_1538_small_3.mov', '...</td>\n    </tr>\n    <tr>\n      <th>32</th>\n      <td>_1516_small_0.mov</td>\n      <td>81</td>\n      <td>[{'target_video_fname': '_1516_small_0.mov', '...</td>\n    </tr>\n    <tr>\n      <th>33</th>\n      <td>_1516_small_1.mov</td>\n      <td>81</td>\n      <td>[{'target_video_fname': '_1516_small_1.mov', '...</td>\n    </tr>\n    <tr>\n      <th>34</th>\n      <td>_1536_small_1.mov</td>\n      <td>81</td>\n      <td>[{'target_video_fname': '_1536_small_1.mov', '...</td>\n    </tr>\n    <tr>\n      <th>35</th>\n      <td>_1535_small_0.mov</td>\n      <td>111</td>\n      <td>[{'target_video_fname': '_1535_small_0.mov', '...</td>\n    </tr>\n    <tr>\n      <th>36</th>\n      <td>_1525_small_3.mov</td>\n      <td>71</td>\n      <td>[{'target_video_fname': '_1525_small_3.mov', '...</td>\n    </tr>\n    <tr>\n      <th>37</th>\n      <td>_1535_small_1.mov</td>\n      <td>111</td>\n      <td>[{'target_video_fname': '_1535_small_1.mov', '...</td>\n    </tr>\n    <tr>\n      <th>38</th>\n      <td>_1512_small_0.mov</td>\n      <td>85</td>\n      <td>[{'target_video_fname': '_1512_small_0.mov', '...</td>\n    </tr>\n    <tr>\n      <th>39</th>\n      <td>_1526_small_3.mov</td>\n      <td>81</td>\n      <td>[{'target_video_fname': '_1526_small_3.mov', '...</td>\n    </tr>\n    <tr>\n      <th>40</th>\n      <td>_1537_small_3.mov</td>\n      <td>71</td>\n      <td>[{'target_video_fname': '_1537_small_3.mov', '...</td>\n    </tr>\n    <tr>\n      <th>41</th>\n      <td>_1532_small_1.mov</td>\n      <td>63</td>\n      <td>[{'target_video_fname': '_1532_small_1.mov', '...</td>\n    </tr>\n    <tr>\n      <th>42</th>\n      <td>_1522_small_0.mov</td>\n      <td>81</td>\n      <td>[{'target_video_fname': '_1522_small_0.mov', '...</td>\n    </tr>\n    <tr>\n      <th>43</th>\n      <td>_1513_small_0.mov</td>\n      <td>83</td>\n      <td>[{'target_video_fname': '_1513_small_0.mov', '...</td>\n    </tr>\n    <tr>\n      <th>44</th>\n      <td>_1533_small_0.mov</td>\n      <td>93</td>\n      <td>[{'target_video_fname': '_1533_small_0.mov', '...</td>\n    </tr>\n    <tr>\n      <th>45</th>\n      <td>_1510_small_3.mov</td>\n      <td>89</td>\n      <td>[{'target_video_fname': '_1510_small_3.mov', '...</td>\n    </tr>\n    <tr>\n      <th>46</th>\n      <td>_1526_small_0.mov</td>\n      <td>81</td>\n      <td>[{'target_video_fname': '_1526_small_0.mov', '...</td>\n    </tr>\n    <tr>\n      <th>47</th>\n      <td>_1539_small_0.mov</td>\n      <td>111</td>\n      <td>[{'target_video_fname': '_1539_small_0.mov', '...</td>\n    </tr>\n    <tr>\n      <th>48</th>\n      <td>_1532_small_0.mov</td>\n      <td>63</td>\n      <td>[{'target_video_fname': '_1532_small_0.mov', '...</td>\n    </tr>\n    <tr>\n      <th>49</th>\n      <td>_1522_small_3.mov</td>\n      <td>81</td>\n      <td>[{'target_video_fname': '_1522_small_3.mov', '...</td>\n    </tr>\n  </tbody>\n</table>\n</div>"
     },
     "metadata": {},
     "execution_count": 26
    }
   ],
   "source": [
    "df_merged_extraction_results.columns = ['segment_fname', 'frames', 'segment_dicts']\n",
    "df_merged_extraction_results"
   ]
  },
  {
   "cell_type": "code",
   "execution_count": 27,
   "metadata": {},
   "outputs": [
    {
     "output_type": "stream",
     "name": "stdout",
     "text": [
      "We extracted 4382 frames from 50 downloaded segments.\n"
     ]
    }
   ],
   "source": [
    "print(f\"We extracted {df_merged_extraction_results.frames.sum()} frames from {df_merged_extraction_results.segment_fname.count()} downloaded segments.\")"
   ]
  },
  {
   "source": [
    "<p><br>\n",
    "\n",
    "## Conclusion\n",
    "\n",
    "This notebook hopefully adequately demonstrated the power of data processing parallelism that can be accomplished by using Apache Beam.  Remember, the full pipeline is executed in the GCP Dataflow environment.  This project was really only feasible doing it in that environment.\n",
    "\n",
    "The following statistics demonstrate this.\n",
    "\n",
    "<p><br>\n",
    "\n",
    "### Trying to do it locally, without Apache Beam\n",
    "\n",
    "As I said when I began this summary, when I first started my work on this project, I did some initial testing using the Pandas `DataFrame` approach.\n",
    "\n",
    "First, I ran out of space and my MacBook Pro was very upset with me.\n",
    "\n",
    "Second, the sequence didn't complete.\n",
    "\n",
    "Third, I let the process run for more than 18 hours.\n",
    "\n",
    "When I rebooted, I found the sequence had only progressed about 20% of the way through the entire list of videos.\n",
    "\n",
    "Of course, since I required a way to relate other information about the videos and frames, such as the data about the ASL consultant, camera perspective, etc., I had the \"brilliant\" idea to stuff each and every image byte into a table (csv).  No wonder I ran out of space.\n",
    "\n",
    "I estimated that had I let it finish, assuming I had enough local disk space to do so, it would have taken close to a week to do so.\n",
    "\n",
    "<p><br>\n",
    "\n",
    "### And with Apache Beam using GCP Dataflow as the runner, coupled with GCS for storage\n",
    "\n",
    "Whereas, **by executing the pipeline in GCP Dataflow, the entire pipeline took a little over 4 hours to complete, including the validation-train split** (which will be discussed in another blog post.). See the snapshot below.\n",
    "\n",
    "\n",
    "<p><br>\n",
    "\n",
    "![Dataflow-Jobs-All-ETL](./Dataflow-Jobs-All-ETL.png)\n",
    "\n",
    "<p><br>\n",
    "\n",
    "#### Other Statistics\n",
    "\n",
    "##### Total Frame Count: 561,000+\n",
    "\n",
    "##### Total Disk Space: 17 GB+\n",
    "\n",
    "##### 19 Datasets\n",
    "\n",
    "But only 2 are used to train the DNN.\n",
    "\n",
    "Please keep in mind that **I did this, basically at half resolution, at 30 FPS when the videos were produced at 60 FPS**.\n",
    "\n",
    "**I had to compromise *somewhere***.\n",
    "\n",
    "<p><br>\n",
    "\n",
    "### Final Report\n",
    "\n",
    "The total calendar time from start to finish was a little over four months.  \n",
    "\n",
    "That seems like a long time.  But this was a MASSIVE project and before I realized I bit off more than I could chew initially, I was already committed.\n",
    "\n",
    "So I persevered, did A LOT of research, and learned how to do Big Data.\n",
    "\n",
    "During that time frame I worked on this nearly every day, taking time off to sleep and when I needed a sanity check.\n",
    "\n",
    "Most of the time I worked an average of probably at least 10 hours per day.\n",
    "\n",
    "One thing I will say is that Apache Beam is not for the light-hearted.\n",
    "\n",
    "It is fairly low-level.  This is not the Pandas framework, folks.\n",
    "\n",
    "One needs to build nearly everything oneself.\n",
    "\n",
    "BUT... the catch is that one can do Big Data.  One can do data processing the likes of which would not otherwise be possible on a single, local machine.\n",
    "\n",
    "That's BIG!  It's not called \"Big Data\" for nother.\n",
    "\n",
    "In spite of all the pain, I give Apache Beam 5 out of 5 stars.\n",
    "\n",
    "It was well worth the blood, sweat, and tears.\n",
    "\n",
    "So... thank you and goodnight!"
   ],
   "cell_type": "markdown",
   "metadata": {}
  }
 ]
}