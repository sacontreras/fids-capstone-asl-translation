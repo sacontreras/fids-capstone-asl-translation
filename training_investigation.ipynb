{
 "metadata": {
  "language_info": {
   "codemirror_mode": {
    "name": "ipython",
    "version": 3
   },
   "file_extension": ".py",
   "mimetype": "text/x-python",
   "name": "python",
   "nbconvert_exporter": "python",
   "pygments_lexer": "ipython3",
   "version": "3.8.4-final"
  },
  "orig_nbformat": 2,
  "kernelspec": {
   "name": "python3",
   "display_name": "Anaconda: learn-env",
   "language": "python"
  }
 },
 "nbformat": 4,
 "nbformat_minor": 2,
 "cells": [
  {
   "cell_type": "code",
   "execution_count": 1,
   "metadata": {},
   "outputs": [],
   "source": [
    "import argparse\n",
    "import os\n",
    "\n",
    "import apache_beam as beam\n",
    "import tensorflow as tf\n",
    "from apache_beam.options.pipeline_options import PipelineOptions\n",
    "import apache_beam.runners.interactive.interactive_beam as ib\n",
    "import apache_beam.transforms.sql\n",
    "\n",
    "import sys\n",
    "sys.path.append('api')\n",
    "\n",
    "import beam__common\n",
    "import fidscs_globals\n",
    "\n",
    "import data_extractor\n",
    "import preprocessor\n",
    "\n",
    "# from tensorflow.keras.preprocessing.image import img_to_array, load_img\n",
    "import tensorflow.keras.preprocessing.image\n",
    "\n",
    "import subprocess\n",
    "\n",
    "%load_ext autoreload\n",
    "%autoreload 2"
   ]
  },
  {
   "cell_type": "code",
   "execution_count": 2,
   "metadata": {},
   "outputs": [
    {
     "output_type": "stream",
     "name": "stdout",
     "text": [
      "GOOGLE_APPLICATION_CREDENTIALS: /Users/stevencontreras/.secret/SC-FIDS-Capstone-4b4567e0e308.json\nBEAM_GCP_PROJECT: sc-fids-capstone\nFIDS_CAPSTONE_WRK_DIR: /tmp\nFIDS_CAPSTONE_MAX_TARGET_VIDEOS: 500\nFIDS_CAPSTONE_GCP_REGION: us-west2\nFIDS_CAPSTONE_GCP_REGION: us-west2\n"
     ]
    }
   ],
   "source": [
    "os.environ['GOOGLE_APPLICATION_CREDENTIALS'] # set by bash profile\n",
    "print(f\"GOOGLE_APPLICATION_CREDENTIALS: {os.environ['GOOGLE_APPLICATION_CREDENTIALS']}\")\n",
    "os.environ['BEAM_GCP_PROJECT'] = 'sc-fids-capstone'\n",
    "print(f\"BEAM_GCP_PROJECT: {os.environ['BEAM_GCP_PROJECT']}\")\n",
    "# os.environ['FIDS_CAPSTONE_WRK_DIR'] = f\"gs://{os.environ['BEAM_GCP_PROJECT']}-bucket-{os.environ['BEAM_GCP_PROJECT']}\"\n",
    "os.environ['FIDS_CAPSTONE_WRK_DIR'] = f\"/tmp\"\n",
    "print(f\"FIDS_CAPSTONE_WRK_DIR: {os.environ['FIDS_CAPSTONE_WRK_DIR']}\")\n",
    "os.environ['FIDS_CAPSTONE_MAX_TARGET_VIDEOS'] = '500'\n",
    "print(f\"FIDS_CAPSTONE_MAX_TARGET_VIDEOS: {os.environ['FIDS_CAPSTONE_MAX_TARGET_VIDEOS']}\")\n",
    "os.environ['FIDS_CAPSTONE_GCP_REGION'] = 'us-west2'\n",
    "print(f\"FIDS_CAPSTONE_GCP_REGION: {os.environ['FIDS_CAPSTONE_GCP_REGION']}\")"
   ]
  },
  {
   "cell_type": "code",
   "execution_count": 3,
   "metadata": {},
   "outputs": [
    {
     "output_type": "stream",
     "name": "stdout",
     "text": [
      "execvP: bin;condabin;library/bin;bin;condabin;library/bin;bin;condabin;library/bin;bin;condabin;library/bin;bin;condabin;library/bin;bin;condabin;library/bin;bin;condabin;library/bin;bin;condabin;library/bin;bin;condabin;library/bin;bin;condabin;library/bin;bin;condabin;library/bin;bin;condabin;library/bin;bin;condabin;library/bin;bin;condabin;library/bin;bin;condabin;library/bin;bin;condabin;library/bin;bin;condabin;library/bin;bin;condabin;library/bin;bin;condabin;library/bin;bin;condabin;library/bin;bin;condabin;library/bin;bin;condabin;library/bin;bin;condabin;library/bin;bin;condabin;library/bin;bin;condabin;library/bin;bin;condabin;library/bin;bin;condabin;library/bin;bin;condabin;library/bin;bin;condabin;library/bin;bin;condabin;library/bin;bin;condabin;library/bin;bin;condabin;library/bin;bin;condabin;library/bin;bin;condabin;library/bin;bin;condabin;library/bin;bin;condabin;library/bin;bin;condabin;library/bin;bin;condabin;library/bin;bin;condabin;library/bin;bin;condabin;library/bin;bin;condabin;library/bin;bin;condabin;library/bin;bin;condabin;library/bin;bin;condabin;library/bin;bin;condabin;library/bin;bin;condabin;library/bin;bin;condabin;library/bin;bin;condabin;library/bin;bin;condabin;library/bin;bin;condabin;library/bin;bin;condabin;library/bin;bin;condabin;library/bin;bin;condabin;library/bin;bin;condabin;library/bin;bin;condabin;library/bin;bin;condabin;library/bin;bin;condabin;library/bin;bin;condabin;library/bin;bin;condabin;library/bin;bin;condabin;library/bin;bin;condabin;library/bin;bin;condabin;library/bin;bin;condabin;library/bin;bin;condabin;library/bin;bin;condabin;library/bin;bin;condabin;library/bin;bin;condabin;library/bin;bin;condabin;library/bin;bin;condabin;library/bin;bin;condabin;library/bin;bin;condabin;library/bin;bin;condabin;library/bin;bin;condabin;library/bin;bin;condabin;library/bin;bin;condabin;library/bin;bin;condabin;library/bin;bin;condabin;library/bin;bin;condabin;library/bin;bin;condabin;library/bin;bin;condabin;library/bin;bin;condabin;library/bin;bin;condabin;library/bin;bin;condabin;library/bin;bin;condabin;library/bin;bin;condabin;library/bin;bin;condabin;library/bin;bin;condabin;library/bin;bin;condabin;library/bin;bin;condabin;library/bin;bin;condabin;library/bin;bin;condabin;library/bin;bin;condabin;library/bin;bin;condabin;library/bin;bin;condabin;library/bin;bin;condabin;library/bin;bin;condabin;library/bin;bin;condabin;library/bin;bin;condabin;library/bin;bin;condabin;library/bin;bin;condabin;library/bin;bin;condabin;library/bin;bin;condabin;library/bin;bin;condabin;library/bin;bin;condabin;library/bin;bin;condabin;library/bin;bin;condabin;library/bin;bin;condabin;library/bin;bin;condabin;library/bin;bin;condabin;library/bin;bin;condabin;library/bin;bin;condabin;library/bin;bin;condabin;library/bin;bin;condabin;library/bin;bin;condabin;library/bin;bin;condabin;library/bin;bin;condabin;library/bin;bin;condabin;library/bin;bin;condabin;library/bin;bin;condabin;library/bin;bin;condabin;library/bin;bin;condabin;library/bin;bin;condabin;library/bin;bin;condabin;library/bin;bin;condabin;library/bin;bin;condabin;library/bin;bin;condabin;library/bin;bin;condabin;library/bin;bin;condabin;library/bin;bin;condabin;library/bin;bin;condabin;library/bin;bin;condabin;library/bin;bin;condabin;library/bin;bin;condabin;library/bin;bin;condabin;library/bin;bin;condabin;library/bin;bin;condabin;library/bin;bin;condabin;library/bin;bin;condabin;library/bin;bin;condabin;library/bin;bin;condabin;library/bin;bin;condabin;library/bin;bin;condabin;library/bin;bin;condabin;library/bin;bin;condabin;library/bin;bin;condabin;library/bin;bin;condabin;library/bin;bin;condabin;library/bin;bin;condabin;library/bin;bin;condabin;library/bin;bin;condabin;library/bin;bin;condabin;library/bin;bin;condabin;library/bin;bin;condabin;library/bin;bin;condabin;library/bin;bin;condabin;library/bin;bin;condabin;library/bin;bin;condabin;library/bin;bin;condabin;library/bin;bin;condabin;library/bin;bin;condabin;library/bin;bin;condabin;library/bin;bin;condabin;library/bin;bin;condabin;library/bin;bin;condabin;library/bin;bin;condabin;library/bin;bin;condabin;library/bin;bin;condabin;library/bin;bin;condabin;library/bin;bin;condabin;library/bin;bin;condabin;library/bin;bin;condabin;library/bin;bin;condabin;library/bin;bin;condabin;library/bin;bin;condabin;library/bin;bin;condabin;library/bin;bin;condabin;library/bin;bin;condabin;library/bin;bin;condabin;library/bin;bin;condabin;library/bin;bin;condabin;library/bin;bin;condabin;library/bin;bin;condabin;library/bin;bin;condabin;library/bin;bin;condabin;library/bin;bin;condabin;library/bin;bin;condabin;library/bin;bin;condabin;library/bin;bin;condabin;library/bin;bin;condabin;library/bin;bin;condabin;library/bin;bin;condabin;library/bin;bin;condabin;library/bin;bin;condabin;library/bin;bin;condabin;library/bin;bin;condabin;library/bin;bin;condabin;library/bin;bin;condabin;library/bin;bin;condabin;library/bin;bin;condabin;library/bin;bin;condabin;library/bin;bin;condabin;library/bin;bin;condabin;library/bin;bin;condabin;library/bin;bin;condabin;library/bin;bin;condabin;library/bin;bin;condabin;library/bin;bin;condabin;library/bin;bin;condabin;library/bin;bin;condabin;library/bin;bin;condabin;library/bin;bin;condabin;library/bin;bin;condabin;library/bin;bin;condabin;library/bin;bin;condabin;library/bin;bin;condabin;library/bin;bin;condabin;library/bin;bin;condabin;library/bin;bin;condabin;library/bin;bin;condabin;library/bin;bin;condabin;library/bin;bin;condabin;library/bin;bin;condabin;library/bin;bin;condabin;library/bin;bin;condabin;library/bin;bin;condabin;library/bin;bin;condabin;library/bin;bin;condabin;library/bin;bin;condabin;library/bin;bin;condabin;library/bin;bin;condabin;library/bin;bin;condabin;library/bin;bin;condabin;library/bin;bin;condabin;library/bin;bin;condabin;library/bin;bin;condabin;library/bin;bin;condabin;library/bin;bin;condabin;library/bin;bin;condabin;library/bin;bin;condabin;library/bin;bin;condabin;library/bin;bin;condabin;library/bin;bin;condabin;library/bin;bin;condabin;library/bin;bin;condabin;library/bin;bin;condabin;library/bin;bin;condabin;library/bin;bin;condabin;library/bin;bin;condabin;library/bin;bin;condabin;library/bin;bin;condabin;library/bin;bin;condabin;library/bin;bin;condabin;library/bin;bin;condabin;library/bin;bin;condabin;library/bin;bin;condabin;library/bin;bin;condabin;library/bin;bin;condabin;library/bin;bin;condabin;library/bin;bin;condabin;library/bin;bin;condabin;library/bin;bin;condabin;library/bin;bin;condabin;library/bin;bin;condabin;library/bin;bin;condabin;library/bin;bin;condabin;library/bin;bin;condabin;library/bin;bin;condabin;library/bin;bin;condabin;library/bin;bin;condabin;library/bin;bin;condabin;library/bin;bin;condabin;library/bin;bin;condabin;library/bin;bin;condabin;library/bin;bin;condabin;library/bin;bin;condabin;library/bin;bin;condabin;library/bin;bin;condabin;library/bin;bin;condabin;library/bin;bin;condabin;library/bin;bin;condabin;library/bin;bin;condabin;library/bin;bin;condabin;library/bin;bin;condabin;library/bin;bin;condabin;library/bin;bin;condabin;library/bin;bin;condabin;library/bin;bin;condabin;library/bin;bin;condabin;library/bin;bin;condabin;library/bin;/Users/stevencontreras/google-cloud-sdk/bin: path too long\n",
      "execvP: bin;condabin;library/bin;bin;condabin;library/bin;bin;condabin;library/bin;bin;condabin;library/bin;bin;condabin;library/bin;bin;condabin;library/bin;bin;condabin;library/bin;bin;condabin;library/bin;bin;condabin;library/bin;bin;condabin;library/bin;bin;condabin;library/bin;bin;condabin;library/bin;bin;condabin;library/bin;bin;condabin;library/bin;bin;condabin;library/bin;bin;condabin;library/bin;bin;condabin;library/bin;bin;condabin;library/bin;bin;condabin;library/bin;bin;condabin;library/bin;bin;condabin;library/bin;bin;condabin;library/bin;bin;condabin;library/bin;bin;condabin;library/bin;bin;condabin;library/bin;bin;condabin;library/bin;bin;condabin;library/bin;bin;condabin;library/bin;bin;condabin;library/bin;bin;condabin;library/bin;bin;condabin;library/bin;bin;condabin;library/bin;bin;condabin;library/bin;bin;condabin;library/bin;bin;condabin;library/bin;bin;condabin;library/bin;bin;condabin;library/bin;bin;condabin;library/bin;bin;condabin;library/bin;bin;condabin;library/bin;bin;condabin;library/bin;bin;condabin;library/bin;bin;condabin;library/bin;bin;condabin;library/bin;bin;condabin;library/bin;bin;condabin;library/bin;bin;condabin;library/bin;bin;condabin;library/bin;bin;condabin;library/bin;bin;condabin;library/bin;bin;condabin;library/bin;bin;condabin;library/bin;bin;condabin;library/bin;bin;condabin;library/bin;bin;condabin;library/bin;bin;condabin;library/bin;bin;condabin;library/bin;bin;condabin;library/bin;bin;condabin;library/bin;bin;condabin;library/bin;bin;condabin;library/bin;bin;condabin;library/bin;bin;condabin;library/bin;bin;condabin;library/bin;bin;condabin;library/bin;bin;condabin;library/bin;bin;condabin;library/bin;bin;condabin;library/bin;bin;condabin;library/bin;bin;condabin;library/bin;bin;condabin;library/bin;bin;condabin;library/bin;bin;condabin;library/bin;bin;condabin;library/bin;bin;condabin;library/bin;bin;condabin;library/bin;bin;condabin;library/bin;bin;condabin;library/bin;bin;condabin;library/bin;bin;condabin;library/bin;bin;condabin;library/bin;bin;condabin;library/bin;bin;condabin;library/bin;bin;condabin;library/bin;bin;condabin;library/bin;bin;condabin;library/bin;bin;condabin;library/bin;bin;condabin;library/bin;bin;condabin;library/bin;bin;condabin;library/bin;bin;condabin;library/bin;bin;condabin;library/bin;bin;condabin;library/bin;bin;condabin;library/bin;bin;condabin;library/bin;bin;condabin;library/bin;bin;condabin;library/bin;bin;condabin;library/bin;bin;condabin;library/bin;bin;condabin;library/bin;bin;condabin;library/bin;bin;condabin;library/bin;bin;condabin;library/bin;bin;condabin;library/bin;bin;condabin;library/bin;bin;condabin;library/bin;bin;condabin;library/bin;bin;condabin;library/bin;bin;condabin;library/bin;bin;condabin;library/bin;bin;condabin;library/bin;bin;condabin;library/bin;bin;condabin;library/bin;bin;condabin;library/bin;bin;condabin;library/bin;bin;condabin;library/bin;bin;condabin;library/bin;bin;condabin;library/bin;bin;condabin;library/bin;bin;condabin;library/bin;bin;condabin;library/bin;bin;condabin;library/bin;bin;condabin;library/bin;bin;condabin;library/bin;bin;condabin;library/bin;bin;condabin;library/bin;bin;condabin;library/bin;bin;condabin;library/bin;bin;condabin;library/bin;bin;condabin;library/bin;bin;condabin;library/bin;bin;condabin;library/bin;bin;condabin;library/bin;bin;condabin;library/bin;bin;condabin;library/bin;bin;condabin;library/bin;bin;condabin;library/bin;bin;condabin;library/bin;bin;condabin;library/bin;bin;condabin;library/bin;bin;condabin;library/bin;bin;condabin;library/bin;bin;condabin;library/bin;bin;condabin;library/bin;bin;condabin;library/bin;bin;condabin;library/bin;bin;condabin;library/bin;bin;condabin;library/bin;bin;condabin;library/bin;bin;condabin;library/bin;bin;condabin;library/bin;bin;condabin;library/bin;bin;condabin;library/bin;bin;condabin;library/bin;bin;condabin;library/bin;bin;condabin;library/bin;bin;condabin;library/bin;bin;condabin;library/bin;bin;condabin;library/bin;bin;condabin;library/bin;bin;condabin;library/bin;bin;condabin;library/bin;bin;condabin;library/bin;bin;condabin;library/bin;bin;condabin;library/bin;bin;condabin;library/bin;bin;condabin;library/bin;bin;condabin;library/bin;bin;condabin;library/bin;bin;condabin;library/bin;bin;condabin;library/bin;bin;condabin;library/bin;bin;condabin;library/bin;bin;condabin;library/bin;bin;condabin;library/bin;bin;condabin;library/bin;bin;condabin;library/bin;bin;condabin;library/bin;bin;condabin;library/bin;bin;condabin;library/bin;bin;condabin;library/bin;bin;condabin;library/bin;bin;condabin;library/bin;bin;condabin;library/bin;bin;condabin;library/bin;bin;condabin;library/bin;bin;condabin;library/bin;bin;condabin;library/bin;bin;condabin;library/bin;bin;condabin;library/bin;bin;condabin;library/bin;bin;condabin;library/bin;bin;condabin;library/bin;bin;condabin;library/bin;bin;condabin;library/bin;bin;condabin;library/bin;bin;condabin;library/bin;bin;condabin;library/bin;bin;condabin;library/bin;bin;condabin;library/bin;bin;condabin;library/bin;bin;condabin;library/bin;bin;condabin;library/bin;bin;condabin;library/bin;bin;condabin;library/bin;bin;condabin;library/bin;bin;condabin;library/bin;bin;condabin;library/bin;bin;condabin;library/bin;bin;condabin;library/bin;bin;condabin;library/bin;bin;condabin;library/bin;bin;condabin;library/bin;bin;condabin;library/bin;bin;condabin;library/bin;bin;condabin;library/bin;bin;condabin;library/bin;bin;condabin;library/bin;bin;condabin;library/bin;bin;condabin;library/bin;bin;condabin;library/bin;bin;condabin;library/bin;bin;condabin;library/bin;bin;condabin;library/bin;bin;condabin;library/bin;bin;condabin;library/bin;bin;condabin;library/bin;bin;condabin;library/bin;bin;condabin;library/bin;bin;condabin;library/bin;bin;condabin;library/bin;bin;condabin;library/bin;bin;condabin;library/bin;bin;condabin;library/bin;bin;condabin;library/bin;bin;condabin;library/bin;bin;condabin;library/bin;bin;condabin;library/bin;bin;condabin;library/bin;bin;condabin;library/bin;bin;condabin;library/bin;bin;condabin;library/bin;bin;condabin;library/bin;bin;condabin;library/bin;bin;condabin;library/bin;bin;condabin;library/bin;bin;condabin;library/bin;bin;condabin;library/bin;bin;condabin;library/bin;bin;condabin;library/bin;bin;condabin;library/bin;bin;condabin;library/bin;bin;condabin;library/bin;bin;condabin;library/bin;bin;condabin;library/bin;bin;condabin;library/bin;bin;condabin;library/bin;bin;condabin;library/bin;bin;condabin;library/bin;bin;condabin;library/bin;bin;condabin;library/bin;bin;condabin;library/bin;bin;condabin;library/bin;bin;condabin;library/bin;bin;condabin;library/bin;bin;condabin;library/bin;bin;condabin;library/bin;bin;condabin;library/bin;bin;condabin;library/bin;bin;condabin;library/bin;bin;condabin;library/bin;bin;condabin;library/bin;bin;condabin;library/bin;bin;condabin;library/bin;bin;condabin;library/bin;bin;condabin;library/bin;bin;condabin;library/bin;bin;condabin;library/bin;bin;condabin;library/bin;bin;condabin;library/bin;bin;condabin;library/bin;bin;condabin;library/bin;bin;condabin;library/bin;bin;condabin;library/bin;bin;condabin;library/bin;bin;condabin;library/bin;bin;condabin;library/bin;bin;condabin;library/bin;bin;condabin;library/bin;/Users/stevencontreras/google-cloud-sdk/bin: path too long\n",
      "execvP: bin;condabin;library/bin;bin;condabin;library/bin;bin;condabin;library/bin;bin;condabin;library/bin;bin;condabin;library/bin;bin;condabin;library/bin;bin;condabin;library/bin;bin;condabin;library/bin;bin;condabin;library/bin;bin;condabin;library/bin;bin;condabin;library/bin;bin;condabin;library/bin;bin;condabin;library/bin;bin;condabin;library/bin;bin;condabin;library/bin;bin;condabin;library/bin;bin;condabin;library/bin;bin;condabin;library/bin;bin;condabin;library/bin;bin;condabin;library/bin;bin;condabin;library/bin;bin;condabin;library/bin;bin;condabin;library/bin;bin;condabin;library/bin;bin;condabin;library/bin;bin;condabin;library/bin;bin;condabin;library/bin;bin;condabin;library/bin;bin;condabin;library/bin;bin;condabin;library/bin;bin;condabin;library/bin;bin;condabin;library/bin;bin;condabin;library/bin;bin;condabin;library/bin;bin;condabin;library/bin;bin;condabin;library/bin;bin;condabin;library/bin;bin;condabin;library/bin;bin;condabin;library/bin;bin;condabin;library/bin;bin;condabin;library/bin;bin;condabin;library/bin;bin;condabin;library/bin;bin;condabin;library/bin;bin;condabin;library/bin;bin;condabin;library/bin;bin;condabin;library/bin;bin;condabin;library/bin;bin;condabin;library/bin;bin;condabin;library/bin;bin;condabin;library/bin;bin;condabin;library/bin;bin;condabin;library/bin;bin;condabin;library/bin;bin;condabin;library/bin;bin;condabin;library/bin;bin;condabin;library/bin;bin;condabin;library/bin;bin;condabin;library/bin;bin;condabin;library/bin;bin;condabin;library/bin;bin;condabin;library/bin;bin;condabin;library/bin;bin;condabin;library/bin;bin;condabin;library/bin;bin;condabin;library/bin;bin;condabin;library/bin;bin;condabin;library/bin;bin;condabin;library/bin;bin;condabin;library/bin;bin;condabin;library/bin;bin;condabin;library/bin;bin;condabin;library/bin;bin;condabin;library/bin;bin;condabin;library/bin;bin;condabin;library/bin;bin;condabin;library/bin;bin;condabin;library/bin;bin;condabin;library/bin;bin;condabin;library/bin;bin;condabin;library/bin;bin;condabin;library/bin;bin;condabin;library/bin;bin;condabin;library/bin;bin;condabin;library/bin;bin;condabin;library/bin;bin;condabin;library/bin;bin;condabin;library/bin;bin;condabin;library/bin;bin;condabin;library/bin;bin;condabin;library/bin;bin;condabin;library/bin;bin;condabin;library/bin;bin;condabin;library/bin;bin;condabin;library/bin;bin;condabin;library/bin;bin;condabin;library/bin;bin;condabin;library/bin;bin;condabin;library/bin;bin;condabin;library/bin;bin;condabin;library/bin;bin;condabin;library/bin;bin;condabin;library/bin;bin;condabin;library/bin;bin;condabin;library/bin;bin;condabin;library/bin;bin;condabin;library/bin;bin;condabin;library/bin;bin;condabin;library/bin;bin;condabin;library/bin;bin;condabin;library/bin;bin;condabin;library/bin;bin;condabin;library/bin;bin;condabin;library/bin;bin;condabin;library/bin;bin;condabin;library/bin;bin;condabin;library/bin;bin;condabin;library/bin;bin;condabin;library/bin;bin;condabin;library/bin;bin;condabin;library/bin;bin;condabin;library/bin;bin;condabin;library/bin;bin;condabin;library/bin;bin;condabin;library/bin;bin;condabin;library/bin;bin;condabin;library/bin;bin;condabin;library/bin;bin;condabin;library/bin;bin;condabin;library/bin;bin;condabin;library/bin;bin;condabin;library/bin;bin;condabin;library/bin;bin;condabin;library/bin;bin;condabin;library/bin;bin;condabin;library/bin;bin;condabin;library/bin;bin;condabin;library/bin;bin;condabin;library/bin;bin;condabin;library/bin;bin;condabin;library/bin;bin;condabin;library/bin;bin;condabin;library/bin;bin;condabin;library/bin;bin;condabin;library/bin;bin;condabin;library/bin;bin;condabin;library/bin;bin;condabin;library/bin;bin;condabin;library/bin;bin;condabin;library/bin;bin;condabin;library/bin;bin;condabin;library/bin;bin;condabin;library/bin;bin;condabin;library/bin;bin;condabin;library/bin;bin;condabin;library/bin;bin;condabin;library/bin;bin;condabin;library/bin;bin;condabin;library/bin;bin;condabin;library/bin;bin;condabin;library/bin;bin;condabin;library/bin;bin;condabin;library/bin;bin;condabin;library/bin;bin;condabin;library/bin;bin;condabin;library/bin;bin;condabin;library/bin;bin;condabin;library/bin;bin;condabin;library/bin;bin;condabin;library/bin;bin;condabin;library/bin;bin;condabin;library/bin;bin;condabin;library/bin;bin;condabin;library/bin;bin;condabin;library/bin;bin;condabin;library/bin;bin;condabin;library/bin;bin;condabin;library/bin;bin;condabin;library/bin;bin;condabin;library/bin;bin;condabin;library/bin;bin;condabin;library/bin;bin;condabin;library/bin;bin;condabin;library/bin;bin;condabin;library/bin;bin;condabin;library/bin;bin;condabin;library/bin;bin;condabin;library/bin;bin;condabin;library/bin;bin;condabin;library/bin;bin;condabin;library/bin;bin;condabin;library/bin;bin;condabin;library/bin;bin;condabin;library/bin;bin;condabin;library/bin;bin;condabin;library/bin;bin;condabin;library/bin;bin;condabin;library/bin;bin;condabin;library/bin;bin;condabin;library/bin;bin;condabin;library/bin;bin;condabin;library/bin;bin;condabin;library/bin;bin;condabin;library/bin;bin;condabin;library/bin;bin;condabin;library/bin;bin;condabin;library/bin;bin;condabin;library/bin;bin;condabin;library/bin;bin;condabin;library/bin;bin;condabin;library/bin;bin;condabin;library/bin;bin;condabin;library/bin;bin;condabin;library/bin;bin;condabin;library/bin;bin;condabin;library/bin;bin;condabin;library/bin;bin;condabin;library/bin;bin;condabin;library/bin;bin;condabin;library/bin;bin;condabin;library/bin;bin;condabin;library/bin;bin;condabin;library/bin;bin;condabin;library/bin;bin;condabin;library/bin;bin;condabin;library/bin;bin;condabin;library/bin;bin;condabin;library/bin;bin;condabin;library/bin;bin;condabin;library/bin;bin;condabin;library/bin;bin;condabin;library/bin;bin;condabin;library/bin;bin;condabin;library/bin;bin;condabin;library/bin;bin;condabin;library/bin;bin;condabin;library/bin;bin;condabin;library/bin;bin;condabin;library/bin;bin;condabin;library/bin;bin;condabin;library/bin;bin;condabin;library/bin;bin;condabin;library/bin;bin;condabin;library/bin;bin;condabin;library/bin;bin;condabin;library/bin;bin;condabin;library/bin;bin;condabin;library/bin;bin;condabin;library/bin;bin;condabin;library/bin;bin;condabin;library/bin;bin;condabin;library/bin;bin;condabin;library/bin;bin;condabin;library/bin;bin;condabin;library/bin;bin;condabin;library/bin;bin;condabin;library/bin;bin;condabin;library/bin;bin;condabin;library/bin;bin;condabin;library/bin;bin;condabin;library/bin;bin;condabin;library/bin;bin;condabin;library/bin;bin;condabin;library/bin;bin;condabin;library/bin;bin;condabin;library/bin;bin;condabin;library/bin;bin;condabin;library/bin;bin;condabin;library/bin;bin;condabin;library/bin;bin;condabin;library/bin;bin;condabin;library/bin;bin;condabin;library/bin;bin;condabin;library/bin;bin;condabin;library/bin;bin;condabin;library/bin;bin;condabin;library/bin;bin;condabin;library/bin;bin;condabin;library/bin;bin;condabin;library/bin;bin;condabin;library/bin;bin;condabin;library/bin;bin;condabin;library/bin;bin;condabin;library/bin;bin;condabin;library/bin;bin;condabin;library/bin;bin;condabin;library/bin;bin;condabin;library/bin;bin;condabin;library/bin;/Users/stevencontreras/google-cloud-sdk/bin: path too long\n",
      "execvP: bin;condabin;library/bin;bin;condabin;library/bin;bin;condabin;library/bin;bin;condabin;library/bin;bin;condabin;library/bin;bin;condabin;library/bin;bin;condabin;library/bin;bin;condabin;library/bin;bin;condabin;library/bin;bin;condabin;library/bin;bin;condabin;library/bin;bin;condabin;library/bin;bin;condabin;library/bin;bin;condabin;library/bin;bin;condabin;library/bin;bin;condabin;library/bin;bin;condabin;library/bin;bin;condabin;library/bin;bin;condabin;library/bin;bin;condabin;library/bin;bin;condabin;library/bin;bin;condabin;library/bin;bin;condabin;library/bin;bin;condabin;library/bin;bin;condabin;library/bin;bin;condabin;library/bin;bin;condabin;library/bin;bin;condabin;library/bin;bin;condabin;library/bin;bin;condabin;library/bin;bin;condabin;library/bin;bin;condabin;library/bin;bin;condabin;library/bin;bin;condabin;library/bin;bin;condabin;library/bin;bin;condabin;library/bin;bin;condabin;library/bin;bin;condabin;library/bin;bin;condabin;library/bin;bin;condabin;library/bin;bin;condabin;library/bin;bin;condabin;library/bin;bin;condabin;library/bin;bin;condabin;library/bin;bin;condabin;library/bin;bin;condabin;library/bin;bin;condabin;library/bin;bin;condabin;library/bin;bin;condabin;library/bin;bin;condabin;library/bin;bin;condabin;library/bin;bin;condabin;library/bin;bin;condabin;library/bin;bin;condabin;library/bin;bin;condabin;library/bin;bin;condabin;library/bin;bin;condabin;library/bin;bin;condabin;library/bin;bin;condabin;library/bin;bin;condabin;library/bin;bin;condabin;library/bin;bin;condabin;library/bin;bin;condabin;library/bin;bin;condabin;library/bin;bin;condabin;library/bin;bin;condabin;library/bin;bin;condabin;library/bin;bin;condabin;library/bin;bin;condabin;library/bin;bin;condabin;library/bin;bin;condabin;library/bin;bin;condabin;library/bin;bin;condabin;library/bin;bin;condabin;library/bin;bin;condabin;library/bin;bin;condabin;library/bin;bin;condabin;library/bin;bin;condabin;library/bin;bin;condabin;library/bin;bin;condabin;library/bin;bin;condabin;library/bin;bin;condabin;library/bin;bin;condabin;library/bin;bin;condabin;library/bin;bin;condabin;library/bin;bin;condabin;library/bin;bin;condabin;library/bin;bin;condabin;library/bin;bin;condabin;library/bin;bin;condabin;library/bin;bin;condabin;library/bin;bin;condabin;library/bin;bin;condabin;library/bin;bin;condabin;library/bin;bin;condabin;library/bin;bin;condabin;library/bin;bin;condabin;library/bin;bin;condabin;library/bin;bin;condabin;library/bin;bin;condabin;library/bin;bin;condabin;library/bin;bin;condabin;library/bin;bin;condabin;library/bin;bin;condabin;library/bin;bin;condabin;library/bin;bin;condabin;library/bin;bin;condabin;library/bin;bin;condabin;library/bin;bin;condabin;library/bin;bin;condabin;library/bin;bin;condabin;library/bin;bin;condabin;library/bin;bin;condabin;library/bin;bin;condabin;library/bin;bin;condabin;library/bin;bin;condabin;library/bin;bin;condabin;library/bin;bin;condabin;library/bin;bin;condabin;library/bin;bin;condabin;library/bin;bin;condabin;library/bin;bin;condabin;library/bin;bin;condabin;library/bin;bin;condabin;library/bin;bin;condabin;library/bin;bin;condabin;library/bin;bin;condabin;library/bin;bin;condabin;library/bin;bin;condabin;library/bin;bin;condabin;library/bin;bin;condabin;library/bin;bin;condabin;library/bin;bin;condabin;library/bin;bin;condabin;library/bin;bin;condabin;library/bin;bin;condabin;library/bin;bin;condabin;library/bin;bin;condabin;library/bin;bin;condabin;library/bin;bin;condabin;library/bin;bin;condabin;library/bin;bin;condabin;library/bin;bin;condabin;library/bin;bin;condabin;library/bin;bin;condabin;library/bin;bin;condabin;library/bin;bin;condabin;library/bin;bin;condabin;library/bin;bin;condabin;library/bin;bin;condabin;library/bin;bin;condabin;library/bin;bin;condabin;library/bin;bin;condabin;library/bin;bin;condabin;library/bin;bin;condabin;library/bin;bin;condabin;library/bin;bin;condabin;library/bin;bin;condabin;library/bin;bin;condabin;library/bin;bin;condabin;library/bin;bin;condabin;library/bin;bin;condabin;library/bin;bin;condabin;library/bin;bin;condabin;library/bin;bin;condabin;library/bin;bin;condabin;library/bin;bin;condabin;library/bin;bin;condabin;library/bin;bin;condabin;library/bin;bin;condabin;library/bin;bin;condabin;library/bin;bin;condabin;library/bin;bin;condabin;library/bin;bin;condabin;library/bin;bin;condabin;library/bin;bin;condabin;library/bin;bin;condabin;library/bin;bin;condabin;library/bin;bin;condabin;library/bin;bin;condabin;library/bin;bin;condabin;library/bin;bin;condabin;library/bin;bin;condabin;library/bin;bin;condabin;library/bin;bin;condabin;library/bin;bin;condabin;library/bin;bin;condabin;library/bin;bin;condabin;library/bin;bin;condabin;library/bin;bin;condabin;library/bin;bin;condabin;library/bin;bin;condabin;library/bin;bin;condabin;library/bin;bin;condabin;library/bin;bin;condabin;library/bin;bin;condabin;library/bin;bin;condabin;library/bin;bin;condabin;library/bin;bin;condabin;library/bin;bin;condabin;library/bin;bin;condabin;library/bin;bin;condabin;library/bin;bin;condabin;library/bin;bin;condabin;library/bin;bin;condabin;library/bin;bin;condabin;library/bin;bin;condabin;library/bin;bin;condabin;library/bin;bin;condabin;library/bin;bin;condabin;library/bin;bin;condabin;library/bin;bin;condabin;library/bin;bin;condabin;library/bin;bin;condabin;library/bin;bin;condabin;library/bin;bin;condabin;library/bin;bin;condabin;library/bin;bin;condabin;library/bin;bin;condabin;library/bin;bin;condabin;library/bin;bin;condabin;library/bin;bin;condabin;library/bin;bin;condabin;library/bin;bin;condabin;library/bin;bin;condabin;library/bin;bin;condabin;library/bin;bin;condabin;library/bin;bin;condabin;library/bin;bin;condabin;library/bin;bin;condabin;library/bin;bin;condabin;library/bin;bin;condabin;library/bin;bin;condabin;library/bin;bin;condabin;library/bin;bin;condabin;library/bin;bin;condabin;library/bin;bin;condabin;library/bin;bin;condabin;library/bin;bin;condabin;library/bin;bin;condabin;library/bin;bin;condabin;library/bin;bin;condabin;library/bin;bin;condabin;library/bin;bin;condabin;library/bin;bin;condabin;library/bin;bin;condabin;library/bin;bin;condabin;library/bin;bin;condabin;library/bin;bin;condabin;library/bin;bin;condabin;library/bin;bin;condabin;library/bin;bin;condabin;library/bin;bin;condabin;library/bin;bin;condabin;library/bin;bin;condabin;library/bin;bin;condabin;library/bin;bin;condabin;library/bin;bin;condabin;library/bin;bin;condabin;library/bin;bin;condabin;library/bin;bin;condabin;library/bin;bin;condabin;library/bin;bin;condabin;library/bin;bin;condabin;library/bin;bin;condabin;library/bin;bin;condabin;library/bin;bin;condabin;library/bin;bin;condabin;library/bin;bin;condabin;library/bin;bin;condabin;library/bin;bin;condabin;library/bin;bin;condabin;library/bin;bin;condabin;library/bin;bin;condabin;library/bin;bin;condabin;library/bin;bin;condabin;library/bin;bin;condabin;library/bin;bin;condabin;library/bin;bin;condabin;library/bin;bin;condabin;library/bin;bin;condabin;library/bin;bin;condabin;library/bin;bin;condabin;library/bin;bin;condabin;library/bin;bin;condabin;library/bin;bin;condabin;library/bin;bin;condabin;library/bin;bin;condabin;library/bin;bin;condabin;library/bin;/Users/stevencontreras/google-cloud-sdk/bin: path too long\n",
      "execvP: bin;condabin;library/bin;bin;condabin;library/bin;bin;condabin;library/bin;bin;condabin;library/bin;bin;condabin;library/bin;bin;condabin;library/bin;bin;condabin;library/bin;bin;condabin;library/bin;bin;condabin;library/bin;bin;condabin;library/bin;bin;condabin;library/bin;bin;condabin;library/bin;bin;condabin;library/bin;bin;condabin;library/bin;bin;condabin;library/bin;bin;condabin;library/bin;bin;condabin;library/bin;bin;condabin;library/bin;bin;condabin;library/bin;bin;condabin;library/bin;bin;condabin;library/bin;bin;condabin;library/bin;bin;condabin;library/bin;bin;condabin;library/bin;bin;condabin;library/bin;bin;condabin;library/bin;bin;condabin;library/bin;bin;condabin;library/bin;bin;condabin;library/bin;bin;condabin;library/bin;bin;condabin;library/bin;bin;condabin;library/bin;bin;condabin;library/bin;bin;condabin;library/bin;bin;condabin;library/bin;bin;condabin;library/bin;bin;condabin;library/bin;bin;condabin;library/bin;bin;condabin;library/bin;bin;condabin;library/bin;bin;condabin;library/bin;bin;condabin;library/bin;bin;condabin;library/bin;bin;condabin;library/bin;bin;condabin;library/bin;bin;condabin;library/bin;bin;condabin;library/bin;bin;condabin;library/bin;bin;condabin;library/bin;bin;condabin;library/bin;bin;condabin;library/bin;bin;condabin;library/bin;bin;condabin;library/bin;bin;condabin;library/bin;bin;condabin;library/bin;bin;condabin;library/bin;bin;condabin;library/bin;bin;condabin;library/bin;bin;condabin;library/bin;bin;condabin;library/bin;bin;condabin;library/bin;bin;condabin;library/bin;bin;condabin;library/bin;bin;condabin;library/bin;bin;condabin;library/bin;bin;condabin;library/bin;bin;condabin;library/bin;bin;condabin;library/bin;bin;condabin;library/bin;bin;condabin;library/bin;bin;condabin;library/bin;bin;condabin;library/bin;bin;condabin;library/bin;bin;condabin;library/bin;bin;condabin;library/bin;bin;condabin;library/bin;bin;condabin;library/bin;bin;condabin;library/bin;bin;condabin;library/bin;bin;condabin;library/bin;bin;condabin;library/bin;bin;condabin;library/bin;bin;condabin;library/bin;bin;condabin;library/bin;bin;condabin;library/bin;bin;condabin;library/bin;bin;condabin;library/bin;bin;condabin;library/bin;bin;condabin;library/bin;bin;condabin;library/bin;bin;condabin;library/bin;bin;condabin;library/bin;bin;condabin;library/bin;bin;condabin;library/bin;bin;condabin;library/bin;bin;condabin;library/bin;bin;condabin;library/bin;bin;condabin;library/bin;bin;condabin;library/bin;bin;condabin;library/bin;bin;condabin;library/bin;bin;condabin;library/bin;bin;condabin;library/bin;bin;condabin;library/bin;bin;condabin;library/bin;bin;condabin;library/bin;bin;condabin;library/bin;bin;condabin;library/bin;bin;condabin;library/bin;bin;condabin;library/bin;bin;condabin;library/bin;bin;condabin;library/bin;bin;condabin;library/bin;bin;condabin;library/bin;bin;condabin;library/bin;bin;condabin;library/bin;bin;condabin;library/bin;bin;condabin;library/bin;bin;condabin;library/bin;bin;condabin;library/bin;bin;condabin;library/bin;bin;condabin;library/bin;bin;condabin;library/bin;bin;condabin;library/bin;bin;condabin;library/bin;bin;condabin;library/bin;bin;condabin;library/bin;bin;condabin;library/bin;bin;condabin;library/bin;bin;condabin;library/bin;bin;condabin;library/bin;bin;condabin;library/bin;bin;condabin;library/bin;bin;condabin;library/bin;bin;condabin;library/bin;bin;condabin;library/bin;bin;condabin;library/bin;bin;condabin;library/bin;bin;condabin;library/bin;bin;condabin;library/bin;bin;condabin;library/bin;bin;condabin;library/bin;bin;condabin;library/bin;bin;condabin;library/bin;bin;condabin;library/bin;bin;condabin;library/bin;bin;condabin;library/bin;bin;condabin;library/bin;bin;condabin;library/bin;bin;condabin;library/bin;bin;condabin;library/bin;bin;condabin;library/bin;bin;condabin;library/bin;bin;condabin;library/bin;bin;condabin;library/bin;bin;condabin;library/bin;bin;condabin;library/bin;bin;condabin;library/bin;bin;condabin;library/bin;bin;condabin;library/bin;bin;condabin;library/bin;bin;condabin;library/bin;bin;condabin;library/bin;bin;condabin;library/bin;bin;condabin;library/bin;bin;condabin;library/bin;bin;condabin;library/bin;bin;condabin;library/bin;bin;condabin;library/bin;bin;condabin;library/bin;bin;condabin;library/bin;bin;condabin;library/bin;bin;condabin;library/bin;bin;condabin;library/bin;bin;condabin;library/bin;bin;condabin;library/bin;bin;condabin;library/bin;bin;condabin;library/bin;bin;condabin;library/bin;bin;condabin;library/bin;bin;condabin;library/bin;bin;condabin;library/bin;bin;condabin;library/bin;bin;condabin;library/bin;bin;condabin;library/bin;bin;condabin;library/bin;bin;condabin;library/bin;bin;condabin;library/bin;bin;condabin;library/bin;bin;condabin;library/bin;bin;condabin;library/bin;bin;condabin;library/bin;bin;condabin;library/bin;bin;condabin;library/bin;bin;condabin;library/bin;bin;condabin;library/bin;bin;condabin;library/bin;bin;condabin;library/bin;bin;condabin;library/bin;bin;condabin;library/bin;bin;condabin;library/bin;bin;condabin;library/bin;bin;condabin;library/bin;bin;condabin;library/bin;bin;condabin;library/bin;bin;condabin;library/bin;bin;condabin;library/bin;bin;condabin;library/bin;bin;condabin;library/bin;bin;condabin;library/bin;bin;condabin;library/bin;bin;condabin;library/bin;bin;condabin;library/bin;bin;condabin;library/bin;bin;condabin;library/bin;bin;condabin;library/bin;bin;condabin;library/bin;bin;condabin;library/bin;bin;condabin;library/bin;bin;condabin;library/bin;bin;condabin;library/bin;bin;condabin;library/bin;bin;condabin;library/bin;bin;condabin;library/bin;bin;condabin;library/bin;bin;condabin;library/bin;bin;condabin;library/bin;bin;condabin;library/bin;bin;condabin;library/bin;bin;condabin;library/bin;bin;condabin;library/bin;bin;condabin;library/bin;bin;condabin;library/bin;bin;condabin;library/bin;bin;condabin;library/bin;bin;condabin;library/bin;bin;condabin;library/bin;bin;condabin;library/bin;bin;condabin;library/bin;bin;condabin;library/bin;bin;condabin;library/bin;bin;condabin;library/bin;bin;condabin;library/bin;bin;condabin;library/bin;bin;condabin;library/bin;bin;condabin;library/bin;bin;condabin;library/bin;bin;condabin;library/bin;bin;condabin;library/bin;bin;condabin;library/bin;bin;condabin;library/bin;bin;condabin;library/bin;bin;condabin;library/bin;bin;condabin;library/bin;bin;condabin;library/bin;bin;condabin;library/bin;bin;condabin;library/bin;bin;condabin;library/bin;bin;condabin;library/bin;bin;condabin;library/bin;bin;condabin;library/bin;bin;condabin;library/bin;bin;condabin;library/bin;bin;condabin;library/bin;bin;condabin;library/bin;bin;condabin;library/bin;bin;condabin;library/bin;bin;condabin;library/bin;bin;condabin;library/bin;bin;condabin;library/bin;bin;condabin;library/bin;bin;condabin;library/bin;bin;condabin;library/bin;bin;condabin;library/bin;bin;condabin;library/bin;bin;condabin;library/bin;bin;condabin;library/bin;bin;condabin;library/bin;bin;condabin;library/bin;bin;condabin;library/bin;bin;condabin;library/bin;bin;condabin;library/bin;bin;condabin;library/bin;bin;condabin;library/bin;bin;condabin;library/bin;bin;condabin;library/bin;bin;condabin;library/bin;bin;condabin;library/bin;bin;condabin;library/bin;/Users/stevencontreras/google-cloud-sdk/bin: path too long\n",
      "execvP: bin;condabin;library/bin;bin;condabin;library/bin;bin;condabin;library/bin;bin;condabin;library/bin;bin;condabin;library/bin;bin;condabin;library/bin;bin;condabin;library/bin;bin;condabin;library/bin;bin;condabin;library/bin;bin;condabin;library/bin;bin;condabin;library/bin;bin;condabin;library/bin;bin;condabin;library/bin;bin;condabin;library/bin;bin;condabin;library/bin;bin;condabin;library/bin;bin;condabin;library/bin;bin;condabin;library/bin;bin;condabin;library/bin;bin;condabin;library/bin;bin;condabin;library/bin;bin;condabin;library/bin;bin;condabin;library/bin;bin;condabin;library/bin;bin;condabin;library/bin;bin;condabin;library/bin;bin;condabin;library/bin;bin;condabin;library/bin;bin;condabin;library/bin;bin;condabin;library/bin;bin;condabin;library/bin;bin;condabin;library/bin;bin;condabin;library/bin;bin;condabin;library/bin;bin;condabin;library/bin;bin;condabin;library/bin;bin;condabin;library/bin;bin;condabin;library/bin;bin;condabin;library/bin;bin;condabin;library/bin;bin;condabin;library/bin;bin;condabin;library/bin;bin;condabin;library/bin;bin;condabin;library/bin;bin;condabin;library/bin;bin;condabin;library/bin;bin;condabin;library/bin;bin;condabin;library/bin;bin;condabin;library/bin;bin;condabin;library/bin;bin;condabin;library/bin;bin;condabin;library/bin;bin;condabin;library/bin;bin;condabin;library/bin;bin;condabin;library/bin;bin;condabin;library/bin;bin;condabin;library/bin;bin;condabin;library/bin;bin;condabin;library/bin;bin;condabin;library/bin;bin;condabin;library/bin;bin;condabin;library/bin;bin;condabin;library/bin;bin;condabin;library/bin;bin;condabin;library/bin;bin;condabin;library/bin;bin;condabin;library/bin;bin;condabin;library/bin;bin;condabin;library/bin;bin;condabin;library/bin;bin;condabin;library/bin;bin;condabin;library/bin;bin;condabin;library/bin;bin;condabin;library/bin;bin;condabin;library/bin;bin;condabin;library/bin;bin;condabin;library/bin;bin;condabin;library/bin;bin;condabin;library/bin;bin;condabin;library/bin;bin;condabin;library/bin;bin;condabin;library/bin;bin;condabin;library/bin;bin;condabin;library/bin;bin;condabin;library/bin;bin;condabin;library/bin;bin;condabin;library/bin;bin;condabin;library/bin;bin;condabin;library/bin;bin;condabin;library/bin;bin;condabin;library/bin;bin;condabin;library/bin;bin;condabin;library/bin;bin;condabin;library/bin;bin;condabin;library/bin;bin;condabin;library/bin;bin;condabin;library/bin;bin;condabin;library/bin;bin;condabin;library/bin;bin;condabin;library/bin;bin;condabin;library/bin;bin;condabin;library/bin;bin;condabin;library/bin;bin;condabin;library/bin;bin;condabin;library/bin;bin;condabin;library/bin;bin;condabin;library/bin;bin;condabin;library/bin;bin;condabin;library/bin;bin;condabin;library/bin;bin;condabin;library/bin;bin;condabin;library/bin;bin;condabin;library/bin;bin;condabin;library/bin;bin;condabin;library/bin;bin;condabin;library/bin;bin;condabin;library/bin;bin;condabin;library/bin;bin;condabin;library/bin;bin;condabin;library/bin;bin;condabin;library/bin;bin;condabin;library/bin;bin;condabin;library/bin;bin;condabin;library/bin;bin;condabin;library/bin;bin;condabin;library/bin;bin;condabin;library/bin;bin;condabin;library/bin;bin;condabin;library/bin;bin;condabin;library/bin;bin;condabin;library/bin;bin;condabin;library/bin;bin;condabin;library/bin;bin;condabin;library/bin;bin;condabin;library/bin;bin;condabin;library/bin;bin;condabin;library/bin;bin;condabin;library/bin;bin;condabin;library/bin;bin;condabin;library/bin;bin;condabin;library/bin;bin;condabin;library/bin;bin;condabin;library/bin;bin;condabin;library/bin;bin;condabin;library/bin;bin;condabin;library/bin;bin;condabin;library/bin;bin;condabin;library/bin;bin;condabin;library/bin;bin;condabin;library/bin;bin;condabin;library/bin;bin;condabin;library/bin;bin;condabin;library/bin;bin;condabin;library/bin;bin;condabin;library/bin;bin;condabin;library/bin;bin;condabin;library/bin;bin;condabin;library/bin;bin;condabin;library/bin;bin;condabin;library/bin;bin;condabin;library/bin;bin;condabin;library/bin;bin;condabin;library/bin;bin;condabin;library/bin;bin;condabin;library/bin;bin;condabin;library/bin;bin;condabin;library/bin;bin;condabin;library/bin;bin;condabin;library/bin;bin;condabin;library/bin;bin;condabin;library/bin;bin;condabin;library/bin;bin;condabin;library/bin;bin;condabin;library/bin;bin;condabin;library/bin;bin;condabin;library/bin;bin;condabin;library/bin;bin;condabin;library/bin;bin;condabin;library/bin;bin;condabin;library/bin;bin;condabin;library/bin;bin;condabin;library/bin;bin;condabin;library/bin;bin;condabin;library/bin;bin;condabin;library/bin;bin;condabin;library/bin;bin;condabin;library/bin;bin;condabin;library/bin;bin;condabin;library/bin;bin;condabin;library/bin;bin;condabin;library/bin;bin;condabin;library/bin;bin;condabin;library/bin;bin;condabin;library/bin;bin;condabin;library/bin;bin;condabin;library/bin;bin;condabin;library/bin;bin;condabin;library/bin;bin;condabin;library/bin;bin;condabin;library/bin;bin;condabin;library/bin;bin;condabin;library/bin;bin;condabin;library/bin;bin;condabin;library/bin;bin;condabin;library/bin;bin;condabin;library/bin;bin;condabin;library/bin;bin;condabin;library/bin;bin;condabin;library/bin;bin;condabin;library/bin;bin;condabin;library/bin;bin;condabin;library/bin;bin;condabin;library/bin;bin;condabin;library/bin;bin;condabin;library/bin;bin;condabin;library/bin;bin;condabin;library/bin;bin;condabin;library/bin;bin;condabin;library/bin;bin;condabin;library/bin;bin;condabin;library/bin;bin;condabin;library/bin;bin;condabin;library/bin;bin;condabin;library/bin;bin;condabin;library/bin;bin;condabin;library/bin;bin;condabin;library/bin;bin;condabin;library/bin;bin;condabin;library/bin;bin;condabin;library/bin;bin;condabin;library/bin;bin;condabin;library/bin;bin;condabin;library/bin;bin;condabin;library/bin;bin;condabin;library/bin;bin;condabin;library/bin;bin;condabin;library/bin;bin;condabin;library/bin;bin;condabin;library/bin;bin;condabin;library/bin;bin;condabin;library/bin;bin;condabin;library/bin;bin;condabin;library/bin;bin;condabin;library/bin;bin;condabin;library/bin;bin;condabin;library/bin;bin;condabin;library/bin;bin;condabin;library/bin;bin;condabin;library/bin;bin;condabin;library/bin;bin;condabin;library/bin;bin;condabin;library/bin;bin;condabin;library/bin;bin;condabin;library/bin;bin;condabin;library/bin;bin;condabin;library/bin;bin;condabin;library/bin;bin;condabin;library/bin;bin;condabin;library/bin;bin;condabin;library/bin;bin;condabin;library/bin;bin;condabin;library/bin;bin;condabin;library/bin;bin;condabin;library/bin;bin;condabin;library/bin;bin;condabin;library/bin;bin;condabin;library/bin;bin;condabin;library/bin;bin;condabin;library/bin;bin;condabin;library/bin;bin;condabin;library/bin;bin;condabin;library/bin;bin;condabin;library/bin;bin;condabin;library/bin;bin;condabin;library/bin;bin;condabin;library/bin;bin;condabin;library/bin;bin;condabin;library/bin;bin;condabin;library/bin;bin;condabin;library/bin;bin;condabin;library/bin;bin;condabin;library/bin;bin;condabin;library/bin;bin;condabin;library/bin;bin;condabin;library/bin;bin;condabin;library/bin;bin;condabin;library/bin;bin;condabin;library/bin;bin;condabin;library/bin;/Users/stevencontreras/google-cloud-sdk/bin: path too long\n",
      "execvP: bin;condabin;library/bin;bin;condabin;library/bin;bin;condabin;library/bin;bin;condabin;library/bin;bin;condabin;library/bin;bin;condabin;library/bin;bin;condabin;library/bin;bin;condabin;library/bin;bin;condabin;library/bin;bin;condabin;library/bin;bin;condabin;library/bin;bin;condabin;library/bin;bin;condabin;library/bin;bin;condabin;library/bin;bin;condabin;library/bin;bin;condabin;library/bin;bin;condabin;library/bin;bin;condabin;library/bin;bin;condabin;library/bin;bin;condabin;library/bin;bin;condabin;library/bin;bin;condabin;library/bin;bin;condabin;library/bin;bin;condabin;library/bin;bin;condabin;library/bin;bin;condabin;library/bin;bin;condabin;library/bin;bin;condabin;library/bin;bin;condabin;library/bin;bin;condabin;library/bin;bin;condabin;library/bin;bin;condabin;library/bin;bin;condabin;library/bin;bin;condabin;library/bin;bin;condabin;library/bin;bin;condabin;library/bin;bin;condabin;library/bin;bin;condabin;library/bin;bin;condabin;library/bin;bin;condabin;library/bin;bin;condabin;library/bin;bin;condabin;library/bin;bin;condabin;library/bin;bin;condabin;library/bin;bin;condabin;library/bin;bin;condabin;library/bin;bin;condabin;library/bin;bin;condabin;library/bin;bin;condabin;library/bin;bin;condabin;library/bin;bin;condabin;library/bin;bin;condabin;library/bin;bin;condabin;library/bin;bin;condabin;library/bin;bin;condabin;library/bin;bin;condabin;library/bin;bin;condabin;library/bin;bin;condabin;library/bin;bin;condabin;library/bin;bin;condabin;library/bin;bin;condabin;library/bin;bin;condabin;library/bin;bin;condabin;library/bin;bin;condabin;library/bin;bin;condabin;library/bin;bin;condabin;library/bin;bin;condabin;library/bin;bin;condabin;library/bin;bin;condabin;library/bin;bin;condabin;library/bin;bin;condabin;library/bin;bin;condabin;library/bin;bin;condabin;library/bin;bin;condabin;library/bin;bin;condabin;library/bin;bin;condabin;library/bin;bin;condabin;library/bin;bin;condabin;library/bin;bin;condabin;library/bin;bin;condabin;library/bin;bin;condabin;library/bin;bin;condabin;library/bin;bin;condabin;library/bin;bin;condabin;library/bin;bin;condabin;library/bin;bin;condabin;library/bin;bin;condabin;library/bin;bin;condabin;library/bin;bin;condabin;library/bin;bin;condabin;library/bin;bin;condabin;library/bin;bin;condabin;library/bin;bin;condabin;library/bin;bin;condabin;library/bin;bin;condabin;library/bin;bin;condabin;library/bin;bin;condabin;library/bin;bin;condabin;library/bin;bin;condabin;library/bin;bin;condabin;library/bin;bin;condabin;library/bin;bin;condabin;library/bin;bin;condabin;library/bin;bin;condabin;library/bin;bin;condabin;library/bin;bin;condabin;library/bin;bin;condabin;library/bin;bin;condabin;library/bin;bin;condabin;library/bin;bin;condabin;library/bin;bin;condabin;library/bin;bin;condabin;library/bin;bin;condabin;library/bin;bin;condabin;library/bin;bin;condabin;library/bin;bin;condabin;library/bin;bin;condabin;library/bin;bin;condabin;library/bin;bin;condabin;library/bin;bin;condabin;library/bin;bin;condabin;library/bin;bin;condabin;library/bin;bin;condabin;library/bin;bin;condabin;library/bin;bin;condabin;library/bin;bin;condabin;library/bin;bin;condabin;library/bin;bin;condabin;library/bin;bin;condabin;library/bin;bin;condabin;library/bin;bin;condabin;library/bin;bin;condabin;library/bin;bin;condabin;library/bin;bin;condabin;library/bin;bin;condabin;library/bin;bin;condabin;library/bin;bin;condabin;library/bin;bin;condabin;library/bin;bin;condabin;library/bin;bin;condabin;library/bin;bin;condabin;library/bin;bin;condabin;library/bin;bin;condabin;library/bin;bin;condabin;library/bin;bin;condabin;library/bin;bin;condabin;library/bin;bin;condabin;library/bin;bin;condabin;library/bin;bin;condabin;library/bin;bin;condabin;library/bin;bin;condabin;library/bin;bin;condabin;library/bin;bin;condabin;library/bin;bin;condabin;library/bin;bin;condabin;library/bin;bin;condabin;library/bin;bin;condabin;library/bin;bin;condabin;library/bin;bin;condabin;library/bin;bin;condabin;library/bin;bin;condabin;library/bin;bin;condabin;library/bin;bin;condabin;library/bin;bin;condabin;library/bin;bin;condabin;library/bin;bin;condabin;library/bin;bin;condabin;library/bin;bin;condabin;library/bin;bin;condabin;library/bin;bin;condabin;library/bin;bin;condabin;library/bin;bin;condabin;library/bin;bin;condabin;library/bin;bin;condabin;library/bin;bin;condabin;library/bin;bin;condabin;library/bin;bin;condabin;library/bin;bin;condabin;library/bin;bin;condabin;library/bin;bin;condabin;library/bin;bin;condabin;library/bin;bin;condabin;library/bin;bin;condabin;library/bin;bin;condabin;library/bin;bin;condabin;library/bin;bin;condabin;library/bin;bin;condabin;library/bin;bin;condabin;library/bin;bin;condabin;library/bin;bin;condabin;library/bin;bin;condabin;library/bin;bin;condabin;library/bin;bin;condabin;library/bin;bin;condabin;library/bin;bin;condabin;library/bin;bin;condabin;library/bin;bin;condabin;library/bin;bin;condabin;library/bin;bin;condabin;library/bin;bin;condabin;library/bin;bin;condabin;library/bin;bin;condabin;library/bin;bin;condabin;library/bin;bin;condabin;library/bin;bin;condabin;library/bin;bin;condabin;library/bin;bin;condabin;library/bin;bin;condabin;library/bin;bin;condabin;library/bin;bin;condabin;library/bin;bin;condabin;library/bin;bin;condabin;library/bin;bin;condabin;library/bin;bin;condabin;library/bin;bin;condabin;library/bin;bin;condabin;library/bin;bin;condabin;library/bin;bin;condabin;library/bin;bin;condabin;library/bin;bin;condabin;library/bin;bin;condabin;library/bin;bin;condabin;library/bin;bin;condabin;library/bin;bin;condabin;library/bin;bin;condabin;library/bin;bin;condabin;library/bin;bin;condabin;library/bin;bin;condabin;library/bin;bin;condabin;library/bin;bin;condabin;library/bin;bin;condabin;library/bin;bin;condabin;library/bin;bin;condabin;library/bin;bin;condabin;library/bin;bin;condabin;library/bin;bin;condabin;library/bin;bin;condabin;library/bin;bin;condabin;library/bin;bin;condabin;library/bin;bin;condabin;library/bin;bin;condabin;library/bin;bin;condabin;library/bin;bin;condabin;library/bin;bin;condabin;library/bin;bin;condabin;library/bin;bin;condabin;library/bin;bin;condabin;library/bin;bin;condabin;library/bin;bin;condabin;library/bin;bin;condabin;library/bin;bin;condabin;library/bin;bin;condabin;library/bin;bin;condabin;library/bin;bin;condabin;library/bin;bin;condabin;library/bin;bin;condabin;library/bin;bin;condabin;library/bin;bin;condabin;library/bin;bin;condabin;library/bin;bin;condabin;library/bin;bin;condabin;library/bin;bin;condabin;library/bin;bin;condabin;library/bin;bin;condabin;library/bin;bin;condabin;library/bin;bin;condabin;library/bin;bin;condabin;library/bin;bin;condabin;library/bin;bin;condabin;library/bin;bin;condabin;library/bin;bin;condabin;library/bin;bin;condabin;library/bin;bin;condabin;library/bin;bin;condabin;library/bin;bin;condabin;library/bin;bin;condabin;library/bin;bin;condabin;library/bin;bin;condabin;library/bin;bin;condabin;library/bin;bin;condabin;library/bin;bin;condabin;library/bin;bin;condabin;library/bin;bin;condabin;library/bin;bin;condabin;library/bin;bin;condabin;library/bin;bin;condabin;library/bin;bin;condabin;library/bin;bin;condabin;library/bin;bin;condabin;library/bin;/Users/stevencontreras/google-cloud-sdk/bin: path too long\n",
      "execvP: bin;condabin;library/bin;bin;condabin;library/bin;bin;condabin;library/bin;bin;condabin;library/bin;bin;condabin;library/bin;bin;condabin;library/bin;bin;condabin;library/bin;bin;condabin;library/bin;bin;condabin;library/bin;bin;condabin;library/bin;bin;condabin;library/bin;bin;condabin;library/bin;bin;condabin;library/bin;bin;condabin;library/bin;bin;condabin;library/bin;bin;condabin;library/bin;bin;condabin;library/bin;bin;condabin;library/bin;bin;condabin;library/bin;bin;condabin;library/bin;bin;condabin;library/bin;bin;condabin;library/bin;bin;condabin;library/bin;bin;condabin;library/bin;bin;condabin;library/bin;bin;condabin;library/bin;bin;condabin;library/bin;bin;condabin;library/bin;bin;condabin;library/bin;bin;condabin;library/bin;bin;condabin;library/bin;bin;condabin;library/bin;bin;condabin;library/bin;bin;condabin;library/bin;bin;condabin;library/bin;bin;condabin;library/bin;bin;condabin;library/bin;bin;condabin;library/bin;bin;condabin;library/bin;bin;condabin;library/bin;bin;condabin;library/bin;bin;condabin;library/bin;bin;condabin;library/bin;bin;condabin;library/bin;bin;condabin;library/bin;bin;condabin;library/bin;bin;condabin;library/bin;bin;condabin;library/bin;bin;condabin;library/bin;bin;condabin;library/bin;bin;condabin;library/bin;bin;condabin;library/bin;bin;condabin;library/bin;bin;condabin;library/bin;bin;condabin;library/bin;bin;condabin;library/bin;bin;condabin;library/bin;bin;condabin;library/bin;bin;condabin;library/bin;bin;condabin;library/bin;bin;condabin;library/bin;bin;condabin;library/bin;bin;condabin;library/bin;bin;condabin;library/bin;bin;condabin;library/bin;bin;condabin;library/bin;bin;condabin;library/bin;bin;condabin;library/bin;bin;condabin;library/bin;bin;condabin;library/bin;bin;condabin;library/bin;bin;condabin;library/bin;bin;condabin;library/bin;bin;condabin;library/bin;bin;condabin;library/bin;bin;condabin;library/bin;bin;condabin;library/bin;bin;condabin;library/bin;bin;condabin;library/bin;bin;condabin;library/bin;bin;condabin;library/bin;bin;condabin;library/bin;bin;condabin;library/bin;bin;condabin;library/bin;bin;condabin;library/bin;bin;condabin;library/bin;bin;condabin;library/bin;bin;condabin;library/bin;bin;condabin;library/bin;bin;condabin;library/bin;bin;condabin;library/bin;bin;condabin;library/bin;bin;condabin;library/bin;bin;condabin;library/bin;bin;condabin;library/bin;bin;condabin;library/bin;bin;condabin;library/bin;bin;condabin;library/bin;bin;condabin;library/bin;bin;condabin;library/bin;bin;condabin;library/bin;bin;condabin;library/bin;bin;condabin;library/bin;bin;condabin;library/bin;bin;condabin;library/bin;bin;condabin;library/bin;bin;condabin;library/bin;bin;condabin;library/bin;bin;condabin;library/bin;bin;condabin;library/bin;bin;condabin;library/bin;bin;condabin;library/bin;bin;condabin;library/bin;bin;condabin;library/bin;bin;condabin;library/bin;bin;condabin;library/bin;bin;condabin;library/bin;bin;condabin;library/bin;bin;condabin;library/bin;bin;condabin;library/bin;bin;condabin;library/bin;bin;condabin;library/bin;bin;condabin;library/bin;bin;condabin;library/bin;bin;condabin;library/bin;bin;condabin;library/bin;bin;condabin;library/bin;bin;condabin;library/bin;bin;condabin;library/bin;bin;condabin;library/bin;bin;condabin;library/bin;bin;condabin;library/bin;bin;condabin;library/bin;bin;condabin;library/bin;bin;condabin;library/bin;bin;condabin;library/bin;bin;condabin;library/bin;bin;condabin;library/bin;bin;condabin;library/bin;bin;condabin;library/bin;bin;condabin;library/bin;bin;condabin;library/bin;bin;condabin;library/bin;bin;condabin;library/bin;bin;condabin;library/bin;bin;condabin;library/bin;bin;condabin;library/bin;bin;condabin;library/bin;bin;condabin;library/bin;bin;condabin;library/bin;bin;condabin;library/bin;bin;condabin;library/bin;bin;condabin;library/bin;bin;condabin;library/bin;bin;condabin;library/bin;bin;condabin;library/bin;bin;condabin;library/bin;bin;condabin;library/bin;bin;condabin;library/bin;bin;condabin;library/bin;bin;condabin;library/bin;bin;condabin;library/bin;bin;condabin;library/bin;bin;condabin;library/bin;bin;condabin;library/bin;bin;condabin;library/bin;bin;condabin;library/bin;bin;condabin;library/bin;bin;condabin;library/bin;bin;condabin;library/bin;bin;condabin;library/bin;bin;condabin;library/bin;bin;condabin;library/bin;bin;condabin;library/bin;bin;condabin;library/bin;bin;condabin;library/bin;bin;condabin;library/bin;bin;condabin;library/bin;bin;condabin;library/bin;bin;condabin;library/bin;bin;condabin;library/bin;bin;condabin;library/bin;bin;condabin;library/bin;bin;condabin;library/bin;bin;condabin;library/bin;bin;condabin;library/bin;bin;condabin;library/bin;bin;condabin;library/bin;bin;condabin;library/bin;bin;condabin;library/bin;bin;condabin;library/bin;bin;condabin;library/bin;bin;condabin;library/bin;bin;condabin;library/bin;bin;condabin;library/bin;bin;condabin;library/bin;bin;condabin;library/bin;bin;condabin;library/bin;bin;condabin;library/bin;bin;condabin;library/bin;bin;condabin;library/bin;bin;condabin;library/bin;bin;condabin;library/bin;bin;condabin;library/bin;bin;condabin;library/bin;bin;condabin;library/bin;bin;condabin;library/bin;bin;condabin;library/bin;bin;condabin;library/bin;bin;condabin;library/bin;bin;condabin;library/bin;bin;condabin;library/bin;bin;condabin;library/bin;bin;condabin;library/bin;bin;condabin;library/bin;bin;condabin;library/bin;bin;condabin;library/bin;bin;condabin;library/bin;bin;condabin;library/bin;bin;condabin;library/bin;bin;condabin;library/bin;bin;condabin;library/bin;bin;condabin;library/bin;bin;condabin;library/bin;bin;condabin;library/bin;bin;condabin;library/bin;bin;condabin;library/bin;bin;condabin;library/bin;bin;condabin;library/bin;bin;condabin;library/bin;bin;condabin;library/bin;bin;condabin;library/bin;bin;condabin;library/bin;bin;condabin;library/bin;bin;condabin;library/bin;bin;condabin;library/bin;bin;condabin;library/bin;bin;condabin;library/bin;bin;condabin;library/bin;bin;condabin;library/bin;bin;condabin;library/bin;bin;condabin;library/bin;bin;condabin;library/bin;bin;condabin;library/bin;bin;condabin;library/bin;bin;condabin;library/bin;bin;condabin;library/bin;bin;condabin;library/bin;bin;condabin;library/bin;bin;condabin;library/bin;bin;condabin;library/bin;bin;condabin;library/bin;bin;condabin;library/bin;bin;condabin;library/bin;bin;condabin;library/bin;bin;condabin;library/bin;bin;condabin;library/bin;bin;condabin;library/bin;bin;condabin;library/bin;bin;condabin;library/bin;bin;condabin;library/bin;bin;condabin;library/bin;bin;condabin;library/bin;bin;condabin;library/bin;bin;condabin;library/bin;bin;condabin;library/bin;bin;condabin;library/bin;bin;condabin;library/bin;bin;condabin;library/bin;bin;condabin;library/bin;bin;condabin;library/bin;bin;condabin;library/bin;bin;condabin;library/bin;bin;condabin;library/bin;bin;condabin;library/bin;bin;condabin;library/bin;bin;condabin;library/bin;bin;condabin;library/bin;bin;condabin;library/bin;bin;condabin;library/bin;bin;condabin;library/bin;bin;condabin;library/bin;bin;condabin;library/bin;bin;condabin;library/bin;bin;condabin;library/bin;bin;condabin;library/bin;bin;condabin;library/bin;bin;condabin;library/bin;bin;condabin;library/bin;/Users/stevencontreras/google-cloud-sdk/bin: path too long\n",
      "execvP: bin;condabin;library/bin;bin;condabin;library/bin;bin;condabin;library/bin;bin;condabin;library/bin;bin;condabin;library/bin;bin;condabin;library/bin;bin;condabin;library/bin;bin;condabin;library/bin;bin;condabin;library/bin;bin;condabin;library/bin;bin;condabin;library/bin;bin;condabin;library/bin;bin;condabin;library/bin;bin;condabin;library/bin;bin;condabin;library/bin;bin;condabin;library/bin;bin;condabin;library/bin;bin;condabin;library/bin;bin;condabin;library/bin;bin;condabin;library/bin;bin;condabin;library/bin;bin;condabin;library/bin;bin;condabin;library/bin;bin;condabin;library/bin;bin;condabin;library/bin;bin;condabin;library/bin;bin;condabin;library/bin;bin;condabin;library/bin;bin;condabin;library/bin;bin;condabin;library/bin;bin;condabin;library/bin;bin;condabin;library/bin;bin;condabin;library/bin;bin;condabin;library/bin;bin;condabin;library/bin;bin;condabin;library/bin;bin;condabin;library/bin;bin;condabin;library/bin;bin;condabin;library/bin;bin;condabin;library/bin;bin;condabin;library/bin;bin;condabin;library/bin;bin;condabin;library/bin;bin;condabin;library/bin;bin;condabin;library/bin;bin;condabin;library/bin;bin;condabin;library/bin;bin;condabin;library/bin;bin;condabin;library/bin;bin;condabin;library/bin;bin;condabin;library/bin;bin;condabin;library/bin;bin;condabin;library/bin;bin;condabin;library/bin;bin;condabin;library/bin;bin;condabin;library/bin;bin;condabin;library/bin;bin;condabin;library/bin;bin;condabin;library/bin;bin;condabin;library/bin;bin;condabin;library/bin;bin;condabin;library/bin;bin;condabin;library/bin;bin;condabin;library/bin;bin;condabin;library/bin;bin;condabin;library/bin;bin;condabin;library/bin;bin;condabin;library/bin;bin;condabin;library/bin;bin;condabin;library/bin;bin;condabin;library/bin;bin;condabin;library/bin;bin;condabin;library/bin;bin;condabin;library/bin;bin;condabin;library/bin;bin;condabin;library/bin;bin;condabin;library/bin;bin;condabin;library/bin;bin;condabin;library/bin;bin;condabin;library/bin;bin;condabin;library/bin;bin;condabin;library/bin;bin;condabin;library/bin;bin;condabin;library/bin;bin;condabin;library/bin;bin;condabin;library/bin;bin;condabin;library/bin;bin;condabin;library/bin;bin;condabin;library/bin;bin;condabin;library/bin;bin;condabin;library/bin;bin;condabin;library/bin;bin;condabin;library/bin;bin;condabin;library/bin;bin;condabin;library/bin;bin;condabin;library/bin;bin;condabin;library/bin;bin;condabin;library/bin;bin;condabin;library/bin;bin;condabin;library/bin;bin;condabin;library/bin;bin;condabin;library/bin;bin;condabin;library/bin;bin;condabin;library/bin;bin;condabin;library/bin;bin;condabin;library/bin;bin;condabin;library/bin;bin;condabin;library/bin;bin;condabin;library/bin;bin;condabin;library/bin;bin;condabin;library/bin;bin;condabin;library/bin;bin;condabin;library/bin;bin;condabin;library/bin;bin;condabin;library/bin;bin;condabin;library/bin;bin;condabin;library/bin;bin;condabin;library/bin;bin;condabin;library/bin;bin;condabin;library/bin;bin;condabin;library/bin;bin;condabin;library/bin;bin;condabin;library/bin;bin;condabin;library/bin;bin;condabin;library/bin;bin;condabin;library/bin;bin;condabin;library/bin;bin;condabin;library/bin;bin;condabin;library/bin;bin;condabin;library/bin;bin;condabin;library/bin;bin;condabin;library/bin;bin;condabin;library/bin;bin;condabin;library/bin;bin;condabin;library/bin;bin;condabin;library/bin;bin;condabin;library/bin;bin;condabin;library/bin;bin;condabin;library/bin;bin;condabin;library/bin;bin;condabin;library/bin;bin;condabin;library/bin;bin;condabin;library/bin;bin;condabin;library/bin;bin;condabin;library/bin;bin;condabin;library/bin;bin;condabin;library/bin;bin;condabin;library/bin;bin;condabin;library/bin;bin;condabin;library/bin;bin;condabin;library/bin;bin;condabin;library/bin;bin;condabin;library/bin;bin;condabin;library/bin;bin;condabin;library/bin;bin;condabin;library/bin;bin;condabin;library/bin;bin;condabin;library/bin;bin;condabin;library/bin;bin;condabin;library/bin;bin;condabin;library/bin;bin;condabin;library/bin;bin;condabin;library/bin;bin;condabin;library/bin;bin;condabin;library/bin;bin;condabin;library/bin;bin;condabin;library/bin;bin;condabin;library/bin;bin;condabin;library/bin;bin;condabin;library/bin;bin;condabin;library/bin;bin;condabin;library/bin;bin;condabin;library/bin;bin;condabin;library/bin;bin;condabin;library/bin;bin;condabin;library/bin;bin;condabin;library/bin;bin;condabin;library/bin;bin;condabin;library/bin;bin;condabin;library/bin;bin;condabin;library/bin;bin;condabin;library/bin;bin;condabin;library/bin;bin;condabin;library/bin;bin;condabin;library/bin;bin;condabin;library/bin;bin;condabin;library/bin;bin;condabin;library/bin;bin;condabin;library/bin;bin;condabin;library/bin;bin;condabin;library/bin;bin;condabin;library/bin;bin;condabin;library/bin;bin;condabin;library/bin;bin;condabin;library/bin;bin;condabin;library/bin;bin;condabin;library/bin;bin;condabin;library/bin;bin;condabin;library/bin;bin;condabin;library/bin;bin;condabin;library/bin;bin;condabin;library/bin;bin;condabin;library/bin;bin;condabin;library/bin;bin;condabin;library/bin;bin;condabin;library/bin;bin;condabin;library/bin;bin;condabin;library/bin;bin;condabin;library/bin;bin;condabin;library/bin;bin;condabin;library/bin;bin;condabin;library/bin;bin;condabin;library/bin;bin;condabin;library/bin;bin;condabin;library/bin;bin;condabin;library/bin;bin;condabin;library/bin;bin;condabin;library/bin;bin;condabin;library/bin;bin;condabin;library/bin;bin;condabin;library/bin;bin;condabin;library/bin;bin;condabin;library/bin;bin;condabin;library/bin;bin;condabin;library/bin;bin;condabin;library/bin;bin;condabin;library/bin;bin;condabin;library/bin;bin;condabin;library/bin;bin;condabin;library/bin;bin;condabin;library/bin;bin;condabin;library/bin;bin;condabin;library/bin;bin;condabin;library/bin;bin;condabin;library/bin;bin;condabin;library/bin;bin;condabin;library/bin;bin;condabin;library/bin;bin;condabin;library/bin;bin;condabin;library/bin;bin;condabin;library/bin;bin;condabin;library/bin;bin;condabin;library/bin;bin;condabin;library/bin;bin;condabin;library/bin;bin;condabin;library/bin;bin;condabin;library/bin;bin;condabin;library/bin;bin;condabin;library/bin;bin;condabin;library/bin;bin;condabin;library/bin;bin;condabin;library/bin;bin;condabin;library/bin;bin;condabin;library/bin;bin;condabin;library/bin;bin;condabin;library/bin;bin;condabin;library/bin;bin;condabin;library/bin;bin;condabin;library/bin;bin;condabin;library/bin;bin;condabin;library/bin;bin;condabin;library/bin;bin;condabin;library/bin;bin;condabin;library/bin;bin;condabin;library/bin;bin;condabin;library/bin;bin;condabin;library/bin;bin;condabin;library/bin;bin;condabin;library/bin;bin;condabin;library/bin;bin;condabin;library/bin;bin;condabin;library/bin;bin;condabin;library/bin;bin;condabin;library/bin;bin;condabin;library/bin;bin;condabin;library/bin;bin;condabin;library/bin;bin;condabin;library/bin;bin;condabin;library/bin;bin;condabin;library/bin;bin;condabin;library/bin;bin;condabin;library/bin;bin;condabin;library/bin;bin;condabin;library/bin;bin;condabin;library/bin;bin;condabin;library/bin;bin;condabin;library/bin;bin;condabin;library/bin;bin;condabin;library/bin;/Users/stevencontreras/google-cloud-sdk/bin: path too long\n",
      "execvP: bin;condabin;library/bin;bin;condabin;library/bin;bin;condabin;library/bin;bin;condabin;library/bin;bin;condabin;library/bin;bin;condabin;library/bin;bin;condabin;library/bin;bin;condabin;library/bin;bin;condabin;library/bin;bin;condabin;library/bin;bin;condabin;library/bin;bin;condabin;library/bin;bin;condabin;library/bin;bin;condabin;library/bin;bin;condabin;library/bin;bin;condabin;library/bin;bin;condabin;library/bin;bin;condabin;library/bin;bin;condabin;library/bin;bin;condabin;library/bin;bin;condabin;library/bin;bin;condabin;library/bin;bin;condabin;library/bin;bin;condabin;library/bin;bin;condabin;library/bin;bin;condabin;library/bin;bin;condabin;library/bin;bin;condabin;library/bin;bin;condabin;library/bin;bin;condabin;library/bin;bin;condabin;library/bin;bin;condabin;library/bin;bin;condabin;library/bin;bin;condabin;library/bin;bin;condabin;library/bin;bin;condabin;library/bin;bin;condabin;library/bin;bin;condabin;library/bin;bin;condabin;library/bin;bin;condabin;library/bin;bin;condabin;library/bin;bin;condabin;library/bin;bin;condabin;library/bin;bin;condabin;library/bin;bin;condabin;library/bin;bin;condabin;library/bin;bin;condabin;library/bin;bin;condabin;library/bin;bin;condabin;library/bin;bin;condabin;library/bin;bin;condabin;library/bin;bin;condabin;library/bin;bin;condabin;library/bin;bin;condabin;library/bin;bin;condabin;library/bin;bin;condabin;library/bin;bin;condabin;library/bin;bin;condabin;library/bin;bin;condabin;library/bin;bin;condabin;library/bin;bin;condabin;library/bin;bin;condabin;library/bin;bin;condabin;library/bin;bin;condabin;library/bin;bin;condabin;library/bin;bin;condabin;library/bin;bin;condabin;library/bin;bin;condabin;library/bin;bin;condabin;library/bin;bin;condabin;library/bin;bin;condabin;library/bin;bin;condabin;library/bin;bin;condabin;library/bin;bin;condabin;library/bin;bin;condabin;library/bin;bin;condabin;library/bin;bin;condabin;library/bin;bin;condabin;library/bin;bin;condabin;library/bin;bin;condabin;library/bin;bin;condabin;library/bin;bin;condabin;library/bin;bin;condabin;library/bin;bin;condabin;library/bin;bin;condabin;library/bin;bin;condabin;library/bin;bin;condabin;library/bin;bin;condabin;library/bin;bin;condabin;library/bin;bin;condabin;library/bin;bin;condabin;library/bin;bin;condabin;library/bin;bin;condabin;library/bin;bin;condabin;library/bin;bin;condabin;library/bin;bin;condabin;library/bin;bin;condabin;library/bin;bin;condabin;library/bin;bin;condabin;library/bin;bin;condabin;library/bin;bin;condabin;library/bin;bin;condabin;library/bin;bin;condabin;library/bin;bin;condabin;library/bin;bin;condabin;library/bin;bin;condabin;library/bin;bin;condabin;library/bin;bin;condabin;library/bin;bin;condabin;library/bin;bin;condabin;library/bin;bin;condabin;library/bin;bin;condabin;library/bin;bin;condabin;library/bin;bin;condabin;library/bin;bin;condabin;library/bin;bin;condabin;library/bin;bin;condabin;library/bin;bin;condabin;library/bin;bin;condabin;library/bin;bin;condabin;library/bin;bin;condabin;library/bin;bin;condabin;library/bin;bin;condabin;library/bin;bin;condabin;library/bin;bin;condabin;library/bin;bin;condabin;library/bin;bin;condabin;library/bin;bin;condabin;library/bin;bin;condabin;library/bin;bin;condabin;library/bin;bin;condabin;library/bin;bin;condabin;library/bin;bin;condabin;library/bin;bin;condabin;library/bin;bin;condabin;library/bin;bin;condabin;library/bin;bin;condabin;library/bin;bin;condabin;library/bin;bin;condabin;library/bin;bin;condabin;library/bin;bin;condabin;library/bin;bin;condabin;library/bin;bin;condabin;library/bin;bin;condabin;library/bin;bin;condabin;library/bin;bin;condabin;library/bin;bin;condabin;library/bin;bin;condabin;library/bin;bin;condabin;library/bin;bin;condabin;library/bin;bin;condabin;library/bin;bin;condabin;library/bin;bin;condabin;library/bin;bin;condabin;library/bin;bin;condabin;library/bin;bin;condabin;library/bin;bin;condabin;library/bin;bin;condabin;library/bin;bin;condabin;library/bin;bin;condabin;library/bin;bin;condabin;library/bin;bin;condabin;library/bin;bin;condabin;library/bin;bin;condabin;library/bin;bin;condabin;library/bin;bin;condabin;library/bin;bin;condabin;library/bin;bin;condabin;library/bin;bin;condabin;library/bin;bin;condabin;library/bin;bin;condabin;library/bin;bin;condabin;library/bin;bin;condabin;library/bin;bin;condabin;library/bin;bin;condabin;library/bin;bin;condabin;library/bin;bin;condabin;library/bin;bin;condabin;library/bin;bin;condabin;library/bin;bin;condabin;library/bin;bin;condabin;library/bin;bin;condabin;library/bin;bin;condabin;library/bin;bin;condabin;library/bin;bin;condabin;library/bin;bin;condabin;library/bin;bin;condabin;library/bin;bin;condabin;library/bin;bin;condabin;library/bin;bin;condabin;library/bin;bin;condabin;library/bin;bin;condabin;library/bin;bin;condabin;library/bin;bin;condabin;library/bin;bin;condabin;library/bin;bin;condabin;library/bin;bin;condabin;library/bin;bin;condabin;library/bin;bin;condabin;library/bin;bin;condabin;library/bin;bin;condabin;library/bin;bin;condabin;library/bin;bin;condabin;library/bin;bin;condabin;library/bin;bin;condabin;library/bin;bin;condabin;library/bin;bin;condabin;library/bin;bin;condabin;library/bin;bin;condabin;library/bin;bin;condabin;library/bin;bin;condabin;library/bin;bin;condabin;library/bin;bin;condabin;library/bin;bin;condabin;library/bin;bin;condabin;library/bin;bin;condabin;library/bin;bin;condabin;library/bin;bin;condabin;library/bin;bin;condabin;library/bin;bin;condabin;library/bin;bin;condabin;library/bin;bin;condabin;library/bin;bin;condabin;library/bin;bin;condabin;library/bin;bin;condabin;library/bin;bin;condabin;library/bin;bin;condabin;library/bin;bin;condabin;library/bin;bin;condabin;library/bin;bin;condabin;library/bin;bin;condabin;library/bin;bin;condabin;library/bin;bin;condabin;library/bin;bin;condabin;library/bin;bin;condabin;library/bin;bin;condabin;library/bin;bin;condabin;library/bin;bin;condabin;library/bin;bin;condabin;library/bin;bin;condabin;library/bin;bin;condabin;library/bin;bin;condabin;library/bin;bin;condabin;library/bin;bin;condabin;library/bin;bin;condabin;library/bin;bin;condabin;library/bin;bin;condabin;library/bin;bin;condabin;library/bin;bin;condabin;library/bin;bin;condabin;library/bin;bin;condabin;library/bin;bin;condabin;library/bin;bin;condabin;library/bin;bin;condabin;library/bin;bin;condabin;library/bin;bin;condabin;library/bin;bin;condabin;library/bin;bin;condabin;library/bin;bin;condabin;library/bin;bin;condabin;library/bin;bin;condabin;library/bin;bin;condabin;library/bin;bin;condabin;library/bin;bin;condabin;library/bin;bin;condabin;library/bin;bin;condabin;library/bin;bin;condabin;library/bin;bin;condabin;library/bin;bin;condabin;library/bin;bin;condabin;library/bin;bin;condabin;library/bin;bin;condabin;library/bin;bin;condabin;library/bin;bin;condabin;library/bin;bin;condabin;library/bin;bin;condabin;library/bin;bin;condabin;library/bin;bin;condabin;library/bin;bin;condabin;library/bin;bin;condabin;library/bin;bin;condabin;library/bin;bin;condabin;library/bin;bin;condabin;library/bin;bin;condabin;library/bin;bin;condabin;library/bin;bin;condabin;library/bin;bin;condabin;library/bin;bin;condabin;library/bin;bin;condabin;library/bin;/Users/stevencontreras/google-cloud-sdk/bin: path too long\n",
      "args: Namespace(beam_gcp_dataflow_job_name='sc-fids-capstone-etl', beam_gcp_dataflow_setup_file='./setup.py', beam_gcp_project='sc-fids-capstone', beam_gcp_region='us-west2', max_target_videos=500, use_beam=True, work_dir='/tmp')\n",
      "use_beam: True\n",
      "Found dataset /tmp/data/consultant-index.csv\n",
      "Found dataset /tmp/data/document-consultant-targetvideo-index.csv\n",
      "Found dataset /tmp/data/document-consultant-utterance-index.csv\n",
      "Found dataset /tmp/data/document-consultant-utterance-targetvideo-index.csv\n",
      "Found dataset /tmp/data/document-consultant-utterance-token-index.csv\n",
      "Found dataset /tmp/data/ncslgr-corpus-index.csv\n",
      "Found dataset /tmp/data/document-consultant-index.csv\n",
      "Found dataset /tmp/data/document-consultant-targetvideo-utterance-token-frame-index.csv\n",
      "Found dataset /tmp/data/vocabulary-index.csv\n"
     ]
    }
   ],
   "source": [
    "# ensure we have already extracted data to preprocess\n",
    "    # note that this is normally done via the commandline (outside of Jupyter)\n",
    "    # but running this confirms data exists in the working directory and will download/extract it if not\n",
    "    # also note that this will take a fair bit of time if it needs to do so\n",
    "\n",
    "!python ./run_local__etl.py \\\n",
    "  --work-dir $FIDS_CAPSTONE_WRK_DIR \\\n",
    "  --max-target-videos $FIDS_CAPSTONE_MAX_TARGET_VIDEOS \\\n",
    "  --use-beam 1 \\\n",
    "  --beam-gcp-project $BEAM_GCP_PROJECT \\\n",
    "  --beam-gcp-region $FIDS_CAPSTONE_GCP_REGION \\\n",
    "  --beam-gcp-dataflow-job-name $BEAM_GCP_PROJECT-etl \\\n",
    "  --beam-gcp-dataflow-setup-file ./setup.py"
   ]
  },
  {
   "cell_type": "code",
   "execution_count": 5,
   "metadata": {},
   "outputs": [
    {
     "output_type": "error",
     "ename": "TypeError",
     "evalue": "run() got an unexpected keyword argument 'use_beam'",
     "traceback": [
      "\u001b[0;31m---------------------------------------------------------------------------\u001b[0m",
      "\u001b[0;31mTypeError\u001b[0m                                 Traceback (most recent call last)",
      "\u001b[0;32m<ipython-input-5-ad951b77bf01>\u001b[0m in \u001b[0;36m<module>\u001b[0;34m\u001b[0m\n\u001b[0;32m----> 1\u001b[0;31m preprocessor.run(\n\u001b[0m\u001b[1;32m      2\u001b[0m     \u001b[0mwork_dir\u001b[0m\u001b[0;34m=\u001b[0m\u001b[0mos\u001b[0m\u001b[0;34m.\u001b[0m\u001b[0menviron\u001b[0m\u001b[0;34m[\u001b[0m\u001b[0;34m'FIDS_CAPSTONE_WRK_DIR'\u001b[0m\u001b[0;34m]\u001b[0m\u001b[0;34m,\u001b[0m\u001b[0;34m\u001b[0m\u001b[0;34m\u001b[0m\u001b[0m\n\u001b[1;32m      3\u001b[0m     \u001b[0muse_beam\u001b[0m\u001b[0;34m=\u001b[0m\u001b[0;32mTrue\u001b[0m\u001b[0;34m,\u001b[0m\u001b[0;34m\u001b[0m\u001b[0;34m\u001b[0m\u001b[0m\n\u001b[1;32m      4\u001b[0m     \u001b[0mbeam_runner\u001b[0m\u001b[0;34m=\u001b[0m\u001b[0;34m'DirectRunner'\u001b[0m\u001b[0;34m,\u001b[0m\u001b[0;34m\u001b[0m\u001b[0;34m\u001b[0m\u001b[0m\n\u001b[1;32m      5\u001b[0m     \u001b[0mbeam_gcp_project\u001b[0m\u001b[0;34m=\u001b[0m\u001b[0mos\u001b[0m\u001b[0;34m.\u001b[0m\u001b[0menviron\u001b[0m\u001b[0;34m[\u001b[0m\u001b[0;34m'BEAM_GCP_PROJECT'\u001b[0m\u001b[0;34m]\u001b[0m\u001b[0;34m,\u001b[0m\u001b[0;34m\u001b[0m\u001b[0;34m\u001b[0m\u001b[0m\n",
      "\u001b[0;31mTypeError\u001b[0m: run() got an unexpected keyword argument 'use_beam'"
     ]
    }
   ],
   "source": [
    "preprocessor.run(\n",
    "    work_dir=os.environ['FIDS_CAPSTONE_WRK_DIR'],\n",
    "    use_beam=True,\n",
    "    beam_runner='DirectRunner',\n",
    "    beam_gcp_project=os.environ['BEAM_GCP_PROJECT'],\n",
    "    beam_gcp_region=os.environ['FIDS_CAPSTONE_GCP_REGION'],\n",
    "    beam_gcp_dataflow_job_name=f\"{os.environ['BEAM_GCP_PROJECT']}-etl\",\n",
    "    beam_gcp_dataflow_setup_file='./setup.py'\n",
    ")"
   ]
  },
  {
   "cell_type": "code",
   "execution_count": null,
   "metadata": {},
   "outputs": [],
   "source": [
    "options = None\n",
    "\n",
    "if beam_runner != 'DirectRunner':\n",
    "    if beam_gcp_dataflow_setup_file != './setup.py':\n",
    "        print(f\"*** FATAL ERROR!!! ***  beam_gcp_setup_file=={beam_gcp_dataflow_setup_file} but it should be ./setup.py\")\n",
    "        return\n",
    "\n",
    "    logging.getLogger().setLevel(logging.INFO) # enable logging only for DataflowRunner\n",
    "\n",
    "    options = {\n",
    "        'runner': beam_runner,\n",
    "        'streaming': False, # set to True if data source is unbounded (e.g. GCP PubSub),\n",
    "        'max_num_workers': 8,\n",
    "        'autoscaling_algorithm': 'THROUGHPUT_BASED',\n",
    "        'num_workers': 4,\n",
    "        'disk_size_gb': 250,\n",
    "        'save_main_session': True,\n",
    "        'enable_streaming_engine': False,\n",
    "\n",
    "        # GCP options\n",
    "        'project': beam_gcp_project,\n",
    "        'region': beam_gcp_region,\n",
    "        'worker_region': beam_gcp_region,\n",
    "        'service_account_email': 'fids-capstone-beam-pl-gcs@sc-fids-capstone.iam.gserviceaccount.com',    # REDACTED\n",
    "        'staging_location': beam_gcs_staging_bucket,\n",
    "        'temp_location': beam_gcs_temp_location,\n",
    "        'setup_file': beam_gcp_dataflow_setup_file,\n",
    "        'job_name': beam_gcp_dataflow_job_name,\n",
    "    }\n",
    "else:\n",
    "    options = {\n",
    "        'runner': 'DirectRunner',\n",
    "        'environment_type': 'DOCKER',\n",
    "        'direct_num_workers': 0, # 0 is use all available cores\n",
    "        'direct_running_mode': 'multi_processing', # ['in_memory', 'multi_threading', 'multi_processing']\n",
    "        'streaming': False # set to True if data source is unbounded (e.g. GCP PubSub),\n",
    "    }\n",
    "\n",
    "options.update(beam__common.make_fids_options_dict(work_dir, beam_gcp_project=beam_gcp_project))"
   ]
  },
  {
   "cell_type": "code",
   "execution_count": null,
   "metadata": {},
   "outputs": [],
   "source": [
    "pl = beam.Pipeline(options=pipeline_options)\n",
    "\n",
    "def train_val_index_schemad_pcoll_rows__to__ordered_tuples(train_val_index_schemad_pcoll_row):\n",
    "    \"\"\"\n",
    "    \"\"\"\n",
    "    return (\n",
    "        # SCHEMA_COL_NAMES__TRAIN_OR_VAL_INDEX = [\n",
    "        #     'TokenID',\n",
    "        #     'CameraPerspective',\n",
    "        #     'ASLConsultantID',\n",
    "        #     'TargetVideoFilename',\n",
    "        #     'UtteranceSequence',\n",
    "        #     'TokenSequence',\n",
    "        #     'FrameSequence'\n",
    "        # ]\n",
    "        train_val_index_schemad_pcoll_row.TokenID,\n",
    "        train_val_index_schemad_pcoll_row.CameraPerspective,\n",
    "        train_val_index_schemad_pcoll_row.ASLConsultantID,\n",
    "        train_val_index_schemad_pcoll_row.TargetVideoFilename,\n",
    "        train_val_index_schemad_pcoll_row.UtteranceSequence,\n",
    "        train_val_index_schemad_pcoll_row.TokenSequence,\n",
    "        train_val_index_schemad_pcoll_row.FrameSequence\n",
    "    )\n",
    "\n",
    "train_frame_sequences__assoc_index_schemad_pcoll = beam__common.pl__1__read_train_frame_sequences__assoc_index_csv(pl)\n",
    "train_frame_sequences__assoc_index = (\n",
    "    train_frame_sequences__assoc_index_schemad_pcoll\n",
    "    | \"Beam PL: transform train_frame_sequences__assoc_index_schemad_pcoll rows to ordered tuples (according to schema)\" >> beam.Map(train_val_index_schemad_pcoll_rows__to__ordered_tuples)\n",
    ")\n",
    "\n",
    "val_frame_sequences_index_schemad_pcoll = beam__common.pl__1__read_val_frame_sequences__index_csv(pl)\n",
    "val_frame_sequences_index = (\n",
    "    val_frame_sequences_index_schemad_pcoll\n",
    "    | \"Beam PL: transform val_frame_sequences_index_schemad_pcoll rows to ordered tuples (according to schema)\" >> beam.Map(train_val_index_schemad_pcoll_rows__to__ordered_tuples)\n",
    ")\n",
    "\n",
    "train_frame_sequences_index_schemad_pcoll = beam__common.pl__1__read_train_frame_sequences_index_csv(pl)\n",
    "train_frame_sequences_index = (\n",
    "    train_frame_sequences_index_schemad_pcoll\n",
    "    | \"Beam PL: transform train_frame_sequences_index_schemad_pcoll rows to ordered tuples (according to schema)\" >> beam.Map(train_val_index_schemad_pcoll_rows__to__ordered_tuples)\n",
    ")"
   ]
  },
  {
   "cell_type": "code",
   "execution_count": null,
   "metadata": {},
   "outputs": [],
   "source": [
    "def train_val_index__load_frame_img(train_val_index_tpl):\n",
    "    \"\"\"\n",
    "    SCHEMA_COL_NAMES__TRAIN_OR_VAL_INDEX = [\n",
    "        'TokenID',\n",
    "        'CameraPerspective',\n",
    "        'ASLConsultantID',\n",
    "        'TargetVideoFilename',\n",
    "        'UtteranceSequence',\n",
    "        'TokenSequence',\n",
    "        'FrameSequence'\n",
    "    ]\n",
    "    \"\"\"\n",
    "    target_video_frames_dir = os.path.join(\n",
    "        fidscs_globals.STICHED_VIDEO_FRAMES_DIR, \n",
    "        train_val_index_tpl[3].split('.')[0]\n",
    "    )\n",
    "    target_video_frame_fname = f\"{train_val_index_tpl[6]}.jpg\"\n",
    "    target_video_frame_path = os.path.join(target_video_frames_dir, target_video_frame_fname)\n",
    "    target_video_frame_img = tf.keras.preprocessing.image.load_img(\n",
    "        target_video_frame_path, \n",
    "        target_size=fidscs_globals.FRAME_IMG_INPUT_SHAPE\n",
    "    )  # this is a PIL image\n",
    "    target_video_frame_img_array = tf.keras.preprocessing.image.img_to_array(target_video_frame_img)\n",
    "    target_video_frame_img_array = target_video_frame_img_array.reshape((1,) + target_video_frame_img_array.shape)\n",
    "    target_video_frame_img_array /= 255.0 # Rescale by 1/255\n",
    "\n",
    "    return (\n",
    "        train_val_index_tpl[0],\n",
    "        train_val_index_tpl[1],\n",
    "        train_val_index_tpl[2],\n",
    "        train_val_index_tpl[3],\n",
    "        train_val_index_tpl[4],\n",
    "        train_val_index_tpl[5],\n",
    "        train_val_index_tpl[6],\n",
    "        target_video_frame_img_array\n",
    "    )"
   ]
  },
  {
   "cell_type": "code",
   "execution_count": null,
   "metadata": {},
   "outputs": [],
   "source": [
    "def pl__X__sample_train_val_frame_sequences_index__with_frame_tensors(train_val_frame_sequences_index, name_train_val_frame_sequences_index, n_sample_size=50, rand=False):\n",
    "    \"\"\"\n",
    "    \"\"\"\n",
    "\n",
    "    sample = (\n",
    "        train_val_frame_sequences_index\n",
    "        | f\"Beam PL: get random sample of {n_sample_size} frames from {name_train_val_frame_sequences_index}\" >> beam.combiners.Sample.FixedSizeGlobally(n_sample_size)\n",
    "    ) if rand else (\n",
    "        train_val_frame_sequences_index\n",
    "        | f\"Beam PL: get top {n_sample_size} frames from {name_train_val_frame_sequences_index}\" >> beam.combiners.Top.Of(n_sample_size)\n",
    "    )\n",
    "    return (\n",
    "        sample\n",
    "        | f\"Beam PL: flatten sample of {n_sample_size} frames from {name_train_val_frame_sequences_index}\" >> beam.FlatMap(lambda lst_tpl: lst_tpl)\n",
    "        | f\"Beam PL: load frame images of {name_train_val_frame_sequences_index}\" >> beam.Map(train_val_index__load_frame_img)\n",
    "    )\n",
    "\n",
    "train_frame_sequences__assoc_index__sample__with_frame_tensors = pl__X__sample_train_val_frame_sequences_index__with_frame_tensors(\n",
    "    train_frame_sequences__assoc_index, \n",
    "    \"train_frame_sequences__assoc_index\"\n",
    ")\n",
    "val_frame_sequences_index__sample__with_frame_tensors = pl__X__sample_train_val_frame_sequences_index__with_frame_tensors(\n",
    "    val_frame_sequences_index, \n",
    "    \"val_frame_sequences_index\"\n",
    ")\n",
    "train_frame_sequences_index__sample__with_frame_tensors = pl__X__sample_train_val_frame_sequences_index__with_frame_tensors(\n",
    "    train_frame_sequences_index, \n",
    "    \"train_frame_sequences_index\"\n",
    ")"
   ]
  },
  {
   "cell_type": "code",
   "execution_count": null,
   "metadata": {},
   "outputs": [],
   "source": [
    "# we require this in order to make use of ib.show() (which provides visualization of the pcolls specified) or ib.collect() (which creates a pandas dataframe from a pcoll)\n",
    "    # but all pcolls we wish to visualize must be created prior to executing the following line\n",
    "ib.watch(locals())"
   ]
  },
  {
   "source": [
    "<p><br>\n",
    "\n",
    "##### Show base train/val frame datasets"
   ],
   "cell_type": "markdown",
   "metadata": {}
  },
  {
   "cell_type": "code",
   "execution_count": null,
   "metadata": {},
   "outputs": [],
   "source": [
    "df_train_frame_sequences__assoc_index = ib.collect(train_frame_sequences__assoc_index)"
   ]
  },
  {
   "cell_type": "code",
   "execution_count": null,
   "metadata": {},
   "outputs": [],
   "source": [
    "df_train_frame_sequences__assoc_index.columns = fidscs_globals.SCHEMA_COL_NAMES__TRAIN_OR_VAL_INDEX\n",
    "df_train_frame_sequences__assoc_index.set_index(fidscs_globals.SCHEMA_PK__TRAIN_OR_VAL_INDEX, inplace=True)\n",
    "df_train_frame_sequences__assoc_index.sort_values(axis=0, by=[fidscs_globals.SCHEMA_COL_NAMES__TRAIN_OR_VAL_INDEX[6]], ignore_index=False, inplace=True)\n",
    "df_train_frame_sequences__assoc_index.sort_index(inplace=True)\n",
    "\n",
    "df_train_frame_sequences__assoc_index"
   ]
  },
  {
   "cell_type": "code",
   "execution_count": null,
   "metadata": {},
   "outputs": [],
   "source": [
    "df_val_frame_sequences_index = ib.collect(val_frame_sequences_index)"
   ]
  },
  {
   "cell_type": "code",
   "execution_count": null,
   "metadata": {},
   "outputs": [],
   "source": [
    "df_val_frame_sequences_index.columns = fidscs_globals.SCHEMA_COL_NAMES__TRAIN_OR_VAL_INDEX\n",
    "df_val_frame_sequences_index.set_index(fidscs_globals.SCHEMA_PK__TRAIN_OR_VAL_INDEX, inplace=True)\n",
    "df_val_frame_sequences_index.sort_values(axis=0, by=[fidscs_globals.SCHEMA_COL_NAMES__TRAIN_OR_VAL_INDEX[6]], ignore_index=False, inplace=True)\n",
    "df_val_frame_sequences_index.sort_index(inplace=True)\n",
    "\n",
    "df_val_frame_sequences_index"
   ]
  },
  {
   "cell_type": "code",
   "execution_count": null,
   "metadata": {},
   "outputs": [],
   "source": [
    "df_train_frame_sequences_index = ib.collect(train_frame_sequences_index)"
   ]
  },
  {
   "cell_type": "code",
   "execution_count": null,
   "metadata": {},
   "outputs": [],
   "source": [
    "df_train_frame_sequences_index.columns = fidscs_globals.SCHEMA_COL_NAMES__TRAIN_OR_VAL_INDEX\n",
    "df_train_frame_sequences_index.set_index(fidscs_globals.SCHEMA_PK__TRAIN_OR_VAL_INDEX, inplace=True)\n",
    "df_train_frame_sequences_index.sort_values(axis=0, by=[fidscs_globals.SCHEMA_COL_NAMES__TRAIN_OR_VAL_INDEX[6]], ignore_index=False, inplace=True)\n",
    "df_train_frame_sequences_index.sort_index(inplace=True)\n",
    "\n",
    "df_train_frame_sequences_index"
   ]
  },
  {
   "source": [
    "<p><br>\n",
    "\n",
    "##### Show sample of train/val frame datasets with loaded tensors (to demonstrate functional frame-to-tensor extraction)"
   ],
   "cell_type": "markdown",
   "metadata": {}
  },
  {
   "cell_type": "code",
   "execution_count": null,
   "metadata": {},
   "outputs": [],
   "source": [
    "df_train_frame_sequences__assoc_index__sample__with_frame_tensors = ib.collect(train_frame_sequences__assoc_index__sample__with_frame_tensors)"
   ]
  },
  {
   "cell_type": "code",
   "execution_count": null,
   "metadata": {},
   "outputs": [],
   "source": [
    "df_train_frame_sequences__assoc_index__sample__with_frame_tensors.columns = fidscs_globals.SCHEMA_COL_NAMES__TRAIN_OR_VAL_INDEX + ['FrameTensor']\n",
    "df_train_frame_sequences__assoc_index__sample__with_frame_tensors.set_index(['ASLConsultantID', 'TargetVideoFilename', 'CameraPerspective', 'UtteranceSequence', 'TokenSequence'], inplace=True)\n",
    "df_train_frame_sequences__assoc_index__sample__with_frame_tensors.sort_values(axis=0, by=[fidscs_globals.SCHEMA_COL_NAMES__TRAIN_OR_VAL_INDEX[6]], ignore_index=False, inplace=True)\n",
    "df_train_frame_sequences__assoc_index__sample__with_frame_tensors.sort_index(inplace=True)\n",
    "\n",
    "df_train_frame_sequences__assoc_index__sample__with_frame_tensors"
   ]
  },
  {
   "cell_type": "code",
   "execution_count": null,
   "metadata": {},
   "outputs": [],
   "source": [
    "df_val_frame_sequences_index__sample__with_frame_tensors = ib.collect(val_frame_sequences_index__sample__with_frame_tensors)"
   ]
  },
  {
   "cell_type": "code",
   "execution_count": null,
   "metadata": {},
   "outputs": [],
   "source": [
    "df_val_frame_sequences_index__sample__with_frame_tensors.columns = fidscs_globals.SCHEMA_COL_NAMES__TRAIN_OR_VAL_INDEX + ['FrameTensor']\n",
    "df_val_frame_sequences_index__sample__with_frame_tensors.set_index(['ASLConsultantID', 'TargetVideoFilename', 'CameraPerspective', 'UtteranceSequence', 'TokenSequence'], inplace=True)\n",
    "df_val_frame_sequences_index__sample__with_frame_tensors.sort_values(axis=0, by=[fidscs_globals.SCHEMA_COL_NAMES__TRAIN_OR_VAL_INDEX[6]], ignore_index=False, inplace=True)\n",
    "df_val_frame_sequences_index__sample__with_frame_tensors.sort_index(inplace=True)\n",
    "\n",
    "df_val_frame_sequences_index__sample__with_frame_tensors"
   ]
  },
  {
   "cell_type": "code",
   "execution_count": null,
   "metadata": {},
   "outputs": [],
   "source": [
    "df_train_frame_sequences_index__sample__with_frame_tensors = ib.collect(train_frame_sequences_index__sample__with_frame_tensors)"
   ]
  },
  {
   "cell_type": "code",
   "execution_count": null,
   "metadata": {},
   "outputs": [],
   "source": [
    "df_train_frame_sequences_index__sample__with_frame_tensors.columns = fidscs_globals.SCHEMA_COL_NAMES__TRAIN_OR_VAL_INDEX + ['FrameTensor']\n",
    "df_train_frame_sequences_index__sample__with_frame_tensors.set_index(['ASLConsultantID', 'TargetVideoFilename', 'CameraPerspective', 'UtteranceSequence', 'TokenSequence'], inplace=True)\n",
    "df_train_frame_sequences_index__sample__with_frame_tensors.sort_values(axis=0, by=[fidscs_globals.SCHEMA_COL_NAMES__TRAIN_OR_VAL_INDEX[6]], ignore_index=False, inplace=True)\n",
    "df_train_frame_sequences_index__sample__with_frame_tensors.sort_index(inplace=True)\n",
    "\n",
    "df_train_frame_sequences_index__sample__with_frame_tensors"
   ]
  }
 ]
}