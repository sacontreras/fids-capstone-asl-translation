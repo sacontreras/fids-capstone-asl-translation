{
 "metadata": {
  "language_info": {
   "codemirror_mode": {
    "name": "ipython",
    "version": 3
   },
   "file_extension": ".py",
   "mimetype": "text/x-python",
   "name": "python",
   "nbconvert_exporter": "python",
   "pygments_lexer": "ipython3",
   "version": "3.8.4-final"
  },
  "orig_nbformat": 2,
  "kernelspec": {
   "name": "python3",
   "display_name": "Anaconda: learn-env",
   "language": "python"
  }
 },
 "nbformat": 4,
 "nbformat_minor": 2,
 "cells": [
  {
   "cell_type": "code",
   "execution_count": 1,
   "metadata": {},
   "outputs": [],
   "source": [
    "import argparse\n",
    "import os\n",
    "\n",
    "import apache_beam as beam\n",
    "import tensorflow as tf\n",
    "from apache_beam.options.pipeline_options import PipelineOptions\n",
    "import apache_beam.runners.interactive.interactive_beam as ib\n",
    "import apache_beam.transforms.sql\n",
    "\n",
    "import beam__common\n",
    "import fidscs_globals\n",
    "\n",
    "import data_extractor\n",
    "import preprocessor\n",
    "\n",
    "# from tensorflow.keras.preprocessing.image import img_to_array, load_img\n",
    "import tensorflow.keras.preprocessing.image"
   ]
  },
  {
   "cell_type": "code",
   "execution_count": 2,
   "metadata": {},
   "outputs": [],
   "source": [
    "data_dir = \"/tmp/fids-capstone-data/data\""
   ]
  },
  {
   "cell_type": "code",
   "execution_count": 3,
   "metadata": {},
   "outputs": [
    {
     "output_type": "stream",
     "name": "stdout",
     "text": [
      "use_beam: True\nFound dataset /tmp/fids-capstone-data/data/consultant-index.csv\nFound dataset /tmp/fids-capstone-data/data/document-consultant-targetvideo-index.csv\nFound dataset /tmp/fids-capstone-data/data/document-consultant-utterance-index.csv\nFound dataset /tmp/fids-capstone-data/data/document-consultant-utterance-targetvideo-index.csv\nFound dataset /tmp/fids-capstone-data/data/document-consultant-utterance-token-index.csv\nFound dataset /tmp/fids-capstone-data/data/ncslgr-corpus-index.csv\nFound dataset /tmp/fids-capstone-data/data/document-consultant-index.csv\nFound dataset /tmp/fids-capstone-data/data/document-consultant-targetvideo-utterance-token-frame-index.csv\nFound dataset /tmp/fids-capstone-data/data/vocabulary-index.csv\n"
     ]
    }
   ],
   "source": [
    "data_extractor.run(max_target_videos=-1, data_dir=data_dir, use_beam=True)"
   ]
  },
  {
   "cell_type": "code",
   "execution_count": 4,
   "metadata": {},
   "outputs": [
    {
     "output_type": "stream",
     "name": "stdout",
     "text": [
      "Found train/val dataset /tmp/fids-capstone-data/data/train-assoc.csv\nFound train/val dataset /tmp/fids-capstone-data/data/val.csv\nFound train/val dataset /tmp/fids-capstone-data/data/train.csv\nFound train/val dataset /tmp/fids-capstone-data/data/complete-utterances-train-assoc.csv\nFound train/val dataset /tmp/fids-capstone-data/data/complete-utterances-val.csv\nFound train/val dataset /tmp/fids-capstone-data/data/complete-utterances-train.csv\n"
     ]
    }
   ],
   "source": [
    "preprocessor.run(data_dir=data_dir)"
   ]
  },
  {
   "cell_type": "code",
   "execution_count": 5,
   "metadata": {},
   "outputs": [
    {
     "output_type": "stream",
     "name": "stdout",
     "text": [
      "PipelineOptions:\n{'runner': 'InteractiveRunner', 'streaming': False, 'beam_services': {}, 'type_check_strictness': 'DEFAULT_TO_ANY', 'type_check_additional': '', 'pipeline_type_check': True, 'runtime_type_check': False, 'performance_runtime_type_check': False, 'direct_runner_use_stacked_bundle': True, 'direct_runner_bundle_repeat': 0, 'direct_num_workers': 0, 'direct_running_mode': 'multi_threading', 'dataflow_endpoint': 'https://dataflow.googleapis.com', 'project': 'my-project', 'job_name': None, 'staging_location': None, 'temp_location': None, 'region': None, 'service_account_email': None, 'no_auth': False, 'template_location': None, 'labels': None, 'update': False, 'transform_name_mapping': None, 'enable_streaming_engine': False, 'dataflow_kms_key': None, 'flexrs_goal': None, 'hdfs_host': None, 'hdfs_port': None, 'hdfs_user': None, 'hdfs_full_urls': False, 'num_workers': None, 'max_num_workers': None, 'autoscaling_algorithm': None, 'machine_type': None, 'disk_size_gb': None, 'disk_type': None, 'worker_region': None, 'worker_zone': None, 'zone': None, 'network': None, 'subnetwork': None, 'worker_harness_container_image': None, 'sdk_harness_container_image_overrides': None, 'use_public_ips': None, 'min_cpu_platform': None, 'dataflow_worker_jar': None, 'dataflow_job_file': None, 'experiments': None, 'number_of_worker_harness_threads': None, 'profile_cpu': False, 'profile_memory': False, 'profile_location': None, 'profile_sample_rate': 1.0, 'requirements_file': None, 'requirements_cache': None, 'setup_file': None, 'beam_plugins': None, 'save_main_session': False, 'sdk_location': 'default', 'extra_packages': None, 'prebuild_sdk_container_engine': None, 'prebuild_sdk_container_base_image': None, 'docker_registry_push_url': None, 'job_endpoint': None, 'artifact_endpoint': None, 'job_server_timeout': 60, 'environment_type': None, 'environment_config': None, 'environment_options': None, 'sdk_worker_parallelism': 1, 'environment_cache_millis': 0, 'output_executable_path': None, 'artifacts_dir': None, 'job_port': 0, 'artifact_port': 0, 'expansion_port': 0, 'flink_master': '[auto]', 'flink_version': '1.10', 'flink_job_server_jar': None, 'flink_submit_uber_jar': False, 'spark_master_url': 'local[4]', 'spark_job_server_jar': None, 'spark_submit_uber_jar': False, 'spark_rest_url': None, 'on_success_matcher': None, 'dry_run': False, 'wait_until_finish_duration': None, 'pubsubRootUrl': None, 's3_access_key_id': None, 's3_secret_access_key': None, 's3_session_token': None, 's3_endpoint_url': None, 's3_region_name': None, 's3_api_version': None, 's3_verify': None, 's3_disable_ssl': False}\n\n"
     ]
    }
   ],
   "source": [
    "options = {\n",
    "    'project': 'my-project', # change\n",
    "    'runner': 'InteractiveRunner',\n",
    "    'direct_num_workers': 0, # 0 is use all available cores\n",
    "    'direct_running_mode': 'multi_threading', # ['in_memory', 'multi_threading', 'multi_processing'] # 'multi_processing' doesn't seem to work for DirectRunner?\n",
    "    'streaming': False # set to True if data source is unbounded (e.g. GCP PubSub)\n",
    "}\n",
    "pipeline_options = PipelineOptions(flags=[], **options) # easier to pass in options from command-line this way\n",
    "print(f\"PipelineOptions:\\n{pipeline_options.get_all_options()}\\n\")"
   ]
  },
  {
   "cell_type": "code",
   "execution_count": 6,
   "metadata": {},
   "outputs": [],
   "source": [
    "fidscs_globals.DATA_ROOT_DIR = data_dir"
   ]
  },
  {
   "cell_type": "code",
   "execution_count": 7,
   "metadata": {},
   "outputs": [],
   "source": [
    "can_proceed = True\n",
    "\n",
    "if not tf.io.gfile.exists(fidscs_globals.DATA_ROOT_DIR) or len(tf.io.gfile.listdir(fidscs_globals.DATA_ROOT_DIR))==0:\n",
    "    print(f\"{fidscs_globals.VALIDATION_FATAL_ERROR_TEXT} data directory does not exist or is empty!\")\n",
    "    can_proceed = False\n",
    "else:\n",
    "    fidscs_globals.VIDEO_DIR = os.path.join(fidscs_globals.DATA_ROOT_DIR, 'videos')\n",
    "    fidscs_globals.STICHED_VIDEO_FRAMES_DIR = os.path.join(fidscs_globals.DATA_ROOT_DIR, 'stitched_video_frames')\n",
    "    fidscs_globals.CORPUS_DS_PATH = os.path.join(fidscs_globals.DATA_ROOT_DIR, fidscs_globals.CORPUS_DS_FNAME)\n",
    "    fidscs_globals.DOCUMENT_ASL_CONSULTANT_DS_PATH = os.path.join(fidscs_globals.DATA_ROOT_DIR, fidscs_globals.DOCUMENT_ASL_CONSULTANT_DS_FNAME)\n",
    "    fidscs_globals.ASL_CONSULTANT_DS_PATH = os.path.join(fidscs_globals.DATA_ROOT_DIR, fidscs_globals.ASL_CONSULTANT_DS_FNAME)\n",
    "    fidscs_globals.VIDEO_DS_PATH = os.path.join(fidscs_globals.DATA_ROOT_DIR, fidscs_globals.VIDEO_DS_FNAME)\n",
    "    fidscs_globals.VIDEO_SEGMENT_DS_PATH = os.path.join(fidscs_globals.DATA_ROOT_DIR, fidscs_globals.VIDEO_SEGMENT_DS_FNAME)\n",
    "    fidscs_globals.VIDEO_FRAME_DS_PATH = os.path.join(fidscs_globals.DATA_ROOT_DIR, fidscs_globals.VIDEO_FRAME_DS_FNAME)\n",
    "    fidscs_globals.UTTERANCE_DS_PATH = os.path.join(fidscs_globals.DATA_ROOT_DIR, fidscs_globals.UTTERANCE_DS_FNAME)\n",
    "    fidscs_globals.UTTERANCE_VIDEO_DS_PATH = os.path.join(fidscs_globals.DATA_ROOT_DIR, fidscs_globals.UTTERANCE_VIDEO_DS_FNAME)\n",
    "    fidscs_globals.UTTERANCE_TOKEN_DS_PATH = os.path.join(fidscs_globals.DATA_ROOT_DIR, fidscs_globals.UTTERANCE_TOKEN_DS_FNAME)\n",
    "    fidscs_globals.UTTERANCE_TOKEN_FRAME_DS_PATH = os.path.join(fidscs_globals.DATA_ROOT_DIR, fidscs_globals.UTTERANCE_TOKEN_FRAME_DS_FNAME)\n",
    "    fidscs_globals.VOCABULARY_DS_PATH = os.path.join(fidscs_globals.DATA_ROOT_DIR, fidscs_globals.VOCABULARY_DS_FNAME)\n",
    "    fidscs_globals.TRAIN_ASSOC_DS_PATH = os.path.join(fidscs_globals.DATA_ROOT_DIR, fidscs_globals.TRAIN_FRAME_SEQ_ASSOC_DS_FNAME)\n",
    "    fidscs_globals.VAL_DS_PATH = os.path.join(fidscs_globals.DATA_ROOT_DIR, fidscs_globals.VAL_FRAME_SEQ_DS_FNAME)\n",
    "    fidscs_globals.TRAIN_DS_PATH = os.path.join(fidscs_globals.DATA_ROOT_DIR, fidscs_globals.TRAIN_FRAME_SEQ_DS_FNAME)"
   ]
  },
  {
   "cell_type": "code",
   "execution_count": 8,
   "metadata": {},
   "outputs": [
    {
     "output_type": "display_data",
     "data": {
      "application/javascript": "\n        if (typeof window.interactive_beam_jquery == 'undefined') {\n          var jqueryScript = document.createElement('script');\n          jqueryScript.src = 'https://code.jquery.com/jquery-3.4.1.slim.min.js';\n          jqueryScript.type = 'text/javascript';\n          jqueryScript.onload = function() {\n            var datatableScript = document.createElement('script');\n            datatableScript.src = 'https://cdn.datatables.net/1.10.20/js/jquery.dataTables.min.js';\n            datatableScript.type = 'text/javascript';\n            datatableScript.onload = function() {\n              window.interactive_beam_jquery = jQuery.noConflict(true);\n              window.interactive_beam_jquery(document).ready(function($){\n                \n              });\n            }\n            document.head.appendChild(datatableScript);\n          };\n          document.head.appendChild(jqueryScript);\n        } else {\n          window.interactive_beam_jquery(document).ready(function($){\n            \n          });\n        }"
     },
     "metadata": {}
    }
   ],
   "source": [
    "pl = beam.Pipeline(options=pipeline_options)\n",
    "\n",
    "def train_val_index_schemad_pcoll_rows__to__ordered_tuples(train_val_index_schemad_pcoll_row):\n",
    "    \"\"\"\n",
    "    \"\"\"\n",
    "    return (\n",
    "        # SCHEMA_COL_NAMES__TRAIN_OR_VAL_INDEX = [\n",
    "        #     'TokenID',\n",
    "        #     'CameraPerspective',\n",
    "        #     'ASLConsultantID',\n",
    "        #     'TargetVideoFilename',\n",
    "        #     'UtteranceSequence',\n",
    "        #     'TokenSequence',\n",
    "        #     'FrameSequence'\n",
    "        # ]\n",
    "        train_val_index_schemad_pcoll_row.TokenID,\n",
    "        train_val_index_schemad_pcoll_row.CameraPerspective,\n",
    "        train_val_index_schemad_pcoll_row.ASLConsultantID,\n",
    "        train_val_index_schemad_pcoll_row.TargetVideoFilename,\n",
    "        train_val_index_schemad_pcoll_row.UtteranceSequence,\n",
    "        train_val_index_schemad_pcoll_row.TokenSequence,\n",
    "        train_val_index_schemad_pcoll_row.FrameSequence\n",
    "    )\n",
    "\n",
    "train_frame_sequences__assoc_index_schemad_pcoll = beam__common.pl__1__read_train_frame_sequences__assoc_index_csv(pl)\n",
    "train_frame_sequences__assoc_index = (\n",
    "    train_frame_sequences__assoc_index_schemad_pcoll\n",
    "    | \"Beam PL: transform train_frame_sequences__assoc_index_schemad_pcoll rows to ordered tuples (according to schema)\" >> beam.Map(train_val_index_schemad_pcoll_rows__to__ordered_tuples)\n",
    ")\n",
    "\n",
    "val_frame_sequences_index_schemad_pcoll = beam__common.pl__1__read_val_frame_sequences__index_csv(pl)\n",
    "val_frame_sequences_index = (\n",
    "    val_frame_sequences_index_schemad_pcoll\n",
    "    | \"Beam PL: transform val_frame_sequences_index_schemad_pcoll rows to ordered tuples (according to schema)\" >> beam.Map(train_val_index_schemad_pcoll_rows__to__ordered_tuples)\n",
    ")\n",
    "\n",
    "train_frame_sequences_index_schemad_pcoll = beam__common.pl__1__read_train_frame_sequences_index_csv(pl)\n",
    "train_frame_sequences_index = (\n",
    "    train_frame_sequences_index_schemad_pcoll\n",
    "    | \"Beam PL: transform train_frame_sequences_index_schemad_pcoll rows to ordered tuples (according to schema)\" >> beam.Map(train_val_index_schemad_pcoll_rows__to__ordered_tuples)\n",
    ")"
   ]
  },
  {
   "cell_type": "code",
   "execution_count": 9,
   "metadata": {},
   "outputs": [],
   "source": [
    "def train_val_index__load_frame_img(train_val_index_tpl):\n",
    "    \"\"\"\n",
    "    SCHEMA_COL_NAMES__TRAIN_OR_VAL_INDEX = [\n",
    "        'TokenID',\n",
    "        'CameraPerspective',\n",
    "        'ASLConsultantID',\n",
    "        'TargetVideoFilename',\n",
    "        'UtteranceSequence',\n",
    "        'TokenSequence',\n",
    "        'FrameSequence'\n",
    "    ]\n",
    "    \"\"\"\n",
    "    target_video_frames_dir = os.path.join(\n",
    "        fidscs_globals.STICHED_VIDEO_FRAMES_DIR, \n",
    "        train_val_index_tpl[3].split('.')[0]\n",
    "    )\n",
    "    target_video_frame_fname = f\"{train_val_index_tpl[6]}.jpg\"\n",
    "    target_video_frame_path = os.path.join(target_video_frames_dir, target_video_frame_fname)\n",
    "    target_video_frame_img = tf.keras.preprocessing.image.load_img(\n",
    "        target_video_frame_path, \n",
    "        target_size=fidscs_globals.FRAME_IMG_INPUT_SHAPE\n",
    "    )  # this is a PIL image\n",
    "    target_video_frame_img_array = tf.keras.preprocessing.image.img_to_array(target_video_frame_img)\n",
    "    target_video_frame_img_array = target_video_frame_img_array.reshape((1,) + target_video_frame_img_array.shape)\n",
    "    target_video_frame_img_array /= 255.0 # Rescale by 1/255\n",
    "\n",
    "    return (\n",
    "        train_val_index_tpl[0],\n",
    "        train_val_index_tpl[1],\n",
    "        train_val_index_tpl[2],\n",
    "        train_val_index_tpl[3],\n",
    "        train_val_index_tpl[4],\n",
    "        train_val_index_tpl[5],\n",
    "        train_val_index_tpl[6],\n",
    "        target_video_frame_img_array\n",
    "    )"
   ]
  },
  {
   "cell_type": "code",
   "execution_count": 10,
   "metadata": {},
   "outputs": [],
   "source": [
    "def pl__X__sample_train_val_frame_sequences_index__with_frame_tensors(train_val_frame_sequences_index, name_train_val_frame_sequences_index, n_sample_size=50, rand=False):\n",
    "    \"\"\"\n",
    "    \"\"\"\n",
    "\n",
    "    sample = (\n",
    "        train_val_frame_sequences_index\n",
    "        | f\"Beam PL: get random sample of {n_sample_size} frames from {name_train_val_frame_sequences_index}\" >> beam.combiners.Sample.FixedSizeGlobally(n_sample_size)\n",
    "    ) if rand else (\n",
    "        train_val_frame_sequences_index\n",
    "        | f\"Beam PL: get top {n_sample_size} frames from {name_train_val_frame_sequences_index}\" >> beam.combiners.Top.Of(n_sample_size)\n",
    "    )\n",
    "    return (\n",
    "        sample\n",
    "        | f\"Beam PL: flatten sample of {n_sample_size} frames from {name_train_val_frame_sequences_index}\" >> beam.FlatMap(lambda lst_tpl: lst_tpl)\n",
    "        | f\"Beam PL: load frame images of {name_train_val_frame_sequences_index}\" >> beam.Map(train_val_index__load_frame_img)\n",
    "    )\n",
    "\n",
    "train_frame_sequences__assoc_index__sample__with_frame_tensors = pl__X__sample_train_val_frame_sequences_index__with_frame_tensors(\n",
    "    train_frame_sequences__assoc_index, \n",
    "    \"train_frame_sequences__assoc_index\"\n",
    ")\n",
    "val_frame_sequences_index__sample__with_frame_tensors = pl__X__sample_train_val_frame_sequences_index__with_frame_tensors(\n",
    "    val_frame_sequences_index, \n",
    "    \"val_frame_sequences_index\"\n",
    ")\n",
    "train_frame_sequences_index__sample__with_frame_tensors = pl__X__sample_train_val_frame_sequences_index__with_frame_tensors(\n",
    "    train_frame_sequences_index, \n",
    "    \"train_frame_sequences_index\"\n",
    ")"
   ]
  },
  {
   "cell_type": "code",
   "execution_count": 11,
   "metadata": {},
   "outputs": [],
   "source": [
    "# we require this in order to make use of ib.show() (which provides visualization of the pcolls specified) or ib.collect() (which creates a pandas dataframe from a pcoll)\n",
    "    # but all pcolls we wish to visualize must be created prior to executing the following line\n",
    "ib.watch(locals())"
   ]
  },
  {
   "source": [
    "<p><br>\n",
    "\n",
    "##### Show base train/val frame datasets"
   ],
   "cell_type": "markdown",
   "metadata": {}
  },
  {
   "cell_type": "code",
   "execution_count": 12,
   "metadata": {},
   "outputs": [
    {
     "output_type": "display_data",
     "data": {
      "text/plain": "<IPython.core.display.HTML object>",
      "text/html": "\n            <link rel=\"stylesheet\" href=\"https://stackpath.bootstrapcdn.com/bootstrap/4.4.1/css/bootstrap.min.css\" integrity=\"sha384-Vkoo8x4CGsO3+Hhxv8T/Q5PaXtkKtu6ug5TOeNV6gBiFeWPGFN9MuhOf23Q9Ifjh\" crossorigin=\"anonymous\">\n            <div id=\"progress_indicator_02cc17ff9c20278922a76e3273fcd63f\" class=\"spinner-border text-info\" role=\"status\">\n            </div>"
     },
     "metadata": {}
    },
    {
     "output_type": "display_data",
     "data": {
      "application/javascript": "\n        if (typeof window.interactive_beam_jquery == 'undefined') {\n          var jqueryScript = document.createElement('script');\n          jqueryScript.src = 'https://code.jquery.com/jquery-3.4.1.slim.min.js';\n          jqueryScript.type = 'text/javascript';\n          jqueryScript.onload = function() {\n            var datatableScript = document.createElement('script');\n            datatableScript.src = 'https://cdn.datatables.net/1.10.20/js/jquery.dataTables.min.js';\n            datatableScript.type = 'text/javascript';\n            datatableScript.onload = function() {\n              window.interactive_beam_jquery = jQuery.noConflict(true);\n              window.interactive_beam_jquery(document).ready(function($){\n                \n            $(\"#progress_indicator_02cc17ff9c20278922a76e3273fcd63f\").remove();\n              });\n            }\n            document.head.appendChild(datatableScript);\n          };\n          document.head.appendChild(jqueryScript);\n        } else {\n          window.interactive_beam_jquery(document).ready(function($){\n            \n            $(\"#progress_indicator_02cc17ff9c20278922a76e3273fcd63f\").remove();\n          });\n        }"
     },
     "metadata": {}
    }
   ],
   "source": [
    "df_train_frame_sequences__assoc_index = ib.collect(train_frame_sequences__assoc_index)"
   ]
  },
  {
   "cell_type": "code",
   "execution_count": 13,
   "metadata": {},
   "outputs": [
    {
     "output_type": "execute_result",
     "data": {
      "text/plain": [
       "                                                                                                      FrameSequence\n",
       "TokenID CameraPerspective ASLConsultantID TargetVideoFilename        UtteranceSequence TokenSequence               \n",
       "0       0                 2               roadtrip2_1051_small_0.mov 44                0                       5348\n",
       "                                                                                       0                       5349\n",
       "                                                                                       0                       5350\n",
       "                                                                                       0                       5351\n",
       "                                                                                       0                       5352\n",
       "...                                                                                                             ...\n",
       "2397    2                 2               football_1073_small_2.mov  31                5                       3525\n",
       "                                                                                       5                       3526\n",
       "                                                                                       5                       3527\n",
       "                                                                                       5                       3528\n",
       "                                                                                       5                       3529\n",
       "\n",
       "[196769 rows x 1 columns]"
      ],
      "text/html": "<div>\n<style scoped>\n    .dataframe tbody tr th:only-of-type {\n        vertical-align: middle;\n    }\n\n    .dataframe tbody tr th {\n        vertical-align: top;\n    }\n\n    .dataframe thead th {\n        text-align: right;\n    }\n</style>\n<table border=\"1\" class=\"dataframe\">\n  <thead>\n    <tr style=\"text-align: right;\">\n      <th></th>\n      <th></th>\n      <th></th>\n      <th></th>\n      <th></th>\n      <th></th>\n      <th>FrameSequence</th>\n    </tr>\n    <tr>\n      <th>TokenID</th>\n      <th>CameraPerspective</th>\n      <th>ASLConsultantID</th>\n      <th>TargetVideoFilename</th>\n      <th>UtteranceSequence</th>\n      <th>TokenSequence</th>\n      <th></th>\n    </tr>\n  </thead>\n  <tbody>\n    <tr>\n      <th rowspan=\"5\" valign=\"top\">0</th>\n      <th rowspan=\"5\" valign=\"top\">0</th>\n      <th rowspan=\"5\" valign=\"top\">2</th>\n      <th rowspan=\"5\" valign=\"top\">roadtrip2_1051_small_0.mov</th>\n      <th rowspan=\"5\" valign=\"top\">44</th>\n      <th>0</th>\n      <td>5348</td>\n    </tr>\n    <tr>\n      <th>0</th>\n      <td>5349</td>\n    </tr>\n    <tr>\n      <th>0</th>\n      <td>5350</td>\n    </tr>\n    <tr>\n      <th>0</th>\n      <td>5351</td>\n    </tr>\n    <tr>\n      <th>0</th>\n      <td>5352</td>\n    </tr>\n    <tr>\n      <th>...</th>\n      <th>...</th>\n      <th>...</th>\n      <th>...</th>\n      <th>...</th>\n      <th>...</th>\n      <td>...</td>\n    </tr>\n    <tr>\n      <th rowspan=\"5\" valign=\"top\">2397</th>\n      <th rowspan=\"5\" valign=\"top\">2</th>\n      <th rowspan=\"5\" valign=\"top\">2</th>\n      <th rowspan=\"5\" valign=\"top\">football_1073_small_2.mov</th>\n      <th rowspan=\"5\" valign=\"top\">31</th>\n      <th>5</th>\n      <td>3525</td>\n    </tr>\n    <tr>\n      <th>5</th>\n      <td>3526</td>\n    </tr>\n    <tr>\n      <th>5</th>\n      <td>3527</td>\n    </tr>\n    <tr>\n      <th>5</th>\n      <td>3528</td>\n    </tr>\n    <tr>\n      <th>5</th>\n      <td>3529</td>\n    </tr>\n  </tbody>\n</table>\n<p>196769 rows × 1 columns</p>\n</div>"
     },
     "metadata": {},
     "execution_count": 13
    }
   ],
   "source": [
    "df_train_frame_sequences__assoc_index.columns = fidscs_globals.SCHEMA_COL_NAMES__TRAIN_OR_VAL_INDEX\n",
    "df_train_frame_sequences__assoc_index.set_index(fidscs_globals.SCHEMA_PK__TRAIN_OR_VAL_INDEX, inplace=True)\n",
    "df_train_frame_sequences__assoc_index.sort_values(axis=0, by=[fidscs_globals.SCHEMA_COL_NAMES__TRAIN_OR_VAL_INDEX[6]], ignore_index=False, inplace=True)\n",
    "df_train_frame_sequences__assoc_index.sort_index(inplace=True)\n",
    "\n",
    "df_train_frame_sequences__assoc_index"
   ]
  },
  {
   "cell_type": "code",
   "execution_count": 14,
   "metadata": {},
   "outputs": [
    {
     "output_type": "display_data",
     "data": {
      "text/plain": "<IPython.core.display.HTML object>",
      "text/html": "\n            <link rel=\"stylesheet\" href=\"https://stackpath.bootstrapcdn.com/bootstrap/4.4.1/css/bootstrap.min.css\" integrity=\"sha384-Vkoo8x4CGsO3+Hhxv8T/Q5PaXtkKtu6ug5TOeNV6gBiFeWPGFN9MuhOf23Q9Ifjh\" crossorigin=\"anonymous\">\n            <div id=\"progress_indicator_2bd0fcdb8b04b5ff61eb015028e0d615\" class=\"spinner-border text-info\" role=\"status\">\n            </div>"
     },
     "metadata": {}
    },
    {
     "output_type": "display_data",
     "data": {
      "application/javascript": "\n        if (typeof window.interactive_beam_jquery == 'undefined') {\n          var jqueryScript = document.createElement('script');\n          jqueryScript.src = 'https://code.jquery.com/jquery-3.4.1.slim.min.js';\n          jqueryScript.type = 'text/javascript';\n          jqueryScript.onload = function() {\n            var datatableScript = document.createElement('script');\n            datatableScript.src = 'https://cdn.datatables.net/1.10.20/js/jquery.dataTables.min.js';\n            datatableScript.type = 'text/javascript';\n            datatableScript.onload = function() {\n              window.interactive_beam_jquery = jQuery.noConflict(true);\n              window.interactive_beam_jquery(document).ready(function($){\n                \n            $(\"#progress_indicator_2bd0fcdb8b04b5ff61eb015028e0d615\").remove();\n              });\n            }\n            document.head.appendChild(datatableScript);\n          };\n          document.head.appendChild(jqueryScript);\n        } else {\n          window.interactive_beam_jquery(document).ready(function($){\n            \n            $(\"#progress_indicator_2bd0fcdb8b04b5ff61eb015028e0d615\").remove();\n          });\n        }"
     },
     "metadata": {}
    }
   ],
   "source": [
    "df_val_frame_sequences_index = ib.collect(val_frame_sequences_index)"
   ]
  },
  {
   "cell_type": "code",
   "execution_count": 15,
   "metadata": {},
   "outputs": [
    {
     "output_type": "execute_result",
     "data": {
      "text/plain": [
       "                                                                                                       FrameSequence\n",
       "TokenID CameraPerspective ASLConsultantID TargetVideoFilename         UtteranceSequence TokenSequence               \n",
       "0       0                 6               ben_story_441_small_0.mov   33                0                       2437\n",
       "                                                                                        0                       2438\n",
       "                                                                                        0                       2439\n",
       "                                                                                        0                       2440\n",
       "                                                                                        0                       2441\n",
       "...                                                                                                              ...\n",
       "2397    2                 2               lapd_story_1083_small_2.mov 86                8                       6519\n",
       "                                                                                        8                       6520\n",
       "                                                                                        8                       6521\n",
       "                                                                                        8                       6522\n",
       "                                                                                        8                       6523\n",
       "\n",
       "[40465 rows x 1 columns]"
      ],
      "text/html": "<div>\n<style scoped>\n    .dataframe tbody tr th:only-of-type {\n        vertical-align: middle;\n    }\n\n    .dataframe tbody tr th {\n        vertical-align: top;\n    }\n\n    .dataframe thead th {\n        text-align: right;\n    }\n</style>\n<table border=\"1\" class=\"dataframe\">\n  <thead>\n    <tr style=\"text-align: right;\">\n      <th></th>\n      <th></th>\n      <th></th>\n      <th></th>\n      <th></th>\n      <th></th>\n      <th>FrameSequence</th>\n    </tr>\n    <tr>\n      <th>TokenID</th>\n      <th>CameraPerspective</th>\n      <th>ASLConsultantID</th>\n      <th>TargetVideoFilename</th>\n      <th>UtteranceSequence</th>\n      <th>TokenSequence</th>\n      <th></th>\n    </tr>\n  </thead>\n  <tbody>\n    <tr>\n      <th rowspan=\"5\" valign=\"top\">0</th>\n      <th rowspan=\"5\" valign=\"top\">0</th>\n      <th rowspan=\"5\" valign=\"top\">6</th>\n      <th rowspan=\"5\" valign=\"top\">ben_story_441_small_0.mov</th>\n      <th rowspan=\"5\" valign=\"top\">33</th>\n      <th>0</th>\n      <td>2437</td>\n    </tr>\n    <tr>\n      <th>0</th>\n      <td>2438</td>\n    </tr>\n    <tr>\n      <th>0</th>\n      <td>2439</td>\n    </tr>\n    <tr>\n      <th>0</th>\n      <td>2440</td>\n    </tr>\n    <tr>\n      <th>0</th>\n      <td>2441</td>\n    </tr>\n    <tr>\n      <th>...</th>\n      <th>...</th>\n      <th>...</th>\n      <th>...</th>\n      <th>...</th>\n      <th>...</th>\n      <td>...</td>\n    </tr>\n    <tr>\n      <th rowspan=\"5\" valign=\"top\">2397</th>\n      <th rowspan=\"5\" valign=\"top\">2</th>\n      <th rowspan=\"5\" valign=\"top\">2</th>\n      <th rowspan=\"5\" valign=\"top\">lapd_story_1083_small_2.mov</th>\n      <th rowspan=\"5\" valign=\"top\">86</th>\n      <th>8</th>\n      <td>6519</td>\n    </tr>\n    <tr>\n      <th>8</th>\n      <td>6520</td>\n    </tr>\n    <tr>\n      <th>8</th>\n      <td>6521</td>\n    </tr>\n    <tr>\n      <th>8</th>\n      <td>6522</td>\n    </tr>\n    <tr>\n      <th>8</th>\n      <td>6523</td>\n    </tr>\n  </tbody>\n</table>\n<p>40465 rows × 1 columns</p>\n</div>"
     },
     "metadata": {},
     "execution_count": 15
    }
   ],
   "source": [
    "df_val_frame_sequences_index.columns = fidscs_globals.SCHEMA_COL_NAMES__TRAIN_OR_VAL_INDEX\n",
    "df_val_frame_sequences_index.set_index(fidscs_globals.SCHEMA_PK__TRAIN_OR_VAL_INDEX, inplace=True)\n",
    "df_val_frame_sequences_index.sort_values(axis=0, by=[fidscs_globals.SCHEMA_COL_NAMES__TRAIN_OR_VAL_INDEX[6]], ignore_index=False, inplace=True)\n",
    "df_val_frame_sequences_index.sort_index(inplace=True)\n",
    "\n",
    "df_val_frame_sequences_index"
   ]
  },
  {
   "cell_type": "code",
   "execution_count": 16,
   "metadata": {},
   "outputs": [
    {
     "output_type": "display_data",
     "data": {
      "text/plain": "<IPython.core.display.HTML object>",
      "text/html": "\n            <link rel=\"stylesheet\" href=\"https://stackpath.bootstrapcdn.com/bootstrap/4.4.1/css/bootstrap.min.css\" integrity=\"sha384-Vkoo8x4CGsO3+Hhxv8T/Q5PaXtkKtu6ug5TOeNV6gBiFeWPGFN9MuhOf23Q9Ifjh\" crossorigin=\"anonymous\">\n            <div id=\"progress_indicator_95bf21149e0dcbbd8abbc4ae1a5cac49\" class=\"spinner-border text-info\" role=\"status\">\n            </div>"
     },
     "metadata": {}
    },
    {
     "output_type": "display_data",
     "data": {
      "application/javascript": "\n        if (typeof window.interactive_beam_jquery == 'undefined') {\n          var jqueryScript = document.createElement('script');\n          jqueryScript.src = 'https://code.jquery.com/jquery-3.4.1.slim.min.js';\n          jqueryScript.type = 'text/javascript';\n          jqueryScript.onload = function() {\n            var datatableScript = document.createElement('script');\n            datatableScript.src = 'https://cdn.datatables.net/1.10.20/js/jquery.dataTables.min.js';\n            datatableScript.type = 'text/javascript';\n            datatableScript.onload = function() {\n              window.interactive_beam_jquery = jQuery.noConflict(true);\n              window.interactive_beam_jquery(document).ready(function($){\n                \n            $(\"#progress_indicator_95bf21149e0dcbbd8abbc4ae1a5cac49\").remove();\n              });\n            }\n            document.head.appendChild(datatableScript);\n          };\n          document.head.appendChild(jqueryScript);\n        } else {\n          window.interactive_beam_jquery(document).ready(function($){\n            \n            $(\"#progress_indicator_95bf21149e0dcbbd8abbc4ae1a5cac49\").remove();\n          });\n        }"
     },
     "metadata": {}
    }
   ],
   "source": [
    "df_train_frame_sequences_index = ib.collect(train_frame_sequences_index)"
   ]
  },
  {
   "cell_type": "code",
   "execution_count": 17,
   "metadata": {},
   "outputs": [
    {
     "output_type": "execute_result",
     "data": {
      "text/plain": [
       "                                                                                                      FrameSequence\n",
       "TokenID CameraPerspective ASLConsultantID TargetVideoFilename        UtteranceSequence TokenSequence               \n",
       "0       0                 2               roadtrip2_1051_small_0.mov 44                0                       5348\n",
       "                                                                                       0                       5349\n",
       "                                                                                       0                       5350\n",
       "                                                                                       0                       5351\n",
       "                                                                                       0                       5352\n",
       "...                                                                                                             ...\n",
       "2411    2                 2               boston-la_1088_small_2.mov 70                12                     11323\n",
       "                                                                                       12                     11324\n",
       "                                                                                       12                     11325\n",
       "                                                                                       12                     11326\n",
       "                                                                                       12                     11327\n",
       "\n",
       "[250945 rows x 1 columns]"
      ],
      "text/html": "<div>\n<style scoped>\n    .dataframe tbody tr th:only-of-type {\n        vertical-align: middle;\n    }\n\n    .dataframe tbody tr th {\n        vertical-align: top;\n    }\n\n    .dataframe thead th {\n        text-align: right;\n    }\n</style>\n<table border=\"1\" class=\"dataframe\">\n  <thead>\n    <tr style=\"text-align: right;\">\n      <th></th>\n      <th></th>\n      <th></th>\n      <th></th>\n      <th></th>\n      <th></th>\n      <th>FrameSequence</th>\n    </tr>\n    <tr>\n      <th>TokenID</th>\n      <th>CameraPerspective</th>\n      <th>ASLConsultantID</th>\n      <th>TargetVideoFilename</th>\n      <th>UtteranceSequence</th>\n      <th>TokenSequence</th>\n      <th></th>\n    </tr>\n  </thead>\n  <tbody>\n    <tr>\n      <th rowspan=\"5\" valign=\"top\">0</th>\n      <th rowspan=\"5\" valign=\"top\">0</th>\n      <th rowspan=\"5\" valign=\"top\">2</th>\n      <th rowspan=\"5\" valign=\"top\">roadtrip2_1051_small_0.mov</th>\n      <th rowspan=\"5\" valign=\"top\">44</th>\n      <th>0</th>\n      <td>5348</td>\n    </tr>\n    <tr>\n      <th>0</th>\n      <td>5349</td>\n    </tr>\n    <tr>\n      <th>0</th>\n      <td>5350</td>\n    </tr>\n    <tr>\n      <th>0</th>\n      <td>5351</td>\n    </tr>\n    <tr>\n      <th>0</th>\n      <td>5352</td>\n    </tr>\n    <tr>\n      <th>...</th>\n      <th>...</th>\n      <th>...</th>\n      <th>...</th>\n      <th>...</th>\n      <th>...</th>\n      <td>...</td>\n    </tr>\n    <tr>\n      <th rowspan=\"5\" valign=\"top\">2411</th>\n      <th rowspan=\"5\" valign=\"top\">2</th>\n      <th rowspan=\"5\" valign=\"top\">2</th>\n      <th rowspan=\"5\" valign=\"top\">boston-la_1088_small_2.mov</th>\n      <th rowspan=\"5\" valign=\"top\">70</th>\n      <th>12</th>\n      <td>11323</td>\n    </tr>\n    <tr>\n      <th>12</th>\n      <td>11324</td>\n    </tr>\n    <tr>\n      <th>12</th>\n      <td>11325</td>\n    </tr>\n    <tr>\n      <th>12</th>\n      <td>11326</td>\n    </tr>\n    <tr>\n      <th>12</th>\n      <td>11327</td>\n    </tr>\n  </tbody>\n</table>\n<p>250945 rows × 1 columns</p>\n</div>"
     },
     "metadata": {},
     "execution_count": 17
    }
   ],
   "source": [
    "df_train_frame_sequences_index.columns = fidscs_globals.SCHEMA_COL_NAMES__TRAIN_OR_VAL_INDEX\n",
    "df_train_frame_sequences_index.set_index(fidscs_globals.SCHEMA_PK__TRAIN_OR_VAL_INDEX, inplace=True)\n",
    "df_train_frame_sequences_index.sort_values(axis=0, by=[fidscs_globals.SCHEMA_COL_NAMES__TRAIN_OR_VAL_INDEX[6]], ignore_index=False, inplace=True)\n",
    "df_train_frame_sequences_index.sort_index(inplace=True)\n",
    "\n",
    "df_train_frame_sequences_index"
   ]
  },
  {
   "source": [
    "<p><br>\n",
    "\n",
    "##### Show sample of train/val frame datasets with loaded tensors (to demonstrate functional frame-to-tensor extraction)"
   ],
   "cell_type": "markdown",
   "metadata": {}
  },
  {
   "cell_type": "code",
   "execution_count": 18,
   "metadata": {},
   "outputs": [
    {
     "output_type": "display_data",
     "data": {
      "text/plain": "<IPython.core.display.HTML object>",
      "text/html": "\n            <link rel=\"stylesheet\" href=\"https://stackpath.bootstrapcdn.com/bootstrap/4.4.1/css/bootstrap.min.css\" integrity=\"sha384-Vkoo8x4CGsO3+Hhxv8T/Q5PaXtkKtu6ug5TOeNV6gBiFeWPGFN9MuhOf23Q9Ifjh\" crossorigin=\"anonymous\">\n            <div id=\"progress_indicator_d02ecf34f02ed81eb32dff917313924f\" class=\"spinner-border text-info\" role=\"status\">\n            </div>"
     },
     "metadata": {}
    },
    {
     "output_type": "display_data",
     "data": {
      "application/javascript": "\n        if (typeof window.interactive_beam_jquery == 'undefined') {\n          var jqueryScript = document.createElement('script');\n          jqueryScript.src = 'https://code.jquery.com/jquery-3.4.1.slim.min.js';\n          jqueryScript.type = 'text/javascript';\n          jqueryScript.onload = function() {\n            var datatableScript = document.createElement('script');\n            datatableScript.src = 'https://cdn.datatables.net/1.10.20/js/jquery.dataTables.min.js';\n            datatableScript.type = 'text/javascript';\n            datatableScript.onload = function() {\n              window.interactive_beam_jquery = jQuery.noConflict(true);\n              window.interactive_beam_jquery(document).ready(function($){\n                \n            $(\"#progress_indicator_d02ecf34f02ed81eb32dff917313924f\").remove();\n              });\n            }\n            document.head.appendChild(datatableScript);\n          };\n          document.head.appendChild(jqueryScript);\n        } else {\n          window.interactive_beam_jquery(document).ready(function($){\n            \n            $(\"#progress_indicator_d02ecf34f02ed81eb32dff917313924f\").remove();\n          });\n        }"
     },
     "metadata": {}
    }
   ],
   "source": [
    "df_train_frame_sequences__assoc_index__sample__with_frame_tensors = ib.collect(train_frame_sequences__assoc_index__sample__with_frame_tensors)"
   ]
  },
  {
   "cell_type": "code",
   "execution_count": 19,
   "metadata": {},
   "outputs": [
    {
     "output_type": "execute_result",
     "data": {
      "text/plain": [
       "                                                                                             TokenID  \\\n",
       "ASLConsultantID TargetVideoFilename       CameraPerspective UtteranceSequence TokenSequence            \n",
       "2               football_1073_small_0.mov 0                 31                5                 2397   \n",
       "                                                                              5                 2397   \n",
       "                                                                              5                 2397   \n",
       "                                                                              5                 2397   \n",
       "                                                                              5                 2397   \n",
       "                                                                              5                 2397   \n",
       "                football_1073_small_2.mov 2                 31                5                 2397   \n",
       "                                                                              5                 2397   \n",
       "                                                                              5                 2397   \n",
       "                                                                              5                 2397   \n",
       "                                                                              5                 2397   \n",
       "                                                                              5                 2397   \n",
       "5               DSP%2520DeadDog.mov       0                 23                4                 2379   \n",
       "                                                                              4                 2379   \n",
       "                                                                              4                 2379   \n",
       "                                                                              4                 2379   \n",
       "                                                                              4                 2379   \n",
       "                                                                              4                 2379   \n",
       "                                                                              4                 2379   \n",
       "                                                                              4                 2379   \n",
       "                                                                              4                 2379   \n",
       "                                                                              4                 2379   \n",
       "6               ben_story_443_small_0.mov 0                 21                3                 2360   \n",
       "                ben_story_443_small_1.mov 1                 21                3                 2360   \n",
       "                                                                              3                 2360   \n",
       "                                                                              3                 2360   \n",
       "                                                                              3                 2360   \n",
       "                ben_story_443_small_2.mov 2                 21                3                 2360   \n",
       "                                                                              3                 2360   \n",
       "                                                                              3                 2360   \n",
       "                                                                              3                 2360   \n",
       "                ben_story_443_small_3.mov 3                 11                2                 2360   \n",
       "                                                                              2                 2360   \n",
       "                                                                              2                 2360   \n",
       "                                                                              2                 2360   \n",
       "                                                                              2                 2360   \n",
       "                                                                              2                 2360   \n",
       "                                                                              2                 2360   \n",
       "                                                                              2                 2360   \n",
       "7               DSP%2520Immigrants.mov    0                 9                 3                 2387   \n",
       "                                                                              3                 2387   \n",
       "                                                                              3                 2387   \n",
       "                                                                              3                 2387   \n",
       "                                                                              3                 2387   \n",
       "                                                                              3                 2387   \n",
       "                                                                              3                 2387   \n",
       "                                                                              3                 2387   \n",
       "                                                                              3                 2387   \n",
       "                                                                              3                 2387   \n",
       "                                                                              3                 2387   \n",
       "\n",
       "                                                                                             FrameSequence  \\\n",
       "ASLConsultantID TargetVideoFilename       CameraPerspective UtteranceSequence TokenSequence                  \n",
       "2               football_1073_small_0.mov 0                 31                5                       3524   \n",
       "                                                                              5                       3525   \n",
       "                                                                              5                       3526   \n",
       "                                                                              5                       3527   \n",
       "                                                                              5                       3528   \n",
       "                                                                              5                       3529   \n",
       "                football_1073_small_2.mov 2                 31                5                       3524   \n",
       "                                                                              5                       3525   \n",
       "                                                                              5                       3526   \n",
       "                                                                              5                       3527   \n",
       "                                                                              5                       3528   \n",
       "                                                                              5                       3529   \n",
       "5               DSP%2520DeadDog.mov       0                 23                4                       2699   \n",
       "                                                                              4                       2700   \n",
       "                                                                              4                       2701   \n",
       "                                                                              4                       2702   \n",
       "                                                                              4                       2703   \n",
       "                                                                              4                       2704   \n",
       "                                                                              4                       2705   \n",
       "                                                                              4                       2706   \n",
       "                                                                              4                       2707   \n",
       "                                                                              4                       2708   \n",
       "6               ben_story_443_small_0.mov 0                 21                3                       1876   \n",
       "                ben_story_443_small_1.mov 1                 21                3                       1873   \n",
       "                                                                              3                       1874   \n",
       "                                                                              3                       1875   \n",
       "                                                                              3                       1876   \n",
       "                ben_story_443_small_2.mov 2                 21                3                       1873   \n",
       "                                                                              3                       1874   \n",
       "                                                                              3                       1875   \n",
       "                                                                              3                       1876   \n",
       "                ben_story_443_small_3.mov 3                 11                2                        944   \n",
       "                                                                              2                        945   \n",
       "                                                                              2                        946   \n",
       "                                                                              2                        947   \n",
       "                                                                              2                        948   \n",
       "                                                                              2                        949   \n",
       "                                                                              2                        950   \n",
       "                                                                              2                        951   \n",
       "7               DSP%2520Immigrants.mov    0                 9                 3                        958   \n",
       "                                                                              3                        959   \n",
       "                                                                              3                        960   \n",
       "                                                                              3                        961   \n",
       "                                                                              3                        962   \n",
       "                                                                              3                        963   \n",
       "                                                                              3                        964   \n",
       "                                                                              3                        965   \n",
       "                                                                              3                        966   \n",
       "                                                                              3                        967   \n",
       "                                                                              3                        968   \n",
       "\n",
       "                                                                                                                                   FrameTensor  \n",
       "ASLConsultantID TargetVideoFilename       CameraPerspective UtteranceSequence TokenSequence                                                     \n",
       "2               football_1073_small_0.mov 0                 31                5              [[[[0.         0.00392157 0.19215687], [0.    ...  \n",
       "                                                                              5              [[[[0.         0.         0.18039216], [0.    ...  \n",
       "                                                                              5              [[[[0.         0.00392157 0.19215687], [0.    ...  \n",
       "                                                                              5              [[[[0.01176471 0.00392157 0.2       ], [0.  0....  \n",
       "                                                                              5              [[[[0.00784314 0.00784314 0.21176471], [0.    ...  \n",
       "                                                                              5              [[[[0.00392157 0.00392157 0.2       ], [0.    ...  \n",
       "                football_1073_small_2.mov 2                 31                5              [[[[0.00392157 0.00392157 0.14509805], [0.    ...  \n",
       "                                                                              5              [[[[0.00784314 0.00392157 0.13725491], [0.0078...  \n",
       "                                                                              5              [[[[0.00784314 0.00392157 0.1254902 ], [0.0039...  \n",
       "                                                                              5              [[[[0.00784314 0.00392157 0.1254902 ], [0.0039...  \n",
       "                                                                              5              [[[[0.00784314 0.00392157 0.1254902 ], [0.0078...  \n",
       "                                                                              5              [[[[0.00392157 0.00784314 0.1254902 ], [0.    ...  \n",
       "5               DSP%2520DeadDog.mov       0                 23                4              [[[[0.01568628 0.         0.        ], [0.0156...  \n",
       "                                                                              4              [[[[0.00392157 0.01176471 0.        ], [0.    ...  \n",
       "                                                                              4              [[[[0.00784314 0.01568628 0.01176471], [0.    ...  \n",
       "                                                                              4              [[[[0.00392157 0.         0.01960784], [0.0039...  \n",
       "                                                                              4              [[[[0.00392157 0.00784314 0.        ], [0.    ...  \n",
       "                                                                              4              [[[[0.         0.00392157 0.        ], [0.0078...  \n",
       "                                                                              4              [[[[0.         0.00784314 0.01176471], [0. 0. ...  \n",
       "                                                                              4              [[[[0. 0. 0.], [0.00784314 0.         0.003921...  \n",
       "                                                                              4              [[[[0.         0.00392157 0.        ], [0. 0. ...  \n",
       "                                                                              4              [[[[0.         0.00392157 0.        ], [0.0078...  \n",
       "6               ben_story_443_small_0.mov 0                 21                3              [[[[0.19607843 0.1882353  0.2       ], [0.1725...  \n",
       "                ben_story_443_small_1.mov 1                 21                3              [[[[0.05490196 0.04705882 0.05882353], [0.0901...  \n",
       "                                                                              3              [[[[0.05490196 0.04705882 0.05882353], [0.0901...  \n",
       "                                                                              3              [[[[0.05490196 0.04705882 0.05882353], [0.0901...  \n",
       "                                                                              3              [[[[0.05490196 0.04705882 0.05882353], [0.0901...  \n",
       "                ben_story_443_small_2.mov 2                 21                3              [[[[0.0627451  0.04313726 0.16862746], [0.0705...  \n",
       "                                                                              3              [[[[0.0627451  0.04313726 0.16862746], [0.0745...  \n",
       "                                                                              3              [[[[0.05490196 0.03529412 0.16078432], [0.0705...  \n",
       "                                                                              3              [[[[0.06666667 0.04705882 0.16470589], [0.0784...  \n",
       "                ben_story_443_small_3.mov 3                 11                2              [[[[0.11372549 0.10588235 0.11764706], [0.1411...  \n",
       "                                                                              2              [[[[0.11764706 0.10980392 0.12156863], [0.1372...  \n",
       "                                                                              2              [[[[0.12156863 0.11372549 0.1254902 ], [0.1450...  \n",
       "                                                                              2              [[[[0.12156863 0.11372549 0.1254902 ], [0.1450...  \n",
       "                                                                              2              [[[[0.12156863 0.11372549 0.1254902 ], [0.1450...  \n",
       "                                                                              2              [[[[0.12156863 0.11372549 0.1254902 ], [0.1450...  \n",
       "                                                                              2              [[[[0.12156863 0.11372549 0.1254902 ], [0.1450...  \n",
       "                                                                              2              [[[[0.12156863 0.11372549 0.1254902 ], [0.1450...  \n",
       "7               DSP%2520Immigrants.mov    0                 9                 3              [[[[0.24313726 0.20784314 0.18039216], [0.2352...  \n",
       "                                                                              3              [[[[0.25882354 0.20784314 0.18431373], [0.2509...  \n",
       "                                                                              3              [[[[0.21568628 0.1882353  0.15686275], [0.2313...  \n",
       "                                                                              3              [[[[0.22352941 0.18431373 0.1882353 ], [0.2352...  \n",
       "                                                                              3              [[[[0.21568628 0.19215687 0.19215687], [0.2313...  \n",
       "                                                                              3              [[[[0.24705882 0.20392157 0.1882353 ], [0.2470...  \n",
       "                                                                              3              [[[[0.24705882 0.19607843 0.17254902], [0.2470...  \n",
       "                                                                              3              [[[[0.25490198 0.19215687 0.19215687], [0.2549...  \n",
       "                                                                              3              [[[[0.24313726 0.1882353  0.1764706 ], [0.2313...  \n",
       "                                                                              3              [[[[0.24313726 0.20392157 0.16862746], [0.2509...  \n",
       "                                                                              3              [[[[0.23921569 0.19607843 0.17254902], [0.2431...  "
      ],
      "text/html": "<div>\n<style scoped>\n    .dataframe tbody tr th:only-of-type {\n        vertical-align: middle;\n    }\n\n    .dataframe tbody tr th {\n        vertical-align: top;\n    }\n\n    .dataframe thead th {\n        text-align: right;\n    }\n</style>\n<table border=\"1\" class=\"dataframe\">\n  <thead>\n    <tr style=\"text-align: right;\">\n      <th></th>\n      <th></th>\n      <th></th>\n      <th></th>\n      <th></th>\n      <th>TokenID</th>\n      <th>FrameSequence</th>\n      <th>FrameTensor</th>\n    </tr>\n    <tr>\n      <th>ASLConsultantID</th>\n      <th>TargetVideoFilename</th>\n      <th>CameraPerspective</th>\n      <th>UtteranceSequence</th>\n      <th>TokenSequence</th>\n      <th></th>\n      <th></th>\n      <th></th>\n    </tr>\n  </thead>\n  <tbody>\n    <tr>\n      <th rowspan=\"12\" valign=\"top\">2</th>\n      <th rowspan=\"6\" valign=\"top\">football_1073_small_0.mov</th>\n      <th rowspan=\"6\" valign=\"top\">0</th>\n      <th rowspan=\"6\" valign=\"top\">31</th>\n      <th>5</th>\n      <td>2397</td>\n      <td>3524</td>\n      <td>[[[[0.         0.00392157 0.19215687], [0.    ...</td>\n    </tr>\n    <tr>\n      <th>5</th>\n      <td>2397</td>\n      <td>3525</td>\n      <td>[[[[0.         0.         0.18039216], [0.    ...</td>\n    </tr>\n    <tr>\n      <th>5</th>\n      <td>2397</td>\n      <td>3526</td>\n      <td>[[[[0.         0.00392157 0.19215687], [0.    ...</td>\n    </tr>\n    <tr>\n      <th>5</th>\n      <td>2397</td>\n      <td>3527</td>\n      <td>[[[[0.01176471 0.00392157 0.2       ], [0.  0....</td>\n    </tr>\n    <tr>\n      <th>5</th>\n      <td>2397</td>\n      <td>3528</td>\n      <td>[[[[0.00784314 0.00784314 0.21176471], [0.    ...</td>\n    </tr>\n    <tr>\n      <th>5</th>\n      <td>2397</td>\n      <td>3529</td>\n      <td>[[[[0.00392157 0.00392157 0.2       ], [0.    ...</td>\n    </tr>\n    <tr>\n      <th rowspan=\"6\" valign=\"top\">football_1073_small_2.mov</th>\n      <th rowspan=\"6\" valign=\"top\">2</th>\n      <th rowspan=\"6\" valign=\"top\">31</th>\n      <th>5</th>\n      <td>2397</td>\n      <td>3524</td>\n      <td>[[[[0.00392157 0.00392157 0.14509805], [0.    ...</td>\n    </tr>\n    <tr>\n      <th>5</th>\n      <td>2397</td>\n      <td>3525</td>\n      <td>[[[[0.00784314 0.00392157 0.13725491], [0.0078...</td>\n    </tr>\n    <tr>\n      <th>5</th>\n      <td>2397</td>\n      <td>3526</td>\n      <td>[[[[0.00784314 0.00392157 0.1254902 ], [0.0039...</td>\n    </tr>\n    <tr>\n      <th>5</th>\n      <td>2397</td>\n      <td>3527</td>\n      <td>[[[[0.00784314 0.00392157 0.1254902 ], [0.0039...</td>\n    </tr>\n    <tr>\n      <th>5</th>\n      <td>2397</td>\n      <td>3528</td>\n      <td>[[[[0.00784314 0.00392157 0.1254902 ], [0.0078...</td>\n    </tr>\n    <tr>\n      <th>5</th>\n      <td>2397</td>\n      <td>3529</td>\n      <td>[[[[0.00392157 0.00784314 0.1254902 ], [0.    ...</td>\n    </tr>\n    <tr>\n      <th rowspan=\"10\" valign=\"top\">5</th>\n      <th rowspan=\"10\" valign=\"top\">DSP%2520DeadDog.mov</th>\n      <th rowspan=\"10\" valign=\"top\">0</th>\n      <th rowspan=\"10\" valign=\"top\">23</th>\n      <th>4</th>\n      <td>2379</td>\n      <td>2699</td>\n      <td>[[[[0.01568628 0.         0.        ], [0.0156...</td>\n    </tr>\n    <tr>\n      <th>4</th>\n      <td>2379</td>\n      <td>2700</td>\n      <td>[[[[0.00392157 0.01176471 0.        ], [0.    ...</td>\n    </tr>\n    <tr>\n      <th>4</th>\n      <td>2379</td>\n      <td>2701</td>\n      <td>[[[[0.00784314 0.01568628 0.01176471], [0.    ...</td>\n    </tr>\n    <tr>\n      <th>4</th>\n      <td>2379</td>\n      <td>2702</td>\n      <td>[[[[0.00392157 0.         0.01960784], [0.0039...</td>\n    </tr>\n    <tr>\n      <th>4</th>\n      <td>2379</td>\n      <td>2703</td>\n      <td>[[[[0.00392157 0.00784314 0.        ], [0.    ...</td>\n    </tr>\n    <tr>\n      <th>4</th>\n      <td>2379</td>\n      <td>2704</td>\n      <td>[[[[0.         0.00392157 0.        ], [0.0078...</td>\n    </tr>\n    <tr>\n      <th>4</th>\n      <td>2379</td>\n      <td>2705</td>\n      <td>[[[[0.         0.00784314 0.01176471], [0. 0. ...</td>\n    </tr>\n    <tr>\n      <th>4</th>\n      <td>2379</td>\n      <td>2706</td>\n      <td>[[[[0. 0. 0.], [0.00784314 0.         0.003921...</td>\n    </tr>\n    <tr>\n      <th>4</th>\n      <td>2379</td>\n      <td>2707</td>\n      <td>[[[[0.         0.00392157 0.        ], [0. 0. ...</td>\n    </tr>\n    <tr>\n      <th>4</th>\n      <td>2379</td>\n      <td>2708</td>\n      <td>[[[[0.         0.00392157 0.        ], [0.0078...</td>\n    </tr>\n    <tr>\n      <th rowspan=\"17\" valign=\"top\">6</th>\n      <th>ben_story_443_small_0.mov</th>\n      <th>0</th>\n      <th>21</th>\n      <th>3</th>\n      <td>2360</td>\n      <td>1876</td>\n      <td>[[[[0.19607843 0.1882353  0.2       ], [0.1725...</td>\n    </tr>\n    <tr>\n      <th rowspan=\"4\" valign=\"top\">ben_story_443_small_1.mov</th>\n      <th rowspan=\"4\" valign=\"top\">1</th>\n      <th rowspan=\"4\" valign=\"top\">21</th>\n      <th>3</th>\n      <td>2360</td>\n      <td>1873</td>\n      <td>[[[[0.05490196 0.04705882 0.05882353], [0.0901...</td>\n    </tr>\n    <tr>\n      <th>3</th>\n      <td>2360</td>\n      <td>1874</td>\n      <td>[[[[0.05490196 0.04705882 0.05882353], [0.0901...</td>\n    </tr>\n    <tr>\n      <th>3</th>\n      <td>2360</td>\n      <td>1875</td>\n      <td>[[[[0.05490196 0.04705882 0.05882353], [0.0901...</td>\n    </tr>\n    <tr>\n      <th>3</th>\n      <td>2360</td>\n      <td>1876</td>\n      <td>[[[[0.05490196 0.04705882 0.05882353], [0.0901...</td>\n    </tr>\n    <tr>\n      <th rowspan=\"4\" valign=\"top\">ben_story_443_small_2.mov</th>\n      <th rowspan=\"4\" valign=\"top\">2</th>\n      <th rowspan=\"4\" valign=\"top\">21</th>\n      <th>3</th>\n      <td>2360</td>\n      <td>1873</td>\n      <td>[[[[0.0627451  0.04313726 0.16862746], [0.0705...</td>\n    </tr>\n    <tr>\n      <th>3</th>\n      <td>2360</td>\n      <td>1874</td>\n      <td>[[[[0.0627451  0.04313726 0.16862746], [0.0745...</td>\n    </tr>\n    <tr>\n      <th>3</th>\n      <td>2360</td>\n      <td>1875</td>\n      <td>[[[[0.05490196 0.03529412 0.16078432], [0.0705...</td>\n    </tr>\n    <tr>\n      <th>3</th>\n      <td>2360</td>\n      <td>1876</td>\n      <td>[[[[0.06666667 0.04705882 0.16470589], [0.0784...</td>\n    </tr>\n    <tr>\n      <th rowspan=\"8\" valign=\"top\">ben_story_443_small_3.mov</th>\n      <th rowspan=\"8\" valign=\"top\">3</th>\n      <th rowspan=\"8\" valign=\"top\">11</th>\n      <th>2</th>\n      <td>2360</td>\n      <td>944</td>\n      <td>[[[[0.11372549 0.10588235 0.11764706], [0.1411...</td>\n    </tr>\n    <tr>\n      <th>2</th>\n      <td>2360</td>\n      <td>945</td>\n      <td>[[[[0.11764706 0.10980392 0.12156863], [0.1372...</td>\n    </tr>\n    <tr>\n      <th>2</th>\n      <td>2360</td>\n      <td>946</td>\n      <td>[[[[0.12156863 0.11372549 0.1254902 ], [0.1450...</td>\n    </tr>\n    <tr>\n      <th>2</th>\n      <td>2360</td>\n      <td>947</td>\n      <td>[[[[0.12156863 0.11372549 0.1254902 ], [0.1450...</td>\n    </tr>\n    <tr>\n      <th>2</th>\n      <td>2360</td>\n      <td>948</td>\n      <td>[[[[0.12156863 0.11372549 0.1254902 ], [0.1450...</td>\n    </tr>\n    <tr>\n      <th>2</th>\n      <td>2360</td>\n      <td>949</td>\n      <td>[[[[0.12156863 0.11372549 0.1254902 ], [0.1450...</td>\n    </tr>\n    <tr>\n      <th>2</th>\n      <td>2360</td>\n      <td>950</td>\n      <td>[[[[0.12156863 0.11372549 0.1254902 ], [0.1450...</td>\n    </tr>\n    <tr>\n      <th>2</th>\n      <td>2360</td>\n      <td>951</td>\n      <td>[[[[0.12156863 0.11372549 0.1254902 ], [0.1450...</td>\n    </tr>\n    <tr>\n      <th rowspan=\"11\" valign=\"top\">7</th>\n      <th rowspan=\"11\" valign=\"top\">DSP%2520Immigrants.mov</th>\n      <th rowspan=\"11\" valign=\"top\">0</th>\n      <th rowspan=\"11\" valign=\"top\">9</th>\n      <th>3</th>\n      <td>2387</td>\n      <td>958</td>\n      <td>[[[[0.24313726 0.20784314 0.18039216], [0.2352...</td>\n    </tr>\n    <tr>\n      <th>3</th>\n      <td>2387</td>\n      <td>959</td>\n      <td>[[[[0.25882354 0.20784314 0.18431373], [0.2509...</td>\n    </tr>\n    <tr>\n      <th>3</th>\n      <td>2387</td>\n      <td>960</td>\n      <td>[[[[0.21568628 0.1882353  0.15686275], [0.2313...</td>\n    </tr>\n    <tr>\n      <th>3</th>\n      <td>2387</td>\n      <td>961</td>\n      <td>[[[[0.22352941 0.18431373 0.1882353 ], [0.2352...</td>\n    </tr>\n    <tr>\n      <th>3</th>\n      <td>2387</td>\n      <td>962</td>\n      <td>[[[[0.21568628 0.19215687 0.19215687], [0.2313...</td>\n    </tr>\n    <tr>\n      <th>3</th>\n      <td>2387</td>\n      <td>963</td>\n      <td>[[[[0.24705882 0.20392157 0.1882353 ], [0.2470...</td>\n    </tr>\n    <tr>\n      <th>3</th>\n      <td>2387</td>\n      <td>964</td>\n      <td>[[[[0.24705882 0.19607843 0.17254902], [0.2470...</td>\n    </tr>\n    <tr>\n      <th>3</th>\n      <td>2387</td>\n      <td>965</td>\n      <td>[[[[0.25490198 0.19215687 0.19215687], [0.2549...</td>\n    </tr>\n    <tr>\n      <th>3</th>\n      <td>2387</td>\n      <td>966</td>\n      <td>[[[[0.24313726 0.1882353  0.1764706 ], [0.2313...</td>\n    </tr>\n    <tr>\n      <th>3</th>\n      <td>2387</td>\n      <td>967</td>\n      <td>[[[[0.24313726 0.20392157 0.16862746], [0.2509...</td>\n    </tr>\n    <tr>\n      <th>3</th>\n      <td>2387</td>\n      <td>968</td>\n      <td>[[[[0.23921569 0.19607843 0.17254902], [0.2431...</td>\n    </tr>\n  </tbody>\n</table>\n</div>"
     },
     "metadata": {},
     "execution_count": 19
    }
   ],
   "source": [
    "df_train_frame_sequences__assoc_index__sample__with_frame_tensors.columns = fidscs_globals.SCHEMA_COL_NAMES__TRAIN_OR_VAL_INDEX + ['FrameTensor']\n",
    "df_train_frame_sequences__assoc_index__sample__with_frame_tensors.set_index(['ASLConsultantID', 'TargetVideoFilename', 'CameraPerspective', 'UtteranceSequence', 'TokenSequence'], inplace=True)\n",
    "df_train_frame_sequences__assoc_index__sample__with_frame_tensors.sort_values(axis=0, by=[fidscs_globals.SCHEMA_COL_NAMES__TRAIN_OR_VAL_INDEX[6]], ignore_index=False, inplace=True)\n",
    "df_train_frame_sequences__assoc_index__sample__with_frame_tensors.sort_index(inplace=True)\n",
    "\n",
    "df_train_frame_sequences__assoc_index__sample__with_frame_tensors"
   ]
  },
  {
   "cell_type": "code",
   "execution_count": 20,
   "metadata": {},
   "outputs": [
    {
     "output_type": "display_data",
     "data": {
      "text/plain": "<IPython.core.display.HTML object>",
      "text/html": "\n            <link rel=\"stylesheet\" href=\"https://stackpath.bootstrapcdn.com/bootstrap/4.4.1/css/bootstrap.min.css\" integrity=\"sha384-Vkoo8x4CGsO3+Hhxv8T/Q5PaXtkKtu6ug5TOeNV6gBiFeWPGFN9MuhOf23Q9Ifjh\" crossorigin=\"anonymous\">\n            <div id=\"progress_indicator_35d009a24dbe718a91b8b2442c1c28d5\" class=\"spinner-border text-info\" role=\"status\">\n            </div>"
     },
     "metadata": {}
    },
    {
     "output_type": "display_data",
     "data": {
      "application/javascript": "\n        if (typeof window.interactive_beam_jquery == 'undefined') {\n          var jqueryScript = document.createElement('script');\n          jqueryScript.src = 'https://code.jquery.com/jquery-3.4.1.slim.min.js';\n          jqueryScript.type = 'text/javascript';\n          jqueryScript.onload = function() {\n            var datatableScript = document.createElement('script');\n            datatableScript.src = 'https://cdn.datatables.net/1.10.20/js/jquery.dataTables.min.js';\n            datatableScript.type = 'text/javascript';\n            datatableScript.onload = function() {\n              window.interactive_beam_jquery = jQuery.noConflict(true);\n              window.interactive_beam_jquery(document).ready(function($){\n                \n            $(\"#progress_indicator_35d009a24dbe718a91b8b2442c1c28d5\").remove();\n              });\n            }\n            document.head.appendChild(datatableScript);\n          };\n          document.head.appendChild(jqueryScript);\n        } else {\n          window.interactive_beam_jquery(document).ready(function($){\n            \n            $(\"#progress_indicator_35d009a24dbe718a91b8b2442c1c28d5\").remove();\n          });\n        }"
     },
     "metadata": {}
    }
   ],
   "source": [
    "df_val_frame_sequences_index__sample__with_frame_tensors = ib.collect(val_frame_sequences_index__sample__with_frame_tensors)"
   ]
  },
  {
   "cell_type": "code",
   "execution_count": 21,
   "metadata": {},
   "outputs": [
    {
     "output_type": "execute_result",
     "data": {
      "text/plain": [
       "                                                                                               TokenID  \\\n",
       "ASLConsultantID TargetVideoFilename         CameraPerspective UtteranceSequence TokenSequence            \n",
       "2               lapd_story_1083_small_0.mov 0                 86                8                 2397   \n",
       "                                                                                8                 2397   \n",
       "                                                                                8                 2397   \n",
       "                                                                                8                 2397   \n",
       "                                                                                8                 2397   \n",
       "                                                                                8                 2397   \n",
       "                                                                                8                 2397   \n",
       "                                                                                8                 2397   \n",
       "                                                                                8                 2397   \n",
       "                                                                                8                 2397   \n",
       "                lapd_story_1083_small_2.mov 2                 86                8                 2397   \n",
       "                                                                                8                 2397   \n",
       "                                                                                8                 2397   \n",
       "                                                                                8                 2397   \n",
       "                                                                                8                 2397   \n",
       "                                                                                8                 2397   \n",
       "                                                                                8                 2397   \n",
       "                                                                                8                 2397   \n",
       "                                                                                8                 2397   \n",
       "                                                                                8                 2397   \n",
       "5               DSP%2520DeadDog.mov         0                 24                1                 2379   \n",
       "                                                                                1                 2379   \n",
       "                                                                                1                 2379   \n",
       "                                                                                1                 2379   \n",
       "                                                                                1                 2379   \n",
       "                                                                                1                 2379   \n",
       "                                                                                1                 2379   \n",
       "                                                                                1                 2379   \n",
       "                                                                                1                 2379   \n",
       "                                                                                1                 2379   \n",
       "                                                                                1                 2379   \n",
       "6               ben_story_443_small_2.mov   2                 11                2                 2360   \n",
       "                                                                                2                 2360   \n",
       "                                                                                2                 2360   \n",
       "                                                                                2                 2360   \n",
       "                                                                                2                 2360   \n",
       "                                                                                2                 2360   \n",
       "                ben_story_443_small_3.mov   3                 21                3                 2360   \n",
       "                                                                                3                 2360   \n",
       "                                                                                3                 2360   \n",
       "                                                                                3                 2360   \n",
       "7               DSP%2520Immigrants.mov      0                 20                4                 2387   \n",
       "                                                                                4                 2387   \n",
       "                                                                                4                 2387   \n",
       "                                                                                4                 2387   \n",
       "                                                                                4                 2387   \n",
       "                                                                                4                 2387   \n",
       "                                                                                4                 2387   \n",
       "                                                                                4                 2387   \n",
       "                                                                                4                 2387   \n",
       "\n",
       "                                                                                               FrameSequence  \\\n",
       "ASLConsultantID TargetVideoFilename         CameraPerspective UtteranceSequence TokenSequence                  \n",
       "2               lapd_story_1083_small_0.mov 0                 86                8                       6514   \n",
       "                                                                                8                       6515   \n",
       "                                                                                8                       6516   \n",
       "                                                                                8                       6517   \n",
       "                                                                                8                       6518   \n",
       "                                                                                8                       6519   \n",
       "                                                                                8                       6520   \n",
       "                                                                                8                       6521   \n",
       "                                                                                8                       6522   \n",
       "                                                                                8                       6523   \n",
       "                lapd_story_1083_small_2.mov 2                 86                8                       6514   \n",
       "                                                                                8                       6515   \n",
       "                                                                                8                       6516   \n",
       "                                                                                8                       6517   \n",
       "                                                                                8                       6518   \n",
       "                                                                                8                       6519   \n",
       "                                                                                8                       6520   \n",
       "                                                                                8                       6521   \n",
       "                                                                                8                       6522   \n",
       "                                                                                8                       6523   \n",
       "5               DSP%2520DeadDog.mov         0                 24                1                       2759   \n",
       "                                                                                1                       2760   \n",
       "                                                                                1                       2761   \n",
       "                                                                                1                       2762   \n",
       "                                                                                1                       2763   \n",
       "                                                                                1                       2764   \n",
       "                                                                                1                       2765   \n",
       "                                                                                1                       2766   \n",
       "                                                                                1                       2767   \n",
       "                                                                                1                       2768   \n",
       "                                                                                1                       2769   \n",
       "6               ben_story_443_small_2.mov   2                 11                2                        946   \n",
       "                                                                                2                        947   \n",
       "                                                                                2                        948   \n",
       "                                                                                2                        949   \n",
       "                                                                                2                        950   \n",
       "                                                                                2                        951   \n",
       "                ben_story_443_small_3.mov   3                 21                3                       1873   \n",
       "                                                                                3                       1874   \n",
       "                                                                                3                       1875   \n",
       "                                                                                3                       1876   \n",
       "7               DSP%2520Immigrants.mov      0                 20                4                       2052   \n",
       "                                                                                4                       2053   \n",
       "                                                                                4                       2054   \n",
       "                                                                                4                       2055   \n",
       "                                                                                4                       2056   \n",
       "                                                                                4                       2057   \n",
       "                                                                                4                       2058   \n",
       "                                                                                4                       2059   \n",
       "                                                                                4                       2060   \n",
       "\n",
       "                                                                                                                                     FrameTensor  \n",
       "ASLConsultantID TargetVideoFilename         CameraPerspective UtteranceSequence TokenSequence                                                     \n",
       "2               lapd_story_1083_small_0.mov 0                 86                8              [[[[0.         0.00392157 0.18039216], [0.    ...  \n",
       "                                                                                8              [[[[0.         0.00784314 0.18431373], [0.0039...  \n",
       "                                                                                8              [[[[0.         0.         0.18039216], [0.0039...  \n",
       "                                                                                8              [[[[0.         0.00392157 0.18431373], [0.    ...  \n",
       "                                                                                8              [[[[0.         0.00392157 0.18431373], [0.    ...  \n",
       "                                                                                8              [[[[0.         0.00392157 0.18431373], [0.0039...  \n",
       "                                                                                8              [[[[0.         0.00392157 0.20392157], [0.    ...  \n",
       "                                                                                8              [[[[0.00784314 0.01176471 0.18431373], [0.0039...  \n",
       "                                                                                8              [[[[0.00784314 0.01176471 0.18431373], [0.    ...  \n",
       "                                                                                8              [[[[0.         0.00392157 0.18431373], [0.    ...  \n",
       "                lapd_story_1083_small_2.mov 2                 86                8              [[[[0.00392157 0.         0.1254902 ], [0.0039...  \n",
       "                                                                                8              [[[[0.         0.         0.14117648], [0.    ...  \n",
       "                                                                                8              [[[[0.         0.         0.13333334], [0.    ...  \n",
       "                                                                                8              [[[[0.00392157 0.00392157 0.13725491], [0.    ...  \n",
       "                                                                                8              [[[[0.00392157 0.00392157 0.13725491], [0.    ...  \n",
       "                                                                                8              [[[[0.00392157 0.00392157 0.14509805], [0.    ...  \n",
       "                                                                                8              [[[[0.00392157 0.00392157 0.14509805], [0.    ...  \n",
       "                                                                                8              [[[[0.00392157 0.         0.13333334], [0.0117...  \n",
       "                                                                                8              [[[[0.00784314 0.00392157 0.13725491], [0.0078...  \n",
       "                                                                                8              [[[[0.00784314 0.         0.14509805], [0.0039...  \n",
       "5               DSP%2520DeadDog.mov         0                 24                1              [[[[0.00392157 0.00392157 0.00392157], [0.0039...  \n",
       "                                                                                1              [[[[0.00392157 0.         0.00784314], [0.0117...  \n",
       "                                                                                1              [[[[0.         0.00392157 0.        ], [0. 0. ...  \n",
       "                                                                                1              [[[[0.00392157 0.00392157 0.        ], [0.0039...  \n",
       "                                                                                1              [[[[0.         0.01176471 0.        ], [0.    ...  \n",
       "                                                                                1              [[[[0.         0.00784314 0.        ], [0. 0. ...  \n",
       "                                                                                1              [[[[0.         0.         0.01568628], [0.0039...  \n",
       "                                                                                1              [[[[0.00392157 0.         0.        ], [0.0078...  \n",
       "                                                                                1              [[[[0. 0. 0.], [0. 0. 0.], [0.00392157 0.00392...  \n",
       "                                                                                1              [[[[0.00392157 0.00392157 0.01176471], [0.0039...  \n",
       "                                                                                1              [[[[0.         0.00784314 0.00392157], [0. 0. ...  \n",
       "6               ben_story_443_small_2.mov   2                 11                2              [[[[0.05490196 0.03529412 0.15294118], [0.0627...  \n",
       "                                                                                2              [[[[0.05490196 0.03529412 0.15294118], [0.0705...  \n",
       "                                                                                2              [[[[0.05882353 0.03921569 0.15686275], [0.0705...  \n",
       "                                                                                2              [[[[0.05490196 0.03529412 0.15294118], [0.0705...  \n",
       "                                                                                2              [[[[0.05490196 0.03529412 0.15294118], [0.0627...  \n",
       "                                                                                2              [[[[0.03921569 0.03529412 0.15686275], [0.0470...  \n",
       "                ben_story_443_small_3.mov   3                 21                3              [[[[0.11764706 0.10980392 0.12156863], [0.1529...  \n",
       "                                                                                3              [[[[0.11764706 0.10980392 0.12156863], [0.1529...  \n",
       "                                                                                3              [[[[0.11764706 0.10980392 0.12156863], [0.1529...  \n",
       "                                                                                3              [[[[0.11372549 0.10588235 0.11764706], [0.1490...  \n",
       "7               DSP%2520Immigrants.mov      0                 20                4              [[[[0.21960784 0.15686275 0.16862746], [0.2274...  \n",
       "                                                                                4              [[[[0.21960784 0.15686275 0.15686275], [0.2235...  \n",
       "                                                                                4              [[[[0.21960784 0.16862746 0.14509805], [0.2156...  \n",
       "                                                                                4              [[[[0.21960784 0.16470589 0.16470589], [0.2117...  \n",
       "                                                                                4              [[[[0.21176471 0.15686275 0.15294118], [0.2   ...  \n",
       "                                                                                4              [[[[0.22352941 0.16470589 0.15294118], [0.2274...  \n",
       "                                                                                4              [[[[0.20392157 0.16862746 0.17254902], [0.2352...  \n",
       "                                                                                4              [[[[0.21960784 0.1764706  0.16862746], [0.2196...  \n",
       "                                                                                4              [[[[0.21176471 0.16862746 0.16078432], [0.2078...  "
      ],
      "text/html": "<div>\n<style scoped>\n    .dataframe tbody tr th:only-of-type {\n        vertical-align: middle;\n    }\n\n    .dataframe tbody tr th {\n        vertical-align: top;\n    }\n\n    .dataframe thead th {\n        text-align: right;\n    }\n</style>\n<table border=\"1\" class=\"dataframe\">\n  <thead>\n    <tr style=\"text-align: right;\">\n      <th></th>\n      <th></th>\n      <th></th>\n      <th></th>\n      <th></th>\n      <th>TokenID</th>\n      <th>FrameSequence</th>\n      <th>FrameTensor</th>\n    </tr>\n    <tr>\n      <th>ASLConsultantID</th>\n      <th>TargetVideoFilename</th>\n      <th>CameraPerspective</th>\n      <th>UtteranceSequence</th>\n      <th>TokenSequence</th>\n      <th></th>\n      <th></th>\n      <th></th>\n    </tr>\n  </thead>\n  <tbody>\n    <tr>\n      <th rowspan=\"20\" valign=\"top\">2</th>\n      <th rowspan=\"10\" valign=\"top\">lapd_story_1083_small_0.mov</th>\n      <th rowspan=\"10\" valign=\"top\">0</th>\n      <th rowspan=\"10\" valign=\"top\">86</th>\n      <th>8</th>\n      <td>2397</td>\n      <td>6514</td>\n      <td>[[[[0.         0.00392157 0.18039216], [0.    ...</td>\n    </tr>\n    <tr>\n      <th>8</th>\n      <td>2397</td>\n      <td>6515</td>\n      <td>[[[[0.         0.00784314 0.18431373], [0.0039...</td>\n    </tr>\n    <tr>\n      <th>8</th>\n      <td>2397</td>\n      <td>6516</td>\n      <td>[[[[0.         0.         0.18039216], [0.0039...</td>\n    </tr>\n    <tr>\n      <th>8</th>\n      <td>2397</td>\n      <td>6517</td>\n      <td>[[[[0.         0.00392157 0.18431373], [0.    ...</td>\n    </tr>\n    <tr>\n      <th>8</th>\n      <td>2397</td>\n      <td>6518</td>\n      <td>[[[[0.         0.00392157 0.18431373], [0.    ...</td>\n    </tr>\n    <tr>\n      <th>8</th>\n      <td>2397</td>\n      <td>6519</td>\n      <td>[[[[0.         0.00392157 0.18431373], [0.0039...</td>\n    </tr>\n    <tr>\n      <th>8</th>\n      <td>2397</td>\n      <td>6520</td>\n      <td>[[[[0.         0.00392157 0.20392157], [0.    ...</td>\n    </tr>\n    <tr>\n      <th>8</th>\n      <td>2397</td>\n      <td>6521</td>\n      <td>[[[[0.00784314 0.01176471 0.18431373], [0.0039...</td>\n    </tr>\n    <tr>\n      <th>8</th>\n      <td>2397</td>\n      <td>6522</td>\n      <td>[[[[0.00784314 0.01176471 0.18431373], [0.    ...</td>\n    </tr>\n    <tr>\n      <th>8</th>\n      <td>2397</td>\n      <td>6523</td>\n      <td>[[[[0.         0.00392157 0.18431373], [0.    ...</td>\n    </tr>\n    <tr>\n      <th rowspan=\"10\" valign=\"top\">lapd_story_1083_small_2.mov</th>\n      <th rowspan=\"10\" valign=\"top\">2</th>\n      <th rowspan=\"10\" valign=\"top\">86</th>\n      <th>8</th>\n      <td>2397</td>\n      <td>6514</td>\n      <td>[[[[0.00392157 0.         0.1254902 ], [0.0039...</td>\n    </tr>\n    <tr>\n      <th>8</th>\n      <td>2397</td>\n      <td>6515</td>\n      <td>[[[[0.         0.         0.14117648], [0.    ...</td>\n    </tr>\n    <tr>\n      <th>8</th>\n      <td>2397</td>\n      <td>6516</td>\n      <td>[[[[0.         0.         0.13333334], [0.    ...</td>\n    </tr>\n    <tr>\n      <th>8</th>\n      <td>2397</td>\n      <td>6517</td>\n      <td>[[[[0.00392157 0.00392157 0.13725491], [0.    ...</td>\n    </tr>\n    <tr>\n      <th>8</th>\n      <td>2397</td>\n      <td>6518</td>\n      <td>[[[[0.00392157 0.00392157 0.13725491], [0.    ...</td>\n    </tr>\n    <tr>\n      <th>8</th>\n      <td>2397</td>\n      <td>6519</td>\n      <td>[[[[0.00392157 0.00392157 0.14509805], [0.    ...</td>\n    </tr>\n    <tr>\n      <th>8</th>\n      <td>2397</td>\n      <td>6520</td>\n      <td>[[[[0.00392157 0.00392157 0.14509805], [0.    ...</td>\n    </tr>\n    <tr>\n      <th>8</th>\n      <td>2397</td>\n      <td>6521</td>\n      <td>[[[[0.00392157 0.         0.13333334], [0.0117...</td>\n    </tr>\n    <tr>\n      <th>8</th>\n      <td>2397</td>\n      <td>6522</td>\n      <td>[[[[0.00784314 0.00392157 0.13725491], [0.0078...</td>\n    </tr>\n    <tr>\n      <th>8</th>\n      <td>2397</td>\n      <td>6523</td>\n      <td>[[[[0.00784314 0.         0.14509805], [0.0039...</td>\n    </tr>\n    <tr>\n      <th rowspan=\"11\" valign=\"top\">5</th>\n      <th rowspan=\"11\" valign=\"top\">DSP%2520DeadDog.mov</th>\n      <th rowspan=\"11\" valign=\"top\">0</th>\n      <th rowspan=\"11\" valign=\"top\">24</th>\n      <th>1</th>\n      <td>2379</td>\n      <td>2759</td>\n      <td>[[[[0.00392157 0.00392157 0.00392157], [0.0039...</td>\n    </tr>\n    <tr>\n      <th>1</th>\n      <td>2379</td>\n      <td>2760</td>\n      <td>[[[[0.00392157 0.         0.00784314], [0.0117...</td>\n    </tr>\n    <tr>\n      <th>1</th>\n      <td>2379</td>\n      <td>2761</td>\n      <td>[[[[0.         0.00392157 0.        ], [0. 0. ...</td>\n    </tr>\n    <tr>\n      <th>1</th>\n      <td>2379</td>\n      <td>2762</td>\n      <td>[[[[0.00392157 0.00392157 0.        ], [0.0039...</td>\n    </tr>\n    <tr>\n      <th>1</th>\n      <td>2379</td>\n      <td>2763</td>\n      <td>[[[[0.         0.01176471 0.        ], [0.    ...</td>\n    </tr>\n    <tr>\n      <th>1</th>\n      <td>2379</td>\n      <td>2764</td>\n      <td>[[[[0.         0.00784314 0.        ], [0. 0. ...</td>\n    </tr>\n    <tr>\n      <th>1</th>\n      <td>2379</td>\n      <td>2765</td>\n      <td>[[[[0.         0.         0.01568628], [0.0039...</td>\n    </tr>\n    <tr>\n      <th>1</th>\n      <td>2379</td>\n      <td>2766</td>\n      <td>[[[[0.00392157 0.         0.        ], [0.0078...</td>\n    </tr>\n    <tr>\n      <th>1</th>\n      <td>2379</td>\n      <td>2767</td>\n      <td>[[[[0. 0. 0.], [0. 0. 0.], [0.00392157 0.00392...</td>\n    </tr>\n    <tr>\n      <th>1</th>\n      <td>2379</td>\n      <td>2768</td>\n      <td>[[[[0.00392157 0.00392157 0.01176471], [0.0039...</td>\n    </tr>\n    <tr>\n      <th>1</th>\n      <td>2379</td>\n      <td>2769</td>\n      <td>[[[[0.         0.00784314 0.00392157], [0. 0. ...</td>\n    </tr>\n    <tr>\n      <th rowspan=\"10\" valign=\"top\">6</th>\n      <th rowspan=\"6\" valign=\"top\">ben_story_443_small_2.mov</th>\n      <th rowspan=\"6\" valign=\"top\">2</th>\n      <th rowspan=\"6\" valign=\"top\">11</th>\n      <th>2</th>\n      <td>2360</td>\n      <td>946</td>\n      <td>[[[[0.05490196 0.03529412 0.15294118], [0.0627...</td>\n    </tr>\n    <tr>\n      <th>2</th>\n      <td>2360</td>\n      <td>947</td>\n      <td>[[[[0.05490196 0.03529412 0.15294118], [0.0705...</td>\n    </tr>\n    <tr>\n      <th>2</th>\n      <td>2360</td>\n      <td>948</td>\n      <td>[[[[0.05882353 0.03921569 0.15686275], [0.0705...</td>\n    </tr>\n    <tr>\n      <th>2</th>\n      <td>2360</td>\n      <td>949</td>\n      <td>[[[[0.05490196 0.03529412 0.15294118], [0.0705...</td>\n    </tr>\n    <tr>\n      <th>2</th>\n      <td>2360</td>\n      <td>950</td>\n      <td>[[[[0.05490196 0.03529412 0.15294118], [0.0627...</td>\n    </tr>\n    <tr>\n      <th>2</th>\n      <td>2360</td>\n      <td>951</td>\n      <td>[[[[0.03921569 0.03529412 0.15686275], [0.0470...</td>\n    </tr>\n    <tr>\n      <th rowspan=\"4\" valign=\"top\">ben_story_443_small_3.mov</th>\n      <th rowspan=\"4\" valign=\"top\">3</th>\n      <th rowspan=\"4\" valign=\"top\">21</th>\n      <th>3</th>\n      <td>2360</td>\n      <td>1873</td>\n      <td>[[[[0.11764706 0.10980392 0.12156863], [0.1529...</td>\n    </tr>\n    <tr>\n      <th>3</th>\n      <td>2360</td>\n      <td>1874</td>\n      <td>[[[[0.11764706 0.10980392 0.12156863], [0.1529...</td>\n    </tr>\n    <tr>\n      <th>3</th>\n      <td>2360</td>\n      <td>1875</td>\n      <td>[[[[0.11764706 0.10980392 0.12156863], [0.1529...</td>\n    </tr>\n    <tr>\n      <th>3</th>\n      <td>2360</td>\n      <td>1876</td>\n      <td>[[[[0.11372549 0.10588235 0.11764706], [0.1490...</td>\n    </tr>\n    <tr>\n      <th rowspan=\"9\" valign=\"top\">7</th>\n      <th rowspan=\"9\" valign=\"top\">DSP%2520Immigrants.mov</th>\n      <th rowspan=\"9\" valign=\"top\">0</th>\n      <th rowspan=\"9\" valign=\"top\">20</th>\n      <th>4</th>\n      <td>2387</td>\n      <td>2052</td>\n      <td>[[[[0.21960784 0.15686275 0.16862746], [0.2274...</td>\n    </tr>\n    <tr>\n      <th>4</th>\n      <td>2387</td>\n      <td>2053</td>\n      <td>[[[[0.21960784 0.15686275 0.15686275], [0.2235...</td>\n    </tr>\n    <tr>\n      <th>4</th>\n      <td>2387</td>\n      <td>2054</td>\n      <td>[[[[0.21960784 0.16862746 0.14509805], [0.2156...</td>\n    </tr>\n    <tr>\n      <th>4</th>\n      <td>2387</td>\n      <td>2055</td>\n      <td>[[[[0.21960784 0.16470589 0.16470589], [0.2117...</td>\n    </tr>\n    <tr>\n      <th>4</th>\n      <td>2387</td>\n      <td>2056</td>\n      <td>[[[[0.21176471 0.15686275 0.15294118], [0.2   ...</td>\n    </tr>\n    <tr>\n      <th>4</th>\n      <td>2387</td>\n      <td>2057</td>\n      <td>[[[[0.22352941 0.16470589 0.15294118], [0.2274...</td>\n    </tr>\n    <tr>\n      <th>4</th>\n      <td>2387</td>\n      <td>2058</td>\n      <td>[[[[0.20392157 0.16862746 0.17254902], [0.2352...</td>\n    </tr>\n    <tr>\n      <th>4</th>\n      <td>2387</td>\n      <td>2059</td>\n      <td>[[[[0.21960784 0.1764706  0.16862746], [0.2196...</td>\n    </tr>\n    <tr>\n      <th>4</th>\n      <td>2387</td>\n      <td>2060</td>\n      <td>[[[[0.21176471 0.16862746 0.16078432], [0.2078...</td>\n    </tr>\n  </tbody>\n</table>\n</div>"
     },
     "metadata": {},
     "execution_count": 21
    }
   ],
   "source": [
    "df_val_frame_sequences_index__sample__with_frame_tensors.columns = fidscs_globals.SCHEMA_COL_NAMES__TRAIN_OR_VAL_INDEX + ['FrameTensor']\n",
    "df_val_frame_sequences_index__sample__with_frame_tensors.set_index(['ASLConsultantID', 'TargetVideoFilename', 'CameraPerspective', 'UtteranceSequence', 'TokenSequence'], inplace=True)\n",
    "df_val_frame_sequences_index__sample__with_frame_tensors.sort_values(axis=0, by=[fidscs_globals.SCHEMA_COL_NAMES__TRAIN_OR_VAL_INDEX[6]], ignore_index=False, inplace=True)\n",
    "df_val_frame_sequences_index__sample__with_frame_tensors.sort_index(inplace=True)\n",
    "\n",
    "df_val_frame_sequences_index__sample__with_frame_tensors"
   ]
  },
  {
   "cell_type": "code",
   "execution_count": 22,
   "metadata": {},
   "outputs": [
    {
     "output_type": "display_data",
     "data": {
      "text/plain": "<IPython.core.display.HTML object>",
      "text/html": "\n            <link rel=\"stylesheet\" href=\"https://stackpath.bootstrapcdn.com/bootstrap/4.4.1/css/bootstrap.min.css\" integrity=\"sha384-Vkoo8x4CGsO3+Hhxv8T/Q5PaXtkKtu6ug5TOeNV6gBiFeWPGFN9MuhOf23Q9Ifjh\" crossorigin=\"anonymous\">\n            <div id=\"progress_indicator_b66474d52284f875f6b65f935d82ec49\" class=\"spinner-border text-info\" role=\"status\">\n            </div>"
     },
     "metadata": {}
    },
    {
     "output_type": "display_data",
     "data": {
      "application/javascript": "\n        if (typeof window.interactive_beam_jquery == 'undefined') {\n          var jqueryScript = document.createElement('script');\n          jqueryScript.src = 'https://code.jquery.com/jquery-3.4.1.slim.min.js';\n          jqueryScript.type = 'text/javascript';\n          jqueryScript.onload = function() {\n            var datatableScript = document.createElement('script');\n            datatableScript.src = 'https://cdn.datatables.net/1.10.20/js/jquery.dataTables.min.js';\n            datatableScript.type = 'text/javascript';\n            datatableScript.onload = function() {\n              window.interactive_beam_jquery = jQuery.noConflict(true);\n              window.interactive_beam_jquery(document).ready(function($){\n                \n            $(\"#progress_indicator_b66474d52284f875f6b65f935d82ec49\").remove();\n              });\n            }\n            document.head.appendChild(datatableScript);\n          };\n          document.head.appendChild(jqueryScript);\n        } else {\n          window.interactive_beam_jquery(document).ready(function($){\n            \n            $(\"#progress_indicator_b66474d52284f875f6b65f935d82ec49\").remove();\n          });\n        }"
     },
     "metadata": {}
    }
   ],
   "source": [
    "df_train_frame_sequences_index__sample__with_frame_tensors = ib.collect(train_frame_sequences_index__sample__with_frame_tensors)"
   ]
  },
  {
   "cell_type": "code",
   "execution_count": 23,
   "metadata": {},
   "outputs": [
    {
     "output_type": "execute_result",
     "data": {
      "text/plain": [
       "                                                                                              TokenID  \\\n",
       "ASLConsultantID TargetVideoFilename        CameraPerspective UtteranceSequence TokenSequence            \n",
       "1               DSP%2520Introduction.mov   0                 6                 1                 2409   \n",
       "                                                                               1                 2409   \n",
       "                                                                               1                 2409   \n",
       "                                                                               1                 2409   \n",
       "2               boston-la_1088_small_0.mov 0                 27                15                2410   \n",
       "                                                                               15                2410   \n",
       "                                                                               15                2410   \n",
       "                                                                               15                2410   \n",
       "                                                                               15                2410   \n",
       "                                                                               15                2410   \n",
       "                                                                               15                2410   \n",
       "                                                                               15                2410   \n",
       "                                                                               15                2410   \n",
       "                                                                               15                2410   \n",
       "                                                                               15                2410   \n",
       "                                                                               15                2410   \n",
       "                                                                               15                2410   \n",
       "                                                                               15                2410   \n",
       "                                                                               15                2410   \n",
       "                                                                               15                2410   \n",
       "                                                                               15                2410   \n",
       "                                                             70                12                2411   \n",
       "                                                                               12                2411   \n",
       "                                                                               12                2411   \n",
       "                                                                               12                2411   \n",
       "                                                                               12                2411   \n",
       "                                                                               12                2411   \n",
       "                boston-la_1088_small_2.mov 2                 27                15                2410   \n",
       "                                                                               15                2410   \n",
       "                                                                               15                2410   \n",
       "                                                                               15                2410   \n",
       "                                                                               15                2410   \n",
       "                                                                               15                2410   \n",
       "                                                                               15                2410   \n",
       "                                                                               15                2410   \n",
       "                                                                               15                2410   \n",
       "                                                                               15                2410   \n",
       "                                                                               15                2410   \n",
       "                                                                               15                2410   \n",
       "                                                                               15                2410   \n",
       "                                                                               15                2410   \n",
       "                                                                               15                2410   \n",
       "                                                                               15                2410   \n",
       "                                                                               15                2410   \n",
       "                                                             70                12                2411   \n",
       "                                                                               12                2411   \n",
       "                                                                               12                2411   \n",
       "                                                                               12                2411   \n",
       "                                                                               12                2411   \n",
       "                                                                               12                2411   \n",
       "\n",
       "                                                                                              FrameSequence  \\\n",
       "ASLConsultantID TargetVideoFilename        CameraPerspective UtteranceSequence TokenSequence                  \n",
       "1               DSP%2520Introduction.mov   0                 6                 1                        541   \n",
       "                                                                               1                        542   \n",
       "                                                                               1                        543   \n",
       "                                                                               1                        544   \n",
       "2               boston-la_1088_small_0.mov 0                 27                15                      4483   \n",
       "                                                                               15                      4484   \n",
       "                                                                               15                      4485   \n",
       "                                                                               15                      4486   \n",
       "                                                                               15                      4487   \n",
       "                                                                               15                      4488   \n",
       "                                                                               15                      4489   \n",
       "                                                                               15                      4490   \n",
       "                                                                               15                      4491   \n",
       "                                                                               15                      4492   \n",
       "                                                                               15                      4493   \n",
       "                                                                               15                      4494   \n",
       "                                                                               15                      4495   \n",
       "                                                                               15                      4496   \n",
       "                                                                               15                      4497   \n",
       "                                                                               15                      4498   \n",
       "                                                                               15                      4499   \n",
       "                                                             70                12                     11322   \n",
       "                                                                               12                     11323   \n",
       "                                                                               12                     11324   \n",
       "                                                                               12                     11325   \n",
       "                                                                               12                     11326   \n",
       "                                                                               12                     11327   \n",
       "                boston-la_1088_small_2.mov 2                 27                15                      4483   \n",
       "                                                                               15                      4484   \n",
       "                                                                               15                      4485   \n",
       "                                                                               15                      4486   \n",
       "                                                                               15                      4487   \n",
       "                                                                               15                      4488   \n",
       "                                                                               15                      4489   \n",
       "                                                                               15                      4490   \n",
       "                                                                               15                      4491   \n",
       "                                                                               15                      4492   \n",
       "                                                                               15                      4493   \n",
       "                                                                               15                      4494   \n",
       "                                                                               15                      4495   \n",
       "                                                                               15                      4496   \n",
       "                                                                               15                      4497   \n",
       "                                                                               15                      4498   \n",
       "                                                                               15                      4499   \n",
       "                                                             70                12                     11322   \n",
       "                                                                               12                     11323   \n",
       "                                                                               12                     11324   \n",
       "                                                                               12                     11325   \n",
       "                                                                               12                     11326   \n",
       "                                                                               12                     11327   \n",
       "\n",
       "                                                                                                                                    FrameTensor  \n",
       "ASLConsultantID TargetVideoFilename        CameraPerspective UtteranceSequence TokenSequence                                                     \n",
       "1               DSP%2520Introduction.mov   0                 6                 1              [[[[0.22745098 0.18431373 0.2       ], [0.2352...  \n",
       "                                                                               1              [[[[0.22352941 0.19607843 0.22745098], [0.2235...  \n",
       "                                                                               1              [[[[0.21568628 0.18431373 0.26666668], [0.2156...  \n",
       "                                                                               1              [[[[0.23921569 0.1882353  0.26666668], [0.2196...  \n",
       "2               boston-la_1088_small_0.mov 0                 27                15             [[[[0.         0.00392157 0.19607843], [0.    ...  \n",
       "                                                                               15             [[[[0.00784314 0.01960784 0.15686275], [0.    ...  \n",
       "                                                                               15             [[[[0.         0.00784314 0.16862746], [0.0039...  \n",
       "                                                                               15             [[[[0.00392157 0.00784314 0.1882353 ], [0.0039...  \n",
       "                                                                               15             [[[[0.         0.01176471 0.18039216], [0.    ...  \n",
       "                                                                               15             [[[[0.00392157 0.00784314 0.18039216], [0.    ...  \n",
       "                                                                               15             [[[[0.00784314 0.01568628 0.1764706 ], [0.0039...  \n",
       "                                                                               15             [[[[0.         0.         0.18039216], [0.0117...  \n",
       "                                                                               15             [[[[0.01176471 0.00392157 0.1882353 ], [0.0039...  \n",
       "                                                                               15             [[[[0.         0.00392157 0.19607843], [0.0039...  \n",
       "                                                                               15             [[[[0.00784314 0.         0.19215687], [0.    ...  \n",
       "                                                                               15             [[[[0.         0.         0.19607843], [0.    ...  \n",
       "                                                                               15             [[[[0.00392157 0.01176471 0.2       ], [0.0039...  \n",
       "                                                                               15             [[[[0.00392157 0.00392157 0.2       ], [0.0039...  \n",
       "                                                                               15             [[[[0.         0.         0.17254902], [0.    ...  \n",
       "                                                                               15             [[[[0.00784314 0.         0.18039216], [0.    ...  \n",
       "                                                                               15             [[[[0.         0.00392157 0.18431373], [0.    ...  \n",
       "                                                             70                12             [[[[0.         0.00784314 0.19607843], [0.0078...  \n",
       "                                                                               12             [[[[0.        0.        0.1882353], [0.       ...  \n",
       "                                                                               12             [[[[0.         0.00392157 0.19215687], [0.0039...  \n",
       "                                                                               12             [[[[0.00392157 0.00784314 0.19607843], [0.    ...  \n",
       "                                                                               12             [[[[0.00392157 0.01568628 0.18431373], [0.    ...  \n",
       "                                                                               12             [[[[0.00392157 0.01176471 0.2       ], [0.0039...  \n",
       "                boston-la_1088_small_2.mov 2                 27                15             [[[[0.         0.         0.12941177], [0.    ...  \n",
       "                                                                               15             [[[[0.         0.         0.13333334], [0.0039...  \n",
       "                                                                               15             [[[[0.         0.         0.14117648], [0.    ...  \n",
       "                                                                               15             [[[[0.         0.         0.13333334], [0.    ...  \n",
       "                                                                               15             [[[[0.         0.00392157 0.1254902 ], [0.    ...  \n",
       "                                                                               15             [[[[0.         0.00392157 0.1254902 ], [0.    ...  \n",
       "                                                                               15             [[[[0.         0.         0.14117648], [0.    ...  \n",
       "                                                                               15             [[[[0.         0.         0.14901961], [0.    ...  \n",
       "                                                                               15             [[[[0.         0.         0.14117648], [0.    ...  \n",
       "                                                                               15             [[[[0.         0.         0.14117648], [0.    ...  \n",
       "                                                                               15             [[[[0.         0.         0.14117648], [0.    ...  \n",
       "                                                                               15             [[[[0.         0.         0.13333334], [0.    ...  \n",
       "                                                                               15             [[[[0.         0.         0.11764706], [0.    ...  \n",
       "                                                                               15             [[[[0.         0.         0.11764706], [0.    ...  \n",
       "                                                                               15             [[[[0.00392157 0.00392157 0.13725491], [0.    ...  \n",
       "                                                                               15             [[[[0.00392157 0.00392157 0.14509805], [0.    ...  \n",
       "                                                                               15             [[[[0.00392157 0.00392157 0.14509805], [0.    ...  \n",
       "                                                             70                12             [[[[0.         0.         0.12941177], [0.    ...  \n",
       "                                                                               12             [[[[0.         0.         0.12941177], [0.    ...  \n",
       "                                                                               12             [[[[0.         0.         0.12156863], [0.0039...  \n",
       "                                                                               12             [[[[0.         0.00392157 0.12156863], [0.    ...  \n",
       "                                                                               12             [[[[0.00392157 0.         0.12156863], [0.0039...  \n",
       "                                                                               12             [[[[0.         0.         0.11764706], [0.    ...  "
      ],
      "text/html": "<div>\n<style scoped>\n    .dataframe tbody tr th:only-of-type {\n        vertical-align: middle;\n    }\n\n    .dataframe tbody tr th {\n        vertical-align: top;\n    }\n\n    .dataframe thead th {\n        text-align: right;\n    }\n</style>\n<table border=\"1\" class=\"dataframe\">\n  <thead>\n    <tr style=\"text-align: right;\">\n      <th></th>\n      <th></th>\n      <th></th>\n      <th></th>\n      <th></th>\n      <th>TokenID</th>\n      <th>FrameSequence</th>\n      <th>FrameTensor</th>\n    </tr>\n    <tr>\n      <th>ASLConsultantID</th>\n      <th>TargetVideoFilename</th>\n      <th>CameraPerspective</th>\n      <th>UtteranceSequence</th>\n      <th>TokenSequence</th>\n      <th></th>\n      <th></th>\n      <th></th>\n    </tr>\n  </thead>\n  <tbody>\n    <tr>\n      <th rowspan=\"4\" valign=\"top\">1</th>\n      <th rowspan=\"4\" valign=\"top\">DSP%2520Introduction.mov</th>\n      <th rowspan=\"4\" valign=\"top\">0</th>\n      <th rowspan=\"4\" valign=\"top\">6</th>\n      <th>1</th>\n      <td>2409</td>\n      <td>541</td>\n      <td>[[[[0.22745098 0.18431373 0.2       ], [0.2352...</td>\n    </tr>\n    <tr>\n      <th>1</th>\n      <td>2409</td>\n      <td>542</td>\n      <td>[[[[0.22352941 0.19607843 0.22745098], [0.2235...</td>\n    </tr>\n    <tr>\n      <th>1</th>\n      <td>2409</td>\n      <td>543</td>\n      <td>[[[[0.21568628 0.18431373 0.26666668], [0.2156...</td>\n    </tr>\n    <tr>\n      <th>1</th>\n      <td>2409</td>\n      <td>544</td>\n      <td>[[[[0.23921569 0.1882353  0.26666668], [0.2196...</td>\n    </tr>\n    <tr>\n      <th rowspan=\"46\" valign=\"top\">2</th>\n      <th rowspan=\"23\" valign=\"top\">boston-la_1088_small_0.mov</th>\n      <th rowspan=\"23\" valign=\"top\">0</th>\n      <th rowspan=\"17\" valign=\"top\">27</th>\n      <th>15</th>\n      <td>2410</td>\n      <td>4483</td>\n      <td>[[[[0.         0.00392157 0.19607843], [0.    ...</td>\n    </tr>\n    <tr>\n      <th>15</th>\n      <td>2410</td>\n      <td>4484</td>\n      <td>[[[[0.00784314 0.01960784 0.15686275], [0.    ...</td>\n    </tr>\n    <tr>\n      <th>15</th>\n      <td>2410</td>\n      <td>4485</td>\n      <td>[[[[0.         0.00784314 0.16862746], [0.0039...</td>\n    </tr>\n    <tr>\n      <th>15</th>\n      <td>2410</td>\n      <td>4486</td>\n      <td>[[[[0.00392157 0.00784314 0.1882353 ], [0.0039...</td>\n    </tr>\n    <tr>\n      <th>15</th>\n      <td>2410</td>\n      <td>4487</td>\n      <td>[[[[0.         0.01176471 0.18039216], [0.    ...</td>\n    </tr>\n    <tr>\n      <th>15</th>\n      <td>2410</td>\n      <td>4488</td>\n      <td>[[[[0.00392157 0.00784314 0.18039216], [0.    ...</td>\n    </tr>\n    <tr>\n      <th>15</th>\n      <td>2410</td>\n      <td>4489</td>\n      <td>[[[[0.00784314 0.01568628 0.1764706 ], [0.0039...</td>\n    </tr>\n    <tr>\n      <th>15</th>\n      <td>2410</td>\n      <td>4490</td>\n      <td>[[[[0.         0.         0.18039216], [0.0117...</td>\n    </tr>\n    <tr>\n      <th>15</th>\n      <td>2410</td>\n      <td>4491</td>\n      <td>[[[[0.01176471 0.00392157 0.1882353 ], [0.0039...</td>\n    </tr>\n    <tr>\n      <th>15</th>\n      <td>2410</td>\n      <td>4492</td>\n      <td>[[[[0.         0.00392157 0.19607843], [0.0039...</td>\n    </tr>\n    <tr>\n      <th>15</th>\n      <td>2410</td>\n      <td>4493</td>\n      <td>[[[[0.00784314 0.         0.19215687], [0.    ...</td>\n    </tr>\n    <tr>\n      <th>15</th>\n      <td>2410</td>\n      <td>4494</td>\n      <td>[[[[0.         0.         0.19607843], [0.    ...</td>\n    </tr>\n    <tr>\n      <th>15</th>\n      <td>2410</td>\n      <td>4495</td>\n      <td>[[[[0.00392157 0.01176471 0.2       ], [0.0039...</td>\n    </tr>\n    <tr>\n      <th>15</th>\n      <td>2410</td>\n      <td>4496</td>\n      <td>[[[[0.00392157 0.00392157 0.2       ], [0.0039...</td>\n    </tr>\n    <tr>\n      <th>15</th>\n      <td>2410</td>\n      <td>4497</td>\n      <td>[[[[0.         0.         0.17254902], [0.    ...</td>\n    </tr>\n    <tr>\n      <th>15</th>\n      <td>2410</td>\n      <td>4498</td>\n      <td>[[[[0.00784314 0.         0.18039216], [0.    ...</td>\n    </tr>\n    <tr>\n      <th>15</th>\n      <td>2410</td>\n      <td>4499</td>\n      <td>[[[[0.         0.00392157 0.18431373], [0.    ...</td>\n    </tr>\n    <tr>\n      <th rowspan=\"6\" valign=\"top\">70</th>\n      <th>12</th>\n      <td>2411</td>\n      <td>11322</td>\n      <td>[[[[0.         0.00784314 0.19607843], [0.0078...</td>\n    </tr>\n    <tr>\n      <th>12</th>\n      <td>2411</td>\n      <td>11323</td>\n      <td>[[[[0.        0.        0.1882353], [0.       ...</td>\n    </tr>\n    <tr>\n      <th>12</th>\n      <td>2411</td>\n      <td>11324</td>\n      <td>[[[[0.         0.00392157 0.19215687], [0.0039...</td>\n    </tr>\n    <tr>\n      <th>12</th>\n      <td>2411</td>\n      <td>11325</td>\n      <td>[[[[0.00392157 0.00784314 0.19607843], [0.    ...</td>\n    </tr>\n    <tr>\n      <th>12</th>\n      <td>2411</td>\n      <td>11326</td>\n      <td>[[[[0.00392157 0.01568628 0.18431373], [0.    ...</td>\n    </tr>\n    <tr>\n      <th>12</th>\n      <td>2411</td>\n      <td>11327</td>\n      <td>[[[[0.00392157 0.01176471 0.2       ], [0.0039...</td>\n    </tr>\n    <tr>\n      <th rowspan=\"23\" valign=\"top\">boston-la_1088_small_2.mov</th>\n      <th rowspan=\"23\" valign=\"top\">2</th>\n      <th rowspan=\"17\" valign=\"top\">27</th>\n      <th>15</th>\n      <td>2410</td>\n      <td>4483</td>\n      <td>[[[[0.         0.         0.12941177], [0.    ...</td>\n    </tr>\n    <tr>\n      <th>15</th>\n      <td>2410</td>\n      <td>4484</td>\n      <td>[[[[0.         0.         0.13333334], [0.0039...</td>\n    </tr>\n    <tr>\n      <th>15</th>\n      <td>2410</td>\n      <td>4485</td>\n      <td>[[[[0.         0.         0.14117648], [0.    ...</td>\n    </tr>\n    <tr>\n      <th>15</th>\n      <td>2410</td>\n      <td>4486</td>\n      <td>[[[[0.         0.         0.13333334], [0.    ...</td>\n    </tr>\n    <tr>\n      <th>15</th>\n      <td>2410</td>\n      <td>4487</td>\n      <td>[[[[0.         0.00392157 0.1254902 ], [0.    ...</td>\n    </tr>\n    <tr>\n      <th>15</th>\n      <td>2410</td>\n      <td>4488</td>\n      <td>[[[[0.         0.00392157 0.1254902 ], [0.    ...</td>\n    </tr>\n    <tr>\n      <th>15</th>\n      <td>2410</td>\n      <td>4489</td>\n      <td>[[[[0.         0.         0.14117648], [0.    ...</td>\n    </tr>\n    <tr>\n      <th>15</th>\n      <td>2410</td>\n      <td>4490</td>\n      <td>[[[[0.         0.         0.14901961], [0.    ...</td>\n    </tr>\n    <tr>\n      <th>15</th>\n      <td>2410</td>\n      <td>4491</td>\n      <td>[[[[0.         0.         0.14117648], [0.    ...</td>\n    </tr>\n    <tr>\n      <th>15</th>\n      <td>2410</td>\n      <td>4492</td>\n      <td>[[[[0.         0.         0.14117648], [0.    ...</td>\n    </tr>\n    <tr>\n      <th>15</th>\n      <td>2410</td>\n      <td>4493</td>\n      <td>[[[[0.         0.         0.14117648], [0.    ...</td>\n    </tr>\n    <tr>\n      <th>15</th>\n      <td>2410</td>\n      <td>4494</td>\n      <td>[[[[0.         0.         0.13333334], [0.    ...</td>\n    </tr>\n    <tr>\n      <th>15</th>\n      <td>2410</td>\n      <td>4495</td>\n      <td>[[[[0.         0.         0.11764706], [0.    ...</td>\n    </tr>\n    <tr>\n      <th>15</th>\n      <td>2410</td>\n      <td>4496</td>\n      <td>[[[[0.         0.         0.11764706], [0.    ...</td>\n    </tr>\n    <tr>\n      <th>15</th>\n      <td>2410</td>\n      <td>4497</td>\n      <td>[[[[0.00392157 0.00392157 0.13725491], [0.    ...</td>\n    </tr>\n    <tr>\n      <th>15</th>\n      <td>2410</td>\n      <td>4498</td>\n      <td>[[[[0.00392157 0.00392157 0.14509805], [0.    ...</td>\n    </tr>\n    <tr>\n      <th>15</th>\n      <td>2410</td>\n      <td>4499</td>\n      <td>[[[[0.00392157 0.00392157 0.14509805], [0.    ...</td>\n    </tr>\n    <tr>\n      <th rowspan=\"6\" valign=\"top\">70</th>\n      <th>12</th>\n      <td>2411</td>\n      <td>11322</td>\n      <td>[[[[0.         0.         0.12941177], [0.    ...</td>\n    </tr>\n    <tr>\n      <th>12</th>\n      <td>2411</td>\n      <td>11323</td>\n      <td>[[[[0.         0.         0.12941177], [0.    ...</td>\n    </tr>\n    <tr>\n      <th>12</th>\n      <td>2411</td>\n      <td>11324</td>\n      <td>[[[[0.         0.         0.12156863], [0.0039...</td>\n    </tr>\n    <tr>\n      <th>12</th>\n      <td>2411</td>\n      <td>11325</td>\n      <td>[[[[0.         0.00392157 0.12156863], [0.    ...</td>\n    </tr>\n    <tr>\n      <th>12</th>\n      <td>2411</td>\n      <td>11326</td>\n      <td>[[[[0.00392157 0.         0.12156863], [0.0039...</td>\n    </tr>\n    <tr>\n      <th>12</th>\n      <td>2411</td>\n      <td>11327</td>\n      <td>[[[[0.         0.         0.11764706], [0.    ...</td>\n    </tr>\n  </tbody>\n</table>\n</div>"
     },
     "metadata": {},
     "execution_count": 23
    }
   ],
   "source": [
    "df_train_frame_sequences_index__sample__with_frame_tensors.columns = fidscs_globals.SCHEMA_COL_NAMES__TRAIN_OR_VAL_INDEX + ['FrameTensor']\n",
    "df_train_frame_sequences_index__sample__with_frame_tensors.set_index(['ASLConsultantID', 'TargetVideoFilename', 'CameraPerspective', 'UtteranceSequence', 'TokenSequence'], inplace=True)\n",
    "df_train_frame_sequences_index__sample__with_frame_tensors.sort_values(axis=0, by=[fidscs_globals.SCHEMA_COL_NAMES__TRAIN_OR_VAL_INDEX[6]], ignore_index=False, inplace=True)\n",
    "df_train_frame_sequences_index__sample__with_frame_tensors.sort_index(inplace=True)\n",
    "\n",
    "df_train_frame_sequences_index__sample__with_frame_tensors"
   ]
  }
 ]
}