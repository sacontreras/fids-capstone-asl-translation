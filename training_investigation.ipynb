{
 "metadata": {
  "language_info": {
   "codemirror_mode": {
    "name": "ipython",
    "version": 3
   },
   "file_extension": ".py",
   "mimetype": "text/x-python",
   "name": "python",
   "nbconvert_exporter": "python",
   "pygments_lexer": "ipython3",
   "version": "3.8.4-final"
  },
  "orig_nbformat": 2,
  "kernelspec": {
   "name": "python3",
   "display_name": "Anaconda: learn-env",
   "language": "python"
  }
 },
 "nbformat": 4,
 "nbformat_minor": 2,
 "cells": [
  {
   "cell_type": "code",
   "execution_count": 1,
   "metadata": {},
   "outputs": [],
   "source": [
    "import argparse\n",
    "import os\n",
    "\n",
    "import apache_beam as beam\n",
    "import tensorflow as tf\n",
    "from apache_beam.options.pipeline_options import PipelineOptions\n",
    "import apache_beam.runners.interactive.interactive_beam as ib\n",
    "import apache_beam.transforms.sql\n",
    "\n",
    "import beam__common\n",
    "import fidscs_globals\n",
    "\n",
    "import data_extractor\n",
    "import preprocessor\n",
    "\n",
    "# from tensorflow.keras.preprocessing.image import img_to_array, load_img\n",
    "import tensorflow.keras.preprocessing.image"
   ]
  },
  {
   "cell_type": "code",
   "execution_count": 2,
   "metadata": {},
   "outputs": [],
   "source": [
    "data_dir = \"/tmp/fids-capstone-data/data\""
   ]
  },
  {
   "cell_type": "code",
   "execution_count": 3,
   "metadata": {},
   "outputs": [
    {
     "output_type": "stream",
     "name": "stdout",
     "text": [
      "use_beam: True\nFound dataset /tmp/fids-capstone-data/data/consultant-index.csv\nFound dataset /tmp/fids-capstone-data/data/document-consultant-targetvideo-index.csv\nFound dataset /tmp/fids-capstone-data/data/document-consultant-utterance-index.csv\nFound dataset /tmp/fids-capstone-data/data/document-consultant-utterance-targetvideo-index.csv\nFound dataset /tmp/fids-capstone-data/data/document-consultant-utterance-token-index.csv\nFound dataset /tmp/fids-capstone-data/data/ncslgr-corpus-index.csv\nFound dataset /tmp/fids-capstone-data/data/document-consultant-index.csv\nFound dataset /tmp/fids-capstone-data/data/document-consultant-targetvideo-utterance-token-frame-index.csv\nFound dataset /tmp/fids-capstone-data/data/vocabulary-index.csv\n"
     ]
    }
   ],
   "source": [
    "data_extractor.run(max_target_videos=-1, data_dir=data_dir, use_beam=True)"
   ]
  },
  {
   "cell_type": "code",
   "execution_count": 4,
   "metadata": {},
   "outputs": [
    {
     "output_type": "stream",
     "name": "stdout",
     "text": [
      "Found train/val dataset /tmp/fids-capstone-data/data/train-assoc.csv\nFound train/val dataset /tmp/fids-capstone-data/data/val.csv\nFound train/val dataset /tmp/fids-capstone-data/data/train.csv\n"
     ]
    }
   ],
   "source": [
    "preprocessor.run(data_dir=data_dir)"
   ]
  },
  {
   "cell_type": "code",
   "execution_count": 5,
   "metadata": {},
   "outputs": [
    {
     "output_type": "stream",
     "name": "stdout",
     "text": [
      "PipelineOptions:\n{'runner': 'InteractiveRunner', 'streaming': False, 'beam_services': {}, 'type_check_strictness': 'DEFAULT_TO_ANY', 'type_check_additional': '', 'pipeline_type_check': True, 'runtime_type_check': False, 'performance_runtime_type_check': False, 'direct_runner_use_stacked_bundle': True, 'direct_runner_bundle_repeat': 0, 'direct_num_workers': 0, 'direct_running_mode': 'multi_threading', 'dataflow_endpoint': 'https://dataflow.googleapis.com', 'project': 'my-project', 'job_name': None, 'staging_location': None, 'temp_location': None, 'region': None, 'service_account_email': None, 'no_auth': False, 'template_location': None, 'labels': None, 'update': False, 'transform_name_mapping': None, 'enable_streaming_engine': False, 'dataflow_kms_key': None, 'flexrs_goal': None, 'hdfs_host': None, 'hdfs_port': None, 'hdfs_user': None, 'hdfs_full_urls': False, 'num_workers': None, 'max_num_workers': None, 'autoscaling_algorithm': None, 'machine_type': None, 'disk_size_gb': None, 'disk_type': None, 'worker_region': None, 'worker_zone': None, 'zone': None, 'network': None, 'subnetwork': None, 'worker_harness_container_image': None, 'sdk_harness_container_image_overrides': None, 'use_public_ips': None, 'min_cpu_platform': None, 'dataflow_worker_jar': None, 'dataflow_job_file': None, 'experiments': None, 'number_of_worker_harness_threads': None, 'profile_cpu': False, 'profile_memory': False, 'profile_location': None, 'profile_sample_rate': 1.0, 'requirements_file': None, 'requirements_cache': None, 'setup_file': None, 'beam_plugins': None, 'save_main_session': False, 'sdk_location': 'default', 'extra_packages': None, 'prebuild_sdk_container_engine': None, 'prebuild_sdk_container_base_image': None, 'docker_registry_push_url': None, 'job_endpoint': None, 'artifact_endpoint': None, 'job_server_timeout': 60, 'environment_type': None, 'environment_config': None, 'environment_options': None, 'sdk_worker_parallelism': 1, 'environment_cache_millis': 0, 'output_executable_path': None, 'artifacts_dir': None, 'job_port': 0, 'artifact_port': 0, 'expansion_port': 0, 'flink_master': '[auto]', 'flink_version': '1.10', 'flink_job_server_jar': None, 'flink_submit_uber_jar': False, 'spark_master_url': 'local[4]', 'spark_job_server_jar': None, 'spark_submit_uber_jar': False, 'spark_rest_url': None, 'on_success_matcher': None, 'dry_run': False, 'wait_until_finish_duration': None, 'pubsubRootUrl': None, 's3_access_key_id': None, 's3_secret_access_key': None, 's3_session_token': None, 's3_endpoint_url': None, 's3_region_name': None, 's3_api_version': None, 's3_verify': None, 's3_disable_ssl': False}\n\n"
     ]
    }
   ],
   "source": [
    "options = {\n",
    "    'project': 'my-project', # change\n",
    "    'runner': 'InteractiveRunner',\n",
    "    'direct_num_workers': 0, # 0 is use all available cores\n",
    "    'direct_running_mode': 'multi_threading', # ['in_memory', 'multi_threading', 'multi_processing'] # 'multi_processing' doesn't seem to work for DirectRunner?\n",
    "    'streaming': False # set to True if data source is unbounded (e.g. GCP PubSub)\n",
    "}\n",
    "pipeline_options = PipelineOptions(flags=[], **options) # easier to pass in options from command-line this way\n",
    "print(f\"PipelineOptions:\\n{pipeline_options.get_all_options()}\\n\")"
   ]
  },
  {
   "cell_type": "code",
   "execution_count": 6,
   "metadata": {},
   "outputs": [],
   "source": [
    "fidscs_globals.DATA_ROOT_DIR = data_dir"
   ]
  },
  {
   "cell_type": "code",
   "execution_count": 7,
   "metadata": {},
   "outputs": [],
   "source": [
    "can_proceed = True\n",
    "\n",
    "if not tf.io.gfile.exists(fidscs_globals.DATA_ROOT_DIR) or len(tf.io.gfile.listdir(fidscs_globals.DATA_ROOT_DIR))==0:\n",
    "    print(f\"{fidscs_globals.VALIDATION_FATAL_ERROR_TEXT} data directory does not exist or is empty!\")\n",
    "    can_proceed = False\n",
    "else:\n",
    "    fidscs_globals.VIDEO_DIR = os.path.join(fidscs_globals.DATA_ROOT_DIR, 'videos')\n",
    "    fidscs_globals.STICHED_VIDEO_FRAMES_DIR = os.path.join(fidscs_globals.DATA_ROOT_DIR, 'stitched_video_frames')\n",
    "    fidscs_globals.CORPUS_DS_PATH = os.path.join(fidscs_globals.DATA_ROOT_DIR, fidscs_globals.CORPUS_DS_FNAME)\n",
    "    fidscs_globals.DOCUMENT_ASL_CONSULTANT_DS_PATH = os.path.join(fidscs_globals.DATA_ROOT_DIR, fidscs_globals.DOCUMENT_ASL_CONSULTANT_DS_FNAME)\n",
    "    fidscs_globals.ASL_CONSULTANT_DS_PATH = os.path.join(fidscs_globals.DATA_ROOT_DIR, fidscs_globals.ASL_CONSULTANT_DS_FNAME)\n",
    "    fidscs_globals.VIDEO_DS_PATH = os.path.join(fidscs_globals.DATA_ROOT_DIR, fidscs_globals.VIDEO_DS_FNAME)\n",
    "    fidscs_globals.VIDEO_SEGMENT_DS_PATH = os.path.join(fidscs_globals.DATA_ROOT_DIR, fidscs_globals.VIDEO_SEGMENT_DS_FNAME)\n",
    "    fidscs_globals.VIDEO_FRAME_DS_PATH = os.path.join(fidscs_globals.DATA_ROOT_DIR, fidscs_globals.VIDEO_FRAME_DS_FNAME)\n",
    "    fidscs_globals.UTTERANCE_DS_PATH = os.path.join(fidscs_globals.DATA_ROOT_DIR, fidscs_globals.UTTERANCE_DS_FNAME)\n",
    "    fidscs_globals.UTTERANCE_VIDEO_DS_PATH = os.path.join(fidscs_globals.DATA_ROOT_DIR, fidscs_globals.UTTERANCE_VIDEO_DS_FNAME)\n",
    "    fidscs_globals.UTTERANCE_TOKEN_DS_PATH = os.path.join(fidscs_globals.DATA_ROOT_DIR, fidscs_globals.UTTERANCE_TOKEN_DS_FNAME)\n",
    "    fidscs_globals.UTTERANCE_TOKEN_FRAME_DS_PATH = os.path.join(fidscs_globals.DATA_ROOT_DIR, fidscs_globals.UTTERANCE_TOKEN_FRAME_DS_FNAME)\n",
    "    fidscs_globals.VOCABULARY_DS_PATH = os.path.join(fidscs_globals.DATA_ROOT_DIR, fidscs_globals.VOCABULARY_DS_FNAME)\n",
    "    fidscs_globals.TRAIN_ASSOC_DS_PATH = os.path.join(fidscs_globals.DATA_ROOT_DIR, fidscs_globals.TRAIN_FRAME_SEQ_ASSOC_DS_FNAME)\n",
    "    fidscs_globals.VAL_DS_PATH = os.path.join(fidscs_globals.DATA_ROOT_DIR, fidscs_globals.VAL_FRAME_SEQ_DS_FNAME)\n",
    "    fidscs_globals.TRAIN_DS_PATH = os.path.join(fidscs_globals.DATA_ROOT_DIR, fidscs_globals.TRAIN_FRAME_SEQ_DS_FNAME)"
   ]
  },
  {
   "cell_type": "code",
   "execution_count": 8,
   "metadata": {},
   "outputs": [
    {
     "output_type": "display_data",
     "data": {
      "application/javascript": "\n        if (typeof window.interactive_beam_jquery == 'undefined') {\n          var jqueryScript = document.createElement('script');\n          jqueryScript.src = 'https://code.jquery.com/jquery-3.4.1.slim.min.js';\n          jqueryScript.type = 'text/javascript';\n          jqueryScript.onload = function() {\n            var datatableScript = document.createElement('script');\n            datatableScript.src = 'https://cdn.datatables.net/1.10.20/js/jquery.dataTables.min.js';\n            datatableScript.type = 'text/javascript';\n            datatableScript.onload = function() {\n              window.interactive_beam_jquery = jQuery.noConflict(true);\n              window.interactive_beam_jquery(document).ready(function($){\n                \n              });\n            }\n            document.head.appendChild(datatableScript);\n          };\n          document.head.appendChild(jqueryScript);\n        } else {\n          window.interactive_beam_jquery(document).ready(function($){\n            \n          });\n        }"
     },
     "metadata": {}
    }
   ],
   "source": [
    "pl = beam.Pipeline(options=pipeline_options)\n",
    "\n",
    "def train_val_index_schemad_pcoll_rows__to__ordered_tuples(train_val_index_schemad_pcoll_row):\n",
    "    \"\"\"\n",
    "    \"\"\"\n",
    "    return (\n",
    "        # SCHEMA_COL_NAMES__TRAIN_OR_VAL_INDEX = [\n",
    "        #     'TokenID',\n",
    "        #     'CameraPerspective',\n",
    "        #     'ASLConsultantID',\n",
    "        #     'TargetVideoFilename',\n",
    "        #     'UtteranceSequence',\n",
    "        #     'TokenSequence',\n",
    "        #     'FrameSequence'\n",
    "        # ]\n",
    "        train_val_index_schemad_pcoll_row.TokenID,\n",
    "        train_val_index_schemad_pcoll_row.CameraPerspective,\n",
    "        train_val_index_schemad_pcoll_row.ASLConsultantID,\n",
    "        train_val_index_schemad_pcoll_row.TargetVideoFilename,\n",
    "        train_val_index_schemad_pcoll_row.UtteranceSequence,\n",
    "        train_val_index_schemad_pcoll_row.TokenSequence,\n",
    "        train_val_index_schemad_pcoll_row.FrameSequence\n",
    "    )\n",
    "\n",
    "train_frame_sequences__assoc_index_schemad_pcoll = beam__common.pl__1__read_train_frame_sequences__assoc_index_csv(pl)\n",
    "train_frame_sequences__assoc_index = (\n",
    "    train_frame_sequences__assoc_index_schemad_pcoll\n",
    "    | \"Beam PL: transform train_frame_sequences__assoc_index_schemad_pcoll rows to ordered tuples (according to schema)\" >> beam.Map(train_val_index_schemad_pcoll_rows__to__ordered_tuples)\n",
    ")\n",
    "\n",
    "val_frame_sequences_index_schemad_pcoll = beam__common.pl__1__read_val_frame_sequences__index_csv(pl)\n",
    "val_frame_sequences_index = (\n",
    "    val_frame_sequences_index_schemad_pcoll\n",
    "    | \"Beam PL: transform val_frame_sequences_index_schemad_pcoll rows to ordered tuples (according to schema)\" >> beam.Map(train_val_index_schemad_pcoll_rows__to__ordered_tuples)\n",
    ")\n",
    "\n",
    "train_frame_sequences_index_schemad_pcoll = beam__common.pl__1__read_train_frame_sequences_index_csv(pl)\n",
    "train_frame_sequences_index = (\n",
    "    train_frame_sequences_index_schemad_pcoll\n",
    "    | \"Beam PL: transform train_frame_sequences_index_schemad_pcoll rows to ordered tuples (according to schema)\" >> beam.Map(train_val_index_schemad_pcoll_rows__to__ordered_tuples)\n",
    ")"
   ]
  },
  {
   "cell_type": "code",
   "execution_count": 9,
   "metadata": {},
   "outputs": [],
   "source": [
    "def train_val_index__load_frame_img(train_val_index_tpl):\n",
    "    \"\"\"\n",
    "    SCHEMA_COL_NAMES__TRAIN_OR_VAL_INDEX = [\n",
    "        'TokenID',\n",
    "        'CameraPerspective',\n",
    "        'ASLConsultantID',\n",
    "        'TargetVideoFilename',\n",
    "        'UtteranceSequence',\n",
    "        'TokenSequence',\n",
    "        'FrameSequence'\n",
    "    ]\n",
    "    \"\"\"\n",
    "    target_video_frames_dir = os.path.join(\n",
    "        fidscs_globals.STICHED_VIDEO_FRAMES_DIR, \n",
    "        train_val_index_tpl[3].split('.')[0]\n",
    "    )\n",
    "    target_video_frame_fname = f\"{train_val_index_tpl[6]}.jpg\"\n",
    "    target_video_frame_path = os.path.join(target_video_frames_dir, target_video_frame_fname)\n",
    "    target_video_frame_img = tf.keras.preprocessing.image.load_img(\n",
    "        target_video_frame_path, \n",
    "        target_size=fidscs_globals.FRAME_IMG_INPUT_SHAPE\n",
    "    )  # this is a PIL image\n",
    "    target_video_frame_img_array = tf.keras.preprocessing.image.img_to_array(target_video_frame_img)\n",
    "    target_video_frame_img_array = target_video_frame_img_array.reshape((1,) + target_video_frame_img_array.shape)\n",
    "    target_video_frame_img_array /= 255.0 # Rescale by 1/255\n",
    "\n",
    "    return (\n",
    "        train_val_index_tpl[0],\n",
    "        train_val_index_tpl[1],\n",
    "        train_val_index_tpl[2],\n",
    "        train_val_index_tpl[3],\n",
    "        train_val_index_tpl[4],\n",
    "        train_val_index_tpl[5],\n",
    "        train_val_index_tpl[6],\n",
    "        target_video_frame_img_array\n",
    "    )"
   ]
  },
  {
   "cell_type": "code",
   "execution_count": 10,
   "metadata": {},
   "outputs": [],
   "source": [
    "def pl__X__sample_train_val_frame_sequences_index__with_frame_tensors(train_val_frame_sequences_index, name_train_val_frame_sequences_index, n_sample_size=50):\n",
    "    \"\"\"\n",
    "    \"\"\"\n",
    "    return (\n",
    "        train_val_frame_sequences_index\n",
    "        | f\"Beam PL: get random sample of {n_sample_size} frames from {name_train_val_frame_sequences_index}\" >> beam.combiners.Sample.FixedSizeGlobally(n_sample_size)\n",
    "        | f\"Beam PL: flatten random sample of {n_sample_size} frames from {name_train_val_frame_sequences_index}\" >> beam.FlatMap(lambda lst_tpl: lst_tpl)\n",
    "        | f\"Beam PL: load frame images of {name_train_val_frame_sequences_index}\" >> beam.Map(train_val_index__load_frame_img)\n",
    "    )\n",
    "\n",
    "train_frame_sequences__assoc_index__sample__with_frame_tensors = pl__X__sample_train_val_frame_sequences_index__with_frame_tensors(\n",
    "    train_frame_sequences__assoc_index, \n",
    "    \"train_frame_sequences__assoc_index\"\n",
    ")\n",
    "val_frame_sequences_index__sample__with_frame_tensors = pl__X__sample_train_val_frame_sequences_index__with_frame_tensors(\n",
    "    val_frame_sequences_index, \n",
    "    \"val_frame_sequences_index\"\n",
    ")\n",
    "train_frame_sequences_index__sample__with_frame_tensors = pl__X__sample_train_val_frame_sequences_index__with_frame_tensors(\n",
    "    train_frame_sequences_index, \n",
    "    \"train_frame_sequences_index\"\n",
    ")"
   ]
  },
  {
   "cell_type": "code",
   "execution_count": 11,
   "metadata": {},
   "outputs": [],
   "source": [
    "# we require this in order to make use of ib.show() (which provides visualization of the pcolls specified) or ib.collect() (which creates a pandas dataframe from a pcoll)\n",
    "    # but all pcolls we wish to visualize must be created prior to executing the following line\n",
    "ib.watch(locals())"
   ]
  },
  {
   "source": [
    "<p><br>\n",
    "\n",
    "##### Show base train/val frame datasets"
   ],
   "cell_type": "markdown",
   "metadata": {}
  },
  {
   "cell_type": "code",
   "execution_count": 12,
   "metadata": {},
   "outputs": [
    {
     "output_type": "display_data",
     "data": {
      "text/plain": "<IPython.core.display.HTML object>",
      "text/html": "\n            <link rel=\"stylesheet\" href=\"https://stackpath.bootstrapcdn.com/bootstrap/4.4.1/css/bootstrap.min.css\" integrity=\"sha384-Vkoo8x4CGsO3+Hhxv8T/Q5PaXtkKtu6ug5TOeNV6gBiFeWPGFN9MuhOf23Q9Ifjh\" crossorigin=\"anonymous\">\n            <div id=\"progress_indicator_447829716d9d64d76a8f0d01adc3b6d1\" class=\"spinner-border text-info\" role=\"status\">\n            </div>"
     },
     "metadata": {}
    },
    {
     "output_type": "display_data",
     "data": {
      "application/javascript": "\n        if (typeof window.interactive_beam_jquery == 'undefined') {\n          var jqueryScript = document.createElement('script');\n          jqueryScript.src = 'https://code.jquery.com/jquery-3.4.1.slim.min.js';\n          jqueryScript.type = 'text/javascript';\n          jqueryScript.onload = function() {\n            var datatableScript = document.createElement('script');\n            datatableScript.src = 'https://cdn.datatables.net/1.10.20/js/jquery.dataTables.min.js';\n            datatableScript.type = 'text/javascript';\n            datatableScript.onload = function() {\n              window.interactive_beam_jquery = jQuery.noConflict(true);\n              window.interactive_beam_jquery(document).ready(function($){\n                \n            $(\"#progress_indicator_447829716d9d64d76a8f0d01adc3b6d1\").remove();\n              });\n            }\n            document.head.appendChild(datatableScript);\n          };\n          document.head.appendChild(jqueryScript);\n        } else {\n          window.interactive_beam_jquery(document).ready(function($){\n            \n            $(\"#progress_indicator_447829716d9d64d76a8f0d01adc3b6d1\").remove();\n          });\n        }"
     },
     "metadata": {}
    }
   ],
   "source": [
    "df_train_frame_sequences__assoc_index = ib.collect(train_frame_sequences__assoc_index)"
   ]
  },
  {
   "cell_type": "code",
   "execution_count": 13,
   "metadata": {},
   "outputs": [
    {
     "output_type": "execute_result",
     "data": {
      "text/plain": [
       "                                                                                                      FrameSequence\n",
       "TokenID CameraPerspective ASLConsultantID TargetVideoFilename        UtteranceSequence TokenSequence               \n",
       "0       0                 2               roadtrip2_1051_small_0.mov 44                0                       5348\n",
       "                                                                                       0                       5349\n",
       "                                                                                       0                       5350\n",
       "                                                                                       0                       5351\n",
       "                                                                                       0                       5352\n",
       "...                                                                                                             ...\n",
       "2397    2                 2               football_1073_small_2.mov  31                5                       3525\n",
       "                                                                                       5                       3526\n",
       "                                                                                       5                       3527\n",
       "                                                                                       5                       3528\n",
       "                                                                                       5                       3529\n",
       "\n",
       "[196053 rows x 1 columns]"
      ],
      "text/html": "<div>\n<style scoped>\n    .dataframe tbody tr th:only-of-type {\n        vertical-align: middle;\n    }\n\n    .dataframe tbody tr th {\n        vertical-align: top;\n    }\n\n    .dataframe thead th {\n        text-align: right;\n    }\n</style>\n<table border=\"1\" class=\"dataframe\">\n  <thead>\n    <tr style=\"text-align: right;\">\n      <th></th>\n      <th></th>\n      <th></th>\n      <th></th>\n      <th></th>\n      <th></th>\n      <th>FrameSequence</th>\n    </tr>\n    <tr>\n      <th>TokenID</th>\n      <th>CameraPerspective</th>\n      <th>ASLConsultantID</th>\n      <th>TargetVideoFilename</th>\n      <th>UtteranceSequence</th>\n      <th>TokenSequence</th>\n      <th></th>\n    </tr>\n  </thead>\n  <tbody>\n    <tr>\n      <th rowspan=\"5\" valign=\"top\">0</th>\n      <th rowspan=\"5\" valign=\"top\">0</th>\n      <th rowspan=\"5\" valign=\"top\">2</th>\n      <th rowspan=\"5\" valign=\"top\">roadtrip2_1051_small_0.mov</th>\n      <th rowspan=\"5\" valign=\"top\">44</th>\n      <th>0</th>\n      <td>5348</td>\n    </tr>\n    <tr>\n      <th>0</th>\n      <td>5349</td>\n    </tr>\n    <tr>\n      <th>0</th>\n      <td>5350</td>\n    </tr>\n    <tr>\n      <th>0</th>\n      <td>5351</td>\n    </tr>\n    <tr>\n      <th>0</th>\n      <td>5352</td>\n    </tr>\n    <tr>\n      <th>...</th>\n      <th>...</th>\n      <th>...</th>\n      <th>...</th>\n      <th>...</th>\n      <th>...</th>\n      <td>...</td>\n    </tr>\n    <tr>\n      <th rowspan=\"5\" valign=\"top\">2397</th>\n      <th rowspan=\"5\" valign=\"top\">2</th>\n      <th rowspan=\"5\" valign=\"top\">2</th>\n      <th rowspan=\"5\" valign=\"top\">football_1073_small_2.mov</th>\n      <th rowspan=\"5\" valign=\"top\">31</th>\n      <th>5</th>\n      <td>3525</td>\n    </tr>\n    <tr>\n      <th>5</th>\n      <td>3526</td>\n    </tr>\n    <tr>\n      <th>5</th>\n      <td>3527</td>\n    </tr>\n    <tr>\n      <th>5</th>\n      <td>3528</td>\n    </tr>\n    <tr>\n      <th>5</th>\n      <td>3529</td>\n    </tr>\n  </tbody>\n</table>\n<p>196053 rows × 1 columns</p>\n</div>"
     },
     "metadata": {},
     "execution_count": 13
    }
   ],
   "source": [
    "df_train_frame_sequences__assoc_index.columns = fidscs_globals.SCHEMA_COL_NAMES__TRAIN_OR_VAL_INDEX\n",
    "df_train_frame_sequences__assoc_index.set_index(fidscs_globals.SCHEMA_PK__TRAIN_OR_VAL_INDEX, inplace=True)\n",
    "df_train_frame_sequences__assoc_index.sort_values(axis=0, by=[fidscs_globals.SCHEMA_COL_NAMES__TRAIN_OR_VAL_INDEX[6]], ignore_index=False, inplace=True)\n",
    "df_train_frame_sequences__assoc_index.sort_index(inplace=True)\n",
    "\n",
    "df_train_frame_sequences__assoc_index"
   ]
  },
  {
   "cell_type": "code",
   "execution_count": 14,
   "metadata": {},
   "outputs": [
    {
     "output_type": "display_data",
     "data": {
      "text/plain": "<IPython.core.display.HTML object>",
      "text/html": "\n            <link rel=\"stylesheet\" href=\"https://stackpath.bootstrapcdn.com/bootstrap/4.4.1/css/bootstrap.min.css\" integrity=\"sha384-Vkoo8x4CGsO3+Hhxv8T/Q5PaXtkKtu6ug5TOeNV6gBiFeWPGFN9MuhOf23Q9Ifjh\" crossorigin=\"anonymous\">\n            <div id=\"progress_indicator_36503df488a5ea7a083a4dbe59b0f9d7\" class=\"spinner-border text-info\" role=\"status\">\n            </div>"
     },
     "metadata": {}
    },
    {
     "output_type": "display_data",
     "data": {
      "application/javascript": "\n        if (typeof window.interactive_beam_jquery == 'undefined') {\n          var jqueryScript = document.createElement('script');\n          jqueryScript.src = 'https://code.jquery.com/jquery-3.4.1.slim.min.js';\n          jqueryScript.type = 'text/javascript';\n          jqueryScript.onload = function() {\n            var datatableScript = document.createElement('script');\n            datatableScript.src = 'https://cdn.datatables.net/1.10.20/js/jquery.dataTables.min.js';\n            datatableScript.type = 'text/javascript';\n            datatableScript.onload = function() {\n              window.interactive_beam_jquery = jQuery.noConflict(true);\n              window.interactive_beam_jquery(document).ready(function($){\n                \n            $(\"#progress_indicator_36503df488a5ea7a083a4dbe59b0f9d7\").remove();\n              });\n            }\n            document.head.appendChild(datatableScript);\n          };\n          document.head.appendChild(jqueryScript);\n        } else {\n          window.interactive_beam_jquery(document).ready(function($){\n            \n            $(\"#progress_indicator_36503df488a5ea7a083a4dbe59b0f9d7\").remove();\n          });\n        }"
     },
     "metadata": {}
    }
   ],
   "source": [
    "df_val_frame_sequences_index = ib.collect(val_frame_sequences_index)"
   ]
  },
  {
   "cell_type": "code",
   "execution_count": 15,
   "metadata": {},
   "outputs": [
    {
     "output_type": "execute_result",
     "data": {
      "text/plain": [
       "                                                                                                       FrameSequence\n",
       "TokenID CameraPerspective ASLConsultantID TargetVideoFilename         UtteranceSequence TokenSequence               \n",
       "0       0                 6               ben_story_441_small_0.mov   14                2                       1090\n",
       "                                                                                        2                       1091\n",
       "                                                                                        2                       1092\n",
       "                                                                                        2                       1093\n",
       "                                                                                        2                       1094\n",
       "...                                                                                                              ...\n",
       "2397    2                 2               lapd_story_1083_small_2.mov 86                8                       6519\n",
       "                                                                                        8                       6520\n",
       "                                                                                        8                       6521\n",
       "                                                                                        8                       6522\n",
       "                                                                                        8                       6523\n",
       "\n",
       "[41181 rows x 1 columns]"
      ],
      "text/html": "<div>\n<style scoped>\n    .dataframe tbody tr th:only-of-type {\n        vertical-align: middle;\n    }\n\n    .dataframe tbody tr th {\n        vertical-align: top;\n    }\n\n    .dataframe thead th {\n        text-align: right;\n    }\n</style>\n<table border=\"1\" class=\"dataframe\">\n  <thead>\n    <tr style=\"text-align: right;\">\n      <th></th>\n      <th></th>\n      <th></th>\n      <th></th>\n      <th></th>\n      <th></th>\n      <th>FrameSequence</th>\n    </tr>\n    <tr>\n      <th>TokenID</th>\n      <th>CameraPerspective</th>\n      <th>ASLConsultantID</th>\n      <th>TargetVideoFilename</th>\n      <th>UtteranceSequence</th>\n      <th>TokenSequence</th>\n      <th></th>\n    </tr>\n  </thead>\n  <tbody>\n    <tr>\n      <th rowspan=\"5\" valign=\"top\">0</th>\n      <th rowspan=\"5\" valign=\"top\">0</th>\n      <th rowspan=\"5\" valign=\"top\">6</th>\n      <th rowspan=\"5\" valign=\"top\">ben_story_441_small_0.mov</th>\n      <th rowspan=\"5\" valign=\"top\">14</th>\n      <th>2</th>\n      <td>1090</td>\n    </tr>\n    <tr>\n      <th>2</th>\n      <td>1091</td>\n    </tr>\n    <tr>\n      <th>2</th>\n      <td>1092</td>\n    </tr>\n    <tr>\n      <th>2</th>\n      <td>1093</td>\n    </tr>\n    <tr>\n      <th>2</th>\n      <td>1094</td>\n    </tr>\n    <tr>\n      <th>...</th>\n      <th>...</th>\n      <th>...</th>\n      <th>...</th>\n      <th>...</th>\n      <th>...</th>\n      <td>...</td>\n    </tr>\n    <tr>\n      <th rowspan=\"5\" valign=\"top\">2397</th>\n      <th rowspan=\"5\" valign=\"top\">2</th>\n      <th rowspan=\"5\" valign=\"top\">2</th>\n      <th rowspan=\"5\" valign=\"top\">lapd_story_1083_small_2.mov</th>\n      <th rowspan=\"5\" valign=\"top\">86</th>\n      <th>8</th>\n      <td>6519</td>\n    </tr>\n    <tr>\n      <th>8</th>\n      <td>6520</td>\n    </tr>\n    <tr>\n      <th>8</th>\n      <td>6521</td>\n    </tr>\n    <tr>\n      <th>8</th>\n      <td>6522</td>\n    </tr>\n    <tr>\n      <th>8</th>\n      <td>6523</td>\n    </tr>\n  </tbody>\n</table>\n<p>41181 rows × 1 columns</p>\n</div>"
     },
     "metadata": {},
     "execution_count": 15
    }
   ],
   "source": [
    "df_val_frame_sequences_index.columns = fidscs_globals.SCHEMA_COL_NAMES__TRAIN_OR_VAL_INDEX\n",
    "df_val_frame_sequences_index.set_index(fidscs_globals.SCHEMA_PK__TRAIN_OR_VAL_INDEX, inplace=True)\n",
    "df_val_frame_sequences_index.sort_values(axis=0, by=[fidscs_globals.SCHEMA_COL_NAMES__TRAIN_OR_VAL_INDEX[6]], ignore_index=False, inplace=True)\n",
    "df_val_frame_sequences_index.sort_index(inplace=True)\n",
    "\n",
    "df_val_frame_sequences_index"
   ]
  },
  {
   "cell_type": "code",
   "execution_count": 16,
   "metadata": {},
   "outputs": [
    {
     "output_type": "display_data",
     "data": {
      "text/plain": "<IPython.core.display.HTML object>",
      "text/html": "\n            <link rel=\"stylesheet\" href=\"https://stackpath.bootstrapcdn.com/bootstrap/4.4.1/css/bootstrap.min.css\" integrity=\"sha384-Vkoo8x4CGsO3+Hhxv8T/Q5PaXtkKtu6ug5TOeNV6gBiFeWPGFN9MuhOf23Q9Ifjh\" crossorigin=\"anonymous\">\n            <div id=\"progress_indicator_eeb51848afe01a5dacf83dcd9f6bbb36\" class=\"spinner-border text-info\" role=\"status\">\n            </div>"
     },
     "metadata": {}
    },
    {
     "output_type": "display_data",
     "data": {
      "application/javascript": "\n        if (typeof window.interactive_beam_jquery == 'undefined') {\n          var jqueryScript = document.createElement('script');\n          jqueryScript.src = 'https://code.jquery.com/jquery-3.4.1.slim.min.js';\n          jqueryScript.type = 'text/javascript';\n          jqueryScript.onload = function() {\n            var datatableScript = document.createElement('script');\n            datatableScript.src = 'https://cdn.datatables.net/1.10.20/js/jquery.dataTables.min.js';\n            datatableScript.type = 'text/javascript';\n            datatableScript.onload = function() {\n              window.interactive_beam_jquery = jQuery.noConflict(true);\n              window.interactive_beam_jquery(document).ready(function($){\n                \n            $(\"#progress_indicator_eeb51848afe01a5dacf83dcd9f6bbb36\").remove();\n              });\n            }\n            document.head.appendChild(datatableScript);\n          };\n          document.head.appendChild(jqueryScript);\n        } else {\n          window.interactive_beam_jquery(document).ready(function($){\n            \n            $(\"#progress_indicator_eeb51848afe01a5dacf83dcd9f6bbb36\").remove();\n          });\n        }"
     },
     "metadata": {}
    }
   ],
   "source": [
    "df_train_frame_sequences_index = ib.collect(train_frame_sequences_index)"
   ]
  },
  {
   "cell_type": "code",
   "execution_count": 17,
   "metadata": {},
   "outputs": [
    {
     "output_type": "execute_result",
     "data": {
      "text/plain": [
       "                                                                                                      FrameSequence\n",
       "TokenID CameraPerspective ASLConsultantID TargetVideoFilename        UtteranceSequence TokenSequence               \n",
       "0       0                 2               roadtrip2_1051_small_0.mov 44                0                       5348\n",
       "                                                                                       0                       5349\n",
       "                                                                                       0                       5350\n",
       "                                                                                       0                       5351\n",
       "                                                                                       0                       5352\n",
       "...                                                                                                             ...\n",
       "2411    2                 2               boston-la_1088_small_2.mov 70                12                     11323\n",
       "                                                                                       12                     11324\n",
       "                                                                                       12                     11325\n",
       "                                                                                       12                     11326\n",
       "                                                                                       12                     11327\n",
       "\n",
       "[250229 rows x 1 columns]"
      ],
      "text/html": "<div>\n<style scoped>\n    .dataframe tbody tr th:only-of-type {\n        vertical-align: middle;\n    }\n\n    .dataframe tbody tr th {\n        vertical-align: top;\n    }\n\n    .dataframe thead th {\n        text-align: right;\n    }\n</style>\n<table border=\"1\" class=\"dataframe\">\n  <thead>\n    <tr style=\"text-align: right;\">\n      <th></th>\n      <th></th>\n      <th></th>\n      <th></th>\n      <th></th>\n      <th></th>\n      <th>FrameSequence</th>\n    </tr>\n    <tr>\n      <th>TokenID</th>\n      <th>CameraPerspective</th>\n      <th>ASLConsultantID</th>\n      <th>TargetVideoFilename</th>\n      <th>UtteranceSequence</th>\n      <th>TokenSequence</th>\n      <th></th>\n    </tr>\n  </thead>\n  <tbody>\n    <tr>\n      <th rowspan=\"5\" valign=\"top\">0</th>\n      <th rowspan=\"5\" valign=\"top\">0</th>\n      <th rowspan=\"5\" valign=\"top\">2</th>\n      <th rowspan=\"5\" valign=\"top\">roadtrip2_1051_small_0.mov</th>\n      <th rowspan=\"5\" valign=\"top\">44</th>\n      <th>0</th>\n      <td>5348</td>\n    </tr>\n    <tr>\n      <th>0</th>\n      <td>5349</td>\n    </tr>\n    <tr>\n      <th>0</th>\n      <td>5350</td>\n    </tr>\n    <tr>\n      <th>0</th>\n      <td>5351</td>\n    </tr>\n    <tr>\n      <th>0</th>\n      <td>5352</td>\n    </tr>\n    <tr>\n      <th>...</th>\n      <th>...</th>\n      <th>...</th>\n      <th>...</th>\n      <th>...</th>\n      <th>...</th>\n      <td>...</td>\n    </tr>\n    <tr>\n      <th rowspan=\"5\" valign=\"top\">2411</th>\n      <th rowspan=\"5\" valign=\"top\">2</th>\n      <th rowspan=\"5\" valign=\"top\">2</th>\n      <th rowspan=\"5\" valign=\"top\">boston-la_1088_small_2.mov</th>\n      <th rowspan=\"5\" valign=\"top\">70</th>\n      <th>12</th>\n      <td>11323</td>\n    </tr>\n    <tr>\n      <th>12</th>\n      <td>11324</td>\n    </tr>\n    <tr>\n      <th>12</th>\n      <td>11325</td>\n    </tr>\n    <tr>\n      <th>12</th>\n      <td>11326</td>\n    </tr>\n    <tr>\n      <th>12</th>\n      <td>11327</td>\n    </tr>\n  </tbody>\n</table>\n<p>250229 rows × 1 columns</p>\n</div>"
     },
     "metadata": {},
     "execution_count": 17
    }
   ],
   "source": [
    "df_train_frame_sequences_index.columns = fidscs_globals.SCHEMA_COL_NAMES__TRAIN_OR_VAL_INDEX\n",
    "df_train_frame_sequences_index.set_index(fidscs_globals.SCHEMA_PK__TRAIN_OR_VAL_INDEX, inplace=True)\n",
    "df_train_frame_sequences_index.sort_values(axis=0, by=[fidscs_globals.SCHEMA_COL_NAMES__TRAIN_OR_VAL_INDEX[6]], ignore_index=False, inplace=True)\n",
    "df_train_frame_sequences_index.sort_index(inplace=True)\n",
    "\n",
    "df_train_frame_sequences_index"
   ]
  },
  {
   "source": [
    "<p><br>\n",
    "\n",
    "##### Show sample of train/val frame datasets with loaded tensors (to demonstrate functional frame-to-tensor extraction)"
   ],
   "cell_type": "markdown",
   "metadata": {}
  },
  {
   "cell_type": "code",
   "execution_count": 18,
   "metadata": {},
   "outputs": [
    {
     "output_type": "display_data",
     "data": {
      "text/plain": "<IPython.core.display.HTML object>",
      "text/html": "\n            <link rel=\"stylesheet\" href=\"https://stackpath.bootstrapcdn.com/bootstrap/4.4.1/css/bootstrap.min.css\" integrity=\"sha384-Vkoo8x4CGsO3+Hhxv8T/Q5PaXtkKtu6ug5TOeNV6gBiFeWPGFN9MuhOf23Q9Ifjh\" crossorigin=\"anonymous\">\n            <div id=\"progress_indicator_db212557f4d25bfa637a9f62b9f7a61f\" class=\"spinner-border text-info\" role=\"status\">\n            </div>"
     },
     "metadata": {}
    },
    {
     "output_type": "display_data",
     "data": {
      "application/javascript": "\n        if (typeof window.interactive_beam_jquery == 'undefined') {\n          var jqueryScript = document.createElement('script');\n          jqueryScript.src = 'https://code.jquery.com/jquery-3.4.1.slim.min.js';\n          jqueryScript.type = 'text/javascript';\n          jqueryScript.onload = function() {\n            var datatableScript = document.createElement('script');\n            datatableScript.src = 'https://cdn.datatables.net/1.10.20/js/jquery.dataTables.min.js';\n            datatableScript.type = 'text/javascript';\n            datatableScript.onload = function() {\n              window.interactive_beam_jquery = jQuery.noConflict(true);\n              window.interactive_beam_jquery(document).ready(function($){\n                \n            $(\"#progress_indicator_db212557f4d25bfa637a9f62b9f7a61f\").remove();\n              });\n            }\n            document.head.appendChild(datatableScript);\n          };\n          document.head.appendChild(jqueryScript);\n        } else {\n          window.interactive_beam_jquery(document).ready(function($){\n            \n            $(\"#progress_indicator_db212557f4d25bfa637a9f62b9f7a61f\").remove();\n          });\n        }"
     },
     "metadata": {}
    }
   ],
   "source": [
    "df_train_frame_sequences__assoc_index__sample__with_frame_tensors = ib.collect(train_frame_sequences__assoc_index__sample__with_frame_tensors)"
   ]
  },
  {
   "cell_type": "code",
   "execution_count": 19,
   "metadata": {},
   "outputs": [
    {
     "output_type": "execute_result",
     "data": {
      "text/plain": [
       "                                                                                                         FrameSequence  \\\n",
       "TokenID CameraPerspective ASLConsultantID TargetVideoFilename           UtteranceSequence TokenSequence                  \n",
       "7       0                 2               muhammed_ali_1052_small_0.mov 2                 0                        264   \n",
       "        3                 2               muhammed_ali_1052_small_3.mov 23                1                       2889   \n",
       "10      2                 2               dorm_prank_1053_small_2.mov   1                 3                        101   \n",
       "188     0                 2               roadtrip1_1050_small_0.mov    25                4                       5854   \n",
       "319     0                 2               _1583_small_0.mov             51                1                         31   \n",
       "321     0                 6               ch6-547_181_small_0.mov       4                 3                         68   \n",
       "324     3                 2               _1493_small_3.mov             174               2                         26   \n",
       "340     3                 2               roadtrip2_1051_small_3.mov    15                6                       1623   \n",
       "346     0                 2               siblings_1066_small_0.mov     35                2                       3095   \n",
       "        2                 2               lapd_story_1083_small_2.mov   90                3                       6783   \n",
       "461     2                 2               boston-la_1088_small_2.mov    0                 0                         10   \n",
       "                                          roadtrip2_1051_small_2.mov    16                3                       1678   \n",
       "                                          whitewater_1049_small_2.mov   44                0                       4020   \n",
       "474     2                 6               674_479_slave2_small.mov      5                 5                         92   \n",
       "478     2                 2               football_1073_small_2.mov     17                5                       1945   \n",
       "481     3                 2               _1637_small_3.mov             126               4                       2631   \n",
       "497     3                 2               _1628_small_3.mov             96                2                         34   \n",
       "708     0                 2               lapd_story_1083_small_0.mov   65                5                       4958   \n",
       "743     0                 2               whitewater_1049_small_0.mov   22                4                       2170   \n",
       "765     2                 6               ch5-457_157_small_2.mov       32                4                         68   \n",
       "855     3                 2               muhammed_ali_1052_small_3.mov 13                12                      1660   \n",
       "1071    2                 2               football_1073_small_2.mov     33                3                       3654   \n",
       "1208    0                 6               674_479_master_small.mov      5                 6                        113   \n",
       "        1                 2               _1378_small_1.mov             82                4                         66   \n",
       "                                          _1596_small_1.mov             64                3                         41   \n",
       "        2                 2               _1006_small_2.mov             6                 6                         79   \n",
       "                          3               923_740_slave2_small.mov      8                 5                         69   \n",
       "                          6               678_484_slave2_small.mov      10                3                         65   \n",
       "                                          ben_story_441_small_2.mov     26                3                       2046   \n",
       "        3                 2               _1436_small_3.mov             138               6                         86   \n",
       "                                          _1578_small_3.mov             46                5                         64   \n",
       "                                          whitewater_1049_small_3.mov   7                 5                        794   \n",
       "1227    0                 2               _1342_small_0.mov             46                3                         51   \n",
       "1437    0                 2               lapd_story_1083_small_0.mov   97                6                       7377   \n",
       "1443    0                 2               whitewater_1049_small_0.mov   1                 0                        102   \n",
       "1448    0                 6               ch7-574_185_small_0.mov       16                0                         34   \n",
       "1456    0                 2               _1324_small_0.mov             29                4                         63   \n",
       "1679    0                 2               boston-la_1088_small_0.mov    55                7                       8793   \n",
       "1816    3                 2               roadtrip1_1050_small_3.mov    34                18                      8424   \n",
       "1824    0                 2               accident_1065_small_0.mov     61                4                       7181   \n",
       "1858    1                 2               _1589_small_1.mov             57                4                         68   \n",
       "1899    2                 2               siblings_1066_small_2.mov     43                3                       3746   \n",
       "1916    2                 2               _976_small_2.mov              2                 2                         38   \n",
       "1964    0                 2               whitewater_1049_small_0.mov   15                3                       1600   \n",
       "1971    1                 6               650_224_small_1.mov           18                2                         54   \n",
       "2131    2                 0               d13c_1167_small_2.mov         3                 1                         39   \n",
       "2148    2                 2               boston-la_1088_small_2.mov    11                7                       1952   \n",
       "2167    0                 5               DSP%2520DeadDog.mov           26                0                       2925   \n",
       "2177    0                 6               ben_story_445_small_0.mov     53                3                        539   \n",
       "2350    2                 2               roadtrip1_1050_small_2.mov    7                 17                      1304   \n",
       "\n",
       "                                                                                                                                               FrameTensor  \n",
       "TokenID CameraPerspective ASLConsultantID TargetVideoFilename           UtteranceSequence TokenSequence                                                     \n",
       "7       0                 2               muhammed_ali_1052_small_0.mov 2                 0              [[[[0.01176471 0.         0.18431373], [0.    ...  \n",
       "        3                 2               muhammed_ali_1052_small_3.mov 23                1              [[[[0.11764706 0.12156863 0.30980393], [0.0980...  \n",
       "10      2                 2               dorm_prank_1053_small_2.mov   1                 3              [[[[0.01176471 0.01176471 0.12156863], [0.0117...  \n",
       "188     0                 2               roadtrip1_1050_small_0.mov    25                4              [[[[0.00392157 0.01176471 0.2       ], [0.    ...  \n",
       "319     0                 2               _1583_small_0.mov             51                1              [[[[0.01960784 0.00392157 0.10980392], [0.0470...  \n",
       "321     0                 6               ch6-547_181_small_0.mov       4                 3              [[[[0.16862746 0.16078432 0.17254902], [0.1921...  \n",
       "324     3                 2               _1493_small_3.mov             174               2              [[[[0.01960784 0.01568628 0.13725491], [0.0156...  \n",
       "340     3                 2               roadtrip2_1051_small_3.mov    15                6              [[[[0.10588235 0.10980392 0.29803923], [0.1098...  \n",
       "346     0                 2               siblings_1066_small_0.mov     35                2              [[[[0.00392157 0.00784314 0.18039216], [0.    ...  \n",
       "        2                 2               lapd_story_1083_small_2.mov   90                3              [[[[0.         0.         0.13333334], [0.0039...  \n",
       "461     2                 2               boston-la_1088_small_2.mov    0                 0              [[[[0.         0.         0.13333334], [0.    ...  \n",
       "                                          roadtrip2_1051_small_2.mov    16                3              [[[[0.01960784 0.01568628 0.14117648], [0.0117...  \n",
       "                                          whitewater_1049_small_2.mov   44                0              [[[[0.01568628 0.01176471 0.13725491], [0.0196...  \n",
       "474     2                 6               674_479_slave2_small.mov      5                 5              [[[[0.05882353 0.03921569 0.15686275], [0.0588...  \n",
       "478     2                 2               football_1073_small_2.mov     17                5              [[[[0.00392157 0.00392157 0.13725491], [0.    ...  \n",
       "481     3                 2               _1637_small_3.mov             126               4              [[[[0.01568628 0.01176471 0.13725491], [0.0117...  \n",
       "497     3                 2               _1628_small_3.mov             96                2              [[[[0.00392157 0.         0.1254902 ], [0.0196...  \n",
       "708     0                 2               lapd_story_1083_small_0.mov   65                5              [[[[0.00392157 0.00392157 0.2       ], [0.    ...  \n",
       "743     0                 2               whitewater_1049_small_0.mov   22                4              [[[[0.         0.00392157 0.19215687], [0.    ...  \n",
       "765     2                 6               ch5-457_157_small_2.mov       32                4              [[[[0.07058824 0.09411765 0.23529412], [0.0901...  \n",
       "855     3                 2               muhammed_ali_1052_small_3.mov 13                12             [[[[0.12156863 0.1254902  0.3137255 ], [0.1098...  \n",
       "1071    2                 2               football_1073_small_2.mov     33                3              [[[[0.00392157 0.         0.12156863], [0.0156...  \n",
       "1208    0                 6               674_479_master_small.mov      5                 6              [[[[0.08235294 0.07450981 0.08627451], [0.1098...  \n",
       "        1                 2               _1378_small_1.mov             82                4              [[[[0.02352941 0.02745098 0.14901961], [0.0274...  \n",
       "                                          _1596_small_1.mov             64                3              [[[[0.01568628 0.01176471 0.13333334], [0.0274...  \n",
       "        2                 2               _1006_small_2.mov             6                 6              [[[[0.00784314 0.00392157 0.12941177], [0.0078...  \n",
       "                          3               923_740_slave2_small.mov      8                 5              [[[[0.03921569 0.01960784 0.13725491], [0.0588...  \n",
       "                          6               678_484_slave2_small.mov      10                3              [[[[0.04313726 0.02352941 0.14117648], [0.0509...  \n",
       "                                          ben_story_441_small_2.mov     26                3              [[[[0.05490196 0.04313726 0.15686275], [0.0666...  \n",
       "        3                 2               _1436_small_3.mov             138               6              [[[[0.01568628 0.01176471 0.13333334], [0.0196...  \n",
       "                                          _1578_small_3.mov             46                5              [[[[0.01176471 0.00784314 0.12941177], [0.0196...  \n",
       "                                          whitewater_1049_small_3.mov   7                 5              [[[[0.12156863 0.12156863 0.31764707], [0.1176...  \n",
       "1227    0                 2               _1342_small_0.mov             46                3              [[[[0.02352941 0.00784314 0.11372549], [0.0352...  \n",
       "1437    0                 2               lapd_story_1083_small_0.mov   97                6              [[[[0.01176471 0.00392157 0.19607843], [0.0039...  \n",
       "1443    0                 2               whitewater_1049_small_0.mov   1                 0              [[[[0.00392157 0.00392157 0.2       ], [0.    ...  \n",
       "1448    0                 6               ch7-574_185_small_0.mov       16                0              [[[[0.16470589 0.15686275 0.16862746], [0.1921...  \n",
       "1456    0                 2               _1324_small_0.mov             29                4              [[[[0.02352941 0.00784314 0.11372549], [0.0235...  \n",
       "1679    0                 2               boston-la_1088_small_0.mov    55                7              [[[[0.00784314 0.01176471 0.19215687], [0.0117...  \n",
       "1816    3                 2               roadtrip1_1050_small_3.mov    34                18             [[[[0.11764706 0.12156863 0.30980393], [0.1019...  \n",
       "1824    0                 2               accident_1065_small_0.mov     61                4              [[[[0.00392157 0.         0.16470589], [0.    ...  \n",
       "1858    1                 2               _1589_small_1.mov             57                4              [[[[0.01960784 0.02352941 0.14117648], [0.0352...  \n",
       "1899    2                 2               siblings_1066_small_2.mov     43                3              [[[[0.00392157 0.         0.13333334], [0.0078...  \n",
       "1916    2                 2               _976_small_2.mov              2                 2              [[[[0.01568628 0.00784314 0.15294118], [0.0274...  \n",
       "1964    0                 2               whitewater_1049_small_0.mov   15                3              [[[[0.         0.         0.18039216], [0.    ...  \n",
       "1971    1                 6               650_224_small_1.mov           18                2              [[[[0.05098039 0.04313726 0.05490196], [0.0941...  \n",
       "2131    2                 0               d13c_1167_small_2.mov         3                 1              [[[[0.00784314 0.         0.05098039], [0.0039...  \n",
       "2148    2                 2               boston-la_1088_small_2.mov    11                7              [[[[0.         0.         0.12156863], [0.    ...  \n",
       "2167    0                 5               DSP%2520DeadDog.mov           26                0              [[[[0. 0. 0.], [0.00784314 0.         0.003921...  \n",
       "2177    0                 6               ben_story_445_small_0.mov     53                3              [[[[0.19215687 0.18431373 0.19607843], [0.2   ...  \n",
       "2350    2                 2               roadtrip1_1050_small_2.mov    7                 17             [[[[0.01568628 0.01176471 0.13725491], [0.0117...  "
      ],
      "text/html": "<div>\n<style scoped>\n    .dataframe tbody tr th:only-of-type {\n        vertical-align: middle;\n    }\n\n    .dataframe tbody tr th {\n        vertical-align: top;\n    }\n\n    .dataframe thead th {\n        text-align: right;\n    }\n</style>\n<table border=\"1\" class=\"dataframe\">\n  <thead>\n    <tr style=\"text-align: right;\">\n      <th></th>\n      <th></th>\n      <th></th>\n      <th></th>\n      <th></th>\n      <th></th>\n      <th>FrameSequence</th>\n      <th>FrameTensor</th>\n    </tr>\n    <tr>\n      <th>TokenID</th>\n      <th>CameraPerspective</th>\n      <th>ASLConsultantID</th>\n      <th>TargetVideoFilename</th>\n      <th>UtteranceSequence</th>\n      <th>TokenSequence</th>\n      <th></th>\n      <th></th>\n    </tr>\n  </thead>\n  <tbody>\n    <tr>\n      <th rowspan=\"2\" valign=\"top\">7</th>\n      <th>0</th>\n      <th>2</th>\n      <th>muhammed_ali_1052_small_0.mov</th>\n      <th>2</th>\n      <th>0</th>\n      <td>264</td>\n      <td>[[[[0.01176471 0.         0.18431373], [0.    ...</td>\n    </tr>\n    <tr>\n      <th>3</th>\n      <th>2</th>\n      <th>muhammed_ali_1052_small_3.mov</th>\n      <th>23</th>\n      <th>1</th>\n      <td>2889</td>\n      <td>[[[[0.11764706 0.12156863 0.30980393], [0.0980...</td>\n    </tr>\n    <tr>\n      <th>10</th>\n      <th>2</th>\n      <th>2</th>\n      <th>dorm_prank_1053_small_2.mov</th>\n      <th>1</th>\n      <th>3</th>\n      <td>101</td>\n      <td>[[[[0.01176471 0.01176471 0.12156863], [0.0117...</td>\n    </tr>\n    <tr>\n      <th>188</th>\n      <th>0</th>\n      <th>2</th>\n      <th>roadtrip1_1050_small_0.mov</th>\n      <th>25</th>\n      <th>4</th>\n      <td>5854</td>\n      <td>[[[[0.00392157 0.01176471 0.2       ], [0.    ...</td>\n    </tr>\n    <tr>\n      <th>319</th>\n      <th>0</th>\n      <th>2</th>\n      <th>_1583_small_0.mov</th>\n      <th>51</th>\n      <th>1</th>\n      <td>31</td>\n      <td>[[[[0.01960784 0.00392157 0.10980392], [0.0470...</td>\n    </tr>\n    <tr>\n      <th>321</th>\n      <th>0</th>\n      <th>6</th>\n      <th>ch6-547_181_small_0.mov</th>\n      <th>4</th>\n      <th>3</th>\n      <td>68</td>\n      <td>[[[[0.16862746 0.16078432 0.17254902], [0.1921...</td>\n    </tr>\n    <tr>\n      <th>324</th>\n      <th>3</th>\n      <th>2</th>\n      <th>_1493_small_3.mov</th>\n      <th>174</th>\n      <th>2</th>\n      <td>26</td>\n      <td>[[[[0.01960784 0.01568628 0.13725491], [0.0156...</td>\n    </tr>\n    <tr>\n      <th>340</th>\n      <th>3</th>\n      <th>2</th>\n      <th>roadtrip2_1051_small_3.mov</th>\n      <th>15</th>\n      <th>6</th>\n      <td>1623</td>\n      <td>[[[[0.10588235 0.10980392 0.29803923], [0.1098...</td>\n    </tr>\n    <tr>\n      <th rowspan=\"2\" valign=\"top\">346</th>\n      <th>0</th>\n      <th>2</th>\n      <th>siblings_1066_small_0.mov</th>\n      <th>35</th>\n      <th>2</th>\n      <td>3095</td>\n      <td>[[[[0.00392157 0.00784314 0.18039216], [0.    ...</td>\n    </tr>\n    <tr>\n      <th>2</th>\n      <th>2</th>\n      <th>lapd_story_1083_small_2.mov</th>\n      <th>90</th>\n      <th>3</th>\n      <td>6783</td>\n      <td>[[[[0.         0.         0.13333334], [0.0039...</td>\n    </tr>\n    <tr>\n      <th rowspan=\"3\" valign=\"top\">461</th>\n      <th rowspan=\"3\" valign=\"top\">2</th>\n      <th rowspan=\"3\" valign=\"top\">2</th>\n      <th>boston-la_1088_small_2.mov</th>\n      <th>0</th>\n      <th>0</th>\n      <td>10</td>\n      <td>[[[[0.         0.         0.13333334], [0.    ...</td>\n    </tr>\n    <tr>\n      <th>roadtrip2_1051_small_2.mov</th>\n      <th>16</th>\n      <th>3</th>\n      <td>1678</td>\n      <td>[[[[0.01960784 0.01568628 0.14117648], [0.0117...</td>\n    </tr>\n    <tr>\n      <th>whitewater_1049_small_2.mov</th>\n      <th>44</th>\n      <th>0</th>\n      <td>4020</td>\n      <td>[[[[0.01568628 0.01176471 0.13725491], [0.0196...</td>\n    </tr>\n    <tr>\n      <th>474</th>\n      <th>2</th>\n      <th>6</th>\n      <th>674_479_slave2_small.mov</th>\n      <th>5</th>\n      <th>5</th>\n      <td>92</td>\n      <td>[[[[0.05882353 0.03921569 0.15686275], [0.0588...</td>\n    </tr>\n    <tr>\n      <th>478</th>\n      <th>2</th>\n      <th>2</th>\n      <th>football_1073_small_2.mov</th>\n      <th>17</th>\n      <th>5</th>\n      <td>1945</td>\n      <td>[[[[0.00392157 0.00392157 0.13725491], [0.    ...</td>\n    </tr>\n    <tr>\n      <th>481</th>\n      <th>3</th>\n      <th>2</th>\n      <th>_1637_small_3.mov</th>\n      <th>126</th>\n      <th>4</th>\n      <td>2631</td>\n      <td>[[[[0.01568628 0.01176471 0.13725491], [0.0117...</td>\n    </tr>\n    <tr>\n      <th>497</th>\n      <th>3</th>\n      <th>2</th>\n      <th>_1628_small_3.mov</th>\n      <th>96</th>\n      <th>2</th>\n      <td>34</td>\n      <td>[[[[0.00392157 0.         0.1254902 ], [0.0196...</td>\n    </tr>\n    <tr>\n      <th>708</th>\n      <th>0</th>\n      <th>2</th>\n      <th>lapd_story_1083_small_0.mov</th>\n      <th>65</th>\n      <th>5</th>\n      <td>4958</td>\n      <td>[[[[0.00392157 0.00392157 0.2       ], [0.    ...</td>\n    </tr>\n    <tr>\n      <th>743</th>\n      <th>0</th>\n      <th>2</th>\n      <th>whitewater_1049_small_0.mov</th>\n      <th>22</th>\n      <th>4</th>\n      <td>2170</td>\n      <td>[[[[0.         0.00392157 0.19215687], [0.    ...</td>\n    </tr>\n    <tr>\n      <th>765</th>\n      <th>2</th>\n      <th>6</th>\n      <th>ch5-457_157_small_2.mov</th>\n      <th>32</th>\n      <th>4</th>\n      <td>68</td>\n      <td>[[[[0.07058824 0.09411765 0.23529412], [0.0901...</td>\n    </tr>\n    <tr>\n      <th>855</th>\n      <th>3</th>\n      <th>2</th>\n      <th>muhammed_ali_1052_small_3.mov</th>\n      <th>13</th>\n      <th>12</th>\n      <td>1660</td>\n      <td>[[[[0.12156863 0.1254902  0.3137255 ], [0.1098...</td>\n    </tr>\n    <tr>\n      <th>1071</th>\n      <th>2</th>\n      <th>2</th>\n      <th>football_1073_small_2.mov</th>\n      <th>33</th>\n      <th>3</th>\n      <td>3654</td>\n      <td>[[[[0.00392157 0.         0.12156863], [0.0156...</td>\n    </tr>\n    <tr>\n      <th rowspan=\"10\" valign=\"top\">1208</th>\n      <th>0</th>\n      <th>6</th>\n      <th>674_479_master_small.mov</th>\n      <th>5</th>\n      <th>6</th>\n      <td>113</td>\n      <td>[[[[0.08235294 0.07450981 0.08627451], [0.1098...</td>\n    </tr>\n    <tr>\n      <th rowspan=\"2\" valign=\"top\">1</th>\n      <th rowspan=\"2\" valign=\"top\">2</th>\n      <th>_1378_small_1.mov</th>\n      <th>82</th>\n      <th>4</th>\n      <td>66</td>\n      <td>[[[[0.02352941 0.02745098 0.14901961], [0.0274...</td>\n    </tr>\n    <tr>\n      <th>_1596_small_1.mov</th>\n      <th>64</th>\n      <th>3</th>\n      <td>41</td>\n      <td>[[[[0.01568628 0.01176471 0.13333334], [0.0274...</td>\n    </tr>\n    <tr>\n      <th rowspan=\"4\" valign=\"top\">2</th>\n      <th>2</th>\n      <th>_1006_small_2.mov</th>\n      <th>6</th>\n      <th>6</th>\n      <td>79</td>\n      <td>[[[[0.00784314 0.00392157 0.12941177], [0.0078...</td>\n    </tr>\n    <tr>\n      <th>3</th>\n      <th>923_740_slave2_small.mov</th>\n      <th>8</th>\n      <th>5</th>\n      <td>69</td>\n      <td>[[[[0.03921569 0.01960784 0.13725491], [0.0588...</td>\n    </tr>\n    <tr>\n      <th rowspan=\"2\" valign=\"top\">6</th>\n      <th>678_484_slave2_small.mov</th>\n      <th>10</th>\n      <th>3</th>\n      <td>65</td>\n      <td>[[[[0.04313726 0.02352941 0.14117648], [0.0509...</td>\n    </tr>\n    <tr>\n      <th>ben_story_441_small_2.mov</th>\n      <th>26</th>\n      <th>3</th>\n      <td>2046</td>\n      <td>[[[[0.05490196 0.04313726 0.15686275], [0.0666...</td>\n    </tr>\n    <tr>\n      <th rowspan=\"3\" valign=\"top\">3</th>\n      <th rowspan=\"3\" valign=\"top\">2</th>\n      <th>_1436_small_3.mov</th>\n      <th>138</th>\n      <th>6</th>\n      <td>86</td>\n      <td>[[[[0.01568628 0.01176471 0.13333334], [0.0196...</td>\n    </tr>\n    <tr>\n      <th>_1578_small_3.mov</th>\n      <th>46</th>\n      <th>5</th>\n      <td>64</td>\n      <td>[[[[0.01176471 0.00784314 0.12941177], [0.0196...</td>\n    </tr>\n    <tr>\n      <th>whitewater_1049_small_3.mov</th>\n      <th>7</th>\n      <th>5</th>\n      <td>794</td>\n      <td>[[[[0.12156863 0.12156863 0.31764707], [0.1176...</td>\n    </tr>\n    <tr>\n      <th>1227</th>\n      <th>0</th>\n      <th>2</th>\n      <th>_1342_small_0.mov</th>\n      <th>46</th>\n      <th>3</th>\n      <td>51</td>\n      <td>[[[[0.02352941 0.00784314 0.11372549], [0.0352...</td>\n    </tr>\n    <tr>\n      <th>1437</th>\n      <th>0</th>\n      <th>2</th>\n      <th>lapd_story_1083_small_0.mov</th>\n      <th>97</th>\n      <th>6</th>\n      <td>7377</td>\n      <td>[[[[0.01176471 0.00392157 0.19607843], [0.0039...</td>\n    </tr>\n    <tr>\n      <th>1443</th>\n      <th>0</th>\n      <th>2</th>\n      <th>whitewater_1049_small_0.mov</th>\n      <th>1</th>\n      <th>0</th>\n      <td>102</td>\n      <td>[[[[0.00392157 0.00392157 0.2       ], [0.    ...</td>\n    </tr>\n    <tr>\n      <th>1448</th>\n      <th>0</th>\n      <th>6</th>\n      <th>ch7-574_185_small_0.mov</th>\n      <th>16</th>\n      <th>0</th>\n      <td>34</td>\n      <td>[[[[0.16470589 0.15686275 0.16862746], [0.1921...</td>\n    </tr>\n    <tr>\n      <th>1456</th>\n      <th>0</th>\n      <th>2</th>\n      <th>_1324_small_0.mov</th>\n      <th>29</th>\n      <th>4</th>\n      <td>63</td>\n      <td>[[[[0.02352941 0.00784314 0.11372549], [0.0235...</td>\n    </tr>\n    <tr>\n      <th>1679</th>\n      <th>0</th>\n      <th>2</th>\n      <th>boston-la_1088_small_0.mov</th>\n      <th>55</th>\n      <th>7</th>\n      <td>8793</td>\n      <td>[[[[0.00784314 0.01176471 0.19215687], [0.0117...</td>\n    </tr>\n    <tr>\n      <th>1816</th>\n      <th>3</th>\n      <th>2</th>\n      <th>roadtrip1_1050_small_3.mov</th>\n      <th>34</th>\n      <th>18</th>\n      <td>8424</td>\n      <td>[[[[0.11764706 0.12156863 0.30980393], [0.1019...</td>\n    </tr>\n    <tr>\n      <th>1824</th>\n      <th>0</th>\n      <th>2</th>\n      <th>accident_1065_small_0.mov</th>\n      <th>61</th>\n      <th>4</th>\n      <td>7181</td>\n      <td>[[[[0.00392157 0.         0.16470589], [0.    ...</td>\n    </tr>\n    <tr>\n      <th>1858</th>\n      <th>1</th>\n      <th>2</th>\n      <th>_1589_small_1.mov</th>\n      <th>57</th>\n      <th>4</th>\n      <td>68</td>\n      <td>[[[[0.01960784 0.02352941 0.14117648], [0.0352...</td>\n    </tr>\n    <tr>\n      <th>1899</th>\n      <th>2</th>\n      <th>2</th>\n      <th>siblings_1066_small_2.mov</th>\n      <th>43</th>\n      <th>3</th>\n      <td>3746</td>\n      <td>[[[[0.00392157 0.         0.13333334], [0.0078...</td>\n    </tr>\n    <tr>\n      <th>1916</th>\n      <th>2</th>\n      <th>2</th>\n      <th>_976_small_2.mov</th>\n      <th>2</th>\n      <th>2</th>\n      <td>38</td>\n      <td>[[[[0.01568628 0.00784314 0.15294118], [0.0274...</td>\n    </tr>\n    <tr>\n      <th>1964</th>\n      <th>0</th>\n      <th>2</th>\n      <th>whitewater_1049_small_0.mov</th>\n      <th>15</th>\n      <th>3</th>\n      <td>1600</td>\n      <td>[[[[0.         0.         0.18039216], [0.    ...</td>\n    </tr>\n    <tr>\n      <th>1971</th>\n      <th>1</th>\n      <th>6</th>\n      <th>650_224_small_1.mov</th>\n      <th>18</th>\n      <th>2</th>\n      <td>54</td>\n      <td>[[[[0.05098039 0.04313726 0.05490196], [0.0941...</td>\n    </tr>\n    <tr>\n      <th>2131</th>\n      <th>2</th>\n      <th>0</th>\n      <th>d13c_1167_small_2.mov</th>\n      <th>3</th>\n      <th>1</th>\n      <td>39</td>\n      <td>[[[[0.00784314 0.         0.05098039], [0.0039...</td>\n    </tr>\n    <tr>\n      <th>2148</th>\n      <th>2</th>\n      <th>2</th>\n      <th>boston-la_1088_small_2.mov</th>\n      <th>11</th>\n      <th>7</th>\n      <td>1952</td>\n      <td>[[[[0.         0.         0.12156863], [0.    ...</td>\n    </tr>\n    <tr>\n      <th>2167</th>\n      <th>0</th>\n      <th>5</th>\n      <th>DSP%2520DeadDog.mov</th>\n      <th>26</th>\n      <th>0</th>\n      <td>2925</td>\n      <td>[[[[0. 0. 0.], [0.00784314 0.         0.003921...</td>\n    </tr>\n    <tr>\n      <th>2177</th>\n      <th>0</th>\n      <th>6</th>\n      <th>ben_story_445_small_0.mov</th>\n      <th>53</th>\n      <th>3</th>\n      <td>539</td>\n      <td>[[[[0.19215687 0.18431373 0.19607843], [0.2   ...</td>\n    </tr>\n    <tr>\n      <th>2350</th>\n      <th>2</th>\n      <th>2</th>\n      <th>roadtrip1_1050_small_2.mov</th>\n      <th>7</th>\n      <th>17</th>\n      <td>1304</td>\n      <td>[[[[0.01568628 0.01176471 0.13725491], [0.0117...</td>\n    </tr>\n  </tbody>\n</table>\n</div>"
     },
     "metadata": {},
     "execution_count": 19
    }
   ],
   "source": [
    "df_train_frame_sequences__assoc_index__sample__with_frame_tensors.columns = fidscs_globals.SCHEMA_COL_NAMES__TRAIN_OR_VAL_INDEX + ['FrameTensor']\n",
    "df_train_frame_sequences__assoc_index__sample__with_frame_tensors.set_index(fidscs_globals.SCHEMA_PK__TRAIN_OR_VAL_INDEX, inplace=True)\n",
    "df_train_frame_sequences__assoc_index__sample__with_frame_tensors.sort_values(axis=0, by=[fidscs_globals.SCHEMA_COL_NAMES__TRAIN_OR_VAL_INDEX[6]], ignore_index=False, inplace=True)\n",
    "df_train_frame_sequences__assoc_index__sample__with_frame_tensors.sort_index(inplace=True)\n",
    "\n",
    "df_train_frame_sequences__assoc_index__sample__with_frame_tensors"
   ]
  },
  {
   "cell_type": "code",
   "execution_count": 20,
   "metadata": {},
   "outputs": [
    {
     "output_type": "display_data",
     "data": {
      "text/plain": "<IPython.core.display.HTML object>",
      "text/html": "\n            <link rel=\"stylesheet\" href=\"https://stackpath.bootstrapcdn.com/bootstrap/4.4.1/css/bootstrap.min.css\" integrity=\"sha384-Vkoo8x4CGsO3+Hhxv8T/Q5PaXtkKtu6ug5TOeNV6gBiFeWPGFN9MuhOf23Q9Ifjh\" crossorigin=\"anonymous\">\n            <div id=\"progress_indicator_e66afe1be2ab8e0ece3a1ccc47db34f9\" class=\"spinner-border text-info\" role=\"status\">\n            </div>"
     },
     "metadata": {}
    },
    {
     "output_type": "display_data",
     "data": {
      "application/javascript": "\n        if (typeof window.interactive_beam_jquery == 'undefined') {\n          var jqueryScript = document.createElement('script');\n          jqueryScript.src = 'https://code.jquery.com/jquery-3.4.1.slim.min.js';\n          jqueryScript.type = 'text/javascript';\n          jqueryScript.onload = function() {\n            var datatableScript = document.createElement('script');\n            datatableScript.src = 'https://cdn.datatables.net/1.10.20/js/jquery.dataTables.min.js';\n            datatableScript.type = 'text/javascript';\n            datatableScript.onload = function() {\n              window.interactive_beam_jquery = jQuery.noConflict(true);\n              window.interactive_beam_jquery(document).ready(function($){\n                \n            $(\"#progress_indicator_e66afe1be2ab8e0ece3a1ccc47db34f9\").remove();\n              });\n            }\n            document.head.appendChild(datatableScript);\n          };\n          document.head.appendChild(jqueryScript);\n        } else {\n          window.interactive_beam_jquery(document).ready(function($){\n            \n            $(\"#progress_indicator_e66afe1be2ab8e0ece3a1ccc47db34f9\").remove();\n          });\n        }"
     },
     "metadata": {}
    }
   ],
   "source": [
    "df_val_frame_sequences_index__sample__with_frame_tensors = ib.collect(val_frame_sequences_index__sample__with_frame_tensors)"
   ]
  },
  {
   "cell_type": "code",
   "execution_count": 21,
   "metadata": {},
   "outputs": [
    {
     "output_type": "execute_result",
     "data": {
      "text/plain": [
       "                                                                                                        FrameSequence  \\\n",
       "TokenID CameraPerspective ASLConsultantID TargetVideoFilename          UtteranceSequence TokenSequence                  \n",
       "9       2                 2               dorm_prank_1053_small_2.mov  25                7                       2611   \n",
       "248     0                 2               accident_1065_small_0.mov    61                1                       7149   \n",
       "306     0                 2               whitewater_1049_small_0.mov  2                 4                        295   \n",
       "320     1                 2               _1340_small_1.mov            45                1                         31   \n",
       "341     0                 2               boston-la_1088_small_0.mov   42                9                       6906   \n",
       "355     1                 6               705_510_slave1_small.mov     35                5                         71   \n",
       "445     1                 2               _1535_small_1.mov            192               5                         85   \n",
       "461     2                 2               dorm_prank_1053_small_2.mov  15                4                       1472   \n",
       "                                          lapd_story_1083_small_2.mov  83                1                       6239   \n",
       "483     1                 2               _1303_small_1.mov            8                 1                         24   \n",
       "498     0                 2               roadtrip1_1050_small_0.mov   19                0                       4068   \n",
       "        2                 2               lapd_story_1083_small_2.mov  67                2                       5077   \n",
       "500     2                 2               lapd_story_1083_small_2.mov  93                2                       7041   \n",
       "510     1                 6               ben_story_441_small_1.mov    10                3                        793   \n",
       "                                                                                         3                        798   \n",
       "530     1                 6               ben_story_443_small_1.mov    23                4                       2075   \n",
       "583     0                 2               lapd_story_1083_small_0.mov  13                3                       1114   \n",
       "614     0                 2               accident_1065_small_0.mov    51                7                       6044   \n",
       "703     2                 2               roadtrip1_1050_small_2.mov   3                 7                        528   \n",
       "814     1                 6               ben_story_445_small_1.mov    57                4                       1238   \n",
       "828     3                 2               _1503_small_3.mov            8                 2                         42   \n",
       "829     2                 2               _1087_small_2.mov            35                0                         15   \n",
       "835     2                 3               641_slave2_small.mov         2                 0                        135   \n",
       "1047    2                 2               boston-la_1088_small_2.mov   77                9                      12540   \n",
       "1208    0                 2               lapd_story_1083_small_0.mov  12                8                       1053   \n",
       "1211    2                 2               siblings_1066_small_2.mov    24                6                       1846   \n",
       "1240    1                 6               ben_story_441_small_1.mov    34                5                       2543   \n",
       "1253    2                 2               lapd_story_1083_small_2.mov  101               6                       7742   \n",
       "1448    0                 6               660_233_small_0.mov          27                0                         34   \n",
       "                                          743_550_master_small.mov     24                3                         55   \n",
       "1449    1                 3               b-965_782_slave1_small.mov   19                0                         15   \n",
       "1453    0                 3               807_621_master_small.mov     4                 2                         22   \n",
       "1462    0                 2               boston-la_1088_small_0.mov   32                12                      5517   \n",
       "1504    0                 2               football_1073_small_0.mov    5                 2                        471   \n",
       "1760    2                 2               scary_story_1048_small_2.mov 2                 0                        574   \n",
       "1780    3                 6               ben_story_443_small_3.mov    14                3                       1274   \n",
       "1781    2                 6               ben_story_443_small_2.mov    46                3                       4417   \n",
       "1821    0                 2               dorm_prank_1053_small_0.mov  45                6                       4761   \n",
       "1833    2                 3               ch7-610_84_small_2.mov       35                2                         32   \n",
       "1836    2                 2               roadtrip2_1051_small_2.mov   14                2                       1483   \n",
       "1839    1                 3               878_695_slave1_small.mov     13                6                         63   \n",
       "1969    2                 2               roadtrip2_1051_small_2.mov   31                10                      3643   \n",
       "2022    3                 2               roadtrip2_1051_small_3.mov   42                0                       5074   \n",
       "2084    3                 2               scary_story_1048_small_3.mov 36                1                       5454   \n",
       "2117    2                 6               655_231_small_2.mov          23                3                         58   \n",
       "2140    1                 2               _1436_small_1.mov            138               3                         58   \n",
       "2177    3                 6               ben_story_445_small_3.mov    57                7                       1326   \n",
       "2200    2                 2               football_1073_small_2.mov    37                0                       3836   \n",
       "2228    1                 6               651_223_small_1.mov          19                4                         91   \n",
       "2327    2                 2               lapd_story_1083_small_2.mov  14                3                       1178   \n",
       "\n",
       "                                                                                                                                              FrameTensor  \n",
       "TokenID CameraPerspective ASLConsultantID TargetVideoFilename          UtteranceSequence TokenSequence                                                     \n",
       "9       2                 2               dorm_prank_1053_small_2.mov  25                7              [[[[0.01568628 0.01176471 0.13725491], [0.0078...  \n",
       "248     0                 2               accident_1065_small_0.mov    61                1              [[[[0.         0.         0.18039216], [0.    ...  \n",
       "306     0                 2               whitewater_1049_small_0.mov  2                 4              [[[[0.         0.00392157 0.15294118], [0.    ...  \n",
       "320     1                 2               _1340_small_1.mov            45                1              [[[[0.01960784 0.01568628 0.14117648], [0.0352...  \n",
       "341     0                 2               boston-la_1088_small_0.mov   42                9              [[[[0.00392157 0.00784314 0.18039216], [0.0117...  \n",
       "355     1                 6               705_510_slave1_small.mov     35                5              [[[[0.01568628 0.00784314 0.01960784], [0.0235...  \n",
       "445     1                 2               _1535_small_1.mov            192               5              [[[[0.00392157 0.00392157 0.11372549], [0.0156...  \n",
       "461     2                 2               dorm_prank_1053_small_2.mov  15                4              [[[[0.01176471 0.00784314 0.13333334], [0.0235...  \n",
       "                                          lapd_story_1083_small_2.mov  83                1              [[[[0.         0.         0.13333334], [0.    ...  \n",
       "483     1                 2               _1303_small_1.mov            8                 1              [[[[0.01960784 0.01568628 0.13725491], [0.0431...  \n",
       "498     0                 2               roadtrip1_1050_small_0.mov   19                0              [[[[0.00392157 0.         0.1882353 ], [0.    ...  \n",
       "        2                 2               lapd_story_1083_small_2.mov  67                2              [[[[0.         0.         0.11764706], [0.    ...  \n",
       "500     2                 2               lapd_story_1083_small_2.mov  93                2              [[[[0.         0.         0.13333334], [0.    ...  \n",
       "510     1                 6               ben_story_441_small_1.mov    10                3              [[[[0.04705882 0.03921569 0.05098039], [0.0941...  \n",
       "                                                                                         3              [[[[0.04705882 0.03921569 0.05098039], [0.0941...  \n",
       "530     1                 6               ben_story_443_small_1.mov    23                4              [[[[0.05882353 0.05098039 0.0627451 ], [0.0901...  \n",
       "583     0                 2               lapd_story_1083_small_0.mov  13                3              [[[[0.         0.00784314 0.2       ], [0.0039...  \n",
       "614     0                 2               accident_1065_small_0.mov    51                7              [[[[0.         0.00392157 0.14117648], [0.    ...  \n",
       "703     2                 2               roadtrip1_1050_small_2.mov   3                 7              [[[[0.         0.         0.14117648], [0.0078...  \n",
       "814     1                 6               ben_story_445_small_1.mov    57                4              [[[[0.05098039 0.04313726 0.05490196], [0.1098...  \n",
       "828     3                 2               _1503_small_3.mov            8                 2              [[[[0.01176471 0.00784314 0.12941177], [0.0196...  \n",
       "829     2                 2               _1087_small_2.mov            35                0              [[[[0.00784314 0.         0.14509805], [0.    ...  \n",
       "835     2                 3               641_slave2_small.mov         2                 0              [[[[0.03921569 0.01960784 0.13725491], [0.0470...  \n",
       "1047    2                 2               boston-la_1088_small_2.mov   77                9              [[[[0.00784314 0.01176471 0.13333334], [0.    ...  \n",
       "1208    0                 2               lapd_story_1083_small_0.mov  12                8              [[[[0.00392157 0.01176471 0.2       ], [0.    ...  \n",
       "1211    2                 2               siblings_1066_small_2.mov    24                6              [[[[0.00392157 0.         0.13333334], [0.    ...  \n",
       "1240    1                 6               ben_story_441_small_1.mov    34                5              [[[[0.04705882 0.03921569 0.05098039], [0.1019...  \n",
       "1253    2                 2               lapd_story_1083_small_2.mov  101               6              [[[[0.         0.00392157 0.11372549], [0.    ...  \n",
       "1448    0                 6               660_233_small_0.mov          27                0              [[[[0.2        0.19215687 0.20392157], [0.2   ...  \n",
       "                                          743_550_master_small.mov     24                3              [[[[0.07843138 0.07058824 0.08235294], [0.0862...  \n",
       "1449    1                 3               b-965_782_slave1_small.mov   19                0              [[[[0.02745098 0.01960784 0.03137255], [0.0352...  \n",
       "1453    0                 3               807_621_master_small.mov     4                 2              [[[[0.09411765 0.08627451 0.09803922], [0.1058...  \n",
       "1462    0                 2               boston-la_1088_small_0.mov   32                12             [[[[0.00392157 0.00392157 0.20784314], [0.  0....  \n",
       "1504    0                 2               football_1073_small_0.mov    5                 2              [[[[0.00392157 0.         0.18039216], [0.    ...  \n",
       "1760    2                 2               scary_story_1048_small_2.mov 2                 0              [[[[0.02352941 0.01960784 0.14117648], [0.0156...  \n",
       "1780    3                 6               ben_story_443_small_3.mov    14                3              [[[[0.13725491 0.12941177 0.14117648], [0.1333...  \n",
       "1781    2                 6               ben_story_443_small_2.mov    46                3              [[[[0.05098039 0.03137255 0.14901961], [0.0627...  \n",
       "1821    0                 2               dorm_prank_1053_small_0.mov  45                6              [[[[0.01960784 0.01176471 0.20392157], [0.0039...  \n",
       "1833    2                 3               ch7-610_84_small_2.mov       35                2              [[[[0.05882353 0.07450981 0.2509804 ], [0.0745...  \n",
       "1836    2                 2               roadtrip2_1051_small_2.mov   14                2              [[[[0.00392157 0.00392157 0.11372549], [0.0078...  \n",
       "1839    1                 3               878_695_slave1_small.mov     13                6              [[[[0.02745098 0.01960784 0.03137255], [0.0352...  \n",
       "1969    2                 2               roadtrip2_1051_small_2.mov   31                10             [[[[0.01960784 0.         0.12941177], [0.0313...  \n",
       "2022    3                 2               roadtrip2_1051_small_3.mov   42                0              [[[[0.1254902  0.1254902  0.32941177], [0.1058...  \n",
       "2084    3                 2               scary_story_1048_small_3.mov 36                1              [[[[0.11764706 0.12156863 0.3019608 ], [0.1058...  \n",
       "2117    2                 6               655_231_small_2.mov          23                3              [[[[0.04705882 0.08627451 0.22745098], [0.0588...  \n",
       "2140    1                 2               _1436_small_1.mov            138               3              [[[[0.02745098 0.03137255 0.14117648], [0.0352...  \n",
       "2177    3                 6               ben_story_445_small_3.mov    57                7              [[[[0.13725491 0.12941177 0.14117648], [0.1450...  \n",
       "2200    2                 2               football_1073_small_2.mov    37                0              [[[[0.00392157 0.         0.13333334], [0.0117...  \n",
       "2228    1                 6               651_223_small_1.mov          19                4              [[[[0.05098039 0.04313726 0.05490196], [0.1058...  \n",
       "2327    2                 2               lapd_story_1083_small_2.mov  14                3              [[[[0.         0.00392157 0.12156863], [0.    ...  "
      ],
      "text/html": "<div>\n<style scoped>\n    .dataframe tbody tr th:only-of-type {\n        vertical-align: middle;\n    }\n\n    .dataframe tbody tr th {\n        vertical-align: top;\n    }\n\n    .dataframe thead th {\n        text-align: right;\n    }\n</style>\n<table border=\"1\" class=\"dataframe\">\n  <thead>\n    <tr style=\"text-align: right;\">\n      <th></th>\n      <th></th>\n      <th></th>\n      <th></th>\n      <th></th>\n      <th></th>\n      <th>FrameSequence</th>\n      <th>FrameTensor</th>\n    </tr>\n    <tr>\n      <th>TokenID</th>\n      <th>CameraPerspective</th>\n      <th>ASLConsultantID</th>\n      <th>TargetVideoFilename</th>\n      <th>UtteranceSequence</th>\n      <th>TokenSequence</th>\n      <th></th>\n      <th></th>\n    </tr>\n  </thead>\n  <tbody>\n    <tr>\n      <th>9</th>\n      <th>2</th>\n      <th>2</th>\n      <th>dorm_prank_1053_small_2.mov</th>\n      <th>25</th>\n      <th>7</th>\n      <td>2611</td>\n      <td>[[[[0.01568628 0.01176471 0.13725491], [0.0078...</td>\n    </tr>\n    <tr>\n      <th>248</th>\n      <th>0</th>\n      <th>2</th>\n      <th>accident_1065_small_0.mov</th>\n      <th>61</th>\n      <th>1</th>\n      <td>7149</td>\n      <td>[[[[0.         0.         0.18039216], [0.    ...</td>\n    </tr>\n    <tr>\n      <th>306</th>\n      <th>0</th>\n      <th>2</th>\n      <th>whitewater_1049_small_0.mov</th>\n      <th>2</th>\n      <th>4</th>\n      <td>295</td>\n      <td>[[[[0.         0.00392157 0.15294118], [0.    ...</td>\n    </tr>\n    <tr>\n      <th>320</th>\n      <th>1</th>\n      <th>2</th>\n      <th>_1340_small_1.mov</th>\n      <th>45</th>\n      <th>1</th>\n      <td>31</td>\n      <td>[[[[0.01960784 0.01568628 0.14117648], [0.0352...</td>\n    </tr>\n    <tr>\n      <th>341</th>\n      <th>0</th>\n      <th>2</th>\n      <th>boston-la_1088_small_0.mov</th>\n      <th>42</th>\n      <th>9</th>\n      <td>6906</td>\n      <td>[[[[0.00392157 0.00784314 0.18039216], [0.0117...</td>\n    </tr>\n    <tr>\n      <th>355</th>\n      <th>1</th>\n      <th>6</th>\n      <th>705_510_slave1_small.mov</th>\n      <th>35</th>\n      <th>5</th>\n      <td>71</td>\n      <td>[[[[0.01568628 0.00784314 0.01960784], [0.0235...</td>\n    </tr>\n    <tr>\n      <th>445</th>\n      <th>1</th>\n      <th>2</th>\n      <th>_1535_small_1.mov</th>\n      <th>192</th>\n      <th>5</th>\n      <td>85</td>\n      <td>[[[[0.00392157 0.00392157 0.11372549], [0.0156...</td>\n    </tr>\n    <tr>\n      <th rowspan=\"2\" valign=\"top\">461</th>\n      <th rowspan=\"2\" valign=\"top\">2</th>\n      <th rowspan=\"2\" valign=\"top\">2</th>\n      <th>dorm_prank_1053_small_2.mov</th>\n      <th>15</th>\n      <th>4</th>\n      <td>1472</td>\n      <td>[[[[0.01176471 0.00784314 0.13333334], [0.0235...</td>\n    </tr>\n    <tr>\n      <th>lapd_story_1083_small_2.mov</th>\n      <th>83</th>\n      <th>1</th>\n      <td>6239</td>\n      <td>[[[[0.         0.         0.13333334], [0.    ...</td>\n    </tr>\n    <tr>\n      <th>483</th>\n      <th>1</th>\n      <th>2</th>\n      <th>_1303_small_1.mov</th>\n      <th>8</th>\n      <th>1</th>\n      <td>24</td>\n      <td>[[[[0.01960784 0.01568628 0.13725491], [0.0431...</td>\n    </tr>\n    <tr>\n      <th rowspan=\"2\" valign=\"top\">498</th>\n      <th>0</th>\n      <th>2</th>\n      <th>roadtrip1_1050_small_0.mov</th>\n      <th>19</th>\n      <th>0</th>\n      <td>4068</td>\n      <td>[[[[0.00392157 0.         0.1882353 ], [0.    ...</td>\n    </tr>\n    <tr>\n      <th>2</th>\n      <th>2</th>\n      <th>lapd_story_1083_small_2.mov</th>\n      <th>67</th>\n      <th>2</th>\n      <td>5077</td>\n      <td>[[[[0.         0.         0.11764706], [0.    ...</td>\n    </tr>\n    <tr>\n      <th>500</th>\n      <th>2</th>\n      <th>2</th>\n      <th>lapd_story_1083_small_2.mov</th>\n      <th>93</th>\n      <th>2</th>\n      <td>7041</td>\n      <td>[[[[0.         0.         0.13333334], [0.    ...</td>\n    </tr>\n    <tr>\n      <th rowspan=\"2\" valign=\"top\">510</th>\n      <th rowspan=\"2\" valign=\"top\">1</th>\n      <th rowspan=\"2\" valign=\"top\">6</th>\n      <th rowspan=\"2\" valign=\"top\">ben_story_441_small_1.mov</th>\n      <th rowspan=\"2\" valign=\"top\">10</th>\n      <th>3</th>\n      <td>793</td>\n      <td>[[[[0.04705882 0.03921569 0.05098039], [0.0941...</td>\n    </tr>\n    <tr>\n      <th>3</th>\n      <td>798</td>\n      <td>[[[[0.04705882 0.03921569 0.05098039], [0.0941...</td>\n    </tr>\n    <tr>\n      <th>530</th>\n      <th>1</th>\n      <th>6</th>\n      <th>ben_story_443_small_1.mov</th>\n      <th>23</th>\n      <th>4</th>\n      <td>2075</td>\n      <td>[[[[0.05882353 0.05098039 0.0627451 ], [0.0901...</td>\n    </tr>\n    <tr>\n      <th>583</th>\n      <th>0</th>\n      <th>2</th>\n      <th>lapd_story_1083_small_0.mov</th>\n      <th>13</th>\n      <th>3</th>\n      <td>1114</td>\n      <td>[[[[0.         0.00784314 0.2       ], [0.0039...</td>\n    </tr>\n    <tr>\n      <th>614</th>\n      <th>0</th>\n      <th>2</th>\n      <th>accident_1065_small_0.mov</th>\n      <th>51</th>\n      <th>7</th>\n      <td>6044</td>\n      <td>[[[[0.         0.00392157 0.14117648], [0.    ...</td>\n    </tr>\n    <tr>\n      <th>703</th>\n      <th>2</th>\n      <th>2</th>\n      <th>roadtrip1_1050_small_2.mov</th>\n      <th>3</th>\n      <th>7</th>\n      <td>528</td>\n      <td>[[[[0.         0.         0.14117648], [0.0078...</td>\n    </tr>\n    <tr>\n      <th>814</th>\n      <th>1</th>\n      <th>6</th>\n      <th>ben_story_445_small_1.mov</th>\n      <th>57</th>\n      <th>4</th>\n      <td>1238</td>\n      <td>[[[[0.05098039 0.04313726 0.05490196], [0.1098...</td>\n    </tr>\n    <tr>\n      <th>828</th>\n      <th>3</th>\n      <th>2</th>\n      <th>_1503_small_3.mov</th>\n      <th>8</th>\n      <th>2</th>\n      <td>42</td>\n      <td>[[[[0.01176471 0.00784314 0.12941177], [0.0196...</td>\n    </tr>\n    <tr>\n      <th>829</th>\n      <th>2</th>\n      <th>2</th>\n      <th>_1087_small_2.mov</th>\n      <th>35</th>\n      <th>0</th>\n      <td>15</td>\n      <td>[[[[0.00784314 0.         0.14509805], [0.    ...</td>\n    </tr>\n    <tr>\n      <th>835</th>\n      <th>2</th>\n      <th>3</th>\n      <th>641_slave2_small.mov</th>\n      <th>2</th>\n      <th>0</th>\n      <td>135</td>\n      <td>[[[[0.03921569 0.01960784 0.13725491], [0.0470...</td>\n    </tr>\n    <tr>\n      <th>1047</th>\n      <th>2</th>\n      <th>2</th>\n      <th>boston-la_1088_small_2.mov</th>\n      <th>77</th>\n      <th>9</th>\n      <td>12540</td>\n      <td>[[[[0.00784314 0.01176471 0.13333334], [0.    ...</td>\n    </tr>\n    <tr>\n      <th>1208</th>\n      <th>0</th>\n      <th>2</th>\n      <th>lapd_story_1083_small_0.mov</th>\n      <th>12</th>\n      <th>8</th>\n      <td>1053</td>\n      <td>[[[[0.00392157 0.01176471 0.2       ], [0.    ...</td>\n    </tr>\n    <tr>\n      <th>1211</th>\n      <th>2</th>\n      <th>2</th>\n      <th>siblings_1066_small_2.mov</th>\n      <th>24</th>\n      <th>6</th>\n      <td>1846</td>\n      <td>[[[[0.00392157 0.         0.13333334], [0.    ...</td>\n    </tr>\n    <tr>\n      <th>1240</th>\n      <th>1</th>\n      <th>6</th>\n      <th>ben_story_441_small_1.mov</th>\n      <th>34</th>\n      <th>5</th>\n      <td>2543</td>\n      <td>[[[[0.04705882 0.03921569 0.05098039], [0.1019...</td>\n    </tr>\n    <tr>\n      <th>1253</th>\n      <th>2</th>\n      <th>2</th>\n      <th>lapd_story_1083_small_2.mov</th>\n      <th>101</th>\n      <th>6</th>\n      <td>7742</td>\n      <td>[[[[0.         0.00392157 0.11372549], [0.    ...</td>\n    </tr>\n    <tr>\n      <th rowspan=\"2\" valign=\"top\">1448</th>\n      <th rowspan=\"2\" valign=\"top\">0</th>\n      <th rowspan=\"2\" valign=\"top\">6</th>\n      <th>660_233_small_0.mov</th>\n      <th>27</th>\n      <th>0</th>\n      <td>34</td>\n      <td>[[[[0.2        0.19215687 0.20392157], [0.2   ...</td>\n    </tr>\n    <tr>\n      <th>743_550_master_small.mov</th>\n      <th>24</th>\n      <th>3</th>\n      <td>55</td>\n      <td>[[[[0.07843138 0.07058824 0.08235294], [0.0862...</td>\n    </tr>\n    <tr>\n      <th>1449</th>\n      <th>1</th>\n      <th>3</th>\n      <th>b-965_782_slave1_small.mov</th>\n      <th>19</th>\n      <th>0</th>\n      <td>15</td>\n      <td>[[[[0.02745098 0.01960784 0.03137255], [0.0352...</td>\n    </tr>\n    <tr>\n      <th>1453</th>\n      <th>0</th>\n      <th>3</th>\n      <th>807_621_master_small.mov</th>\n      <th>4</th>\n      <th>2</th>\n      <td>22</td>\n      <td>[[[[0.09411765 0.08627451 0.09803922], [0.1058...</td>\n    </tr>\n    <tr>\n      <th>1462</th>\n      <th>0</th>\n      <th>2</th>\n      <th>boston-la_1088_small_0.mov</th>\n      <th>32</th>\n      <th>12</th>\n      <td>5517</td>\n      <td>[[[[0.00392157 0.00392157 0.20784314], [0.  0....</td>\n    </tr>\n    <tr>\n      <th>1504</th>\n      <th>0</th>\n      <th>2</th>\n      <th>football_1073_small_0.mov</th>\n      <th>5</th>\n      <th>2</th>\n      <td>471</td>\n      <td>[[[[0.00392157 0.         0.18039216], [0.    ...</td>\n    </tr>\n    <tr>\n      <th>1760</th>\n      <th>2</th>\n      <th>2</th>\n      <th>scary_story_1048_small_2.mov</th>\n      <th>2</th>\n      <th>0</th>\n      <td>574</td>\n      <td>[[[[0.02352941 0.01960784 0.14117648], [0.0156...</td>\n    </tr>\n    <tr>\n      <th>1780</th>\n      <th>3</th>\n      <th>6</th>\n      <th>ben_story_443_small_3.mov</th>\n      <th>14</th>\n      <th>3</th>\n      <td>1274</td>\n      <td>[[[[0.13725491 0.12941177 0.14117648], [0.1333...</td>\n    </tr>\n    <tr>\n      <th>1781</th>\n      <th>2</th>\n      <th>6</th>\n      <th>ben_story_443_small_2.mov</th>\n      <th>46</th>\n      <th>3</th>\n      <td>4417</td>\n      <td>[[[[0.05098039 0.03137255 0.14901961], [0.0627...</td>\n    </tr>\n    <tr>\n      <th>1821</th>\n      <th>0</th>\n      <th>2</th>\n      <th>dorm_prank_1053_small_0.mov</th>\n      <th>45</th>\n      <th>6</th>\n      <td>4761</td>\n      <td>[[[[0.01960784 0.01176471 0.20392157], [0.0039...</td>\n    </tr>\n    <tr>\n      <th>1833</th>\n      <th>2</th>\n      <th>3</th>\n      <th>ch7-610_84_small_2.mov</th>\n      <th>35</th>\n      <th>2</th>\n      <td>32</td>\n      <td>[[[[0.05882353 0.07450981 0.2509804 ], [0.0745...</td>\n    </tr>\n    <tr>\n      <th>1836</th>\n      <th>2</th>\n      <th>2</th>\n      <th>roadtrip2_1051_small_2.mov</th>\n      <th>14</th>\n      <th>2</th>\n      <td>1483</td>\n      <td>[[[[0.00392157 0.00392157 0.11372549], [0.0078...</td>\n    </tr>\n    <tr>\n      <th>1839</th>\n      <th>1</th>\n      <th>3</th>\n      <th>878_695_slave1_small.mov</th>\n      <th>13</th>\n      <th>6</th>\n      <td>63</td>\n      <td>[[[[0.02745098 0.01960784 0.03137255], [0.0352...</td>\n    </tr>\n    <tr>\n      <th>1969</th>\n      <th>2</th>\n      <th>2</th>\n      <th>roadtrip2_1051_small_2.mov</th>\n      <th>31</th>\n      <th>10</th>\n      <td>3643</td>\n      <td>[[[[0.01960784 0.         0.12941177], [0.0313...</td>\n    </tr>\n    <tr>\n      <th>2022</th>\n      <th>3</th>\n      <th>2</th>\n      <th>roadtrip2_1051_small_3.mov</th>\n      <th>42</th>\n      <th>0</th>\n      <td>5074</td>\n      <td>[[[[0.1254902  0.1254902  0.32941177], [0.1058...</td>\n    </tr>\n    <tr>\n      <th>2084</th>\n      <th>3</th>\n      <th>2</th>\n      <th>scary_story_1048_small_3.mov</th>\n      <th>36</th>\n      <th>1</th>\n      <td>5454</td>\n      <td>[[[[0.11764706 0.12156863 0.3019608 ], [0.1058...</td>\n    </tr>\n    <tr>\n      <th>2117</th>\n      <th>2</th>\n      <th>6</th>\n      <th>655_231_small_2.mov</th>\n      <th>23</th>\n      <th>3</th>\n      <td>58</td>\n      <td>[[[[0.04705882 0.08627451 0.22745098], [0.0588...</td>\n    </tr>\n    <tr>\n      <th>2140</th>\n      <th>1</th>\n      <th>2</th>\n      <th>_1436_small_1.mov</th>\n      <th>138</th>\n      <th>3</th>\n      <td>58</td>\n      <td>[[[[0.02745098 0.03137255 0.14117648], [0.0352...</td>\n    </tr>\n    <tr>\n      <th>2177</th>\n      <th>3</th>\n      <th>6</th>\n      <th>ben_story_445_small_3.mov</th>\n      <th>57</th>\n      <th>7</th>\n      <td>1326</td>\n      <td>[[[[0.13725491 0.12941177 0.14117648], [0.1450...</td>\n    </tr>\n    <tr>\n      <th>2200</th>\n      <th>2</th>\n      <th>2</th>\n      <th>football_1073_small_2.mov</th>\n      <th>37</th>\n      <th>0</th>\n      <td>3836</td>\n      <td>[[[[0.00392157 0.         0.13333334], [0.0117...</td>\n    </tr>\n    <tr>\n      <th>2228</th>\n      <th>1</th>\n      <th>6</th>\n      <th>651_223_small_1.mov</th>\n      <th>19</th>\n      <th>4</th>\n      <td>91</td>\n      <td>[[[[0.05098039 0.04313726 0.05490196], [0.1058...</td>\n    </tr>\n    <tr>\n      <th>2327</th>\n      <th>2</th>\n      <th>2</th>\n      <th>lapd_story_1083_small_2.mov</th>\n      <th>14</th>\n      <th>3</th>\n      <td>1178</td>\n      <td>[[[[0.         0.00392157 0.12156863], [0.    ...</td>\n    </tr>\n  </tbody>\n</table>\n</div>"
     },
     "metadata": {},
     "execution_count": 21
    }
   ],
   "source": [
    "df_val_frame_sequences_index__sample__with_frame_tensors.columns = fidscs_globals.SCHEMA_COL_NAMES__TRAIN_OR_VAL_INDEX + ['FrameTensor']\n",
    "df_val_frame_sequences_index__sample__with_frame_tensors.set_index(fidscs_globals.SCHEMA_PK__TRAIN_OR_VAL_INDEX, inplace=True)\n",
    "df_val_frame_sequences_index__sample__with_frame_tensors.sort_values(axis=0, by=[fidscs_globals.SCHEMA_COL_NAMES__TRAIN_OR_VAL_INDEX[6]], ignore_index=False, inplace=True)\n",
    "df_val_frame_sequences_index__sample__with_frame_tensors.sort_index(inplace=True)\n",
    "\n",
    "df_val_frame_sequences_index__sample__with_frame_tensors"
   ]
  },
  {
   "cell_type": "code",
   "execution_count": 22,
   "metadata": {},
   "outputs": [
    {
     "output_type": "display_data",
     "data": {
      "text/plain": "<IPython.core.display.HTML object>",
      "text/html": "\n            <link rel=\"stylesheet\" href=\"https://stackpath.bootstrapcdn.com/bootstrap/4.4.1/css/bootstrap.min.css\" integrity=\"sha384-Vkoo8x4CGsO3+Hhxv8T/Q5PaXtkKtu6ug5TOeNV6gBiFeWPGFN9MuhOf23Q9Ifjh\" crossorigin=\"anonymous\">\n            <div id=\"progress_indicator_64cdd1c0ee1a716a0651d6db668a03af\" class=\"spinner-border text-info\" role=\"status\">\n            </div>"
     },
     "metadata": {}
    },
    {
     "output_type": "display_data",
     "data": {
      "application/javascript": "\n        if (typeof window.interactive_beam_jquery == 'undefined') {\n          var jqueryScript = document.createElement('script');\n          jqueryScript.src = 'https://code.jquery.com/jquery-3.4.1.slim.min.js';\n          jqueryScript.type = 'text/javascript';\n          jqueryScript.onload = function() {\n            var datatableScript = document.createElement('script');\n            datatableScript.src = 'https://cdn.datatables.net/1.10.20/js/jquery.dataTables.min.js';\n            datatableScript.type = 'text/javascript';\n            datatableScript.onload = function() {\n              window.interactive_beam_jquery = jQuery.noConflict(true);\n              window.interactive_beam_jquery(document).ready(function($){\n                \n            $(\"#progress_indicator_64cdd1c0ee1a716a0651d6db668a03af\").remove();\n              });\n            }\n            document.head.appendChild(datatableScript);\n          };\n          document.head.appendChild(jqueryScript);\n        } else {\n          window.interactive_beam_jquery(document).ready(function($){\n            \n            $(\"#progress_indicator_64cdd1c0ee1a716a0651d6db668a03af\").remove();\n          });\n        }"
     },
     "metadata": {}
    }
   ],
   "source": [
    "df_train_frame_sequences_index__sample__with_frame_tensors = ib.collect(train_frame_sequences_index__sample__with_frame_tensors)"
   ]
  },
  {
   "cell_type": "code",
   "execution_count": 23,
   "metadata": {},
   "outputs": [
    {
     "output_type": "execute_result",
     "data": {
      "text/plain": [
       "                                                                                                            FrameSequence  \\\n",
       "TokenID CameraPerspective ASLConsultantID TargetVideoFilename              UtteranceSequence TokenSequence                  \n",
       "7       2                 2               lapd_story_1083_small_2.mov      48                0                       3713   \n",
       "37      3                 2               roadtrip1_1050_small_3.mov       17                11                      3761   \n",
       "41      1                 2               _1612_small_1.mov                80                4                        100   \n",
       "94      1                 2               _1415_small_1.mov                117               1                         27   \n",
       "319     2                 3               977_794_slave2_small.mov         46                2                         34   \n",
       "406     2                 2               lapd_story_1083_small_2.mov      46                3                       3622   \n",
       "540     0                 2               boston-la_1088_small_0.mov       40                10                      6611   \n",
       "683     2                 2               boston-la_1088_small_2.mov       37                7                       6170   \n",
       "714     0                 3               ch6-545_46_small_0.mov           15                3                         53   \n",
       "745     2                 2               siblings_1066_small_2.mov        63                3                       5067   \n",
       "756     3                 2               _1523_small_3.mov                16                1                         27   \n",
       "762     2                 2               accident_1065_small_2.mov        17                0                       1755   \n",
       "832     3                 2               roadtrip1_1050_small_3.mov       32                15                      8016   \n",
       "844     0                 2               _994_small_0.mov                 17                1                         24   \n",
       "869     1                 6               ben_story_439_small_1.mov        24                3                       1726   \n",
       "1014    2                 2               muhammed_ali_1052_small_2.mov    23                0                       2875   \n",
       "1208    0                 2               _1582_small_0.mov                50                2                         37   \n",
       "                                          roadtrip1_1050_small_0.mov       7                 6                       1073   \n",
       "                                          scary_story_1048_small_0.mov     6                 1                       1214   \n",
       "        1                 6               ben_story_441_small_1.mov        35                1                       2575   \n",
       "        2                 2               muhammed_ali_1052_small_2.mov    8                 9                        872   \n",
       "        3                 2               _1568_small_3.mov                36                4                         43   \n",
       "1226    1                 2               _1576_small_1.mov                44                1                         18   \n",
       "1282    2                 2               boston-la_1088_small_2.mov       22                6                       3577   \n",
       "1362    3                 2               muhammed_ali_1052_small_3.mov    20                0                       2492   \n",
       "1413    0                 6               ben_story_439_small_0.mov        22                0                       1571   \n",
       "1448    0                 2               _1455_small_0.mov                155               0                         27   \n",
       "                          6               676_481_master_small.mov         7                 0                         33   \n",
       "        3                 2               _1498_small_3.mov                179               0                         21   \n",
       "1450    2                 3               905_722_slave2_small.mov         25                0                         14   \n",
       "                                          912_729_slave2_small.mov         31                6                         91   \n",
       "1475    2                 2               lapd_story_1083_small_2.mov      56                1                       4273   \n",
       "1602    0                 2               roadtrip2_1051_small_0.mov       4                 10                       566   \n",
       "1812    0                 3               b-963_780_master_small.mov       18                0                          7   \n",
       "1818    2                 2               dorm_prank_1053_small_2.mov      16                0                       1534   \n",
       "1835    3                 2               _1409_small_3.mov                111               1                         32   \n",
       "1843    3                 2               roadtrip1_1050_small_3.mov       2                 1                        257   \n",
       "1856    3                 2               dorm_prank_1053_small_3.%2520mov 36                6                       3735   \n",
       "1892    2                 2               football_1073_small_2.mov        23                8                       2565   \n",
       "1903    3                 2               _1350_small_3.mov                54                4                         54   \n",
       "2049    0                 2               roadtrip1_1050_small_0.mov       8                 8                       1480   \n",
       "2086    2                 2               boston-la_1088_small_2.mov       0                 8                        133   \n",
       "2119    3                 2               dorm_prank_1053_small_3.%2520mov 22                4                       2334   \n",
       "2143    3                 6               ben_story_441_small_3.mov        20                1                       1571   \n",
       "2178    0                 6               ben_story_445_small_0.mov        65                0                       2626   \n",
       "2197    2                 2               siblings_1066_small_2.mov        20                1                       1506   \n",
       "2201    3                 2               muhammed_ali_1052_small_3.mov    22                6                       2812   \n",
       "2280    0                 3               640_master_small.mov             1                 5                        141   \n",
       "2347    1                 2               _1544_small_1.mov                201               0                         12   \n",
       "2360    2                 6               ben_story_443_small_2.mov        11                2                        951   \n",
       "\n",
       "                                                                                                                                                  FrameTensor  \n",
       "TokenID CameraPerspective ASLConsultantID TargetVideoFilename              UtteranceSequence TokenSequence                                                     \n",
       "7       2                 2               lapd_story_1083_small_2.mov      48                0              [[[[0.         0.         0.12941177], [0.    ...  \n",
       "37      3                 2               roadtrip1_1050_small_3.mov       17                11             [[[[0.09411765 0.09411765 0.2901961 ], [0.1098...  \n",
       "41      1                 2               _1612_small_1.mov                80                4              [[[[0.00784314 0.00392157 0.1254902 ], [0.0274...  \n",
       "94      1                 2               _1415_small_1.mov                117               1              [[[[0.02352941 0.01960784 0.14117648], [0.0392...  \n",
       "319     2                 3               977_794_slave2_small.mov         46                2              [[[[0.03921569 0.01960784 0.13725491], [0.0549...  \n",
       "406     2                 2               lapd_story_1083_small_2.mov      46                3              [[[[0.         0.         0.12941177], [0.    ...  \n",
       "540     0                 2               boston-la_1088_small_0.mov       40                10             [[[[0.        0.        0.1882353], [0.       ...  \n",
       "683     2                 2               boston-la_1088_small_2.mov       37                7              [[[[0.00392157 0.00392157 0.13725491], [0.    ...  \n",
       "714     0                 3               ch6-545_46_small_0.mov           15                3              [[[[0.13725491 0.12941177 0.14117648], [0.1450...  \n",
       "745     2                 2               siblings_1066_small_2.mov        63                3              [[[[0.01176471 0.00784314 0.14117648], [0.0117...  \n",
       "756     3                 2               _1523_small_3.mov                16                1              [[[[0.01960784 0.01568628 0.14117648], [0.0235...  \n",
       "762     2                 2               accident_1065_small_2.mov        17                0              [[[[0.00784314 0.00392157 0.12941177], [0.0078...  \n",
       "832     3                 2               roadtrip1_1050_small_3.mov       32                15             [[[[0.11372549 0.11764706 0.30588236], [0.1098...  \n",
       "844     0                 2               _994_small_0.mov                 17                1              [[[[0.01176471 0.01568628 0.20392157], [0.0196...  \n",
       "869     1                 6               ben_story_439_small_1.mov        24                3              [[[[0.0627451  0.05490196 0.06666667], [0.1058...  \n",
       "1014    2                 2               muhammed_ali_1052_small_2.mov    23                0              [[[[0.01176471 0.00784314 0.12941177], [0.0078...  \n",
       "1208    0                 2               _1582_small_0.mov                50                2              [[[[0.01568628 0.         0.09803922], [0.0313...  \n",
       "                                          roadtrip1_1050_small_0.mov       7                 6              [[[[0.        0.        0.1764706], [0.0039215...  \n",
       "                                          scary_story_1048_small_0.mov     6                 1              [[[[0.         0.00392157 0.16470589], [0.    ...  \n",
       "        1                 6               ben_story_441_small_1.mov        35                1              [[[[0.05098039 0.04313726 0.05490196], [0.1058...  \n",
       "        2                 2               muhammed_ali_1052_small_2.mov    8                 9              [[[[0.00784314 0.00392157 0.12941177], [0.0156...  \n",
       "        3                 2               _1568_small_3.mov                36                4              [[[[0.01176471 0.00784314 0.13333334], [0.0235...  \n",
       "1226    1                 2               _1576_small_1.mov                44                1              [[[[0.01568628 0.01176471 0.13333334], [0.0156...  \n",
       "1282    2                 2               boston-la_1088_small_2.mov       22                6              [[[[0.         0.00392157 0.1254902 ], [0.    ...  \n",
       "1362    3                 2               muhammed_ali_1052_small_3.mov    20                0              [[[[0.10196079 0.10196079 0.29803923], [0.1137...  \n",
       "1413    0                 6               ben_story_439_small_0.mov        22                0              [[[[0.17254902 0.16470589 0.1764706 ], [0.2039...  \n",
       "1448    0                 2               _1455_small_0.mov                155               0              [[[[0.02352941 0.01176471 0.09411765], [0.0313...  \n",
       "                          6               676_481_master_small.mov         7                 0              [[[[0.08235294 0.07450981 0.08627451], [0.0980...  \n",
       "        3                 2               _1498_small_3.mov                179               0              [[[[0.01568628 0.01176471 0.13725491], [0.0196...  \n",
       "1450    2                 3               905_722_slave2_small.mov         25                0              [[[[0.03921569 0.01960784 0.13725491], [0.0470...  \n",
       "                                          912_729_slave2_small.mov         31                6              [[[[0.04313726 0.02352941 0.14117648], [0.0549...  \n",
       "1475    2                 2               lapd_story_1083_small_2.mov      56                1              [[[[0.         0.         0.13725491], [0.    ...  \n",
       "1602    0                 2               roadtrip2_1051_small_0.mov       4                 10             [[[[0.00784314 0.01568628 0.1764706 ], [0.    ...  \n",
       "1812    0                 3               b-963_780_master_small.mov       18                0              [[[[0.10196079 0.09411765 0.10588235], [0.1098...  \n",
       "1818    2                 2               dorm_prank_1053_small_2.mov      16                0              [[[[0.01176471 0.00784314 0.13333334], [0.0196...  \n",
       "1835    3                 2               _1409_small_3.mov                111               1              [[[[0.01176471 0.00784314 0.12941177], [0.0117...  \n",
       "1843    3                 2               roadtrip1_1050_small_3.mov       2                 1              [[[[0.11372549 0.11372549 0.31764707], [0.1058...  \n",
       "1856    3                 2               dorm_prank_1053_small_3.%2520mov 36                6              [[[[0.13725491 0.14117648 0.32941177], [0.1098...  \n",
       "1892    2                 2               football_1073_small_2.mov        23                8              [[[[0.00784314 0.         0.14509805], [0.0078...  \n",
       "1903    3                 2               _1350_small_3.mov                54                4              [[[[0.01960784 0.         0.1254902 ], [0.0274...  \n",
       "2049    0                 2               roadtrip1_1050_small_0.mov       8                 8              [[[[0.00784314 0.01176471 0.19215687], [0.0078...  \n",
       "2086    2                 2               boston-la_1088_small_2.mov       0                 8              [[[[0.00784314 0.00392157 0.12941177], [0.0039...  \n",
       "2119    3                 2               dorm_prank_1053_small_3.%2520mov 22                4              [[[[0.11372549 0.11764706 0.29803923], [0.1137...  \n",
       "2143    3                 6               ben_story_441_small_3.mov        20                1              [[[[0.1254902  0.11764706 0.12941177], [0.1490...  \n",
       "2178    0                 6               ben_story_445_small_0.mov        65                0              [[[[0.19607843 0.1882353  0.2       ], [0.2078...  \n",
       "2197    2                 2               siblings_1066_small_2.mov        20                1              [[[[0.         0.         0.12941177], [0.0039...  \n",
       "2201    3                 2               muhammed_ali_1052_small_3.mov    22                6              [[[[0.11372549 0.11372549 0.30980393], [0.1137...  \n",
       "2280    0                 3               640_master_small.mov             1                 5              [[[[0.10196079 0.09411765 0.10588235], [0.1098...  \n",
       "2347    1                 2               _1544_small_1.mov                201               0              [[[[0.01960784 0.01568628 0.14117648], [0.0313...  \n",
       "2360    2                 6               ben_story_443_small_2.mov        11                2              [[[[0.03921569 0.03529412 0.15686275], [0.0470...  "
      ],
      "text/html": "<div>\n<style scoped>\n    .dataframe tbody tr th:only-of-type {\n        vertical-align: middle;\n    }\n\n    .dataframe tbody tr th {\n        vertical-align: top;\n    }\n\n    .dataframe thead th {\n        text-align: right;\n    }\n</style>\n<table border=\"1\" class=\"dataframe\">\n  <thead>\n    <tr style=\"text-align: right;\">\n      <th></th>\n      <th></th>\n      <th></th>\n      <th></th>\n      <th></th>\n      <th></th>\n      <th>FrameSequence</th>\n      <th>FrameTensor</th>\n    </tr>\n    <tr>\n      <th>TokenID</th>\n      <th>CameraPerspective</th>\n      <th>ASLConsultantID</th>\n      <th>TargetVideoFilename</th>\n      <th>UtteranceSequence</th>\n      <th>TokenSequence</th>\n      <th></th>\n      <th></th>\n    </tr>\n  </thead>\n  <tbody>\n    <tr>\n      <th>7</th>\n      <th>2</th>\n      <th>2</th>\n      <th>lapd_story_1083_small_2.mov</th>\n      <th>48</th>\n      <th>0</th>\n      <td>3713</td>\n      <td>[[[[0.         0.         0.12941177], [0.    ...</td>\n    </tr>\n    <tr>\n      <th>37</th>\n      <th>3</th>\n      <th>2</th>\n      <th>roadtrip1_1050_small_3.mov</th>\n      <th>17</th>\n      <th>11</th>\n      <td>3761</td>\n      <td>[[[[0.09411765 0.09411765 0.2901961 ], [0.1098...</td>\n    </tr>\n    <tr>\n      <th>41</th>\n      <th>1</th>\n      <th>2</th>\n      <th>_1612_small_1.mov</th>\n      <th>80</th>\n      <th>4</th>\n      <td>100</td>\n      <td>[[[[0.00784314 0.00392157 0.1254902 ], [0.0274...</td>\n    </tr>\n    <tr>\n      <th>94</th>\n      <th>1</th>\n      <th>2</th>\n      <th>_1415_small_1.mov</th>\n      <th>117</th>\n      <th>1</th>\n      <td>27</td>\n      <td>[[[[0.02352941 0.01960784 0.14117648], [0.0392...</td>\n    </tr>\n    <tr>\n      <th>319</th>\n      <th>2</th>\n      <th>3</th>\n      <th>977_794_slave2_small.mov</th>\n      <th>46</th>\n      <th>2</th>\n      <td>34</td>\n      <td>[[[[0.03921569 0.01960784 0.13725491], [0.0549...</td>\n    </tr>\n    <tr>\n      <th>406</th>\n      <th>2</th>\n      <th>2</th>\n      <th>lapd_story_1083_small_2.mov</th>\n      <th>46</th>\n      <th>3</th>\n      <td>3622</td>\n      <td>[[[[0.         0.         0.12941177], [0.    ...</td>\n    </tr>\n    <tr>\n      <th>540</th>\n      <th>0</th>\n      <th>2</th>\n      <th>boston-la_1088_small_0.mov</th>\n      <th>40</th>\n      <th>10</th>\n      <td>6611</td>\n      <td>[[[[0.        0.        0.1882353], [0.       ...</td>\n    </tr>\n    <tr>\n      <th>683</th>\n      <th>2</th>\n      <th>2</th>\n      <th>boston-la_1088_small_2.mov</th>\n      <th>37</th>\n      <th>7</th>\n      <td>6170</td>\n      <td>[[[[0.00392157 0.00392157 0.13725491], [0.    ...</td>\n    </tr>\n    <tr>\n      <th>714</th>\n      <th>0</th>\n      <th>3</th>\n      <th>ch6-545_46_small_0.mov</th>\n      <th>15</th>\n      <th>3</th>\n      <td>53</td>\n      <td>[[[[0.13725491 0.12941177 0.14117648], [0.1450...</td>\n    </tr>\n    <tr>\n      <th>745</th>\n      <th>2</th>\n      <th>2</th>\n      <th>siblings_1066_small_2.mov</th>\n      <th>63</th>\n      <th>3</th>\n      <td>5067</td>\n      <td>[[[[0.01176471 0.00784314 0.14117648], [0.0117...</td>\n    </tr>\n    <tr>\n      <th>756</th>\n      <th>3</th>\n      <th>2</th>\n      <th>_1523_small_3.mov</th>\n      <th>16</th>\n      <th>1</th>\n      <td>27</td>\n      <td>[[[[0.01960784 0.01568628 0.14117648], [0.0235...</td>\n    </tr>\n    <tr>\n      <th>762</th>\n      <th>2</th>\n      <th>2</th>\n      <th>accident_1065_small_2.mov</th>\n      <th>17</th>\n      <th>0</th>\n      <td>1755</td>\n      <td>[[[[0.00784314 0.00392157 0.12941177], [0.0078...</td>\n    </tr>\n    <tr>\n      <th>832</th>\n      <th>3</th>\n      <th>2</th>\n      <th>roadtrip1_1050_small_3.mov</th>\n      <th>32</th>\n      <th>15</th>\n      <td>8016</td>\n      <td>[[[[0.11372549 0.11764706 0.30588236], [0.1098...</td>\n    </tr>\n    <tr>\n      <th>844</th>\n      <th>0</th>\n      <th>2</th>\n      <th>_994_small_0.mov</th>\n      <th>17</th>\n      <th>1</th>\n      <td>24</td>\n      <td>[[[[0.01176471 0.01568628 0.20392157], [0.0196...</td>\n    </tr>\n    <tr>\n      <th>869</th>\n      <th>1</th>\n      <th>6</th>\n      <th>ben_story_439_small_1.mov</th>\n      <th>24</th>\n      <th>3</th>\n      <td>1726</td>\n      <td>[[[[0.0627451  0.05490196 0.06666667], [0.1058...</td>\n    </tr>\n    <tr>\n      <th>1014</th>\n      <th>2</th>\n      <th>2</th>\n      <th>muhammed_ali_1052_small_2.mov</th>\n      <th>23</th>\n      <th>0</th>\n      <td>2875</td>\n      <td>[[[[0.01176471 0.00784314 0.12941177], [0.0078...</td>\n    </tr>\n    <tr>\n      <th rowspan=\"6\" valign=\"top\">1208</th>\n      <th rowspan=\"3\" valign=\"top\">0</th>\n      <th rowspan=\"3\" valign=\"top\">2</th>\n      <th>_1582_small_0.mov</th>\n      <th>50</th>\n      <th>2</th>\n      <td>37</td>\n      <td>[[[[0.01568628 0.         0.09803922], [0.0313...</td>\n    </tr>\n    <tr>\n      <th>roadtrip1_1050_small_0.mov</th>\n      <th>7</th>\n      <th>6</th>\n      <td>1073</td>\n      <td>[[[[0.        0.        0.1764706], [0.0039215...</td>\n    </tr>\n    <tr>\n      <th>scary_story_1048_small_0.mov</th>\n      <th>6</th>\n      <th>1</th>\n      <td>1214</td>\n      <td>[[[[0.         0.00392157 0.16470589], [0.    ...</td>\n    </tr>\n    <tr>\n      <th>1</th>\n      <th>6</th>\n      <th>ben_story_441_small_1.mov</th>\n      <th>35</th>\n      <th>1</th>\n      <td>2575</td>\n      <td>[[[[0.05098039 0.04313726 0.05490196], [0.1058...</td>\n    </tr>\n    <tr>\n      <th>2</th>\n      <th>2</th>\n      <th>muhammed_ali_1052_small_2.mov</th>\n      <th>8</th>\n      <th>9</th>\n      <td>872</td>\n      <td>[[[[0.00784314 0.00392157 0.12941177], [0.0156...</td>\n    </tr>\n    <tr>\n      <th>3</th>\n      <th>2</th>\n      <th>_1568_small_3.mov</th>\n      <th>36</th>\n      <th>4</th>\n      <td>43</td>\n      <td>[[[[0.01176471 0.00784314 0.13333334], [0.0235...</td>\n    </tr>\n    <tr>\n      <th>1226</th>\n      <th>1</th>\n      <th>2</th>\n      <th>_1576_small_1.mov</th>\n      <th>44</th>\n      <th>1</th>\n      <td>18</td>\n      <td>[[[[0.01568628 0.01176471 0.13333334], [0.0156...</td>\n    </tr>\n    <tr>\n      <th>1282</th>\n      <th>2</th>\n      <th>2</th>\n      <th>boston-la_1088_small_2.mov</th>\n      <th>22</th>\n      <th>6</th>\n      <td>3577</td>\n      <td>[[[[0.         0.00392157 0.1254902 ], [0.    ...</td>\n    </tr>\n    <tr>\n      <th>1362</th>\n      <th>3</th>\n      <th>2</th>\n      <th>muhammed_ali_1052_small_3.mov</th>\n      <th>20</th>\n      <th>0</th>\n      <td>2492</td>\n      <td>[[[[0.10196079 0.10196079 0.29803923], [0.1137...</td>\n    </tr>\n    <tr>\n      <th>1413</th>\n      <th>0</th>\n      <th>6</th>\n      <th>ben_story_439_small_0.mov</th>\n      <th>22</th>\n      <th>0</th>\n      <td>1571</td>\n      <td>[[[[0.17254902 0.16470589 0.1764706 ], [0.2039...</td>\n    </tr>\n    <tr>\n      <th rowspan=\"3\" valign=\"top\">1448</th>\n      <th rowspan=\"2\" valign=\"top\">0</th>\n      <th>2</th>\n      <th>_1455_small_0.mov</th>\n      <th>155</th>\n      <th>0</th>\n      <td>27</td>\n      <td>[[[[0.02352941 0.01176471 0.09411765], [0.0313...</td>\n    </tr>\n    <tr>\n      <th>6</th>\n      <th>676_481_master_small.mov</th>\n      <th>7</th>\n      <th>0</th>\n      <td>33</td>\n      <td>[[[[0.08235294 0.07450981 0.08627451], [0.0980...</td>\n    </tr>\n    <tr>\n      <th>3</th>\n      <th>2</th>\n      <th>_1498_small_3.mov</th>\n      <th>179</th>\n      <th>0</th>\n      <td>21</td>\n      <td>[[[[0.01568628 0.01176471 0.13725491], [0.0196...</td>\n    </tr>\n    <tr>\n      <th rowspan=\"2\" valign=\"top\">1450</th>\n      <th rowspan=\"2\" valign=\"top\">2</th>\n      <th rowspan=\"2\" valign=\"top\">3</th>\n      <th>905_722_slave2_small.mov</th>\n      <th>25</th>\n      <th>0</th>\n      <td>14</td>\n      <td>[[[[0.03921569 0.01960784 0.13725491], [0.0470...</td>\n    </tr>\n    <tr>\n      <th>912_729_slave2_small.mov</th>\n      <th>31</th>\n      <th>6</th>\n      <td>91</td>\n      <td>[[[[0.04313726 0.02352941 0.14117648], [0.0549...</td>\n    </tr>\n    <tr>\n      <th>1475</th>\n      <th>2</th>\n      <th>2</th>\n      <th>lapd_story_1083_small_2.mov</th>\n      <th>56</th>\n      <th>1</th>\n      <td>4273</td>\n      <td>[[[[0.         0.         0.13725491], [0.    ...</td>\n    </tr>\n    <tr>\n      <th>1602</th>\n      <th>0</th>\n      <th>2</th>\n      <th>roadtrip2_1051_small_0.mov</th>\n      <th>4</th>\n      <th>10</th>\n      <td>566</td>\n      <td>[[[[0.00784314 0.01568628 0.1764706 ], [0.    ...</td>\n    </tr>\n    <tr>\n      <th>1812</th>\n      <th>0</th>\n      <th>3</th>\n      <th>b-963_780_master_small.mov</th>\n      <th>18</th>\n      <th>0</th>\n      <td>7</td>\n      <td>[[[[0.10196079 0.09411765 0.10588235], [0.1098...</td>\n    </tr>\n    <tr>\n      <th>1818</th>\n      <th>2</th>\n      <th>2</th>\n      <th>dorm_prank_1053_small_2.mov</th>\n      <th>16</th>\n      <th>0</th>\n      <td>1534</td>\n      <td>[[[[0.01176471 0.00784314 0.13333334], [0.0196...</td>\n    </tr>\n    <tr>\n      <th>1835</th>\n      <th>3</th>\n      <th>2</th>\n      <th>_1409_small_3.mov</th>\n      <th>111</th>\n      <th>1</th>\n      <td>32</td>\n      <td>[[[[0.01176471 0.00784314 0.12941177], [0.0117...</td>\n    </tr>\n    <tr>\n      <th>1843</th>\n      <th>3</th>\n      <th>2</th>\n      <th>roadtrip1_1050_small_3.mov</th>\n      <th>2</th>\n      <th>1</th>\n      <td>257</td>\n      <td>[[[[0.11372549 0.11372549 0.31764707], [0.1058...</td>\n    </tr>\n    <tr>\n      <th>1856</th>\n      <th>3</th>\n      <th>2</th>\n      <th>dorm_prank_1053_small_3.%2520mov</th>\n      <th>36</th>\n      <th>6</th>\n      <td>3735</td>\n      <td>[[[[0.13725491 0.14117648 0.32941177], [0.1098...</td>\n    </tr>\n    <tr>\n      <th>1892</th>\n      <th>2</th>\n      <th>2</th>\n      <th>football_1073_small_2.mov</th>\n      <th>23</th>\n      <th>8</th>\n      <td>2565</td>\n      <td>[[[[0.00784314 0.         0.14509805], [0.0078...</td>\n    </tr>\n    <tr>\n      <th>1903</th>\n      <th>3</th>\n      <th>2</th>\n      <th>_1350_small_3.mov</th>\n      <th>54</th>\n      <th>4</th>\n      <td>54</td>\n      <td>[[[[0.01960784 0.         0.1254902 ], [0.0274...</td>\n    </tr>\n    <tr>\n      <th>2049</th>\n      <th>0</th>\n      <th>2</th>\n      <th>roadtrip1_1050_small_0.mov</th>\n      <th>8</th>\n      <th>8</th>\n      <td>1480</td>\n      <td>[[[[0.00784314 0.01176471 0.19215687], [0.0078...</td>\n    </tr>\n    <tr>\n      <th>2086</th>\n      <th>2</th>\n      <th>2</th>\n      <th>boston-la_1088_small_2.mov</th>\n      <th>0</th>\n      <th>8</th>\n      <td>133</td>\n      <td>[[[[0.00784314 0.00392157 0.12941177], [0.0039...</td>\n    </tr>\n    <tr>\n      <th>2119</th>\n      <th>3</th>\n      <th>2</th>\n      <th>dorm_prank_1053_small_3.%2520mov</th>\n      <th>22</th>\n      <th>4</th>\n      <td>2334</td>\n      <td>[[[[0.11372549 0.11764706 0.29803923], [0.1137...</td>\n    </tr>\n    <tr>\n      <th>2143</th>\n      <th>3</th>\n      <th>6</th>\n      <th>ben_story_441_small_3.mov</th>\n      <th>20</th>\n      <th>1</th>\n      <td>1571</td>\n      <td>[[[[0.1254902  0.11764706 0.12941177], [0.1490...</td>\n    </tr>\n    <tr>\n      <th>2178</th>\n      <th>0</th>\n      <th>6</th>\n      <th>ben_story_445_small_0.mov</th>\n      <th>65</th>\n      <th>0</th>\n      <td>2626</td>\n      <td>[[[[0.19607843 0.1882353  0.2       ], [0.2078...</td>\n    </tr>\n    <tr>\n      <th>2197</th>\n      <th>2</th>\n      <th>2</th>\n      <th>siblings_1066_small_2.mov</th>\n      <th>20</th>\n      <th>1</th>\n      <td>1506</td>\n      <td>[[[[0.         0.         0.12941177], [0.0039...</td>\n    </tr>\n    <tr>\n      <th>2201</th>\n      <th>3</th>\n      <th>2</th>\n      <th>muhammed_ali_1052_small_3.mov</th>\n      <th>22</th>\n      <th>6</th>\n      <td>2812</td>\n      <td>[[[[0.11372549 0.11372549 0.30980393], [0.1137...</td>\n    </tr>\n    <tr>\n      <th>2280</th>\n      <th>0</th>\n      <th>3</th>\n      <th>640_master_small.mov</th>\n      <th>1</th>\n      <th>5</th>\n      <td>141</td>\n      <td>[[[[0.10196079 0.09411765 0.10588235], [0.1098...</td>\n    </tr>\n    <tr>\n      <th>2347</th>\n      <th>1</th>\n      <th>2</th>\n      <th>_1544_small_1.mov</th>\n      <th>201</th>\n      <th>0</th>\n      <td>12</td>\n      <td>[[[[0.01960784 0.01568628 0.14117648], [0.0313...</td>\n    </tr>\n    <tr>\n      <th>2360</th>\n      <th>2</th>\n      <th>6</th>\n      <th>ben_story_443_small_2.mov</th>\n      <th>11</th>\n      <th>2</th>\n      <td>951</td>\n      <td>[[[[0.03921569 0.03529412 0.15686275], [0.0470...</td>\n    </tr>\n  </tbody>\n</table>\n</div>"
     },
     "metadata": {},
     "execution_count": 23
    }
   ],
   "source": [
    "df_train_frame_sequences_index__sample__with_frame_tensors.columns = fidscs_globals.SCHEMA_COL_NAMES__TRAIN_OR_VAL_INDEX + ['FrameTensor']\n",
    "df_train_frame_sequences_index__sample__with_frame_tensors.set_index(fidscs_globals.SCHEMA_PK__TRAIN_OR_VAL_INDEX, inplace=True)\n",
    "df_train_frame_sequences_index__sample__with_frame_tensors.sort_values(axis=0, by=[fidscs_globals.SCHEMA_COL_NAMES__TRAIN_OR_VAL_INDEX[6]], ignore_index=False, inplace=True)\n",
    "df_train_frame_sequences_index__sample__with_frame_tensors.sort_index(inplace=True)\n",
    "\n",
    "df_train_frame_sequences_index__sample__with_frame_tensors"
   ]
  }
 ]
}